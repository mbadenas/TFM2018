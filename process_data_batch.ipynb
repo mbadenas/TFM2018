{
 "cells": [
  {
   "cell_type": "markdown",
   "metadata": {},
   "source": [
    "# `Process Data`"
   ]
  },
  {
   "cell_type": "markdown",
   "metadata": {},
   "source": [
    "Import Python libraries"
   ]
  },
  {
   "cell_type": "code",
   "execution_count": 1,
   "metadata": {},
   "outputs": [],
   "source": [
    "%matplotlib inline\n",
    "%config IPython.matplotlib.backend = \"retina\"\n",
    "\n",
    "import numpy as np\n",
    "import pandas as pd\n",
    "import matplotlib.pyplot as plt\n",
    "from matplotlib import rcParams\n",
    "import astroML \n",
    "from astroML.plotting import setup_text_plots\n",
    "setup_text_plots(fontsize=14, usetex=True)\n",
    "import astropy\n",
    "\n",
    "from scipy import stats\n",
    "import scipy.optimize as op\n",
    "import scipy.signal as sig\n",
    "import scipy.constants as const\n",
    "from scipy.signal import argrelextrema, medfilt\n",
    "\n",
    "from random import uniform, randrange\n",
    "import kplr\n",
    "from kplr.ld import get_quad_coeffs\n",
    "import time\n",
    "from collections import Counter, defaultdict, OrderedDict\n",
    "import glob, os\n",
    "from multiprocessing import Pool, cpu_count\n",
    "import itertools\n",
    "import transit\n",
    "import emcee\n",
    "import corner"
   ]
  },
  {
   "cell_type": "markdown",
   "metadata": {},
   "source": [
    "Confirm that the version of `emcee` is the latest (as of Aug 2018, it's 3.0rcl')"
   ]
  },
  {
   "cell_type": "code",
   "execution_count": 2,
   "metadata": {},
   "outputs": [
    {
     "data": {
      "text/plain": [
       "'3.0rc1'"
      ]
     },
     "execution_count": 2,
     "metadata": {},
     "output_type": "execute_result"
    }
   ],
   "source": [
    "emcee.__version__"
   ]
  },
  {
   "cell_type": "markdown",
   "metadata": {},
   "source": [
    "Check the number of CPU's available in this computer."
   ]
  },
  {
   "cell_type": "code",
   "execution_count": 3,
   "metadata": {},
   "outputs": [
    {
     "name": "stdout",
     "output_type": "stream",
     "text": [
      "8 CPUs\n"
     ]
    }
   ],
   "source": [
    "ncpu = cpu_count()\n",
    "print(\"{0} CPUs\".format(ncpu))"
   ]
  },
  {
   "cell_type": "markdown",
   "metadata": {},
   "source": [
    "Standarize plots "
   ]
  },
  {
   "cell_type": "code",
   "execution_count": 4,
   "metadata": {},
   "outputs": [],
   "source": [
    "rcParams['figure.figsize'] = 16, 7\n",
    "rcParams[\"figure.dpi\"] = 150\n",
    "rcParams[\"savefig.dpi\"] = 150"
   ]
  },
  {
   "cell_type": "markdown",
   "metadata": {},
   "source": [
    "Load $\\text{LaTeX}$"
   ]
  },
  {
   "cell_type": "code",
   "execution_count": 5,
   "metadata": {},
   "outputs": [],
   "source": [
    "pgf_with_latex = {\n",
    "    \"pgf.texsystem\": \"xelatex\",         # use Xelatex which is TTF font aware\n",
    "    \"text.usetex\": True,                # use LaTeX to write all text\n",
    "    \"axes.labelsize\": 10,               # LaTeX default is 10pt font.\n",
    "    \"legend.fontsize\": 8,               # Make the legend/label fonts a little smaller\n",
    "    \"xtick.labelsize\": 8,\n",
    "    \"ytick.labelsize\": 8,\n",
    "    \"text.latex.unicode\": True,\n",
    "    \"pgf.preamble\": [\n",
    "        r'\\usepackage{fontspec}',\n",
    "        r'\\setmainfont{Ubuntu}',\n",
    "        r'\\setmonofont{Ubuntu Mono}',\n",
    "        r'\\usepackage{unicode-math}'\n",
    "        r'\\setmathfont{Ubuntu}'\n",
    "        r'\\usepackage{amsmath}' #for \\text command\n",
    "    ]\n",
    "}\n",
    "\n",
    "rcParams.update(pgf_with_latex)"
   ]
  },
  {
   "cell_type": "markdown",
   "metadata": {},
   "source": [
    "# Global Parameters"
   ]
  },
  {
   "cell_type": "markdown",
   "metadata": {},
   "source": [
    "General parameters from the NASA Kepler Mission"
   ]
  },
  {
   "cell_type": "code",
   "execution_count": 6,
   "metadata": {},
   "outputs": [],
   "source": [
    "bjd_ref = 2454833\n",
    "sc = 58.0  #sc = 58 sec\n",
    "tKep = sc/60/60/24  # sc in days"
   ]
  },
  {
   "cell_type": "markdown",
   "metadata": {},
   "source": [
    "Physical constants"
   ]
  },
  {
   "cell_type": "code",
   "execution_count": 7,
   "metadata": {},
   "outputs": [],
   "source": [
    "G = 6.6730e-11"
   ]
  },
  {
   "cell_type": "markdown",
   "metadata": {},
   "source": [
    "Transit detection parameters"
   ]
  },
  {
   "cell_type": "code",
   "execution_count": 8,
   "metadata": {},
   "outputs": [
    {
     "name": "stdout",
     "output_type": "stream",
     "text": [
      "Amplification of transit duration by: 2\n",
      "The SNR limit of each transit has been set to 3.0\n"
     ]
    }
   ],
   "source": [
    "poly_order = 3\n",
    "amplify = 2\n",
    "snr_limit = 3.0\n",
    "\n",
    "print(\"Amplification of transit duration by:\", amplify)\n",
    "print(\"The SNR limit of each transit has been set to\", snr_limit)"
   ]
  },
  {
   "cell_type": "markdown",
   "metadata": {},
   "source": [
    "MCMC Global Initialization Parameters"
   ]
  },
  {
   "cell_type": "code",
   "execution_count": 9,
   "metadata": {},
   "outputs": [],
   "source": [
    "period_guess = 13.5\n",
    "steps_rho, nwalkers_rho = 10000, 100\n",
    "steps, nwalkers = 10000, 100\n",
    "\n",
    "burnin_rho = int(steps_rho/10) \n",
    "burnin_global = int(steps/5)"
   ]
  },
  {
   "cell_type": "markdown",
   "metadata": {},
   "source": [
    "Prepare the headers we will use in the text files containing the results of my code."
   ]
  },
  {
   "cell_type": "code",
   "execution_count": 10,
   "metadata": {},
   "outputs": [],
   "source": [
    "id_mcmc = [\"Depth:\", \"Impact parameter (b):\", \"sigma:\", \"Stellar Mass (Ms, [Solar mass]):\",\n",
    "           \"Stellar Radius (Rs, [Solar Radii]):\", \"Out-of-transit flux (f0):\", \"Orbital Period (P, [days]):\", \n",
    "           \"Time of transit (tc, [days]):\", \"Planetary Radius (Rp, [Rearth]):\", \"Rs_a:\"]\n",
    "\n",
    "header_mcmc = \"This file shows the 50% percentile and the +- 1 sigma error interval of the parameters.\\n\"\n",
    "\n",
    "header_rs = \"This file shows the 50% percentile for the Stellar Radius (in solar radii), \\\n",
    "its +- 1 sigma error interval, and the MCMC acceptance fraction (in %). Note that these results \\\n",
    "are for the star's *observed* transits with a minimum SNR of {0:f}. \\n\".format(snr_limit)"
   ]
  },
  {
   "cell_type": "markdown",
   "metadata": {},
   "source": [
    "Confirm `os.environ=1` for the MCMC parallelization (advice given here: https://emcee.readthedocs.io/en/latest/tutorials/parallel/)"
   ]
  },
  {
   "cell_type": "code",
   "execution_count": 11,
   "metadata": {},
   "outputs": [],
   "source": [
    "os.environ[\"OMP_NUM_THREADS\"] = \"1\""
   ]
  },
  {
   "cell_type": "markdown",
   "metadata": {},
   "source": [
    "# Introduction"
   ]
  },
  {
   "cell_type": "markdown",
   "metadata": {},
   "source": [
    "## Load the data"
   ]
  },
  {
   "cell_type": "code",
   "execution_count": 12,
   "metadata": {},
   "outputs": [],
   "source": [
    "path_file = '/Users/mbadenas/Documents/Master UAB/Tesis UAB/TFM2018/clean_bat_files/LC_p13point5up/'\n",
    "path_mergedLC = '/Users/mbadenas/Documents/Master UAB/Tesis UAB/TFM2018/merge_light_curves/LC_p13point5up_merged/'\n",
    "\n",
    "properties_sample = pd.read_csv(path_file+'all_targets_P13point5up.csv', sep=',', comment='#')\n",
    "targets = pd.read_csv(path_file + 'kepler_id.txt',delimiter=',', dtype=int, header=None, names=['kepid'])"
   ]
  },
  {
   "cell_type": "code",
   "execution_count": 13,
   "metadata": {},
   "outputs": [
    {
     "name": "stdout",
     "output_type": "stream",
     "text": [
      "Check files:\n",
      "(*) Lengths don't match: 55 984\n",
      "\tSome systems have both sc and lc data! Remove duplicates.\n",
      "(*) Lengths match: 55 55\n",
      "\tDuplicates have been removed.\n",
      " A total of 55 systems have *short-cadence* LC with SN > 7.1 for their first transit and only 1 planet\n"
     ]
    },
    {
     "data": {
      "text/plain": [
       "(55, 141)"
      ]
     },
     "execution_count": 13,
     "metadata": {},
     "output_type": "execute_result"
    }
   ],
   "source": [
    "df = pd.merge(targets, properties_sample, on=['kepid'], how='inner') \n",
    "sc_data = df.drop_duplicates('kepid') #remove duplicates (some systems have both sc and lc LC)\n",
    "\n",
    "print(\"Check files:\")\n",
    "\n",
    "if (len(targets) != len(properties_sample)):\n",
    "    print(\"(*) Lengths don't match:\", len(targets), len(properties_sample))\n",
    "    print(\"\\tSome systems have both sc and lc data! Remove duplicates.\")\n",
    "\n",
    "if (len(sc_data) == len(targets)):\n",
    "    print(\"(*) Lengths match:\", len(sc_data), len(targets))\n",
    "    print('\\tDuplicates have been removed.\\n A total of {} systems have *short-cadence* LC with SN > 7.1 for their first transit and only 1 planet'.format(len(sc_data)))\n",
    "    \n",
    "sc_data.shape"
   ]
  },
  {
   "cell_type": "code",
   "execution_count": 45,
   "metadata": {},
   "outputs": [
    {
     "name": "stdout",
     "output_type": "stream",
     "text": [
      "0.738 1.927\n",
      "0.74 1.486\n"
     ]
    },
    {
     "data": {
      "image/png": "[encoded data removed]",
      "text/plain": [
       "<Figure size 1500x750 with 1 Axes>"
      ]
     },
     "metadata": {},
     "output_type": "display_data"
    }
   ],
   "source": [
    "final_list_stars = {'rad': [0.738, 1.407, 0.993, 0.817, 1.367, 1.927, 1.337, 0.765 , 0.879, 1.731, 0.892], \n",
    "                    'mass': [0.79, 1.066, 0.951, 0.860, 1.386, 1.486, 1.208, 0.740, 0.973, 1.398, 0.904],\n",
    "                   'teff': [4941, 5868, 5683, 5303, 6823, 6273, 6407, 4939, 5510, 6430, 5591]}\n",
    "\n",
    "final_stars = pd.DataFrame(data=final_list_stars)\n",
    "\n",
    "fig = plt.figure(figsize=(10,5))\n",
    "ax = fig.add_subplot(111)\n",
    "ax.scatter(sc_data['koi_smass'].values, sc_data['koi_srad'], marker = 'o', label='Intermediate sample', s = 52);\n",
    "ax.scatter(final_stars['mass'], final_stars['rad'], marker = '.', color ='r', label = 'Final sample', s = 55)\n",
    "ax.set_ylabel('Stellar Radius [$R_{\\odot}$]',fontsize = 12)\n",
    "ax.set_xlabel(r'Stellar Mass [$M_{\\odot}$]', fontsize = 12)\n",
    "ax.legend(fontsize = 12)\n",
    "plt.savefig('kepler_sample.png', bbox_inches='tight')\n",
    "\n",
    "print(min(final_stars['rad'].values), max(final_stars['rad'].values))\n",
    "print(min(final_stars['mass'].values), max(final_stars['mass'].values))"
   ]
  },
  {
   "cell_type": "code",
   "execution_count": 37,
   "metadata": {},
   "outputs": [
    {
     "name": "stdout",
     "output_type": "stream",
     "text": [
      "4939 6823\n"
     ]
    },
    {
     "data": {
      "image/png": "[encoded data removed]",
      "text/plain": [
       "<Figure size 1500x750 with 1 Axes>"
      ]
     },
     "metadata": {},
     "output_type": "display_data"
    }
   ],
   "source": [
    "def get_lum(data, R, T):\n",
    "    luminosity = []\n",
    "    for i in range(len(data)):\n",
    "        r_meters = (sc_data['koi_srad'].values[i])*(6.957*10e8)\n",
    "        teff_kelvin = sc_data['koi_steff'].values[i]\n",
    "        l_watt = 4*np.pi*(const.Stefan_Boltzmann)*(r_meters**2)*(teff_kelvin**4)\n",
    "        l_solar = l_watt*(2.599*10e-27)\n",
    "        luminosity.append(l_solar)\n",
    "    return luminosity \n",
    "    \n",
    "\n",
    "fig = plt.figure(figsize=(10,5))\n",
    "ax = fig.add_subplot(111)\n",
    "ax.semilogy(sc_data['koi_steff'].values, get_lum(sc_data,sc_data['koi_srad'].values, sc_data['koi_steff'].values),'o')\n",
    "#ax.semilogy(final_stars['teff'].values, get_lum(final_stars, final_stars['rad'].values, final_stars['teff'].values),'o')\n",
    "ax.set_xlabel(r'$T_{eff}$ [K]', fontsize = 12)\n",
    "ax.set_ylabel(r'$L_{*}$ [$L_{\\odot}$]', fontsize = 12)\n",
    "ax.invert_xaxis()\n",
    "plt.savefig('kepler_sample_HR.png', bbox_inches='tight')\n",
    "\n",
    "print(min(final_stars['teff'].values), max(final_stars['teff'].values))"
   ]
  },
  {
   "cell_type": "markdown",
   "metadata": {},
   "source": [
    "## Define the Systems"
   ]
  },
  {
   "cell_type": "code",
   "execution_count": 16,
   "metadata": {},
   "outputs": [],
   "source": [
    "class System:    \n",
    "    def __init__(self, kepid, rs, rs_err, smass, smass_err, teff, logg, feh, srho,\n",
    "                time_BKJD, flux, flux_err, \n",
    "                t0, P, depth, b, duration, u1, u2, diffld, num_planets, incl, eccen, dor, sma,\n",
    "                 transit_times,ind_missed_transits,\n",
    "                rp, rp_solarRad, rp_err, teq, mp, \n",
    "                 trans_id, ftrans, ftrans_err, ttrans, dt_trans,\n",
    "                full_P_trans, full_P, best_stats, full_P_trans_stats, full_stats, \n",
    "                 min_flux_folded):\n",
    "        \n",
    "        \"\"\"****** Kepler Reported Stellar Parameters ******\"\"\"\n",
    "        self.kepid = kepid\n",
    "        self.rs = rs # [Solar radii]. \n",
    "        self.rs_err = rs_err\n",
    "        self.smass = smass # [Solar mass]\n",
    "        self.smass_err = smass_err\n",
    "        \n",
    "        self.teff = teff;     \n",
    "        self.logg = logg; # Stellar Surface Gravity [log10(cm/s**2)]  \n",
    "        self.feh = feh;   \n",
    "        self.srho = srho; #g/cm3\n",
    "        \n",
    "        \"\"\"****** LC parameters ******\"\"\"\n",
    "        self.time_BKJD = time_BKJD\n",
    "        self.flux = flux\n",
    "        self.flux_err = flux_err\n",
    "        \n",
    "        \"\"\"****** Transit Parameters ******\"\"\"\n",
    "        self.t0 = t0\n",
    "        self.P = P;            \n",
    "        self.depth = depth;  \n",
    "        self.b = b; \n",
    "        self.duration = duration; \n",
    "        self.u1 = u1; \n",
    "        self.u2 = u2\n",
    "        self.diffld = 0.0\n",
    "        self.num_planets = num_planets\n",
    "        self.incl = incl #[º]\n",
    "        self.eccen = 0.0\n",
    "        self.dor = dor #Planet-Star Distance over Star Radius\n",
    "        self.sma = sma #Orbital semi-major axis [AU]\n",
    "        \n",
    "        self.transit_times = transit_times\n",
    "        self.ind_missed_transits = ind_missed_transits\n",
    "                   \n",
    "        \"\"\"****** Planetary Parameters ******\"\"\"\n",
    "        self.rp = rp # [Earth radii]. This is \"prad\"  in the original file\n",
    "        self.rp_solarRad = rp*0.009168 # in solar radii\n",
    "        self.rp_err = rp_err\n",
    "        self.teq = teq\n",
    "        self.mp = 2.69*(rp)**(0.93) #Weiss & Marcy rel'n. It requires Rp in Earth radii\n",
    "        \n",
    "        \"\"\"****** Internal Variables ******\"\"\"\n",
    "        self.trans_id = np.empty(0)\n",
    "        self.ftrans = np.empty(0)\n",
    "        self.ftrans_err = np.empty(0)\n",
    "        self.ttrans = np.empty(0)\n",
    "        self.dt_trans = np.empty(0)\n",
    "        \n",
    "        \n",
    "        self.full_P_trans =  np.empty(0)\n",
    "        self.full_P =  np.empty(0)\n",
    "        self.best_stats =  np.empty(0)\n",
    "        self.full_P_trans_stats = np.empty(0)\n",
    "        self.full_stats = np.empty(0)\n",
    "        \n",
    "        self.min_flux_folded = 0.0\n",
    "        "
   ]
  },
  {
   "cell_type": "markdown",
   "metadata": {},
   "source": [
    "## Characterize the Systems"
   ]
  },
  {
   "cell_type": "markdown",
   "metadata": {},
   "source": [
    "Some initialization functions: `quadraticLD`calculates the quadratic LD coefficients of a star based on the model from Claret & Bloemen (2011). As for `fetchLC`, it simply loads the systems' light curves."
   ]
  },
  {
   "cell_type": "code",
   "execution_count": 17,
   "metadata": {},
   "outputs": [],
   "source": [
    "def quadraticLD(T, G, FEH): \n",
    "    \"\"\"Confirm the quadratic LD coefficients with a model from Claret & Bloemen (2011).\n",
    "    Use the Claret coefficients instead.\"\"\"\n",
    "    mu1, mu2 = get_quad_coeffs(T, G, FEH)\n",
    "    return (mu1, mu2)\n",
    "\n",
    "def fetchLC(name):\n",
    "    id_kep = \"%.0f\" % name\n",
    "    lc = path_mergedLC+('KID'+id_kep+'.txt')\n",
    "    df = pd.read_csv(lc, sep=\"\\t\", skiprows=1, header=None, names=[\"Time BKJD\", \"Flux\", \"Flux_Err\"])\n",
    "    y = df['Flux']\n",
    "    yerr = df['Flux_Err']\n",
    "    x = df['Time BKJD']\n",
    "    return (y, yerr, x)"
   ]
  },
  {
   "cell_type": "markdown",
   "metadata": {},
   "source": [
    "Create the planet+star system. In this research, we will only evaluate systems with only 1 planet. "
   ]
  },
  {
   "cell_type": "code",
   "execution_count": null,
   "metadata": {},
   "outputs": [],
   "source": [
    "targets = []\n",
    "\n",
    "for row in sc_data.itertuples(index = True, name='Pandas'):\n",
    "    kepid = getattr(row, \"kepid\")\n",
    "    fluxLC, fluxLC_err, timeLC_BKJD = fetchLC(kepid)\n",
    "\n",
    "    ## Store the stellar parameters\n",
    "    rs = getattr(row, \"koi_srad\") #solar radii\n",
    "    smass = getattr(row, \"koi_smass\")\n",
    "    \n",
    "    #Assuming that we have a 5% error on radius and mass (this is sensible thanks to Gaia)\n",
    "    rs_err = rs*0.05\n",
    "    smass_err = smass*0.05\n",
    "    \n",
    "    teff = getattr(row, \"koi_steff\")\n",
    "    logg = getattr(row, \"koi_slogg\") # Stellar Surface Gravity [log10(cm/s**2)]  \n",
    "    feh = getattr(row, \"koi_smet\")\n",
    "    srho = getattr(row, \"koi_srho\") #g/cm3\n",
    "    \n",
    "    #### Store LC Parameters\n",
    "    t0 = getattr(row, \"koi_time0bk\")\n",
    "    P = getattr(row, \"koi_period\") # Orbital Period [days]\n",
    "    depth = getattr(row, \"koi_depth\")/1e6\n",
    "    b = getattr(row, \"koi_impact\")\n",
    "    \n",
    "    u1, u2 = quadraticLD(teff,logg,feh)\n",
    "\n",
    "    num_planets = getattr(row, \"koi_count\")\n",
    "    incl =  getattr(row, \"koi_incl\") #in degrees\n",
    "    dor = getattr(row, \"koi_dor\")  #Planet-Star Distance over Star Radius\n",
    "    \n",
    "    duration = getattr(row, \"koi_duration\")/24. #in days. \"Duration is measured from first contact between the planet and star until last contact.\"\n",
    "    \n",
    "    #Planetary parameters\n",
    "    sma = getattr(row, \"koi_sma\")  #Orbit Semi-Major Axis [AU]\n",
    "    sma_solarRad = sma*215\n",
    "    teq = getattr(row, \"koi_teq\") \n",
    "    rp = getattr(row, \"koi_prad\") # in Earth radii\n",
    "    rp_errPos = getattr(row, \"koi_prad_err1\"); rp_errNeg = getattr(row, \"koi_prad_err2\")\n",
    "    rp_err = np.sqrt(rp_errPos**2+rp_errNeg**2)\n",
    "        \n",
    "    if (num_planets == 1):\n",
    "        system = System(kepid, rs, rs_err, smass, smass_err, teff, logg, feh, srho,\n",
    "                    timeLC_BKJD, fluxLC, fluxLC_err, \n",
    "                    t0, P, depth, b, duration, u1, u2, u1-u2, num_planets, incl, 0.0, dor, sma,\n",
    "                        None, None,\n",
    "                    rp, None, rp_err, teq, None, \n",
    "                        None, None, None, None, None,\n",
    "                       None, None, None, None, None,\n",
    "                       0.0)\n",
    "\n",
    "        targets.append(system)\n",
    "                \n",
    "    else:\n",
    "        print('Star {:s} not stored (koi_count > 1)'.format(str(kepid)))"
   ]
  },
  {
   "cell_type": "markdown",
   "metadata": {},
   "source": [
    "# Transit Detection"
   ]
  },
  {
   "cell_type": "code",
   "execution_count": null,
   "metadata": {},
   "outputs": [],
   "source": [
    "def find_transits(star):\n",
    "    ti = min(star.time_BKJD)\n",
    "    tf = max(star.time_BKJD)\n",
    "    \n",
    "    n_min = int((ti-star.t0)/star.P)\n",
    "    n_max = int((tf-star.t0)/star.P+1.)\n",
    "    n = np.arange(n_min, n_max)\n",
    "    \n",
    "    t = star.t0+n*star.P\n",
    "    t = t[t>ti] \n",
    "    t = t[t<tf]\n",
    "    return(t)"
   ]
  },
  {
   "cell_type": "code",
   "execution_count": null,
   "metadata": {},
   "outputs": [],
   "source": [
    "def show_folded_lightcurve(star, plot=False):\n",
    "    if plot==True:\n",
    "        plt.figure(figsize=(15,6))\n",
    "        plt.plot(star.dt_trans,star.ftrans,'.', ms = 2)     \n",
    "        plt.title('Folded LC for KID'+str(star.kepid))\n",
    "        plt.xlabel('Time from midtransit [d]'); plt.ylabel('Normalized Flux')\n",
    "        plt.show(block=False)    \n",
    "        time.sleep(0.1)\n",
    "        plt.close()\n",
    "\n",
    "def mark_transits(star, obs_trans, plot=False):\n",
    "    if plot==True:\n",
    "        fig = plt.figure(figsize=(13,6))\n",
    "        plt.plot(star.time_BKJD,star.flux,'.')        \n",
    "        for j in range(len(star.transit_times)): \n",
    "            plt.axvline(star.transit_times[j], color='k', ls='-')\n",
    "        for k in range(len(obs_trans)): \n",
    "            plt.axvline(obs_trans[k], color='r', ls='--')\n",
    "        plt.title('KID'+str(star.kepid))\n",
    "        plt.xlabel('Time BKJD [d]'); plt.ylabel('Normalized Flux')\n",
    "        plt.savefig(\"results/marked_transits/\"+str(star.kepid)+\".png\", bbox_inches='tight')\n",
    "        plt.show(block=False)    \n",
    "        time.sleep(0.1)\n",
    "        plt.close()\n",
    "        \n",
    "def show_transits(star, bad_trans, plot=False):        \n",
    "    s1 = set(bad_trans)\n",
    "    if plot==True:   \n",
    "        for i in range(len(star.transit_times)):\n",
    "            if (i not in bad_trans):\n",
    "                fig = plt.figure(figsize=(15,6))\n",
    "                plt.title('Transit '+str(i+1))\n",
    "                plt.plot(star.ttrans[star.trans_id==i]-star.transit_times[i],star.ftrans[star.trans_id==i], 'k.', ms = 2)     \n",
    "                plt.xlabel('Time from midtransit [d]'); plt.ylabel('Normalized Flux')\n",
    "                plt.show(block=False)    \n",
    "                time.sleep(0.1)\n",
    "                plt.close(fig)"
   ]
  },
  {
   "cell_type": "code",
   "execution_count": null,
   "metadata": {},
   "outputs": [],
   "source": [
    "def get_data_in_transit(star, factor):\n",
    "    window = factor*star.duration # In days\n",
    "    total_points = 0\n",
    "    \n",
    "    for i in range(0,len(star.transit_times)):\n",
    "        residual = star.time_BKJD - star.transit_times[i]\n",
    "        points_in_transit = np.abs(residual) <= window\n",
    "        total_points += np.sum(points_in_transit)\n",
    "  \n",
    "    time_in_transit = np.empty(total_points)\n",
    "    flux_in_transit = np.empty(total_points)\n",
    "    flux_err_in_transit = np.empty(total_points)\n",
    "    flag_transit = np.empty(total_points)\n",
    "    mid_trans = np.empty(total_points)\n",
    "\n",
    "    total_points = 0\n",
    " \n",
    "    for i in range(0, len(star.transit_times)):\n",
    "        points_in_transit = np.abs(star.time_BKJD - star.transit_times[i]) <= window\n",
    "        count_points = np.sum(points_in_transit)\n",
    "        time_in_transit[(0 + total_points):(count_points + total_points)] = star.time_BKJD[points_in_transit]\n",
    "        flux_in_transit[(0 + total_points):(count_points + total_points)] = star.flux[points_in_transit] #, star.flux_err[points_in_transit])[0]\n",
    "        flux_err_in_transit[(0 + total_points):(count_points + total_points)] = star.flux_err[points_in_transit] #normalize(star.flux[points_in_transit], \n",
    "        flag_transit[(0 + total_points):(count_points + total_points)] = i\n",
    "        mid_trans[(0 + total_points):(count_points + total_points)] = star.transit_times[i] \n",
    "        total_points += count_points\n",
    "        \n",
    "    star.trans_id = flag_transit #The counter starts at 0 (in other words, trans_id == 0 is already the first transit)\n",
    "    star.ttrans = time_in_transit\n",
    "    star.ftrans = flux_in_transit\n",
    "    star.ftrans_err = flux_err_in_transit\n",
    "    star.dt_trans = time_in_transit - mid_trans #if interested in the folded LC, plot target.dt_trans vs target.ftrans"
   ]
  },
  {
   "cell_type": "code",
   "execution_count": null,
   "metadata": {},
   "outputs": [],
   "source": [
    "def oot_fit(star, poly):\n",
    "    transit_range = star.duration/2     \n",
    "    \n",
    "    if star.kepid == 8156120:\n",
    "        poly = 5\n",
    "    \n",
    "    if star.kepid == 5812701:\n",
    "        poly = 7\n",
    "        \n",
    "    if star.kepid == 12365184:\n",
    "        poly = 1\n",
    "    \n",
    "    for i in range(len(star.transit_times)):\n",
    "        dt = star.ttrans[star.trans_id == i] - star.transit_times[i]\n",
    "        y = star.ftrans[star.trans_id==i]\n",
    "        yerr = star.ftrans_err[star.trans_id==i]\n",
    "        \n",
    "        outside_trans = np.abs(dt) >= transit_range\n",
    "        inside_trans = np.abs(dt) < transit_range\n",
    "        num_oot_points = len(dt[outside_trans])\n",
    "        \n",
    "        if  (num_oot_points!= 0):\n",
    "            coeffs = np.polyfit(dt[outside_trans], y[outside_trans], poly)\n",
    "            baseline_fitted = np.polyval(coeffs, dt)\n",
    "            \n",
    "            newY = y/baseline_fitted\n",
    "            newYerr = yerr/baseline_fitted \n",
    "            \n",
    "            fig = plt.figure()\n",
    "            plt.plot(dt, y, 'mo', label = 'LC')\n",
    "            plt.plot(dt[outside_trans], y[outside_trans], '.', label ='OOT')\n",
    "            plt.plot(dt, baseline_fitted, '.', label ='Baseline')\n",
    "            plt.plot(dt, newY, 'y-', label ='LC/baseline')\n",
    "            plt.legend()\n",
    "            filepath_oot = '/Users/mbadenas/Documents/Master UAB/Tesis UAB/TFM2018/oot_fit/'\n",
    "            store_oot = \"oot\"+str(star.kepid)+\"_trans\"+str(i+1)+\"_poly\"+str(poly)+\".png\"\n",
    "            fig.savefig(filepath_oot+store_oot, bbox_inches='tight')\n",
    "            #plt.show(block=False)    \n",
    "            #time.sleep(0.1)\n",
    "            plt.close(fig)\n",
    "            \n",
    "            star.ftrans[star.trans_id==i] = newY\n",
    "            star.ftrans_err[star.trans_id==i] = newYerr"
   ]
  },
  {
   "cell_type": "code",
   "execution_count": null,
   "metadata": {},
   "outputs": [],
   "source": [
    "def find_missed_transits(star):\n",
    "    gaps = []\n",
    "    for i in range(len(star.transit_times)):\n",
    "        if len(star.ttrans[star.trans_id==i])==0: \n",
    "            gaps.append(i)\n",
    "    missing_transits = sorted(gaps, reverse=True)\n",
    "    return(missing_transits)"
   ]
  },
  {
   "cell_type": "code",
   "execution_count": null,
   "metadata": {},
   "outputs": [],
   "source": [
    "def export_folded_lc(system):\n",
    "    lc = pd.DataFrame(OrderedDict({'Time': system.time_BKJD, 'Flux': system.flux, 'Flux_Err': system.flux_err}))\n",
    "     \n",
    "    np.savetxt(\"/Users/mbadenas/Documents/Master UAB/Tesis UAB/TFM2018/folded_LC/\"+str(system.kepid)+\".txt\", \n",
    "               lc.values, fmt='%f', delimiter=\"\\t\") "
   ]
  },
  {
   "cell_type": "markdown",
   "metadata": {},
   "source": [
    "## Observed Transits"
   ]
  },
  {
   "cell_type": "markdown",
   "metadata": {},
   "source": [
    "The code below performs two functions: \n",
    "    1. It identifies the light curves that don't have a visible transit. (With the data being used as of June 30, this amounts to 4 systems).\n",
    "    2. For the remaining light curves, it calculates all the expected transits and then looks at which transits are actually visible (sometimes, there are gaps in the data and transits are lost). "
   ]
  },
  {
   "cell_type": "code",
   "execution_count": null,
   "metadata": {},
   "outputs": [],
   "source": [
    "stars_wo_transits = []"
   ]
  },
  {
   "cell_type": "code",
   "execution_count": null,
   "metadata": {
    "scrolled": true
   },
   "outputs": [],
   "source": [
    "for target in targets:\n",
    "    print(\"\\n******************************** KID\"+str(target.kepid)+\" ********************************\\n\")\n",
    "    target.transit_times = find_transits(target)    \n",
    "    get_data_in_transit(target, amplify)\n",
    "    if (len(target.transit_times)==0): stars_wo_transits.append(target.kepid)\n",
    "    target.ind_missed_transits = find_missed_transits(target) # On notation: Imagine target.ind_missed_transits = [18]. This means \n",
    "                                                              # that the transit with flag_id = 18 hasn't been observed (and not the transit \n",
    "                                                              # with flag_id = 17)\n",
    "    oot_fit(target, poly_order)\n",
    "    observed_transits = np.delete(target.transit_times, target.ind_missed_transits)\n",
    "    mark_transits(target, observed_transits, False)\n",
    "    show_transits(target, target.ind_missed_transits, False)\n",
    "                \n",
    "    if len(observed_transits!=0): \n",
    "        show_folded_lightcurve(target, False)\n",
    "        target.min_flux_folded = min(target.ftrans)\n",
    "\n",
    "    export_folded_lc(target)\n",
    "\n",
    "    print(\"Transit duration: {0:0.5} [d]\".format(target.duration))\n",
    "    print(\"Period: {0:s} [d]\".format(str(target.P)))\n",
    "    print(\"Estimated transits at ({0:s}):\".format(str(len(target.transit_times))), target.transit_times)\n",
    "    print(\"Observed transits at ({0:s}):\".format(str(len(observed_transits))), observed_transits)\n",
    "    print(\"Index of missed transits:\", target.ind_missed_transits)\n",
    "    print(\"Min. flux folded LC: {0:0.3f}\".format(target.min_flux_folded))"
   ]
  },
  {
   "cell_type": "code",
   "execution_count": null,
   "metadata": {},
   "outputs": [],
   "source": [
    "print(\"There are {:s} stars without transits. These targets won't be studied\".format(str(len(stars_wo_transits))))\n",
    "print(stars_wo_transits)"
   ]
  },
  {
   "cell_type": "code",
   "execution_count": null,
   "metadata": {},
   "outputs": [],
   "source": [
    "print(steps)\n",
    "print(steps_rho)"
   ]
  },
  {
   "cell_type": "markdown",
   "metadata": {},
   "source": [
    "## Target 5812701"
   ]
  },
  {
   "cell_type": "markdown",
   "metadata": {},
   "source": [
    "For the star 5812701, the oot region of 3 individual transits were not fitted properly when applying the 3rd order polynomial. To avoid them destroying the beauty of the folded light curve plotted in the pie chart, I've added these 3 bad transits to the missed_transits list. Originally I was doing this just done for visual purposes under Section 8, but I moved this here so that I could obtain a proper fit of the folded LC."
   ]
  },
  {
   "cell_type": "code",
   "execution_count": null,
   "metadata": {},
   "outputs": [],
   "source": [
    "for target in targets:\n",
    "    if target.kepid == 5812701:\n",
    "        bad_tr = [65, 49, 23]\n",
    "        min_flux = []\n",
    "        target.ind_missed_transits.extend(bad_tr)\n",
    "        missed_trans = set(target.ind_missed_transits)\n",
    "        print(target.ind_missed_transits)\n",
    "        for i in range(len(target.transit_times)): \n",
    "            if i not in missed_trans:\n",
    "                plt.plot(target.ttrans[target.trans_id==i]-target.transit_times[i], target.ftrans[target.trans_id==i],'.', \n",
    "                       color = 'royalblue')\n",
    "                min_flux.append(min(target.ftrans[target.trans_id==i]))\n",
    "        target.min_flux_folded = min(min_flux)\n",
    "        print(target.min_flux_folded)"
   ]
  },
  {
   "cell_type": "markdown",
   "metadata": {},
   "source": [
    "# Fit of the Stellar Density"
   ]
  },
  {
   "cell_type": "markdown",
   "metadata": {},
   "source": [
    "## Transit Routine\n",
    "\n",
    "A Python library for generating light curves of transiting planets. See https://github.com/dfm/transit/blob/master/transit/transit.py for original code"
   ]
  },
  {
   "cell_type": "code",
   "execution_count": null,
   "metadata": {},
   "outputs": [],
   "source": [
    "def lnprior_rho(theta, maxb):\n",
    "    pdepth, pb, sigma, pradius, f0, ptc, sumLD = theta \n",
    "    if ((0.3 < sumLD < 1.0) and (0 <= pb <= maxb) and (0 <= sigma)\\\n",
    "         and (pradius > 0) and (pdepth > 0) and (ptc**2<0.01)):\n",
    "        return 0.0\n",
    "    return -np.inf  \n",
    "\n",
    "def lnlike_rho(theta, timeLC, fluxLC, errorLC, allfixed):\n",
    "    ecc,  mass, masserr, tKep, maxb, P, diffLD = allfixed\n",
    "    pdepth, pb, sigma, pradius, f0, ptc, sumLD = theta \n",
    "    u1 = 0.5*(sumLD+diffLD) \n",
    "    u2 = sumLD-u1\n",
    "    s = transit.System(transit.Central(mu1=u1, mu2=u2, mass = mass, radius = pradius))\n",
    "    body = transit.Body(radius=np.sqrt(pdepth)*pradius, period=P, t0=ptc, b=np.abs(pb), e=ecc)\n",
    "    s.add_body(body)\n",
    "    inv_sigma2 = 1.0/(errorLC**2 + sigma**2)\n",
    "    try: \n",
    "        ftheo = s.light_curve(timeLC, texp=tKep, tol=1e-08, maxdepth=5)\n",
    "    except ValueError:\n",
    "        return -np.inf\n",
    "    ftheo = ftheo-1+f0\n",
    "    chi2 = -0.5*(np.sum((fluxLC-ftheo)**2*inv_sigma2 - np.log(inv_sigma2)))\n",
    "    return chi2\n",
    "                 \n",
    "def lnprob_rho(theta, timeLC, fluxLC, errorLC, allfixed):\n",
    "    ecc, mass, masserr, tKep, maxb, P, diffLD = allfixed\n",
    "    lp_rho = lnprior_rho(theta, maxb)\n",
    "    if not np.isfinite(lp_rho):\n",
    "        return -np.inf\n",
    "    return lp_rho + lnlike_rho(theta, timeLC, fluxLC, errorLC, allfixed)"
   ]
  },
  {
   "cell_type": "markdown",
   "metadata": {},
   "source": [
    "## MCMC"
   ]
  },
  {
   "cell_type": "code",
   "execution_count": null,
   "metadata": {},
   "outputs": [],
   "source": [
    "def fit_rho(star, t, f, ferr, num_trans, showLC, showMCMC):\n",
    "    #**************************************** Optimize LC Parameters ****************************************\n",
    "    max_b = 1+star.rp_solarRad/star.rs\n",
    "    print(\"\\nMax b (Rp in Solar Radius): {0:0.3f}\".format(max_b))\n",
    "    allfixed_rho = np.array([star.eccen, star.smass, 0.0, tKep, max_b, star.P, star.diffld])\n",
    "    first_guess =  np.array([star.depth/1.1, star.b, 0.0, star.rs, 1.0, 0.0, (star.u1+star.u2)])\n",
    "    \n",
    "    nll_rho = lambda *args: -lnprob_rho(*args)\n",
    "    result = op.minimize(nll_rho, first_guess, args=(t, f, ferr, allfixed_rho), \n",
    "                       options={'maxiter':1e5,'disp': True},\n",
    "                       method='Nelder-Mead') \n",
    "    depth_ml, b_ml, sigma_ml, radius_ml, f0_ml, tc_ml, sumLD_ml = result[\"x\"]\n",
    "    # Readjust LD coefficients. \n",
    "    u1_ml = 0.5*(sumLD_ml + star.diffld)\n",
    "    u2_ml = sumLD_ml - u1_ml\n",
    "   \n",
    "    #Compute the theoretical light curve integrated over a Kepler short-cadence exposure time.\n",
    "    s = transit.System(transit.Central(mu1=u1_ml, mu2= u2_ml, mass=star.smass, radius=radius_ml))\n",
    "    body = transit.Body(radius=np.sqrt(depth_ml)*radius_ml, period = star.P, \n",
    "                        t0 = tc_ml, b = np.abs(b_ml), e = star.eccen)\n",
    "    s.add_body(body)\n",
    "    t_fit = np.arange(-1, 1, tKep*0.01)\n",
    "    f_fit = s.light_curve(t_fit, texp=tKep, tol=1e-08, maxdepth=5)\n",
    "    f_fit = f_fit - 1.0 + f0_ml\n",
    "    if showLC == True:\n",
    "        fig = plt.figure(figsize=(16,7))\n",
    "        plt.title(str(star.kepid)+'. Stellar Density Fit for Transit '+str(num_trans+1), fontsize = 15)\n",
    "        plt.plot(t, f, '.')\n",
    "        plt.plot(t_fit, f_fit, color='r', lw = 3)\n",
    "        plt.xlabel('Time from midtransit [days]')\n",
    "        plt.ylabel('Normalized flux')\n",
    "        plt.xlim([min(t),max(t)]) \n",
    "        plt.show(block=False)    \n",
    "        time.sleep(0.2)\n",
    "        plt.close()\n",
    "    \n",
    "    #**************************************** MCMC ****************************************\n",
    "    ndim_rho = len(result[\"x\"])\n",
    "    p0 = [result[\"x\"]*(1+1e-8*np.random.randn(ndim_rho)) for i in range(nwalkers_rho)]\n",
    "    \n",
    "    with Pool() as pool:\n",
    "        sampler = emcee.EnsembleSampler(nwalkers_rho, ndim_rho, lnprob_rho, args=(t, f, ferr, allfixed_rho), pool=pool)\n",
    "        start = time.time()\n",
    "        print(\"Running burn-in\")\n",
    "        pos, prob, state = sampler.run_mcmc(p0, 200, progress = True);\n",
    "        sampler.reset() # Reset the chain to remove the burn-in samples.\n",
    "        print(\"\\n------ Run MCMC -------\")\n",
    "        sampler.run_mcmc(p0, steps_rho, rstate0 = state, progress=True);\n",
    "        end = time.time()\n",
    "        multi_time = end - start\n",
    "        print(\"Multiprocessing took {0:.1f} seconds\".format(multi_time))\n",
    "        \n",
    "    samples = sampler.chain[:, burnin_rho:, :].reshape((-1, ndim_rho))\n",
    "    samples[:, 2] = np.exp(samples[:, 2])\n",
    "    \n",
    "    #Get the 50% percentile and the +- 1 sigma error of the parameters and 2 derived quantities \n",
    "    depth_mcmc, b_mcmc, sigma_mcmc, \\\n",
    "    rs_mcmc, f0_mcmc, tc_mcmc, sumLD_mcmc = map(lambda v: (v[1], v[2]-v[1], v[1]-v[0]), \n",
    "                               zip(*np.percentile(samples, [15.86, 50, 84.14], axis=0)))\n",
    "    # Readjust LD coefficients. \n",
    "    u1_mcmc = 0.5*(sumLD_mcmc[0] + star.diffld)\n",
    "    u2_mcmc = sumLD_mcmc[0] - u1_mcmc\n",
    "\n",
    "    if showMCMC == True:\n",
    "        print(\"\\n------ Post-MCMC Results ------\")\n",
    "        print(\"\\nDepth:\\n\\tTrue = {:0.3f}\".format(star.depth))\n",
    "        print(\"\\tMCMC Fit = {0:0.3f} (+{1:0.3f},-{2:0.3f})\".format(depth_mcmc[0],depth_mcmc[1],depth_mcmc[2]))\n",
    "        print(\"\\nImpact parameter:\\n\\tTrue = {:0.3f}\".format(star.b))\n",
    "        print(\"\\tMCMC Fit = {0:0.3f} (+{1:0.3f},-{2:0.3f})\".format(b_mcmc[0],b_mcmc[1],b_mcmc[2]))\n",
    "        print(\"\\nStellar radius [Rsun]:\\n\\tREPORTED = {:0.3f}\".format(star.rs))\n",
    "        print(\"\\tMCMC Fit = {0:0.3f} (+{1:0.3f},-{2:0.3f})\".format(rs_mcmc[0], rs_mcmc[1],rs_mcmc[2]))\n",
    "        print(\"\\nSum LD Coefficients:\\n\\tREPORTED = {:0.3f}\".format(star.u1+star.u2))\n",
    "        print(\"\\tu1 MCMC Fit  = {0:0.3f}\".format(u1_mcmc))\n",
    "        print(\"\\tu2 MCMC Fit  = {0:0.3f}\".format(u2_mcmc))\n",
    "        \n",
    "    #****************************************  Plot MCMC fit **************************************** \n",
    "    s = transit.System(transit.Central(mu1=u1_mcmc, mu2=u2_mcmc, mass=star.smass, radius=rs_mcmc[0]))\n",
    "    body = transit.Body(radius=np.sqrt(depth_mcmc[0])*rs_mcmc[0], period=star.P, t0=tc_mcmc[0], \n",
    "                        b=np.abs(b_mcmc[0]), e = star.eccen)\n",
    "    s.add_body(body)\n",
    "    t_fit = np.arange(-1, 1, tKep*0.01)\n",
    "    f_fit = s.light_curve(t_fit, texp=tKep, tol=1e-08, maxdepth=4)\n",
    "    f_fit = f_fit - 1.0 + f0_mcmc[0]\n",
    "    fig_lc = plt.figure(figsize=(15,4))\n",
    "    plt.title('MCMC Fit for KID'+str(star.kepid))\n",
    "    plt.plot(t, f, '.')\n",
    "    plt.plot(t_fit, f_fit, 'r', lw = 3)\n",
    "    plt.xlabel('Time [d]'); plt.ylabel('Normalized Flux')\n",
    "    plt.xlim([min(t),max(t)])\n",
    "    filepath_rho = '/Users/mbadenas/Documents/Master UAB/Tesis UAB/TFM2018/results/new_rs/'\n",
    "    store_lcfit = \"fit\"+str(star.kepid)+\"_st\"+str(steps_rho)+\"_trans\"+str(num_trans+1)+\".png\"\n",
    "    fig_lc.savefig(filepath_rho+store_lcfit)\n",
    "    plt.close(fig_lc)\n",
    "    \n",
    "    #**************************************** Corner Plot **************************************** \n",
    "    true_params = [star.depth, star.b, None, star.rs, 1.0, 0.0, (star.u1+star.u2)]\n",
    "    res_labels = [r'Depth', r'$b$', r'$\\sigma$', r'$R_{s} [R_{\\odot}]$', r'$f_{0}$', r'$t_{c}$', r'$u_{1}+u_{2}$']\n",
    "    \n",
    "    fig_corner = corner.corner(samples, weights = None, labels = res_labels, quantiles = [0.16, 0.5, 0.84],\n",
    "                               truths = None, show_titles = True, title_args = {\"fontsize\": 12}, \n",
    "                               plot_contours = True, plot_datapoints = False) \n",
    "    \n",
    "    plt.suptitle(\"KID\"+str(star.kepid)+\". Corner Plot for Transit \"+str(num_trans+1), fontsize = 20)\n",
    "    store_corner = \"corner\"+str(star.kepid)+\"_st\"+str(steps_rho)+\"_trans\"+str(num_trans+1)+\".png\"\n",
    "    fig_corner.savefig(filepath_rho+store_corner)\n",
    "    plt.close(fig_corner)\n",
    "   \n",
    "    #**************************************** Steps Plot **************************************** \n",
    "    fig_steps, axes = plt.subplots(ndim_rho, 1, sharex=True, figsize=(8, 9))\n",
    "    axes[0].plot(sampler.chain[:, :, 0].T, ls='dotted', color = \"xkcd:sky blue\") #depth = 0\n",
    "    axes[0].set_ylabel(r'Depth'); \n",
    "    axes[0].axhline(true_params[0], color='red')\n",
    "    axes[1].plot(sampler.chain[:, :, 1].T, ls='dotted', color=\"xkcd:sky blue\")\n",
    "    axes[1].set_ylabel(r'$b$'); \n",
    "    axes[1].axhline(true_params[1], color='red')\n",
    "    axes[2].plot((sampler.chain[:, :, 2]).T, ls='dotted', color=\"xkcd:sky blue\")\n",
    "    axes[2].set_ylabel(r'$\\sigma$');\n",
    "    axes[3].plot((sampler.chain[:, :, 3]).T, ls='dotted', color=\"xkcd:sky blue\")\n",
    "    axes[3].set_ylabel(r'$R_{s} [R_{\\odot}]$'); \n",
    "    axes[3].axhline(true_params[3], color='red')\n",
    "    axes[4].plot((sampler.chain[:, :, 4]).T, ls='dotted', color=\"xkcd:sky blue\")\n",
    "    axes[4].set_ylabel(r'$f_{0}$'); \n",
    "    axes[4].axhline(true_params[4], color='red')\n",
    "    axes[5].plot((sampler.chain[:, :, 5]).T, ls='dotted',color=\"xkcd:sky blue\")\n",
    "    axes[5].set_ylabel(r\"$t_{c}$\"); \n",
    "    axes[5].axhline(true_params[5], color='red')\n",
    "    axes[6].plot((sampler.chain[:, :, 6]).T, ls='dotted',color=\"xkcd:sky blue\")\n",
    "    axes[6].set_ylabel(r\"$u_{1}+u_{2}$\"); \n",
    "    axes[6].axhline(true_params[6], color='red')\n",
    "    axes[6].set_xlabel(\"Step number\")\n",
    "    \n",
    "    fig_steps.tight_layout(h_pad=0.0)\n",
    "    store_steps= \"steps\"+str(star.kepid)+\"_st\"+str(steps_rho)+\"_trans\"+str(num_trans+1)+\".png\"\n",
    "    fig_steps.savefig(filepath_rho+store_steps)\n",
    "    plt.close(fig_steps)\n",
    "    \n",
    "    #**************************************** Acceptance Fraction **************************************** \n",
    "    #As rule of thumb, the acceptance fraction (af) should be between 0.2 and 0.5. If af < 0.2 decrease the \n",
    "    #a parameter. If af > 0.5 increase the a parameter. \n",
    "    af = sampler.acceptance_fraction  \n",
    "    af_percentage = 100*np.mean(sampler.acceptance_fraction)\n",
    "    print(\"Mean acceptance fraction: {0:0.2f} ({1:0.2f} %)\".format(np.mean(af), af_percentage))\n",
    "    \n",
    "    #**************************************** Store MCMC results **************************************** \n",
    "    results_mcmc = [depth_mcmc, b_mcmc, sigma_mcmc, rs_mcmc, f0_mcmc, tc_mcmc, sumLD_mcmc]\n",
    "    rs_results = np.array([rs_mcmc[0],rs_mcmc[1],rs_mcmc[2]])\n",
    "    \n",
    "    return radius_ml, rs_results, af_percentage"
   ]
  },
  {
   "cell_type": "markdown",
   "metadata": {},
   "source": [
    "## Fit individual Transits"
   ]
  },
  {
   "cell_type": "markdown",
   "metadata": {},
   "source": [
    "Fit the stellar radius to obtain a better estimate of the stellar density"
   ]
  },
  {
   "cell_type": "code",
   "execution_count": null,
   "metadata": {},
   "outputs": [],
   "source": [
    "for target in targets:\n",
    "    print(\"\\n******************************** KID\"+str(target.kepid)+\" ********************************\")\n",
    "    plt.close(\"all\")\n",
    "    key = target.kepid\n",
    "    missed_trans = set(target.ind_missed_transits)\n",
    "    rs_trans_fit = []\n",
    "    rs_trans_afrac = []\n",
    "    \n",
    "    for i in range(len(target.transit_times)): \n",
    "        if i not in missed_trans:\n",
    "            print(\"\\n*TRANSIT \"+str(i+1))\n",
    "            dt_i = target.ttrans[target.trans_id==i]-target.transit_times[i]\n",
    "            f_trans_i = target.ftrans[target.trans_id==i]\n",
    "            oot = np.abs(dt_i)>=(target.duration/2)\n",
    "            iit = np.abs(dt_i)<(target.duration/2)\n",
    "            d = 1-np.mean(f_trans_i[iit])\n",
    "            error_trans_oot = np.std(f_trans_i[oot])\n",
    "            snr = d/error_trans_oot\n",
    "            print(\"\\tSignal = {0:0.5f}. Noise (rms) = {1:0.5f}. SNR = {2:0.5f}\".format(d, error_trans_oot, snr))\n",
    "            print(\"\\tOut-of-transit error of the transit LC = {0:0.5f}\".format(error_trans_oot))\n",
    "            \n",
    "            if snr > snr_limit:\n",
    "                rsFit, rsMCMC, rs_afraction = fit_rho(target, dt_i,  f_trans_i, 0.1*error_trans_oot, i, False, False)\n",
    "                print(\"Stellar Radius [Rsun]:\\tMCMC = {0:0.5f}.\\t1st Fit = {1:0.5f}.\\tKepler = {2:0.5f}\".format(rsMCMC[0], rsFit, target.rs))\n",
    "                print(\"Error Stellar Radius [Rsun]:\\tMCMC (up) = {0:0.5f}, (down) = {1:0.5f}.\\tOld = {2:0.5f}\".format(rsMCMC[1], rsMCMC[2],  target.rs_err))\n",
    "                rs_trans_fit.append(rsMCMC)\n",
    "                rs_trans_afrac.append(rs_afraction)\n",
    "    \n",
    "    if len(rs_trans_fit) != 0:\n",
    "        locs_rsNew = '/Users/mbadenas/Documents/Master UAB/Tesis UAB/TFM2018/results/new_rs/'\n",
    "        fname_rsNew = str(target.kepid)+\"_st\"+str(steps_rho)+\"_RsMCMC.txt\"\n",
    "        np.savetxt(locs_rsNew+fname_rsNew, np.column_stack((rs_trans_fit, rs_trans_afrac)), \n",
    "                               fmt = \"%0.3f\", header = header_rs)"
   ]
  },
  {
   "cell_type": "markdown",
   "metadata": {},
   "source": [
    "## Update Rs"
   ]
  },
  {
   "cell_type": "markdown",
   "metadata": {},
   "source": [
    "Update stellar radius."
   ]
  },
  {
   "cell_type": "code",
   "execution_count": null,
   "metadata": {},
   "outputs": [],
   "source": [
    "path_newRs = '/Users/mbadenas/Documents/Master UAB/Tesis UAB/TFM2018/results/new_rs'\n",
    "os.chdir(path_newRs)\n",
    "\n",
    "modified_rs = 0\n",
    "for target in targets:\n",
    "    for file in glob.glob(str(target.kepid)+\"*[!\\BAD].txt\"):\n",
    "        print(\"------------------------KID{0:d}------------------------\".format(target.kepid))\n",
    "        \n",
    "        data = pd.read_csv(file, delimiter=\" \", names = ['Rs', '+err', '-err', 'afrac'],\n",
    "                           header = 1, na_values = '#N/A')\n",
    "        \n",
    "        data_mean = data.mean()\n",
    "        rs_new = data_mean['Rs']\n",
    "        rs_err_new = np.sqrt(data_mean['+err']**2+data_mean['-err']**2)\n",
    "        \n",
    "        print(\"\\tOld R*: {0:0.3f} ({1:0.3f}) [Rsun]\\\n",
    "        \\n\\tNew R*: {2:0.3f} ({3:0.3f}) [Rsun]\\n\".format(target.rs, target.rs_err, \n",
    "                                                       rs_new, rs_err_new))\n",
    "        \n",
    "        modified_rs += 1 \n",
    "        target.rs = rs_new\n",
    "        target.rs_err = rs_err_new  \n",
    "           \n",
    "print(\"The stellar radius has been modified for {0:d} systems.\".format(modified_rs))"
   ]
  },
  {
   "cell_type": "markdown",
   "metadata": {},
   "source": [
    "# Global Fit"
   ]
  },
  {
   "cell_type": "markdown",
   "metadata": {},
   "source": [
    "## Transit Routine\n",
    "\n",
    "A Python library for generating light curves of transiting planets. See https://github.com/dfm/transit/blob/master/transit/transit.py for original code"
   ]
  },
  {
   "cell_type": "code",
   "execution_count": null,
   "metadata": {},
   "outputs": [],
   "source": [
    "def ln_probtrans(P, rstar, mstar):\n",
    "    alog = (1/3)*np.log(mstar)+(2/3)*np.log(P)  \n",
    "    prob = np.log(rstar)-alog\n",
    "    #prob = (-2/3)*np.log(P) #see eq'n 4 in https://arxiv.org/pdf/1805.00956.pdf\n",
    "    return(prob)"
   ]
  },
  {
   "cell_type": "code",
   "execution_count": null,
   "metadata": {},
   "outputs": [],
   "source": [
    "def lnlike(theta, timeLC, fluxLC, errorLC, allfixed):\n",
    "    \"\"\"\n",
    "    Calculates the log of the likelihood of the transit model being the right model given the following parameters:\n",
    "    theta[0] = pdepth = (Rp/Rs)^2 #b=0 centre of stellar disk & b=1 at the cusp of the disc\n",
    "    theta[1] = pb = the mean impact parameter, measured in stellar radii (not Solar radii). See documentation.\n",
    "    theta[2] = sigma = an additional white noise term\n",
    "    theta[3] = pmass = the mass of the star (controlled via gaussian prior)\n",
    "    theta[4] = pradius = the radius of the star (controlled via gaussian prior)\n",
    "    theta[5] = f0 = the out of eclipse flux\n",
    "    theta[6] = pperiod = Orbital period \n",
    "    theta[7] = ptc = Transit time (time of conjunction) \n",
    "    \n",
    "    Note: pmass and prad (stellar mass and radius) controlled via gaussian prior. \n",
    "    By letting M* and R* be free parameters in the model, we allow the stellar density to fluctuate. \n",
    "    \"\"\"\n",
    "    ecc, mass, masserr, radius, radiuserr, tKep, u1, u2, maxb = allfixed\n",
    "    pdepth, pb, sigma, pmass, pradius, f0, pperiod, ptc = theta \n",
    "    \n",
    "    s = transit.System(transit.Central(mu1=u1, mu2=u2, mass = pmass, radius = pradius))\n",
    "    body = transit.Body(radius=np.sqrt(pdepth)*pradius, period=pperiod, t0=ptc, b=np.abs(pb), e=ecc)\n",
    "    s.add_body(body)\n",
    "    inv_sigma2 = 1.0/(errorLC**2 + sigma**2)\n",
    "    \n",
    "    try: \n",
    "        ftheo = s.light_curve(timeLC, texp=tKep, tol=1e-08, maxdepth=4)\n",
    "    except ValueError:\n",
    "        return -np.inf\n",
    "    \n",
    "    ftheo = ftheo-1+f0\n",
    "    \n",
    "    return -0.5*(np.sum((fluxLC-ftheo)**2*inv_sigma2 - np.log(inv_sigma2)) + ((pmass-mass)/masserr)**2\n",
    "            + ((pradius-radius)/radiuserr)**2)"
   ]
  },
  {
   "cell_type": "code",
   "execution_count": null,
   "metadata": {},
   "outputs": [],
   "source": [
    "def lnprior(theta, maxb):\n",
    "    ##https://github.com/stan-dev/stan/wiki/Prior-Choice-Recommendations\n",
    "    pdepth, pb, sigma, pmass, pradius, f0, pperiod, ptc = theta\n",
    "    if ((0 <= pb <= maxb) and (0 <= sigma) and (pradius > 0) \n",
    "        and (pdepth > 0) and (pmass > 0.0) and (13.5 <= pperiod)  and (ptc**2<0.01)):\n",
    "        return ln_probtrans(pperiod, pradius, pmass)\n",
    "    return -np.inf  \n",
    "\n",
    "def lnprior_MCMC(theta, maxb): ##https://github.com/stan-dev/stan/wiki/Prior-Choice-Recommendations\n",
    "    pdepth, pb, sigma, pmass, pradius, f0, pperiod, ptc = theta\n",
    "    if ((0 <= pb <= maxb) and (0 <= sigma) and (pradius > 0) \n",
    "        and (pdepth > 0) and (pmass > 0.0) and (13.5 <= pperiod)  and (ptc**2<0.01)):\n",
    "        return ln_probtrans(pperiod, pradius, pmass) \n",
    "    return -np.inf    "
   ]
  },
  {
   "cell_type": "code",
   "execution_count": null,
   "metadata": {},
   "outputs": [],
   "source": [
    "def lnprob(theta, timeLC, fluxLC, errorLC, allfixed):\n",
    "    ecc, mass, masserr, radius, radiuserr, tKep, u1, u2, maxb = allfixed\n",
    "    lp = lnprior(theta, maxb)\n",
    "    if not np.isfinite(lp):\n",
    "        return -np.inf\n",
    "    return lp + lnlike(theta, timeLC, fluxLC, errorLC, allfixed)\n",
    "\n",
    "def lnprob_MCMC(theta, timeLC, fluxLC, errorLC, allfixed_MCMC):\n",
    "    ecc, mass, masserr, radius, radiuserr, tKep, u1, u2, maxb = allfixed_MCMC\n",
    "    lp_MCMC = lnprior_MCMC(theta, maxb)\n",
    "    if not np.isfinite(lp_MCMC):\n",
    "        return -np.inf\n",
    "    return lp_MCMC + lnlike(theta, timeLC, fluxLC, errorLC, allfixed_MCMC)"
   ]
  },
  {
   "cell_type": "code",
   "execution_count": null,
   "metadata": {},
   "outputs": [],
   "source": [
    "def run_transit_routine(star, t, f, ferr, transit_num, showLC):\n",
    "    #depth_guess = 1-min(f)\n",
    "    depth_guess = 1-target.min_flux_folded\n",
    "    rp_guess = np.sqrt(depth_guess)*star.rs\n",
    "    max_b = 1+rp_guess/star.rs\n",
    "   \n",
    "    print(\"\\nMin flux Folded LC = {0:0.6f}.\\t Min flux individual transit = {1:0.6f}\".format(target.min_flux_folded,\n",
    "                                                                                             min(f)))\n",
    "    print(\"Max. allowed b (1+rp_guess/rs) = {0:0.5f}\".format(max_b))\n",
    "    print(\"Depth guess = {0:0.5f}. True depth = {1:0.5f}\".format(depth_guess, star.depth))\n",
    "    \n",
    "    allfixed = np.array([star.eccen, star.smass, star.smass_err, star.rs, star.rs_err, tKep, star.u1, star.u2, max_b])\n",
    "    \n",
    "    nll = lambda *args: -lnprob(*args)\n",
    "    \n",
    "    res0 = op.minimize(nll, [depth_guess/1.2, 0.4, 0.0, star.smass, star.rs, 1.0, period_guess, 0.0], \n",
    "                       args=(t, f, 0.0, allfixed), \n",
    "                       options={'maxiter': 1e5, 'disp': True},\n",
    "                       method='Nelder-Mead') #options={'maxiter': 1e3, 'disp': True}\n",
    "    \n",
    "    res1 = op.minimize(nll, res0[\"x\"], args=(t, f, ferr, allfixed), \n",
    "                       options={'maxiter': 1e5, 'disp': True},\n",
    "                       method='Nelder-Mead')\n",
    "    \n",
    "    depth_ml, b_ml, sigma_ml, mass_ml, radius_ml, f0_ml, period_ml, tc_ml = res1[\"x\"]\n",
    "        \n",
    "    # Compute the theoretical light curve integrated over a Kepler short-cadence exposure time.\n",
    "    s = transit.System(transit.Central(mu1=star.u1, mu2=star.u2, mass=mass_ml, radius=radius_ml))\n",
    "    body = transit.Body(radius=np.sqrt(depth_ml)*radius_ml,period=period_ml, t0=tc_ml,b=np.abs(b_ml),e=star.eccen)\n",
    "    s.add_body(body)\n",
    "    t_fit = np.arange(-1, 1, tKep*0.01)\n",
    "    f_fit = s.light_curve(t_fit, texp=tKep, tol=1e-08, maxdepth=4)\n",
    "    f_fit = f_fit - 1.0 + f0_ml\n",
    "    \n",
    "    if showLC == True:\n",
    "        fig = plt.figure(figsize=(16,5))\n",
    "        plt.title(\"KID\"+str(star.kepid)+\". Preliminary Fit for Transit \"+str(transit_num+1), fontsize = 15)\n",
    "        plt.plot(t, f, '.', label = 'Kepler data')\n",
    "        plt.plot(t_fit, f_fit, color='r', lw = 3, label = 'Fit')\n",
    "        plt.xlabel('Time from midtransit [days]')\n",
    "        plt.ylabel('Normalized flux')\n",
    "        plt.xlim([min(t),max(t)]) \n",
    "        plt.show(block=False)    \n",
    "        time.sleep(0.1)\n",
    "        plt.close()\n",
    "\n",
    "    #star.duration = body.duration #from eq'n 14 in Winn (2010)\n",
    "    print(\"------ Pre-MCMC Results ------\")\n",
    "    print(\"\\tTransit duration [d]:\\t Fit={0:0.3f}\\tTrue={1:0.3f}\".format(body.duration, star.duration))\n",
    "    print(\"\\tPeriod [days]:\\t Fit={0:0.8f}\\tTrue={1:0.8f}\".format(period_ml,star.P))\n",
    "    print(\"\\tImpact Parameter:\\t Fit={0:0.6f}\\tTrue={1:0.6f}\".format(b_ml,star.b))\n",
    "    print(\"\\tDepth:\\t Fit={0:0.6f}\\tTrue={1:0.6f}\".format(depth_ml,star.depth))\n",
    "    print(\"\\tStellar mass:\\t Fit={0:0.3f}\\tTrue={1:0.3f}\".format(mass_ml,star.smass))\n",
    "    print(\"\\tStellar radius:\\t Fit={0:0.3f}\\tTrue={1:0.3f}\".format(radius_ml,star.rs))\n",
    "    print(\"\\tSigma (white noise):\\t Fit={0:0.5f}\".format(sigma_ml))\n",
    "    print(\"\\tOut-of-transit flux:\\t Fit={0:0.3f}\".format(f0_ml))\n",
    "    \n",
    "    return(res1[\"x\"])"
   ]
  },
  {
   "cell_type": "markdown",
   "metadata": {},
   "source": [
    "## MCMC "
   ]
  },
  {
   "cell_type": "code",
   "execution_count": null,
   "metadata": {},
   "outputs": [],
   "source": [
    "def run_mcmc(star, t, f, ferr, num_trans, fit_results, show_mcmc_res):\n",
    "    \n",
    "    depth_ml, b_ml, sigma_ml, mass_ml, radius_ml, f0_ml, period_ml, tc_ml = fit_results\n",
    "    \n",
    "    #adjust depth a little\n",
    "    fit_results[0] = fit_results[0]/1.1\n",
    "    rp_guess = np.sqrt(depth_ml)*radius_ml\n",
    "    max_depth = 1+rp_guess/radius_ml\n",
    "        \n",
    "    print(\"\\n------------------ Prepare MCMC ------------------\")\n",
    "    print(\"Guess impact parameter: {0:0.5f}\".format(fit_results[1]))\n",
    "    print(\"Guess of Rp [in Rsun]: {0:0.5f}\".format(rp_guess))\n",
    "    print(\"Max. allowed b (1+rp_guess/rs): {0:0.5f}\".format(max_depth))\n",
    "\n",
    "    allfixed_MCMC = [star.eccen, star.smass, star.smass_err, star.rs, \n",
    "                     star.rs_err, tKep, star.u1, star.u2, max_depth]\n",
    "    \n",
    "    #**************************************** MCMC ****************************************\n",
    "    ndim = len(fit_results)\n",
    "    p0 = [fit_results*(1+1e-8*np.random.randn(ndim)) for i in range(nwalkers)]\n",
    "    with Pool() as pool:\n",
    "        sampler = emcee.EnsembleSampler(nwalkers, ndim, lnprob_MCMC, \n",
    "                                        args=(t, f, ferr, allfixed_MCMC), pool=pool)\n",
    "        start = time.time()\n",
    "        print(\"\\nRunning burn-in\")\n",
    "        pos, prob, state = sampler.run_mcmc(p0, 200, progress=True);\n",
    "        sampler.reset() # Reset the chain to remove the burn-in samples.\n",
    "        print(\"\\n------ Run MCMC -------\")\n",
    "        sampler.run_mcmc(p0, steps, rstate0 = state, progress=True);\n",
    "        end = time.time()\n",
    "        multi_time = end - start\n",
    "        print(\"Multiprocessing took {0:.1f} seconds\".format(multi_time))\n",
    "   \n",
    "    samples = sampler.chain[:, burnin_global:, :].reshape((-1, ndim)) \n",
    "    \n",
    "    #Clipping extreme values (top.bottom 0.1 percentiles)\n",
    "    #toclip=np.array([(np.percentile(samples[:,t],99.9)>samples[:,t]) // (samples[:,t]>np.percentile(samples[:,t],0.1)) for t in range(ndim)]).all(axis=0)\n",
    "    #samples=samples[toclip]\n",
    "    \n",
    "    \"\"\"\n",
    "    !!!!!!!!!!!!!!!!!!!!!!!!!!!!!!!!!!!!!!!!!!!!!!!!!!!!!!!!!!!!!!!!!!!!!!!!!!!!!!!!!!!!!!!!!!\n",
    "    #************ BE CAREFUL WITH THE INDEXES OF THE FOLLOWING FOUR LINES!!!!! ************\n",
    "    !!!!!!!!!!!!!!!!!!!!!!!!!!!!!!!!!!!!!!!!!!!!!!!!!!!!!!!!!!!!!!!!!!!!!!!!!!!!!!!!!!!!!!!!!!\n",
    "    \"\"\"\n",
    "    \n",
    "    #This is bc the indexes depend on the list of parameters being fitted.\n",
    "    period_distribution = samples[:,6]\n",
    "    samples[:, 2] = np.exp(samples[:, 2])\n",
    "    planetradsamp = 109.045*np.sqrt(samples[:,0])*samples[:, 4] #in EARTH RAD rad( rp = sqrt(depth)*rs)\n",
    "    P1 = period_ml*24.0*3600.0 #in sec\n",
    "    r_asamp = ((3.0*np.pi/(G*P1**2))*((samples[:,4]**3/samples[:, 3])/1408.0))**0.3333\n",
    "\n",
    "    #Get the 50% percentile and the +- 1 sigma error of the parameters and 2 derived quantities \n",
    "    depth_mcmc, b_mcmc, sigma_mcmc, smass_mcmc, rs_mcmc, \\\n",
    "    f0_mcmc, period_mcmc, tc_mcmc = map(lambda v: (v[1], v[2]-v[1], v[1]-v[0]), \n",
    "                               zip(*np.percentile(samples, [15.86, 50, 84.14], axis=0)))\n",
    "    \n",
    "    v = np.percentile(planetradsamp, [15.86, 50, 84.14], axis=0)\n",
    "    planetrad_mcmc =(v[1], v[2]-v[1], v[1]-v[0])\n",
    "    v = np.percentile(r_asamp, [15.86, 50, 84.14], axis=0)\n",
    "    r_a_mcmc =(v[1], v[2]-v[1], v[1]-v[0])\n",
    "    \n",
    "    results_mcmc = [depth_mcmc, b_mcmc, sigma_mcmc, smass_mcmc, rs_mcmc, f0_mcmc, \n",
    "                    period_mcmc, tc_mcmc, planetrad_mcmc, r_a_mcmc]\n",
    "    \n",
    "    if show_mcmc_res == True:\n",
    "        print(\"\\n------------------ Post-MCMC Results ------------------\")\n",
    "        print(\"\\nDepth:\\n\\tTrue = {:0.3f}\".format(star.depth))\n",
    "        print(\"\\tMCMC Fit = {0:0.3f} (+{1:0.3f},-{2:0.3f})\".format(depth_mcmc[0],depth_mcmc[1],depth_mcmc[2]))\n",
    "        print(\"\\nImpact parameter:\\n\\tTrue = {:0.3f}\".format(star.b))\n",
    "        print(\"\\tMCMC Fit = {0:0.3f} (+{1:0.3f},-{2:0.3f})\".format(b_mcmc[0],b_mcmc[1],b_mcmc[2]))\n",
    "        print(\"\\nPlanet radius [REarth]:\\n\\tTrue = {:0.3f}\".format(star.rp)) #In earth radii due to the conversion done above \n",
    "        print(\"\\tMCMC Fit = {0:0.3f} (+{1:0.3f},-{2:0.3f})\".format(planetrad_mcmc[0],planetrad_mcmc[1],planetrad_mcmc[2]))\n",
    "        print(\"\\nPeriod [d]:\\n\\tTrue = {:0.3f}\".format(star.P))\n",
    "        print(\"\\tMCMC Fit = {0:0.3f} (+{1:0.3f},-{2:0.3f})\".format(period_mcmc[0],period_mcmc[1],period_mcmc[2]))\n",
    "        print(\"\\nInverse of scaled semi-major axis:\\n\\tTrue = {:0.4f}\".format(1/star.dor))\n",
    "        print(\"\\tMCMC Fit = {0:0.4f} (+{1:0.4f},-{2:0.4f})\".format(r_a_mcmc[0],r_a_mcmc[1],r_a_mcmc[2]))\n",
    "        print(\"\\nStellar radius [Rsun]:\\n\\tTrue = {:0.3f}\".format(star.rs))\n",
    "        print(\"\\tMCMC Fit = {0:0.3f} (+{1:0.3f},-{2:0.3f})\".format(rs_mcmc[0],rs_mcmc[1],rs_mcmc[2]))\n",
    "        print(\"\\nStellar Mass [Msun]:\\n\\tTrue = {:0.3f}\".format(star.smass))\n",
    "        print(\"\\tMCMC Fit = {0:0.3f} (+{1:0.3f},-{2:0.3f})\".format(smass_mcmc[0],smass_mcmc[1],smass_mcmc[2]))\n",
    "\n",
    "    #****************************************  Plot MCMC fit **************************************** \n",
    "    s = transit.System(transit.Central(mu1=star.u1, mu2=star.u2, mass=smass_mcmc[0], radius=rs_mcmc[0]))\n",
    "    body = transit.Body(radius=np.sqrt(depth_mcmc[0])*rs_mcmc[0], period=period_mcmc[0],\n",
    "                        t0=tc_mcmc[0], b=np.abs(b_mcmc[0]), e=star.eccen)\n",
    "    s.add_body(body)\n",
    "    t_fit = np.arange(-1.5, 1.5, tKep*0.01)\n",
    "    f_fit = s.light_curve(t_fit, texp=tKep, tol=1e-08, maxdepth=4)\n",
    "    f_fit = f_fit - 1.0 + f0_mcmc[0]\n",
    "    fig_lc = plt.figure(figsize=(15,4))\n",
    "    plt.title('MCMC Fit for KID'+str(star.kepid))\n",
    "    plt.plot(t, f, '.', label = 'kepler')\n",
    "    plt.plot(t_fit, f_fit, 'r', lw = 3, label = 'fit')\n",
    "    plt.xlabel('Time [d]'); plt.ylabel('Normalized Flux')\n",
    "    plt.xlim([min(t),max(t)]); \n",
    "    file_path_fit = '/Users/mbadenas/Documents/Master UAB/Tesis UAB/TFM2018/results/MCMC_fits/'\n",
    "    store_mcmc_fit = \"fit\"+str(star.kepid)+\"_st\"+str(steps)+\"_trans\"+str(num_trans+1)+\"_\"+str(period_guess)+\"d.png\"\n",
    "    fig_lc.savefig(file_path_fit+store_mcmc_fit)\n",
    "    plt.close(fig_lc)\n",
    "        \n",
    "    #**************************************** Corner Plot **************************************** \n",
    "    true_params = [star.depth, star.b, None, star.smass, star.rs, 1.0, star.P, 0.0]\n",
    "    res_labels = ['Depth', 'b', r'$\\sigma$', r'$M_{*} [M_{\\odot}]$', r'$R_{*} [R_{\\odot}]$', \n",
    "              r'$f_{0}$', 'P [d]', r'$t_c$']\n",
    "    fig_corner = corner.corner(samples, weights = None, labels = res_labels, quantiles=[0.16, 0.5, 0.84],\n",
    "                               truths = true_params, show_titles = True, title_args={\"fontsize\": 12}, \n",
    "                               plot_contours=True, truth_color='r', plot_datapoints=False)\n",
    "    \n",
    "    plt.suptitle('Corner Plot for KID'+str(star.kepid), fontsize = 20)\n",
    "    file_path = '/Users/mbadenas/Documents/Master UAB/Tesis UAB/TFM2018/results/corner/'\n",
    "    store_corner = \"corner\"+str(star.kepid)+\"_st\"+str(steps)+\"_trans\"+str(num_trans+1)+\"_\"+str(period_guess)+\"d.png\"\n",
    "    fig_corner.savefig(file_path+store_corner)\n",
    "    plt.close(fig_corner)\n",
    "   \n",
    "    #**************************************** Acceptance Fraction **************************************** \n",
    "    #As rule of thumb, the acceptance fraction (af) should be between 0.2 and 0.5. If af < 0.2 decrease the \n",
    "    #a parameter. If af > 0.5 increase the a parameter. \n",
    "    af = sampler.acceptance_fraction  \n",
    "    af_percentage = 100*np.mean(sampler.acceptance_fraction)\n",
    "    print(\"\\nMean acceptance fraction: {0:0.2f} ({1:0.2f} %) \".format(np.mean(af), af_percentage))\n",
    "    \n",
    "    #**************************************** Steps Plot **************************************** \n",
    "    fig_b, axes = plt.subplots(8, 1, sharex=True, figsize=(8, 9))\n",
    "    axes[0].plot(sampler.chain[:, :, 0].T, ls='dotted', color = \"xkcd:sky blue\") \n",
    "    axes[0].set_ylabel(r'Depth'); \n",
    "    axes[0].axhline(true_params[0], color='red')\n",
    "    axes[1].plot(sampler.chain[:, :, 1].T, ls='dotted', color=\"xkcd:sky blue\")\n",
    "    axes[1].set_ylabel(r'$b$'); \n",
    "    axes[1].axhline(true_params[1], color='red')\n",
    "    axes[2].plot((sampler.chain[:, :, 2]).T, ls='dotted', color=\"xkcd:sky blue\")\n",
    "    axes[2].set_ylabel(r'$\\sigma$');\n",
    "    axes[3].plot((sampler.chain[:, :, 3]).T, ls='dotted', color=\"xkcd:sky blue\")\n",
    "    axes[3].set_ylabel(r'$M_{*} [M_{\\odot}]$'); \n",
    "    axes[3].axhline(true_params[3], color='red')\n",
    "    axes[4].plot((sampler.chain[:, :, 4]).T, ls='dotted', color=\"xkcd:sky blue\")\n",
    "    axes[4].set_ylabel(r'$R_{*} [R_{\\odot}]$'); \n",
    "    axes[4].axhline(true_params[4], color='red')\n",
    "    axes[5].plot((sampler.chain[:, :, 5]).T, ls='dotted', color=\"xkcd:sky blue\")\n",
    "    axes[5].set_ylabel('$f_{0}$'); \n",
    "    axes[5].axhline(true_params[5], color='red')\n",
    "    axes[6].plot((sampler.chain[:, :, 6]).T, ls='dotted',color=\"xkcd:sky blue\")\n",
    "    axes[6].set_ylabel(\"$P [d]$\"); \n",
    "    axes[6].axhline(true_params[6], color='red')\n",
    "    axes[7].plot((sampler.chain[:, :, 7]).T, ls='dotted',color=\"xkcd:sky blue\")\n",
    "    axes[7].set_ylabel(\"$t_{c}$\");\n",
    "    axes[7].set_xlabel(\"Step number\")\n",
    "    fig_b.tight_layout(h_pad=0.0)\n",
    "    filepath = '/Users/mbadenas/Documents/Master UAB/Tesis UAB/TFM2018/results/burnin/'\n",
    "    store_steps= \"steps\"+str(star.kepid)+\"_st\"+str(steps)+\"_trans\"+str(num_trans+1)+\".png\"\n",
    "    fig_b.savefig(filepath+store_steps)\n",
    "    plt.close(fig_b)\n",
    "    \n",
    "    return (period_distribution, results_mcmc)"
   ]
  },
  {
   "cell_type": "markdown",
   "metadata": {},
   "source": [
    "## Transit Analysis"
   ]
  },
  {
   "cell_type": "markdown",
   "metadata": {},
   "source": [
    "As a reminder, your MCMC parameters are set to: "
   ]
  },
  {
   "cell_type": "code",
   "execution_count": null,
   "metadata": {},
   "outputs": [],
   "source": [
    "steps, nwalkers, burnin_global"
   ]
  },
  {
   "cell_type": "markdown",
   "metadata": {},
   "source": [
    "You've also chosen that:"
   ]
  },
  {
   "cell_type": "code",
   "execution_count": null,
   "metadata": {},
   "outputs": [],
   "source": [
    "print(\"SNR limit per transit: {0:0.2f} [d]\".format(snr_limit))\n",
    "print(\"LC baseline amplification: {0:0.1f}\".format(amplify))\n",
    "print(\"Period guess: {0:0.2f} [d]\".format(period_guess))"
   ]
  },
  {
   "cell_type": "markdown",
   "metadata": {},
   "source": [
    "Fit each transit with the new stellar density"
   ]
  },
  {
   "cell_type": "code",
   "execution_count": null,
   "metadata": {},
   "outputs": [],
   "source": [
    "for target in targets:\n",
    "    print(\"\\n******************************** KID\"+str(target.kepid)+\" ********************************\")\n",
    "    key = target.kepid\n",
    "    missed_trans = set(target.ind_missed_transits)\n",
    "    for i in range(len(target.transit_times)): \n",
    "        if i not in missed_trans:\n",
    "            print(\"\\n*TRANSIT \"+str(i+1))\n",
    "            dt_i = target.ttrans[target.trans_id==i]-target.transit_times[i]\n",
    "            f_trans_i = target.ftrans[target.trans_id==i]\n",
    "            oot = np.abs(dt_i)>=(target.duration/2)\n",
    "            iit = np.abs(dt_i)<(target.duration/2)\n",
    "            d = 1-np.mean(f_trans_i[iit])\n",
    "            error_trans_oot = np.std(f_trans_i[oot])\n",
    "            snr = d/error_trans_oot\n",
    "            print(\"\\tSignal = {0:0.5f}. Noise (rms) = {1:0.5f}. SNR = {2:0.5f}\".format(d, error_trans_oot, snr))\n",
    "            print(\"\\tOut-of-transit error of the transit LC = {0:0.5f}\".format(error_trans_oot))\n",
    "            \n",
    "            if  snr > snr_limit:  \n",
    "                lc_fit = run_transit_routine(target, dt_i, f_trans_i, 0.1*error_trans_oot, i, True)\n",
    "                period_res, mcmc_res = run_mcmc(target, dt_i, f_trans_i, 0.1*error_trans_oot, i, lc_fit, True)\n",
    "                locs_P_trans = '/Users/mbadenas/Documents/Master UAB/Tesis UAB/TFM2018/results/period_distributions/'\n",
    "                locs_MCMC = '/Users/mbadenas/Documents/Master UAB/Tesis UAB/TFM2018/results/MCMC_results/'\n",
    "\n",
    "                fname_P_trans = str(target.kepid)+\"_st\"+str(steps)+\"_Pdist_trans\"+str(i+1)+\"_\"+str(period_guess)+\"d.txt\"\n",
    "                fname_MCMC = str(target.kepid)+\"_st\"+str(steps)+\"_MCMCres_trans\"+str(i+1)+\"_\"+str(period_guess)+\"d.txt\"\n",
    "\n",
    "                np.savetxt(locs_P_trans+fname_P_trans, np.transpose(period_res), fmt = \"%0.15f\")\n",
    "                np.savetxt(locs_MCMC+fname_MCMC, np.column_stack((id_mcmc, mcmc_res)), \n",
    "                                       header = header_mcmc, delimiter=\" \", fmt=\"%s\")"
   ]
  },
  {
   "cell_type": "markdown",
   "metadata": {},
   "source": [
    "# Period Analysis"
   ]
  },
  {
   "cell_type": "code",
   "execution_count": null,
   "metadata": {},
   "outputs": [],
   "source": [
    "path_panalysis = '/Users/mbadenas/Documents/Master UAB/Tesis UAB/TFM2018/results/period_charts/30d/'\n",
    "path_resMCMC = '/Users/mbadenas/Documents/Master UAB/Tesis UAB/TFM2018/results/MCMC_results/30d/'"
   ]
  },
  {
   "cell_type": "code",
   "execution_count": null,
   "metadata": {},
   "outputs": [],
   "source": [
    "#colors: https://matplotlib.org/examples/color/named_colors.html\n",
    "\n",
    "def plot_periods(star):\n",
    "    bin_num = 15\n",
    "    fig = plt.figure(figsize=(16,14))\n",
    "    ax=fig.add_subplot(211)\n",
    "    for i in range(len(star.full_P_trans)):\n",
    "        ax.hist(star.full_P_trans[i]['Period'], density = True, bins=30, histtype='step', label='Transit '+str(i+1));\n",
    "    ax.set_title('KID'+str(star.kepid)+' - Transit Period distribution', fontsize = 20)\n",
    "    plt.axvline(x = star.P, color = 'r', linewidth = 4, label = 'True Period' )\n",
    "    ax.set_xlabel(r'$P$ [d]')\n",
    "    ax.set_ylabel('Frequency')\n",
    "    if (len(star.transit_times) < 10): ax.legend(loc='best', fontsize = 12)\n",
    "\n",
    "    ax2 = fig.add_subplot(212)\n",
    "    ax2.set_title('KID'+str(star.kepid)+' - Full Period Distribution', fontsize = 20)\n",
    "    ax2.hist(star.full_P['Period'], bins=bin_num*3, density = True, color='wheat', alpha = 0.5) \n",
    "    ax2.set_xlabel(r'$P$ [d]')\n",
    "    ax2.set_ylabel('Frequency')\n",
    "    plt.axvline(x = star.P, color = 'r', linewidth = 4, label = 'True Period')\n",
    "    plt.axvline(x = star.full_stats['mode'][0], color = 'b', ls = 'dashed', lw = 3, label = 'Mode')\n",
    "    plt.axvline(x = star.full_stats['mean'][0], color = 'k', ls = 'dashed', lw = 3, label = 'Mean')\n",
    "    plt.axvline(x = star.full_stats['median'][0], color = 'r',  ls = 'dashed', lw = 3, label = 'Median')\n",
    "    plt.axvline(x = star.full_stats['16%'][0], color = 'k', ls = ':', lw = 3, label = '16%')\n",
    "    plt.axvline(x = star.full_stats['50%'][0], color = 'm', ls = ':', lw = 3, label = '50%')\n",
    "    plt.axvline(x = star.full_stats['84%'][0], color = 'g', ls = ':', lw = 3, label = '84%')\n",
    "    ax2.legend(loc = 'best', fontsize = 12)\n",
    "    plt.show()\n",
    "    plt.tight_layout()\n",
    "    fig.savefig(path_panalysis+\"hist\"+str(star.kepid)+\".png\")\n",
    "    plt.close(fig)"
   ]
  },
  {
   "cell_type": "code",
   "execution_count": null,
   "metadata": {},
   "outputs": [],
   "source": [
    "def get_statistics(data):\n",
    "    full_statistics = pd.DataFrame({'mean': data.mean(), 'median': data.median(),'mode': data.mode(),\n",
    "                        'std': data.std(), 'min': data.min(), 'max': data.max(), \n",
    "                   '16%': data.quantile(0.16), '50%': data.quantile(0.5), '84%': data.quantile(0.84)})\n",
    "    return full_statistics\n",
    "\n",
    "def find_nearest(array, value):\n",
    "    array = np.asarray(array)\n",
    "    idx = (np.abs(array - value)).argmin()\n",
    "    return array[idx]\n",
    "\n",
    "def closest_statistic(df, P):\n",
    "    cols = ['mean', 'median', 'mode']\n",
    "    stats = [df['mean'], df['median'], df['mode']]\n",
    "    res = find_nearest(stats, P)\n",
    "    idx_res = np.where(stats == res)[0][0]\n",
    "    return cols[idx_res]\n",
    "\n",
    "def show_best_stats(star):\n",
    "    df = pd.DataFrame({'Statistics': star.best_stats})\n",
    "    freq = df['Statistics'].value_counts().to_dict()\n",
    "    colors = ['lightcoral', 'lightskyblue', 'lightgreen']\n",
    "    \n",
    "    fig = plt.figure(figsize=(12,4))\n",
    "    ax = fig.add_subplot(111)\n",
    "    ax.pie(freq.values(), colors = colors, autopct='%1.2f%%', shadow = False, startangle = 90)\n",
    "    plt.legend(loc ='best', labels = ['%s: %d%%' % (l, s) for l, s in zip(freq.keys(), freq.values())],shadow=True)\n",
    "    ax.axis('equal')  \n",
    "    ax.set_title(\"KID\"+str(star.kepid), fontsize = 15)\n",
    "    left, bottom, width, height = [0.15, 0.5, 0.2, 0.2] # These are in unitless percentages of the figure size. (0,0 is bottom left)\n",
    "    axins = fig.add_axes([left, bottom, width, height])\n",
    "    missed_trans = set(star.ind_missed_transits)\n",
    "    \n",
    "    for i in range(len(target.transit_times)): \n",
    "        if i not in missed_trans:\n",
    "            axins.plot(star.ttrans[star.trans_id==i]-star.transit_times[i],star.ftrans[star.trans_id==i],'.', \n",
    "                       color = 'royalblue', ms = 0.3)\n",
    "    axins.set_xlabel('Time [d]',fontsize = 8)\n",
    "    axins.set_ylabel('Flux', fontsize = 8)\n",
    "    axins.set_title('LC', fontsize = 10)\n",
    "    plt.tight_layout()\n",
    "    plt.show()\n",
    "    fig.savefig(path_panalysis+\"pie\"+str(star.kepid)+\".png\")\n",
    "    plt.close(fig)"
   ]
  },
  {
   "cell_type": "code",
   "execution_count": null,
   "metadata": {},
   "outputs": [],
   "source": [
    "os.chdir(path_newRs)\n",
    "count = 0\n",
    "save_best_stats = []\n",
    "\n",
    "for target in targets:\n",
    "    period_distribution = []\n",
    "    P_trans_stats = []\n",
    "    best_statistics = []\n",
    "    search_files = glob.glob(path_newRs+str(target.kepid)+\"*[!_BAD].txt\")\n",
    "    \n",
    "    if len(search_files) != 0:\n",
    "        for i in range(len(search_files)):\n",
    "            filename = search_files[i]\n",
    "            Ptrans = pd.read_csv(filename, sep = \" \", names=['Period'], index_col = None)\n",
    "            period_distribution.append(Ptrans)\n",
    "            trans_stats = get_statistics(Ptrans['Period']).iloc[0]\n",
    "            P_trans_stats.append(trans_stats)\n",
    "            best_statistics.append(closest_statistic(trans_stats, target.P))\n",
    "        target.full_P_trans = period_distribution\n",
    "        target.full_P = pd.concat(period_distribution)\n",
    "        target.best_stats = best_statistics\n",
    "        save_best_stats.append(best_statistics)\n",
    "        \n",
    "        #Calculate statistical properties \n",
    "        target.full_P_trans_stats = P_trans_stats\n",
    "        target.full_stats = get_statistics(target.full_P['Period'])\n",
    "        plot_periods(target)\n",
    "        show_best_stats(target)\n",
    "        count += 1"
   ]
  },
  {
   "cell_type": "code",
   "execution_count": null,
   "metadata": {},
   "outputs": [],
   "source": [
    "print(count)\n",
    "save_best_stats = list(itertools.chain.from_iterable(save_best_stats))"
   ]
  },
  {
   "cell_type": "code",
   "execution_count": null,
   "metadata": {},
   "outputs": [],
   "source": [
    "import seaborn as sns\n",
    "\n",
    "count_median, count_mean, count_mode = 0, 0, 0\n",
    "\n",
    "\n",
    "for target in targets:\n",
    "    getmc = glob.glob(path_resMCMC+str(target.kepid)+\"*[!_BAD].txt\")\n",
    "    num_trans = 0\n",
    "    \n",
    "    if len(getmc) != 0:\n",
    "        print(\"\\n--------------------------------KID{0:d}--------------------------------\".format(target.kepid))\n",
    "        \n",
    "        xtrans = []\n",
    "        oc, oc_err = [], []\n",
    "        est_p, est_p_up, est_p_down, est_p_err = [], [], [], []\n",
    "        \n",
    "        best_measure = closest_statistic(target.full_stats, target.P)\n",
    "        best_value = target.full_stats[str(best_measure)].values[0]\n",
    "        if (best_measure == 'median'): count_median+=1\n",
    "        elif (best_measure == 'mode'): count_mode+=1\n",
    "        elif (best_measure == 'mean'): count_mean+=1\n",
    "        \n",
    "        for i in range(len(getmc)): \n",
    "            filename = getmc[i]\n",
    "            num_trans += 1\n",
    "            data = {}\n",
    "            for line in open(filename):\n",
    "                if line.startswith(\"#\"):\n",
    "                    continue\n",
    "                field_name, values = line.split(\":\")\n",
    "                data[field_name] = values.split(\" \")\n",
    "            \n",
    "            df = pd.DataFrame(data)\n",
    "            \n",
    "            #Extract Period information and its +-1 sigma error\n",
    "            est_p = float(df['Orbital Period (P, [days])'][1]) #this is the median result for each transit\n",
    "            est_p_up = float(df['Orbital Period (P, [days])'][2]) \n",
    "            est_p_down = float(df['Orbital Period (P, [days])'][3]) \n",
    "            est_p_err = np.sqrt(est_p_up**2 + est_p_down**2)\n",
    "            xtrans.append(i+1)\n",
    "            oc.append(est_p-target.P)\n",
    "            oc_err.append(est_p_err)\n",
    "        \n",
    "        print(\"True Period: {0:0.3f} [d]\".format(target.P))\n",
    "        print(\"- Individual Transits:\")\n",
    "        print(\"\\t* Mean Estimated Period (using the median for each transit): {0:0.3f} [d]\".format(np.mean(est_p)))\n",
    "        print(\"\\t* Error of the Mean Estimated Period: {0:0.3f}\".format(np.mean(est_p_err)))\n",
    "        print(\"\\t* std OCs: {0:0.5f} [d]\".format(np.std(oc)))\n",
    "        print(\"\\t* |Mean| OCs: {0:0.3f} [d]\".format(np.abs(np.mean(oc))))\n",
    "        print(\"- All Transits Considered:\")\n",
    "        print(\"\\t* Best Statistical Measure: {0:s}\".format(best_measure))\n",
    "        print(\"\\t* Best Estimated Period: {0:0.3f} [d]\".format(best_value))\n",
    "        print(\"\\t* Relative difference b/w True and Calc period: {0:0.3f}\".format(target.P-best_value))\n",
    "        \n",
    "        textstr = 'Mean OC = {0:.2f} d\\nstd OC= {1:.5f} d\\nEstimated Period = {2:.2f} d\\nTrue Period = {3:0.2f} d'.format(np.mean(oc),\n",
    "                                                                                                np.std(oc), \n",
    "                                                                                            np.mean(est_p), target.P)\n",
    "        \n",
    "        \n",
    "        fig = plt.figure(figsize=(12,5))\n",
    "        ax = fig.add_subplot(111)\n",
    "        ax.axhline(y = 0, c = 'r', ls= 'dotted', lw=3, label = 'True Period ({0:.2f} d)'.format(target.P))\n",
    "        ax.errorbar(xtrans, oc, yerr = oc_err, fmt='o')\n",
    "        \n",
    "        ax.set_xlabel('Transit number')\n",
    "        ax.set_ylabel('O-C')\n",
    "        ax.set_title('Residuals Distribution')\n",
    "        ax.annotate(textstr, xy=(0.226, 0.73), xycoords='axes fraction',\n",
    "                    horizontalalignment='right', verticalalignment='bottom', backgroundcolor='wheat', fontsize = 12, alpha=.6)\n",
    "        plt.legend()\n",
    "        plt.savefig(path_panalysis+'OC'+str(target.kepid)+\".png\")\n",
    "        plt.show()"
   ]
  },
  {
   "cell_type": "code",
   "execution_count": null,
   "metadata": {},
   "outputs": [],
   "source": [
    "print(\"Nº of medians: {0:d}\\nNº of modes: {1:d}\\nNº of means: {2:d}\".format(count_median, count_mode, count_mean))"
   ]
  },
  {
   "cell_type": "markdown",
   "metadata": {},
   "source": [
    "PLanet radius vs. orbital period (fig 7 scatter plot http://iopscience.iop.org/article/10.3847/0004-637X/822/2/86/pdf)"
   ]
  },
  {
   "cell_type": "code",
   "execution_count": null,
   "metadata": {},
   "outputs": [],
   "source": []
  }
 ],
 "metadata": {
  "kernelspec": {
   "display_name": "Python 3",
   "language": "python",
   "name": "python3"
  },
  "language_info": {
   "codemirror_mode": {
    "name": "ipython",
    "version": 3
   },
   "file_extension": ".py",
   "mimetype": "text/x-python",
   "name": "python",
   "nbconvert_exporter": "python",
   "pygments_lexer": "ipython3",
   "version": "3.6.4"
  },
  "toc": {
   "base_numbering": 1,
   "nav_menu": {},
   "number_sections": true,
   "sideBar": true,
   "skip_h1_title": false,
   "title_cell": "Table of Contents",
   "title_sidebar": "Contents",
   "toc_cell": false,
   "toc_position": {
    "height": "calc(100% - 180px)",
    "left": "10px",
    "top": "150px",
    "width": "165px"
   },
   "toc_section_display": true,
   "toc_window_display": true
  }
 },
 "nbformat": 4,
 "nbformat_minor": 1
}
