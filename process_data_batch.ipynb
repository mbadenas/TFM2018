{
 "cells": [
  {
   "cell_type": "markdown",
   "metadata": {},
   "source": [
    "# `Process Data`"
   ]
  },
  {
   "cell_type": "code",
   "execution_count": 2,
   "metadata": {},
   "outputs": [],
   "source": [
    "%matplotlib inline\n",
    "%config IPython.matplotlib.backend = \"retina\"\n",
    "\n",
    "import numpy as np\n",
    "import pandas as pd\n",
    "import matplotlib.pyplot as plt\n",
    "from matplotlib import rcParams\n",
    "\n",
    "import transit\n",
    "import emcee\n",
    "import corner\n",
    "\n",
    "import astroML \n",
    "from astroML.plotting import setup_text_plots\n",
    "setup_text_plots(fontsize=14, usetex=True)\n",
    "\n",
    "import astropy\n",
    "\n",
    "from scipy import stats\n",
    "import scipy.optimize as op\n",
    "import scipy.signal as sig\n",
    "from scipy.signal import argrelextrema, medfilt\n",
    "from random import uniform, randrange\n",
    "\n",
    "import kplr\n",
    "from kplr.ld import get_quad_coeffs\n",
    "\n",
    "import time\n",
    "from collections import Counter, defaultdict, OrderedDict\n",
    "\n",
    "import glob, os\n",
    "import itertools"
   ]
  },
  {
   "cell_type": "code",
   "execution_count": 3,
   "metadata": {},
   "outputs": [],
   "source": [
    "rcParams['figure.figsize'] = 16, 7\n",
    "rcParams[\"figure.dpi\"] = 150\n",
    "rcParams[\"savefig.dpi\"] = 150"
   ]
  },
  {
   "cell_type": "code",
   "execution_count": 4,
   "metadata": {},
   "outputs": [],
   "source": [
    "pgf_with_latex = {\n",
    "    \"pgf.texsystem\": \"xelatex\",         # use Xelatex which is TTF font aware\n",
    "    \"text.usetex\": True,                # use LaTeX to write all text\n",
    "    \"axes.labelsize\": 10,               # LaTeX default is 10pt font.\n",
    "    \"legend.fontsize\": 8,               # Make the legend/label fonts a little smaller\n",
    "    \"xtick.labelsize\": 8,\n",
    "    \"ytick.labelsize\": 8,\n",
    "    \"text.latex.unicode\": True,\n",
    "    \"pgf.preamble\": [\n",
    "        r'\\usepackage{fontspec}',\n",
    "        r'\\setmainfont{Ubuntu}',\n",
    "        r'\\setmonofont{Ubuntu Mono}',\n",
    "        r'\\usepackage{unicode-math}'\n",
    "        r'\\setmathfont{Ubuntu}'\n",
    "        r'\\usepackage{amsmath}' #for \\text command\n",
    "    ]\n",
    "}\n",
    "\n",
    "rcParams.update(pgf_with_latex)"
   ]
  },
  {
   "cell_type": "markdown",
   "metadata": {},
   "source": [
    "# Introduction"
   ]
  },
  {
   "cell_type": "markdown",
   "metadata": {},
   "source": [
    "## Load the data"
   ]
  },
  {
   "cell_type": "code",
   "execution_count": 5,
   "metadata": {},
   "outputs": [],
   "source": [
    "path_file = '/Users/mbadenas/Documents/Master UAB/Tesis UAB/TFM2018/clean_bat_files/LC_p13point5up/'\n",
    "path_mergedLC = '/Users/mbadenas/Documents/Master UAB/Tesis UAB/TFM2018/merge_light_curves/LC_p13point5up_merged/'\n",
    "\n",
    "properties_sample = pd.read_csv(path_file+'all_targets_P13point5up.csv', sep=',', comment='#')\n",
    "targets = pd.read_csv(path_file + 'kepler_id.txt',delimiter=',', dtype=int, header=None, names=['kepid'])"
   ]
  },
  {
   "cell_type": "code",
   "execution_count": 6,
   "metadata": {},
   "outputs": [
    {
     "name": "stdout",
     "output_type": "stream",
     "text": [
      "Check files:\n",
      "*Lengths don't match: 55 984\n",
      "\tSome systems have both sc and lc data! Remove duplicates.\n",
      "*Lengths match: 55 55\n",
      "\tDuplicates have been removed.\n",
      " A total of 55 systems have *short-cadence* LC with SN > 7.1 for their first transit and only 1 planet\n"
     ]
    },
    {
     "data": {
      "text/plain": [
       "(55, 141)"
      ]
     },
     "execution_count": 6,
     "metadata": {},
     "output_type": "execute_result"
    }
   ],
   "source": [
    "df = pd.merge(targets, properties_sample, on=['kepid'], how='inner') \n",
    "sc_data = df.drop_duplicates('kepid') #remove duplicates (some systems have both sc and lc LC)\n",
    "\n",
    "print(\"Check files:\")\n",
    "\n",
    "if (len(targets) != len(properties_sample)):\n",
    "    print(\"*Lengths don't match:\", len(targets), len(properties_sample))\n",
    "    print(\"\\tSome systems have both sc and lc data! Remove duplicates.\")\n",
    "\n",
    "if (len(sc_data) == len(targets)):\n",
    "    print(\"*Lengths match:\", len(sc_data), len(targets))\n",
    "    print('\\tDuplicates have been removed.\\n A total of {} systems have *short-cadence* LC with SN > 7.1 for their first transit and only 1 planet'.format(len(sc_data)))\n",
    "    \n",
    "sc_data.shape"
   ]
  },
  {
   "cell_type": "markdown",
   "metadata": {},
   "source": [
    "## Define the Systems"
   ]
  },
  {
   "cell_type": "code",
   "execution_count": 7,
   "metadata": {},
   "outputs": [],
   "source": [
    "class System:    \n",
    "    def __init__(self, kepid, rs, rs_err, smass, smass_err, teff, logg, feh, srho,\n",
    "                time_BKJD, flux, flux_err, \n",
    "                t0, P, depth, b, duration, u1, u2, diffld, num_planets, incl, eccen, dor, sma,\n",
    "                 transit_times,ind_missed_transits,\n",
    "                rp, rp_solarRad, rp_err, teq, mp, \n",
    "                 trans_id, ftrans, ftrans_err, ttrans,dt_trans,\n",
    "                res_transfit, P_distribution, MCMC_transits):\n",
    "        \n",
    "        \"\"\"****** Kepler Reported Stellar Parameters ******\"\"\"\n",
    "        self.kepid = kepid\n",
    "        self.rs = rs # [Solar radii]. \n",
    "        self.rs_err = rs_err\n",
    "        self.smass = smass # [Solar mass]\n",
    "        self.smass_err = smass_err\n",
    "        \n",
    "        self.teff = teff;     \n",
    "        self.logg = logg; # Stellar Surface Gravity [log10(cm/s**2)]  \n",
    "        self.feh = feh;   \n",
    "        self.srho = srho; #g/cm3\n",
    "        \n",
    "        \"\"\"****** LC parameters ******\"\"\"\n",
    "        self.time_BKJD = time_BKJD\n",
    "        self.flux = flux\n",
    "        self.flux_err = flux_err\n",
    "        \n",
    "        \"\"\"****** Transit Parameters ******\"\"\"\n",
    "        self.t0 = t0\n",
    "        self.P = P;            \n",
    "        self.depth = depth;  \n",
    "        self.b = b; \n",
    "        self.duration = duration; \n",
    "        self.u1 = u1; \n",
    "        self.u2 = u2\n",
    "        self.diffld = 0.0\n",
    "        self.num_planets = num_planets\n",
    "        self.incl = incl #[º]\n",
    "        self.eccen = 0.0\n",
    "        self.dor = dor #Planet-Star Distance over Star Radius\n",
    "        self.sma = sma #Orbital semi-major axis [AU]\n",
    "        \n",
    "        self.transit_times = transit_times\n",
    "        self.ind_missed_transits = ind_missed_transits\n",
    "                   \n",
    "        \"\"\"****** Planetary Parameters ******\"\"\"\n",
    "        self.rp = rp # [Earth radii]. This is \"prad\"  in the original file\n",
    "        self.rp_solarRad = rp*0.009168 # in solar radii\n",
    "        self.rp_err = rp_err\n",
    "        self.teq = teq\n",
    "        self.mp = 2.69*(rp)**(0.93) #Weiss & Marcy rel'n. It requires Rp in Earth radii\n",
    "        \n",
    "        \"\"\"****** Internal Variables ******\"\"\"\n",
    "        self.trans_id = np.empty(0)\n",
    "        self.ftrans = np.empty(0)\n",
    "        self.ftrans_err = np.empty(0)\n",
    "        self.ttrans = np.empty(0)\n",
    "        self.dt_trans = np.empty(0)\n",
    "        self.res_transfit = np.empty(0)\n",
    "        self.P_distribution = np.empty(0)\n",
    "        self.MCMC_transits = np.empty(0)"
   ]
  },
  {
   "cell_type": "markdown",
   "metadata": {},
   "source": [
    "## Characterize the Systems"
   ]
  },
  {
   "cell_type": "markdown",
   "metadata": {},
   "source": [
    "Some initialization functions: `quadraticLD`calculates the quadratic LD coefficients of a star based on the model from Claret & Bloemen (2011). As for `fetchLC`, it simply loads the systems' light curves."
   ]
  },
  {
   "cell_type": "code",
   "execution_count": 8,
   "metadata": {},
   "outputs": [],
   "source": [
    "bjd_ref = 2454833\n",
    "\n",
    "def quadraticLD(T, G, FEH): \n",
    "    \"\"\"Confirm the quadratic LD coefficients with a model from Claret & Bloemen (2011).\n",
    "    Use the Claret coefficients instead.\"\"\"\n",
    "    mu1, mu2 = get_quad_coeffs(T, G, FEH)\n",
    "    return (mu1, mu2)\n",
    "\n",
    "def fetchLC(name):\n",
    "    id_kep = \"%.0f\" % name\n",
    "    lc = path_mergedLC+('KID'+id_kep+'.txt')\n",
    "    df = pd.read_csv(lc, sep=\"\\t\", skiprows=1, header=None, names=[\"Time BKJD\", \"Flux\", \"Flux_Err\"])\n",
    "    y = df['Flux']\n",
    "    yerr = df['Flux_Err']\n",
    "    x = df['Time BKJD']\n",
    "    #print(np.median(y),np.mean(y),np.std(y))\n",
    "    return (y, yerr, x)"
   ]
  },
  {
   "cell_type": "markdown",
   "metadata": {},
   "source": [
    "Create the planet+star system. In this research, we will only evaluate systems with only 1 planet. "
   ]
  },
  {
   "cell_type": "code",
   "execution_count": 9,
   "metadata": {},
   "outputs": [],
   "source": [
    "targets = []\n",
    "\n",
    "for row in sc_data.itertuples(index = True, name='Pandas'):\n",
    "    kepid = getattr(row, \"kepid\")\n",
    "    fluxLC, fluxLC_err, timeLC_BKJD = fetchLC(kepid)\n",
    "\n",
    "    ## Store the stellar parameters\n",
    "    rs = getattr(row, \"koi_srad\") #solar radii\n",
    "    smass = getattr(row, \"koi_smass\")\n",
    "    \n",
    "    #Assuming that we have a 5% error on radius and mass (this is sensible thanks to Gaia)\n",
    "    rs_err = rs*0.05\n",
    "    smass_err = smass*0.05\n",
    "    \n",
    "    teff = getattr(row, \"koi_steff\")\n",
    "    logg = getattr(row, \"koi_slogg\") # Stellar Surface Gravity [log10(cm/s**2)]  \n",
    "    feh = getattr(row, \"koi_smet\")\n",
    "    srho = getattr(row, \"koi_srho\") #g/cm3\n",
    "    \n",
    "    #### Store LC Parameters\n",
    "    t0 = getattr(row, \"koi_time0bk\")\n",
    "    P = getattr(row, \"koi_period\") # Orbital Period [days]\n",
    "    depth = getattr(row, \"koi_depth\")/1e6\n",
    "    b = getattr(row, \"koi_impact\")\n",
    "    \n",
    "    u1, u2 = quadraticLD(teff,logg,feh)\n",
    "\n",
    "    num_planets = getattr(row, \"koi_count\")\n",
    "    incl =  getattr(row, \"koi_incl\") #in degrees\n",
    "    dor = getattr(row, \"koi_dor\")  #Planet-Star Distance over Star Radius\n",
    "    \n",
    "    duration = getattr(row, \"koi_duration\")/24. #in days. \"Duration is measured from first contact between the planet and star until last contact.\"\n",
    "    \n",
    "    #Planetary parameters\n",
    "    sma = getattr(row, \"koi_sma\")  #Orbit Semi-Major Axis [AU]\n",
    "    sma_solarRad = sma*215\n",
    "    teq = getattr(row, \"koi_teq\") \n",
    "    rp = getattr(row, \"koi_prad\") # in Earth radii\n",
    "    rp_errPos = getattr(row, \"koi_prad_err1\"); rp_errNeg = getattr(row, \"koi_prad_err2\")\n",
    "    rp_err = np.sqrt(rp_errPos**2+rp_errNeg**2)\n",
    "        \n",
    "    if (num_planets == 1):\n",
    "        system = System(kepid, rs, rs_err, smass, smass_err, teff, logg, feh, srho,\n",
    "                    timeLC_BKJD, fluxLC, fluxLC_err, \n",
    "                    t0, P, depth, b, duration, u1, u2, u1-u2, num_planets, incl, 0.0, dor, sma,\n",
    "                        None, None,\n",
    "                    rp, None, rp_err, teq, None, \n",
    "                        None, None, None, None, None,\n",
    "                       None, None, None)\n",
    "\n",
    "        targets.append(system)\n",
    "                \n",
    "    else:\n",
    "        print('Star {:s} not stored (koi_count > 1)'.format(str(kepid)))"
   ]
  },
  {
   "cell_type": "markdown",
   "metadata": {},
   "source": [
    "# Global Parameters"
   ]
  },
  {
   "cell_type": "markdown",
   "metadata": {},
   "source": [
    "MCMC Global Initialization Parameters"
   ]
  },
  {
   "cell_type": "code",
   "execution_count": 12,
   "metadata": {
    "scrolled": true
   },
   "outputs": [],
   "source": [
    "sc = 58.0  #sc = 58 sec\n",
    "tKep = sc/60/60/24  # sc in days\n",
    "G = 6.6730e-11\n",
    "steps, nwalkers = 3000, 100\n",
    "steps_rho, nwalkers_rho = 2000, 100\n",
    "snr_limit = 3"
   ]
  },
  {
   "cell_type": "code",
   "execution_count": 15,
   "metadata": {},
   "outputs": [
    {
     "name": "stdout",
     "output_type": "stream",
     "text": [
      "Amplification of transit duration by: 2\n"
     ]
    }
   ],
   "source": [
    "poly_order = 3\n",
    "amplify = 2\n",
    "print(\"Amplification of transit duration by:\", amplify)"
   ]
  },
  {
   "cell_type": "code",
   "execution_count": 16,
   "metadata": {},
   "outputs": [],
   "source": [
    "period_guess = 100 #randrange(14,500) #uniform(13.5, 500) print(\"Period guess [d]:\", period_guess)"
   ]
  },
  {
   "cell_type": "code",
   "execution_count": 17,
   "metadata": {},
   "outputs": [],
   "source": [
    "id_mcmc = [\"Depth:\", \"Impact parameter (b):\", \"sigma:\", \"Stellar Mass (Ms, [Solar mass]):\",\n",
    "           \"Stellar Radius (Rs, [Solar Radii]):\", \"Out-of-transit flux (f0):\", \"Orbital Period (P, [days]):\", \n",
    "           \"Time of transit (tc, [days]):\", \"Planetary Radius (Rp, [Rearth]):\", \"Rs_a:\"]\n",
    "\n",
    "header_mcmc = \"This file shows the 50% percentile and the +- 1 sigma error interval of the parameters.\\n\"\n",
    "\n",
    "header_rs = \"This file shows the 50% percentile for the Stellar Radius (in solar radii), \\\n",
    "its +- 1 sigma error interval, and the MCMC acceptance fraction (in %). Note that these results \\\n",
    "are for the star's *observed* transits with a minimum SNR of {0:d}. \\n\".format(snr_limit)"
   ]
  },
  {
   "cell_type": "markdown",
   "metadata": {},
   "source": [
    "# Transit Detection"
   ]
  },
  {
   "cell_type": "code",
   "execution_count": 18,
   "metadata": {},
   "outputs": [],
   "source": [
    "def find_transits(star):\n",
    "    ti = min(star.time_BKJD)\n",
    "    tf = max(star.time_BKJD)\n",
    "    \n",
    "    n_min = int((ti-star.t0)/star.P)\n",
    "    n_max = int((tf-star.t0)/star.P+1.)\n",
    "    n = np.arange(n_min, n_max)\n",
    "    \n",
    "    t = star.t0+n*star.P\n",
    "    t = t[t>ti] \n",
    "    t = t[t<tf]\n",
    "    return(t)"
   ]
  },
  {
   "cell_type": "code",
   "execution_count": 19,
   "metadata": {},
   "outputs": [],
   "source": [
    "def show_folded_lightcurve(star, plot=False):\n",
    "    if plot==True:\n",
    "        plt.figure(figsize=(15,6))\n",
    "        plt.plot(star.dt_trans,star.ftrans,'.', ms = 2)     \n",
    "        plt.title('Folded LC for KID'+str(star.kepid))\n",
    "        plt.xlabel('Time from midtransit [d]'); plt.ylabel('Normalized Flux')\n",
    "        plt.show(block=False)    \n",
    "        time.sleep(0.2)\n",
    "        plt.close()\n",
    "\n",
    "def mark_transits(star, obs_trans, plot=False):\n",
    "    if plot==True:\n",
    "        plt.figure(figsize=(15,6))\n",
    "        plt.plot(star.time_BKJD,star.flux,'.')        \n",
    "        for j in range(len(star.transit_times)): \n",
    "            plt.axvline(star.transit_times[j], color='k', ls='-')\n",
    "        for k in range(len(obs_trans)): \n",
    "            plt.axvline(obs_trans[k], color='r', ls='--')\n",
    "        plt.title('KID'+str(star.kepid))\n",
    "        plt.xlabel('Time BKJD [d]'); plt.ylabel('Normalized Flux')\n",
    "        plt.show(block=False)    \n",
    "        time.sleep(0.2)\n",
    "        plt.close()\n",
    "        \n",
    "def show_transits(star, bad_trans, plot=False):        \n",
    "    s1 = set(bad_trans)\n",
    "    if plot==True:   \n",
    "        for i in range(len(star.transit_times)):\n",
    "            if (i not in bad_trans):\n",
    "                plt.figure(figsize=(15,6))\n",
    "                plt.title('Transit '+str(i+1))\n",
    "                plt.plot(star.ttrans[star.trans_id==i]-star.transit_times[i],star.ftrans[star.trans_id==i], 'k.', ms = 2)     \n",
    "                plt.xlabel('Time from midtransit [d]'); plt.ylabel('Normalized Flux')\n",
    "                plt.show(block=False)    \n",
    "                time.sleep(0.2)\n",
    "                plt.close()"
   ]
  },
  {
   "cell_type": "code",
   "execution_count": 20,
   "metadata": {},
   "outputs": [],
   "source": [
    "def get_data_in_transit(star, factor):\n",
    "    window = factor*star.duration # In days\n",
    "    total_points = 0\n",
    "    \n",
    "    for i in range(0,len(star.transit_times)):\n",
    "        residual = star.time_BKJD - star.transit_times[i]\n",
    "        points_in_transit = np.abs(residual) <= window\n",
    "        total_points += np.sum(points_in_transit)\n",
    "\n",
    "    time_in_transit = np.empty(total_points)\n",
    "    flux_in_transit = np.empty(total_points)\n",
    "    flux_err_in_transit = np.empty(total_points)\n",
    "    flag_transit = np.empty(total_points)\n",
    "    mid_trans = np.empty(total_points)\n",
    "\n",
    "    total_points = 0\n",
    "\n",
    "    for i in range(0, len(star.transit_times)):\n",
    "        points_in_transit = np.abs(star.time_BKJD - star.transit_times[i]) <= window\n",
    "        count_points = np.sum(points_in_transit)\n",
    "        time_in_transit[(0 + total_points):(count_points + total_points)] = star.time_BKJD[points_in_transit]\n",
    "        flux_in_transit[(0 + total_points):(count_points + total_points)] = star.flux[points_in_transit] #, star.flux_err[points_in_transit])[0]\n",
    "        flux_err_in_transit[(0 + total_points):(count_points + total_points)] = star.flux_err[points_in_transit] #normalize(star.flux[points_in_transit], \n",
    "        flag_transit[(0 + total_points):(count_points + total_points)] = i\n",
    "        mid_trans[(0 + total_points):(count_points + total_points)] = star.transit_times[i] \n",
    "        total_points += count_points\n",
    "        \n",
    "    star.trans_id = flag_transit #The counter starts at 0 (in other words, trans_id == 0 is already the first transit)\n",
    "    star.ttrans = time_in_transit\n",
    "    star.ftrans = flux_in_transit\n",
    "    star.ftrans_err = flux_err_in_transit\n",
    "    star.dt_trans = time_in_transit - mid_trans #if interested in the folded LC, plot target.dt_trans vs target.ftrans"
   ]
  },
  {
   "cell_type": "code",
   "execution_count": 21,
   "metadata": {},
   "outputs": [],
   "source": [
    "def oot_fit(star, poly):\n",
    "    transit_range = star.duration/2     \n",
    "    \n",
    "    if star.kepid == 8156120:\n",
    "        poly = 5\n",
    "    \n",
    "    if star.kepid == 5812701:\n",
    "        poly = 7\n",
    "        \n",
    "    if star.kepid == 12365184:\n",
    "        transit_range += 0.08\n",
    "    \n",
    "    for i in range(len(star.transit_times)):\n",
    "        dt = star.ttrans[star.trans_id == i] - star.transit_times[i]\n",
    "        y = star.ftrans[star.trans_id==i]\n",
    "        yerr = star.ftrans_err[star.trans_id==i]\n",
    "        \n",
    "        outside_trans = np.abs(dt) >= transit_range\n",
    "        inside_trans = np.abs(dt) < transit_range\n",
    "        num_oot_points = len(dt[outside_trans])\n",
    "        \n",
    "        if  (num_oot_points!= 0):\n",
    "            coeffs = np.polyfit(dt[outside_trans], y[outside_trans], poly)\n",
    "            baseline_fitted = np.polyval(coeffs, dt)\n",
    "            \n",
    "            newY = y/baseline_fitted\n",
    "            newYerr = yerr/baseline_fitted \n",
    "                    \n",
    "            fig = plt.figure()\n",
    "            plt.plot(dt, y, 'mo', label = 'lc')\n",
    "            plt.plot(dt[outside_trans], y[outside_trans], '.', label ='oot')\n",
    "            plt.plot(dt, baseline_fitted, '.', label ='baseline')\n",
    "            plt.plot(dt, newY, 'y-', label ='y/baseline')\n",
    "            plt.legend()\n",
    "            filepath_oot = '/Users/mbadenas/Documents/Master UAB/Tesis UAB/TFM2018/oot_fit/'\n",
    "            store_oot = \"oot\"+str(star.kepid)+\"_trans\"+str(i+1)+\"_poly\"+str(poly)+\".png\"\n",
    "            fig.savefig(filepath_oot+store_oot)\n",
    "            #plt.show(block=False)    \n",
    "            #time.sleep(0.1)\n",
    "            plt.close(fig)\n",
    "            \n",
    "            star.ftrans[star.trans_id==i] = newY\n",
    "            star.ftrans_err[star.trans_id==i] = newYerr"
   ]
  },
  {
   "cell_type": "code",
   "execution_count": 22,
   "metadata": {},
   "outputs": [],
   "source": [
    "def find_missed_transits(star):\n",
    "    gaps = []\n",
    "    for i in range(len(star.transit_times)):\n",
    "        if len(star.ttrans[star.trans_id==i])==0: \n",
    "            gaps.append(i)\n",
    "    missing_transits = sorted(gaps, reverse=True)\n",
    "    return(missing_transits)"
   ]
  },
  {
   "cell_type": "code",
   "execution_count": 23,
   "metadata": {},
   "outputs": [],
   "source": [
    "def export_folded_lc(system):\n",
    "    lc = pd.DataFrame(OrderedDict({'Time': system.time_BKJD, 'Flux': system.flux, 'Flux_Err': system.flux_err}))\n",
    "     \n",
    "    np.savetxt(\"/Users/mbadenas/Documents/Master UAB/Tesis UAB/TFM2018/folded_LC/\"+str(system.kepid)+\".txt\", \n",
    "               lc.values, fmt='%f', delimiter=\"\\t\") "
   ]
  },
  {
   "cell_type": "markdown",
   "metadata": {},
   "source": [
    "The code below performs two functions: \n",
    "    1. It identifies the light curves that don't have a visible transit. (With the data being used as of June 30, this amounts to 4 systems).\n",
    "    2. For the remaining light curves, it calculates all the expected transits and then looks at which transits are actually visible (sometimes, there are gaps in the data and transits are lost). "
   ]
  },
  {
   "cell_type": "code",
   "execution_count": 24,
   "metadata": {},
   "outputs": [],
   "source": [
    "stars_wo_transits = []"
   ]
  },
  {
   "cell_type": "code",
   "execution_count": 25,
   "metadata": {
    "scrolled": true
   },
   "outputs": [
    {
     "name": "stdout",
     "output_type": "stream",
     "text": [
      "\n",
      "******************************** KID11133306 ********************************\n",
      "\n",
      "Transit duration: 0.19219 [d]\n",
      "Period: 41.74598855 [d]\n",
      "Estimated transits at (26): [ 544.3670594   586.11304795  627.8590365   669.60502505  711.3510136\n",
      "  753.09700215  794.8429907   836.58897925  878.3349678   920.08095635\n",
      "  961.8269449  1003.57293345 1045.318922   1087.06491055 1128.8108991\n",
      " 1170.55688765 1212.3028762  1254.04886475 1295.7948533  1337.54084185\n",
      " 1379.2868304  1421.03281895 1462.7788075  1504.52479605 1546.2707846\n",
      " 1588.01677315]\n",
      "Observed transits at (25): [ 544.3670594   586.11304795  627.8590365   669.60502505  711.3510136\n",
      "  753.09700215  794.8429907   836.58897925  878.3349678   920.08095635\n",
      "  961.8269449  1003.57293345 1045.318922   1087.06491055 1128.8108991\n",
      " 1170.55688765 1212.3028762  1254.04886475 1337.54084185 1379.2868304\n",
      " 1421.03281895 1462.7788075  1504.52479605 1546.2707846  1588.01677315]\n",
      "Index of missed transits: [18]\n",
      "\n",
      "******************************** KID3733628 ********************************\n",
      "\n",
      "Transit duration: 0.14913 [d]\n",
      "Period: 13.89963233 [d]\n",
      "Estimated transits at (2): [766.64901186 780.54864419]\n",
      "Observed transits at (2): [766.64901186 780.54864419]\n",
      "Index of missed transits: []\n",
      "\n",
      "******************************** KID4155328 ********************************\n",
      "\n",
      "Transit duration: 0.45475 [d]\n",
      "Period: 127.8334997 [d]\n",
      "Estimated transits at (1): [932.5859485]\n",
      "Observed transits at (1): [932.5859485]\n",
      "Index of missed transits: []\n",
      "\n",
      "******************************** KID5383248 ********************************\n",
      "\n",
      "Transit duration: 0.16541 [d]\n",
      "Period: 16.23847733 [d]\n",
      "Estimated transits at (86): [ 203.49651866  219.73499599  235.97347332  252.21195065  268.45042798\n",
      "  284.68890531  300.92738264  317.16585997  333.4043373   349.64281463\n",
      "  365.88129196  382.11976929  398.35824662  414.59672395  430.83520128\n",
      "  447.07367861  463.31215594  479.55063327  495.7891106   512.02758793\n",
      "  528.26606526  544.50454259  560.74301992  576.98149725  593.21997458\n",
      "  609.45845191  625.69692924  641.93540657  658.1738839   674.41236123\n",
      "  690.65083856  706.88931589  723.12779322  739.36627055  755.60474788\n",
      "  771.84322521  788.08170254  804.32017987  820.5586572   836.79713453\n",
      "  853.03561186  869.27408919  885.51256652  901.75104385  917.98952118\n",
      "  934.22799851  950.46647584  966.70495317  982.9434305   999.18190783\n",
      " 1015.42038516 1031.65886249 1047.89733982 1064.13581715 1080.37429448\n",
      " 1096.61277181 1112.85124914 1129.08972647 1145.3282038  1161.56668113\n",
      " 1177.80515846 1194.04363579 1210.28211312 1226.52059045 1242.75906778\n",
      " 1258.99754511 1275.23602244 1291.47449977 1307.7129771  1323.95145443\n",
      " 1340.18993176 1356.42840909 1372.66688642 1388.90536375 1405.14384108\n",
      " 1421.38231841 1437.62079574 1453.85927307 1470.0977504  1486.33622773\n",
      " 1502.57470506 1518.81318239 1535.05165972 1551.29013705 1567.52861438\n",
      " 1583.76709171]\n",
      "Observed transits at (46): [ 203.49651866  219.73499599  333.4043373   349.64281463  512.02758793\n",
      "  528.26606526  544.50454259  560.74301992  576.98149725  593.21997458\n",
      "  609.45845191  625.69692924  641.93540657  658.1738839   674.41236123\n",
      "  706.88931589  739.36627055  755.60474788  771.84322521  788.08170254\n",
      "  820.5586572   836.79713453  853.03561186  869.27408919  885.51256652\n",
      "  901.75104385  917.98952118  934.22799851  950.46647584  966.70495317\n",
      "  982.9434305   999.18190783 1275.23602244 1340.18993176 1356.42840909\n",
      " 1388.90536375 1405.14384108 1421.38231841 1437.62079574 1453.85927307\n",
      " 1470.0977504  1502.57470506 1518.81318239 1535.05165972 1551.29013705\n",
      " 1567.52861438]\n",
      "Index of missed transits: [85, 79, 72, 69, 68, 67, 65, 64, 63, 62, 61, 60, 59, 58, 57, 56, 55, 54, 53, 52, 51, 50, 37, 32, 30, 18, 17, 16, 15, 14, 13, 12, 11, 10, 7, 6, 5, 4, 3, 2]\n",
      "\n",
      "******************************** KID8156120 ********************************\n",
      "\n",
      "Transit duration: 0.51629 [d]\n",
      "Period: 38.5833679 [d]\n",
      "Estimated transits at (27): [ 560.682359   599.2657269  637.8490948  676.4324627  715.0158306\n",
      "  753.5991985  792.1825664  830.7659343  869.3493022  907.9326701\n",
      "  946.516038   985.0994059 1023.6827738 1062.2661417 1100.8495096\n",
      " 1139.4328775 1178.0162454 1216.5996133 1255.1829812 1293.7663491\n",
      " 1332.349717  1370.9330849 1409.5164528 1448.0998207 1486.6831886\n",
      " 1525.2665565 1563.8499244]\n",
      "Observed transits at (25): [ 560.682359   599.2657269  637.8490948  676.4324627  715.0158306\n",
      "  753.5991985  792.1825664  830.7659343  869.3493022  907.9326701\n",
      "  946.516038   985.0994059 1023.6827738 1062.2661417 1100.8495096\n",
      " 1139.4328775 1178.0162454 1216.5996133 1255.1829812 1332.349717\n",
      " 1370.9330849 1409.5164528 1448.0998207 1525.2665565 1563.8499244]\n",
      "Index of missed transits: [24, 19]\n",
      "\n",
      "******************************** KID5966322 ********************************\n",
      "\n",
      "Transit duration: 0.2639 [d]\n",
      "Period: 60.92818866 [d]\n",
      "Estimated transits at (4): [599.86944062 660.79762928 721.72581794 782.6540066 ]\n",
      "Observed transits at (3): [599.86944062 660.79762928 782.6540066 ]\n",
      "Index of missed transits: [2]\n",
      "\n",
      "******************************** KID5121511 ********************************\n",
      "\n",
      "Transit duration: 0.12159 [d]\n",
      "Period: 30.99664113 [d]\n",
      "Estimated transits at (1): [749.72456034]\n",
      "Observed transits at (1): [749.72456034]\n",
      "Index of missed transits: []\n",
      "\n",
      "******************************** KID9710326 ********************************\n",
      "\n",
      "Transit duration: 0.15236 [d]\n",
      "Period: 28.59914031 [d]\n",
      "Estimated transits at (19): [1019.30173899 1047.9008793  1076.50001961 1105.09915992 1133.69830023\n",
      " 1162.29744054 1190.89658085 1219.49572116 1248.09486147 1276.69400178\n",
      " 1305.29314209 1333.8922824  1362.49142271 1391.09056302 1419.68970333\n",
      " 1448.28884364 1476.88798395 1505.48712426 1534.08626457]\n",
      "Observed transits at (18): [1019.30173899 1047.9008793  1076.50001961 1105.09915992 1133.69830023\n",
      " 1190.89658085 1219.49572116 1248.09486147 1276.69400178 1305.29314209\n",
      " 1333.8922824  1362.49142271 1391.09056302 1419.68970333 1448.28884364\n",
      " 1476.88798395 1505.48712426 1534.08626457]\n",
      "Index of missed transits: [5]\n",
      "\n",
      "******************************** KID6504954 ********************************\n",
      "\n",
      "Transit duration: 0.26975 [d]\n",
      "Period: 130.3543929 [d]\n",
      "Estimated transits at (2): [1317.2497561 1447.604149 ]\n",
      "Observed transits at (2): [1317.2497561 1447.604149 ]\n",
      "Index of missed transits: []\n",
      "\n",
      "******************************** KID5164255 ********************************\n",
      "\n",
      "Transit duration: 0.1382 [d]\n",
      "Period: 15.37562369 [d]\n",
      "Estimated transits at (19): [1280.65892568 1296.03454937 1311.41017306 1326.78579675 1342.16142044\n",
      " 1357.53704413 1372.91266782 1388.28829151 1403.6639152  1419.03953889\n",
      " 1434.41516258 1449.79078627 1465.16640996 1480.54203365 1495.91765734\n",
      " 1511.29328103 1526.66890472 1542.04452841 1557.4201521 ]\n",
      "Observed transits at (16): [1280.65892568 1311.41017306 1326.78579675 1342.16142044 1357.53704413\n",
      " 1388.28829151 1403.6639152  1419.03953889 1434.41516258 1449.79078627\n",
      " 1465.16640996 1495.91765734 1511.29328103 1526.66890472 1542.04452841\n",
      " 1557.4201521 ]\n",
      "Index of missed transits: [13, 6, 1]\n",
      "\n",
      "******************************** KID11015108 ********************************\n",
      "\n",
      "Transit duration: 0.24042 [d]\n",
      "Period: 39.30944096 [d]\n",
      "Estimated transits at (3): [564.4292706  603.73871156 643.04815252]\n",
      "Observed transits at (3): [564.4292706  603.73871156 643.04815252]\n",
      "Index of missed transits: []\n",
      "\n",
      "******************************** KID3531558 ********************************\n",
      "\n",
      "Transit duration: 0.24754 [d]\n",
      "Period: 24.99324319 [d]\n",
      "Estimated transits at (22): [263.64788595 288.64112914 313.63437233 338.62761552 363.62085871\n",
      " 388.6141019  413.60734509 438.60058828 463.59383147 488.58707466\n",
      " 513.58031785 538.57356104 563.56680423 588.56004742 613.55329061\n",
      " 638.5465338  663.53977699 688.53302018 713.52626337 738.51950656\n",
      " 763.51274975 788.50599294]\n",
      "Observed transits at (19): [263.64788595 288.64112914 313.63437233 338.62761552 363.62085871\n",
      " 388.6141019  413.60734509 438.60058828 513.58031785 563.56680423\n",
      " 588.56004742 613.55329061 638.5465338  663.53977699 688.53302018\n",
      " 713.52626337 738.51950656 763.51274975 788.50599294]\n",
      "Index of missed transits: [11, 9, 8]\n",
      "\n",
      "******************************** KID8822366 ********************************\n",
      "\n",
      "Transit duration: 0.36933 [d]\n",
      "Period: 30.8639476 [d]\n",
      "Estimated transits at (15): [ 811.0236696  841.8876172  872.7515648  903.6155124  934.47946\n",
      "  965.3434076  996.2073552 1027.0713028 1057.9352504 1088.799198\n",
      " 1119.6631456 1150.5270932 1181.3910408 1212.2549884 1243.118936 ]\n",
      "Observed transits at (15): [ 811.0236696  841.8876172  872.7515648  903.6155124  934.47946\n",
      "  965.3434076  996.2073552 1027.0713028 1057.9352504 1088.799198\n",
      " 1119.6631456 1150.5270932 1181.3910408 1212.2549884 1243.118936 ]\n",
      "Index of missed transits: []\n",
      "\n",
      "******************************** KID8805348 ********************************\n",
      "\n"
     ]
    },
    {
     "name": "stdout",
     "output_type": "stream",
     "text": [
      "Transit duration: 0.20198 [d]\n",
      "Period: 29.90721859 [d]\n",
      "Estimated transits at (1): [773.4377418]\n",
      "Observed transits at (1): [773.4377418]\n",
      "Index of missed transits: []\n",
      "\n",
      "******************************** KID11027624 ********************************\n",
      "\n",
      "Transit duration: 1.0045 [d]\n",
      "Period: 394.6249514 [d]\n",
      "Estimated transits at (0): []\n",
      "Observed transits at (0): []\n",
      "Index of missed transits: []\n",
      "\n",
      "******************************** KID5009743 ********************************\n",
      "\n",
      "Transit duration: 0.2377 [d]\n",
      "Period: 41.6980186 [d]\n",
      "Estimated transits at (1): [878.4417962]\n",
      "Observed transits at (1): [878.4417962]\n",
      "Index of missed transits: []\n",
      "\n",
      "******************************** KID2853093 ********************************\n",
      "\n",
      "Transit duration: 0.15306 [d]\n",
      "Period: 161.5278347 [d]\n",
      "Estimated transits at (1): [1005.6405435]\n",
      "Observed transits at (1): [1005.6405435]\n",
      "Index of missed transits: []\n",
      "\n",
      "******************************** KID6442377 ********************************\n",
      "\n",
      "Transit duration: 0.27813 [d]\n",
      "Period: 30.22910274 [d]\n",
      "Estimated transits at (13): [285.6663237  315.89542644 346.12452918 376.35363192 406.58273466\n",
      " 436.8118374  467.04094014 497.27004288 527.49914562 557.72824836\n",
      " 587.9573511  618.18645384 648.41555658]\n",
      "Observed transits at (11): [285.6663237  315.89542644 346.12452918 376.35363192 406.58273466\n",
      " 436.8118374  527.49914562 557.72824836 587.9573511  618.18645384\n",
      " 648.41555658]\n",
      "Index of missed transits: [7, 6]\n",
      "\n",
      "******************************** KID4143755 ********************************\n",
      "\n",
      "Transit duration: 0.33696 [d]\n",
      "Period: 19.55662003 [d]\n",
      "Estimated transits at (54): [ 541.06270054  560.61932057  580.1759406   599.73256063  619.28918066\n",
      "  638.84580069  658.40242072  677.95904075  697.51566078  717.07228081\n",
      "  736.62890084  756.18552087  775.7421409   795.29876093  814.85538096\n",
      "  834.41200099  853.96862102  873.52524105  893.08186108  912.63848111\n",
      "  932.19510114  951.75172117  971.3083412   990.86496123 1010.42158126\n",
      " 1029.97820129 1049.53482132 1069.09144135 1088.64806138 1108.20468141\n",
      " 1127.76130144 1147.31792147 1166.8745415  1186.43116153 1205.98778156\n",
      " 1225.54440159 1245.10102162 1264.65764165 1284.21426168 1303.77088171\n",
      " 1323.32750174 1342.88412177 1362.4407418  1381.99736183 1401.55398186\n",
      " 1421.11060189 1440.66722192 1460.22384195 1479.78046198 1499.33708201\n",
      " 1518.89370204 1538.45032207 1558.0069421  1577.56356213]\n",
      "Observed transits at (52): [ 541.06270054  560.61932057  580.1759406   599.73256063  619.28918066\n",
      "  638.84580069  658.40242072  677.95904075  697.51566078  717.07228081\n",
      "  736.62890084  756.18552087  775.7421409   795.29876093  814.85538096\n",
      "  834.41200099  853.96862102  873.52524105  893.08186108  912.63848111\n",
      "  932.19510114  951.75172117  971.3083412   990.86496123 1010.42158126\n",
      " 1029.97820129 1049.53482132 1069.09144135 1088.64806138 1108.20468141\n",
      " 1127.76130144 1147.31792147 1166.8745415  1205.98778156 1225.54440159\n",
      " 1245.10102162 1264.65764165 1284.21426168 1303.77088171 1323.32750174\n",
      " 1342.88412177 1362.4407418  1381.99736183 1401.55398186 1421.11060189\n",
      " 1440.66722192 1460.22384195 1499.33708201 1518.89370204 1538.45032207\n",
      " 1558.0069421  1577.56356213]\n",
      "Index of missed transits: [48, 33]\n",
      "\n",
      "******************************** KID6960913 ********************************\n",
      "\n",
      "Transit duration: 0.20011 [d]\n",
      "Period: 59.8780258 [d]\n",
      "Estimated transits at (8): [1109.2331128 1169.1111386 1228.9891644 1288.8671902 1348.745216\n",
      " 1408.6232418 1468.5012676 1528.3792934]\n",
      "Observed transits at (8): [1109.2331128 1169.1111386 1228.9891644 1288.8671902 1348.745216\n",
      " 1408.6232418 1468.5012676 1528.3792934]\n",
      "Index of missed transits: []\n",
      "\n",
      "******************************** KID8845205 ********************************\n",
      "\n",
      "Transit duration: 0.080833 [d]\n",
      "Period: 18.47762694 [d]\n",
      "Estimated transits at (11): [1275.44905046 1293.9266774  1312.40430434 1330.88193128 1349.35955822\n",
      " 1367.83718516 1386.3148121  1404.79243904 1423.27006598 1441.74769292\n",
      " 1460.22531986]\n",
      "Observed transits at (9): [1275.44905046 1312.40430434 1330.88193128 1349.35955822 1367.83718516\n",
      " 1386.3148121  1423.27006598 1441.74769292 1460.22531986]\n",
      "Index of missed transits: [7, 1]\n",
      "\n",
      "******************************** KID11194032 ********************************\n",
      "\n",
      "Transit duration: 0.19142 [d]\n",
      "Period: 28.51117639 [d]\n",
      "Estimated transits at (6): [558.00924807 586.52042446 615.03160085 643.54277724 672.05395363\n",
      " 700.56513002]\n",
      "Observed transits at (4): [558.00924807 586.52042446 615.03160085 700.56513002]\n",
      "Index of missed transits: [4, 3]\n",
      "\n",
      "******************************** KID8686097 ********************************\n",
      "\n",
      "Transit duration: 0.47279 [d]\n",
      "Period: 172.7046083 [d]\n",
      "Estimated transits at (5): [ 755.0395649  927.7441732 1100.4487815 1273.1533898 1445.8579981]\n",
      "Observed transits at (5): [ 755.0395649  927.7441732 1100.4487815 1273.1533898 1445.8579981]\n",
      "Index of missed transits: []\n",
      "\n",
      "******************************** KID7277317 ********************************\n",
      "\n",
      "Transit duration: 0.39 [d]\n",
      "Period: 16.33888067 [d]\n",
      "Estimated transits at (50): [ 749.77840945  766.11729012  782.45617079  798.79505146  815.13393213\n",
      "  831.4728128   847.81169347  864.15057414  880.48945481  896.82833548\n",
      "  913.16721615  929.50609682  945.84497749  962.18385816  978.52273883\n",
      "  994.8616195  1011.20050017 1027.53938084 1043.87826151 1060.21714218\n",
      " 1076.55602285 1092.89490352 1109.23378419 1125.57266486 1141.91154553\n",
      " 1158.2504262  1174.58930687 1190.92818754 1207.26706821 1223.60594888\n",
      " 1239.94482955 1256.28371022 1272.62259089 1288.96147156 1305.30035223\n",
      " 1321.6392329  1337.97811357 1354.31699424 1370.65587491 1386.99475558\n",
      " 1403.33363625 1419.67251692 1436.01139759 1452.35027826 1468.68915893\n",
      " 1485.0280396  1501.36692027 1517.70580094 1534.04468161 1550.38356228]\n",
      "Observed transits at (25): [ 749.77840945  766.11729012  782.45617079  798.79505146  913.16721615\n",
      "  929.50609682  945.84497749  962.18385816  978.52273883  994.8616195\n",
      " 1109.23378419 1125.57266486 1141.91154553 1158.2504262  1174.58930687\n",
      " 1288.96147156 1305.30035223 1321.6392329  1337.97811357 1354.31699424\n",
      " 1370.65587491 1501.36692027 1517.70580094 1534.04468161 1550.38356228]\n",
      "Index of missed transits: [45, 44, 43, 42, 41, 40, 39, 32, 31, 30, 29, 28, 27, 21, 20, 19, 18, 17, 16, 9, 8, 7, 6, 5, 4]\n",
      "\n",
      "******************************** KID8802165 ********************************\n",
      "\n",
      "Transit duration: 0.20822 [d]\n",
      "Period: 17.42115972 [d]\n",
      "Estimated transits at (2): [759.14417676 776.56533648]\n",
      "Observed transits at (2): [759.14417676 776.56533648]\n",
      "Index of missed transits: []\n",
      "\n",
      "******************************** KID9965439 ********************************\n",
      "\n",
      "Transit duration: 0.29284 [d]\n",
      "Period: 46.40626 [d]\n",
      "Estimated transits at (1): [796.27771]\n",
      "Observed transits at (1): [796.27771]\n",
      "Index of missed transits: []\n",
      "\n",
      "******************************** KID7211141 ********************************\n",
      "\n",
      "Transit duration: 0.21932 [d]\n",
      "Period: 51.92920654 [d]\n",
      "Estimated transits at (2): [1034.72972118 1086.65892772]\n",
      "Observed transits at (2): [1034.72972118 1086.65892772]\n",
      "Index of missed transits: []\n",
      "\n",
      "******************************** KID9578686 ********************************\n",
      "\n",
      "Transit duration: 0.17008 [d]\n",
      "Period: 21.3851584 [d]\n",
      "Estimated transits at (1): [798.9524436]\n",
      "Observed transits at (1): [798.9524436]\n",
      "Index of missed transits: []\n",
      "\n",
      "******************************** KID11074541 ********************************\n",
      "\n",
      "Transit duration: 0.19005 [d]\n",
      "Period: 29.88487723 [d]\n",
      "Estimated transits at (35): [ 561.69780799  591.58268522  621.46756245  651.35243968  681.23731691\n",
      "  711.12219414  741.00707137  770.8919486   800.77682583  830.66170306\n",
      "  860.54658029  890.43145752  920.31633475  950.20121198  980.08608921\n",
      " 1009.97096644 1039.85584367 1069.7407209  1099.62559813 1129.51047536\n",
      " 1159.39535259 1189.28022982 1219.16510705 1249.04998428 1278.93486151\n",
      " 1308.81973874 1338.70461597 1368.5894932  1398.47437043 1428.35924766\n",
      " 1458.24412489 1488.12900212 1518.01387935 1547.89875658 1577.78363381]\n",
      "Observed transits at (5): [ 561.69780799  591.58268522  621.46756245  711.12219414 1577.78363381]\n",
      "Index of missed transits: [33, 32, 31, 30, 29, 28, 27, 26, 25, 24, 23, 22, 21, 20, 19, 18, 17, 16, 15, 14, 13, 12, 11, 10, 9, 8, 7, 6, 4, 3]\n",
      "\n",
      "******************************** KID12365184 ********************************\n",
      "\n",
      "Transit duration: 0.1549 [d]\n",
      "Period: 69.72646639 [d]\n",
      "Estimated transits at (15): [ 544.72557495  614.45204134  684.17850773  753.90497412  823.63144051\n",
      "  893.3579069   963.08437329 1032.81083968 1102.53730607 1172.26377246\n",
      " 1241.99023885 1311.71670524 1381.44317163 1451.16963802 1520.89610441]\n",
      "Observed transits at (11): [ 823.63144051  893.3579069   963.08437329 1032.81083968 1102.53730607\n",
      " 1172.26377246 1241.99023885 1311.71670524 1381.44317163 1451.16963802\n",
      " 1520.89610441]\n",
      "Index of missed transits: [3, 2, 1, 0]\n",
      "\n",
      "******************************** KID11449844 ********************************\n",
      "\n"
     ]
    },
    {
     "name": "stdout",
     "output_type": "stream",
     "text": [
      "Transit duration: 0.21007 [d]\n",
      "Period: 38.47876629 [d]\n",
      "Estimated transits at (27): [ 267.28911087  305.76787716  344.24664345  382.72540974  421.20417603\n",
      "  459.68294232  498.16170861  536.6404749   575.11924119  613.59800748\n",
      "  652.07677377  690.55554006  729.03430635  767.51307264  805.99183893\n",
      "  844.47060522  882.94937151  921.4281378   959.90690409  998.38567038\n",
      " 1036.86443667 1075.34320296 1113.82196925 1152.30073554 1190.77950183\n",
      " 1229.25826812 1267.73703441]\n",
      "Observed transits at (11): [ 267.28911087  305.76787716  344.24664345  382.72540974  421.20417603\n",
      "  536.6404749   575.11924119  613.59800748 1190.77950183 1229.25826812\n",
      " 1267.73703441]\n",
      "Index of missed transits: [23, 22, 21, 20, 19, 18, 17, 16, 15, 14, 13, 12, 11, 10, 6, 5]\n",
      "\n",
      "******************************** KID3835670 ********************************\n",
      "\n",
      "Transit duration: 0.32351 [d]\n",
      "Period: 14.55730897 [d]\n",
      "Estimated transits at (38): [261.55348376 276.11079273 290.6681017  305.22541067 319.78271964\n",
      " 334.34002861 348.89733758 363.45464655 378.01195552 392.56926449\n",
      " 407.12657346 421.68388243 436.2411914  450.79850037 465.35580934\n",
      " 479.91311831 494.47042728 509.02773625 523.58504522 538.14235419\n",
      " 552.69966316 567.25697213 581.8142811  596.37159007 610.92889904\n",
      " 625.48620801 640.04351698 654.60082595 669.15813492 683.71544389\n",
      " 698.27275286 712.83006183 727.3873708  741.94467977 756.50198874\n",
      " 771.05929771 785.61660668 800.17391565]\n",
      "Observed transits at (33): [261.55348376 276.11079273 290.6681017  305.22541067 319.78271964\n",
      " 334.34002861 348.89733758 363.45464655 378.01195552 392.56926449\n",
      " 407.12657346 421.68388243 436.2411914  509.02773625 523.58504522\n",
      " 538.14235419 552.69966316 567.25697213 581.8142811  596.37159007\n",
      " 610.92889904 625.48620801 640.04351698 654.60082595 669.15813492\n",
      " 683.71544389 698.27275286 712.83006183 741.94467977 756.50198874\n",
      " 771.05929771 785.61660668 800.17391565]\n",
      "Index of missed transits: [32, 16, 15, 14, 13]\n",
      "\n",
      "******************************** KID11622600 ********************************\n",
      "\n",
      "Transit duration: 0.20232 [d]\n",
      "Period: 82.5341188 [d]\n",
      "Estimated transits at (0): []\n",
      "Observed transits at (0): []\n",
      "Index of missed transits: []\n",
      "\n",
      "******************************** KID10593626 ********************************\n",
      "\n",
      "Transit duration: 0.31521 [d]\n",
      "Period: 289.864067 [d]\n",
      "Estimated transits at (5): [ 423.561257  713.425324 1003.289391 1293.153458 1583.017525]\n",
      "Observed transits at (3): [ 423.561257  713.425324 1003.289391]\n",
      "Index of missed transits: [4, 3]\n",
      "\n",
      "******************************** KID4841374 ********************************\n",
      "\n",
      "Transit duration: 0.4405 [d]\n",
      "Period: 161.4746786 [d]\n",
      "Estimated transits at (1): [816.5020944]\n",
      "Observed transits at (1): [816.5020944]\n",
      "Index of missed transits: []\n",
      "\n",
      "******************************** KID8950853 ********************************\n",
      "\n",
      "Transit duration: 0.37954 [d]\n",
      "Period: 37.8145252 [d]\n",
      "Estimated transits at (1): [890.954744]\n",
      "Observed transits at (1): [890.954744]\n",
      "Index of missed transits: []\n",
      "\n",
      "******************************** KID8583696 ********************************\n",
      "\n",
      "Transit duration: 0.26338 [d]\n",
      "Period: 50.28635977 [d]\n",
      "Estimated transits at (1): [821.35618701]\n",
      "Observed transits at (1): [821.35618701]\n",
      "Index of missed transits: []\n",
      "\n",
      "******************************** KID4742414 ********************************\n",
      "\n",
      "Transit duration: 0.36647 [d]\n",
      "Period: 15.458056682 [d]\n",
      "Estimated transits at (1): [745.73055123]\n",
      "Observed transits at (1): [745.73055123]\n",
      "Index of missed transits: []\n",
      "\n",
      "******************************** KID10864656 ********************************\n",
      "\n",
      "Transit duration: 0.62111 [d]\n",
      "Period: 52.5008645 [d]\n",
      "Estimated transits at (15): [ 854.0323785  906.533243   959.0341075 1011.534972  1064.0358365\n",
      " 1116.536701  1169.0375655 1221.53843   1274.0392945 1326.540159\n",
      " 1379.0410235 1431.541888  1484.0427525 1536.543617  1589.0444815]\n",
      "Observed transits at (13): [ 854.0323785  906.533243   959.0341075 1011.534972  1064.0358365\n",
      " 1116.536701  1169.0375655 1221.53843   1274.0392945 1379.0410235\n",
      " 1431.541888  1536.543617  1589.0444815]\n",
      "Index of missed transits: [12, 9]\n",
      "\n",
      "******************************** KID10528068 ********************************\n",
      "\n",
      "Transit duration: 0.48072 [d]\n",
      "Period: 158.6850022 [d]\n",
      "Estimated transits at (1): [967.374941]\n",
      "Observed transits at (1): [967.374941]\n",
      "Index of missed transits: []\n",
      "\n",
      "******************************** KID12403119 ********************************\n",
      "\n",
      "Transit duration: 0.3308 [d]\n",
      "Period: 76.13622222 [d]\n",
      "Estimated transits at (6): [ 884.70223698  960.8384592  1036.97468142 1113.11090364 1189.24712586\n",
      " 1265.38334808]\n",
      "Observed transits at (4): [ 884.70223698 1113.11090364 1189.24712586 1265.38334808]\n",
      "Index of missed transits: [2, 1]\n",
      "\n",
      "******************************** KID5812701 ********************************\n",
      "\n",
      "Transit duration: 0.30887 [d]\n",
      "Period: 17.855221681 [d]\n",
      "Estimated transits at (82): [ 128.74124432  146.596466    164.45168768  182.30690936  200.16213104\n",
      "  218.01735272  235.8725744   253.72779609  271.58301777  289.43823945\n",
      "  307.29346113  325.14868281  343.00390449  360.85912617  378.71434785\n",
      "  396.56956953  414.42479122  432.2800129   450.13523458  467.99045626\n",
      "  485.84567794  503.70089962  521.5561213   539.41134298  557.26656466\n",
      "  575.12178634  592.97700803  610.83222971  628.68745139  646.54267307\n",
      "  664.39789475  682.25311643  700.10833811  717.96355979  735.81878147\n",
      "  753.67400315  771.52922483  789.38444652  807.2396682   825.09488988\n",
      "  842.95011156  860.80533324  878.66055492  896.5157766   914.37099828\n",
      "  932.22621996  950.08144164  967.93666333  985.79188501 1003.64710669\n",
      " 1021.50232837 1039.35755005 1057.21277173 1075.06799341 1092.92321509\n",
      " 1110.77843677 1128.63365845 1146.48888014 1164.34410182 1182.1993235\n",
      " 1200.05454518 1217.90976686 1235.76498854 1253.62021022 1271.4754319\n",
      " 1289.33065358 1307.18587527 1325.04109695 1342.89631863 1360.75154031\n",
      " 1378.60676199 1396.46198367 1414.31720535 1432.17242703 1450.02764871\n",
      " 1467.88287039 1485.73809207 1503.59331376 1521.44853544 1539.30375712\n",
      " 1557.1589788  1575.01420048]\n",
      "Observed transits at (71): [ 128.74124432  200.16213104  218.01735272  235.8725744   253.72779609\n",
      "  271.58301777  289.43823945  307.29346113  325.14868281  343.00390449\n",
      "  360.85912617  378.71434785  396.56956953  414.42479122  432.2800129\n",
      "  521.5561213   539.41134298  557.26656466  575.12178634  592.97700803\n",
      "  610.83222971  628.68745139  646.54267307  664.39789475  682.25311643\n",
      "  700.10833811  717.96355979  735.81878147  753.67400315  771.52922483\n",
      "  789.38444652  825.09488988  842.95011156  860.80533324  878.66055492\n",
      "  896.5157766   914.37099828  932.22621996  950.08144164  967.93666333\n",
      "  985.79188501 1003.64710669 1021.50232837 1039.35755005 1057.21277173\n",
      " 1075.06799341 1092.92321509 1110.77843677 1128.63365845 1146.48888014\n",
      " 1182.1993235  1200.05454518 1217.90976686 1235.76498854 1253.62021022\n",
      " 1271.4754319  1289.33065358 1307.18587527 1325.04109695 1342.89631863\n",
      " 1360.75154031 1378.60676199 1396.46198367 1432.17242703 1450.02764871\n",
      " 1467.88287039 1503.59331376 1521.44853544 1539.30375712 1557.1589788\n",
      " 1575.01420048]\n",
      "Index of missed transits: [76, 72, 58, 38, 21, 20, 19, 18, 3, 2, 1]\n",
      "\n",
      "******************************** KID8866102 ********************************\n",
      "\n",
      "Transit duration: 0.18797 [d]\n",
      "Period: 17.83367834 [d]\n",
      "Estimated transits at (82): [ 145.56658632  163.40026466  181.233943    199.06762134  216.90129968\n",
      "  234.73497802  252.56865636  270.4023347   288.23601304  306.06969138\n",
      "  323.90336972  341.73704806  359.5707264   377.40440474  395.23808308\n",
      "  413.07176142  430.90543976  448.7391181   466.57279644  484.40647478\n",
      "  502.24015312  520.07383146  537.9075098   555.74118814  573.57486648\n",
      "  591.40854482  609.24222316  627.0759015   644.90957984  662.74325818\n",
      "  680.57693652  698.41061486  716.2442932   734.07797154  751.91164988\n",
      "  769.74532822  787.57900656  805.4126849   823.24636324  841.08004158\n",
      "  858.91371992  876.74739826  894.5810766   912.41475494  930.24843328\n",
      "  948.08211162  965.91578996  983.7494683  1001.58314664 1019.41682498\n",
      " 1037.25050332 1055.08418166 1072.91786    1090.75153834 1108.58521668\n",
      " 1126.41889502 1144.25257336 1162.0862517  1179.91993004 1197.75360838\n",
      " 1215.58728672 1233.42096506 1251.2546434  1269.08832174 1286.92200008\n",
      " 1304.75567842 1322.58935676 1340.4230351  1358.25671344 1376.09039178\n",
      " 1393.92407012 1411.75774846 1429.5914268  1447.42510514 1465.25878348\n",
      " 1483.09246182 1500.92614016 1518.7598185  1536.59349684 1554.42717518\n",
      " 1572.26085352 1590.09453186]\n",
      "Observed transits at (68): [ 145.56658632  270.4023347   288.23601304  306.06969138  323.90336972\n",
      "  341.73704806  359.5707264   377.40440474  395.23808308  413.07176142\n",
      "  430.90543976  520.07383146  537.9075098   555.74118814  573.57486648\n",
      "  591.40854482  609.24222316  627.0759015   644.90957984  662.74325818\n",
      "  680.57693652  698.41061486  716.2442932   751.91164988  769.74532822\n",
      "  787.57900656  823.24636324  841.08004158  858.91371992  876.74739826\n",
      "  894.5810766   912.41475494  930.24843328  948.08211162  965.91578996\n",
      "  983.7494683  1001.58314664 1019.41682498 1037.25050332 1055.08418166\n",
      " 1072.91786    1090.75153834 1108.58521668 1126.41889502 1144.25257336\n",
      " 1179.91993004 1197.75360838 1215.58728672 1233.42096506 1251.2546434\n",
      " 1269.08832174 1286.92200008 1304.75567842 1322.58935676 1340.4230351\n",
      " 1358.25671344 1376.09039178 1393.92407012 1411.75774846 1429.5914268\n",
      " 1447.42510514 1465.25878348 1500.92614016 1518.7598185  1536.59349684\n",
      " 1554.42717518 1572.26085352 1590.09453186]\n",
      "Index of missed transits: [75, 57, 37, 33, 20, 19, 18, 17, 6, 5, 4, 3, 2, 1]\n",
      "\n",
      "******************************** KID7761545 ********************************\n",
      "\n",
      "Transit duration: 0.28127 [d]\n",
      "Period: 85.3514875 [d]\n",
      "Estimated transits at (0): []\n",
      "Observed transits at (0): []\n",
      "Index of missed transits: []\n",
      "\n",
      "******************************** KID8107380 ********************************\n",
      "\n"
     ]
    },
    {
     "name": "stdout",
     "output_type": "stream",
     "text": [
      "Transit duration: 0.1955 [d]\n",
      "Period: 14.00640392 [d]\n",
      "Estimated transits at (31): [268.26648528 282.2728892  296.27929312 310.28569704 324.29210096\n",
      " 338.29850488 352.3049088  366.31131272 380.31771664 394.32412056\n",
      " 408.33052448 422.3369284  436.34333232 450.34973624 464.35614016\n",
      " 478.36254408 492.368948   506.37535192 520.38175584 534.38815976\n",
      " 548.39456368 562.4009676  576.40737152 590.41377544 604.42017936\n",
      " 618.42658328 632.4329872  646.43939112 660.44579504 674.45219896\n",
      " 688.45860288]\n",
      "Observed transits at (24): [268.26648528 282.2728892  296.27929312 310.28569704 324.29210096\n",
      " 338.29850488 352.3049088  366.31131272 380.31771664 394.32412056\n",
      " 408.33052448 422.3369284  436.34333232 506.37535192 520.38175584\n",
      " 534.38815976 548.39456368 562.4009676  576.40737152 590.41377544\n",
      " 604.42017936 618.42658328 674.45219896 688.45860288]\n",
      "Index of missed transits: [28, 27, 26, 16, 15, 14, 13]\n",
      "\n",
      "******************************** KID6707835 ********************************\n",
      "\n",
      "Transit duration: 0.17285 [d]\n",
      "Period: 22.24814617 [d]\n",
      "Estimated transits at (1): [774.83670659]\n",
      "Observed transits at (1): [774.83670659]\n",
      "Index of missed transits: []\n",
      "\n",
      "******************************** KID10795103 ********************************\n",
      "\n",
      "Transit duration: 0.67891 [d]\n",
      "Period: 214.3120439 [d]\n",
      "Estimated transits at (0): []\n",
      "Observed transits at (0): []\n",
      "Index of missed transits: []\n",
      "\n",
      "******************************** KID11802615 ********************************\n",
      "\n",
      "Transit duration: 0.22514 [d]\n",
      "Period: 28.86236571 [d]\n",
      "Estimated transits at (6): [553.69573423 582.55809994 611.42046565 640.28283136 669.14519707\n",
      " 698.00756278]\n",
      "Observed transits at (6): [553.69573423 582.55809994 611.42046565 640.28283136 669.14519707\n",
      " 698.00756278]\n",
      "Index of missed transits: []\n",
      "\n",
      "******************************** KID11259686 ********************************\n",
      "\n",
      "Transit duration: 0.2425 [d]\n",
      "Period: 34.4359387 [d]\n",
      "Estimated transits at (7): [571.8333257 606.2692644 640.7052031 675.1411418 709.5770805 744.0130192\n",
      " 778.4489579]\n",
      "Observed transits at (4): [571.8333257 606.2692644 744.0130192 778.4489579]\n",
      "Index of missed transits: [4, 3, 2]\n",
      "\n",
      "******************************** KID3859079 ********************************\n",
      "\n",
      "Transit duration: 0.23617 [d]\n",
      "Period: 53.5292702 [d]\n",
      "Estimated transits at (11): [1004.3329632 1057.8622334 1111.3915036 1164.9207738 1218.450044\n",
      " 1271.9793142 1325.5085844 1379.0378546 1432.5671248 1486.096395\n",
      " 1539.6256652]\n",
      "Observed transits at (8): [1057.8622334 1111.3915036 1164.9207738 1218.450044  1271.9793142\n",
      " 1379.0378546 1432.5671248 1539.6256652]\n",
      "Index of missed transits: [9, 6, 0]\n",
      "\n",
      "******************************** KID11391018 ********************************\n",
      "\n",
      "Transit duration: 0.25056 [d]\n",
      "Period: 30.360445359 [d]\n",
      "Estimated transits at (12): [360.61466351 390.97510887 421.33555423 451.69599959 482.05644495\n",
      " 512.41689031 542.77733567 573.13778103 603.49822638 633.85867174\n",
      " 664.2191171  694.57956246]\n",
      "Observed transits at (6): [360.61466351 512.41689031 542.77733567 573.13778103 603.49822638\n",
      " 694.57956246]\n",
      "Index of missed transits: [10, 9, 4, 3, 2, 1]\n",
      "\n",
      "******************************** KID5796675 ********************************\n",
      "\n",
      "Transit duration: 0.11959 [d]\n",
      "Period: 16.080657264000003 [d]\n",
      "Estimated transits at (33): [ 745.58310424  761.6637615   777.74441877  793.82507603  809.9057333\n",
      "  825.98639056  842.06704782  858.14770509  874.22836235  890.30901962\n",
      "  906.38967688  922.47033414  938.55099141  954.63164867  970.71230594\n",
      "  986.7929632  1002.87362046 1018.95427773 1035.03493499 1051.11559226\n",
      " 1067.19624952 1083.27690678 1099.35756405 1115.43822131 1131.51887858\n",
      " 1147.59953584 1163.6801931  1179.76085037 1195.84150763 1211.9221649\n",
      " 1228.00282216 1244.08347942 1260.16413669]\n",
      "Observed transits at (6): [ 745.58310424 1195.84150763 1211.9221649  1228.00282216 1244.08347942\n",
      " 1260.16413669]\n",
      "Index of missed transits: [27, 26, 25, 24, 23, 22, 21, 20, 19, 18, 17, 16, 15, 14, 13, 12, 11, 10, 9, 8, 7, 6, 5, 4, 3, 2, 1]\n",
      "\n",
      "******************************** KID11669125 ********************************\n",
      "\n",
      "Transit duration: 0.27633 [d]\n",
      "Period: 70.6981724 [d]\n",
      "Estimated transits at (1): [824.8515016]\n",
      "Observed transits at (1): [824.8515016]\n",
      "Index of missed transits: []\n",
      "\n",
      "******************************** KID10810838 ********************************\n",
      "\n",
      "Transit duration: 0.14354 [d]\n",
      "Period: 56.35407916 [d]\n",
      "Estimated transits at (23): [ 313.89991748  370.25399664  426.6080758   482.96215496  539.31623412\n",
      "  595.67031328  652.02439244  708.3784716   764.73255076  821.08662992\n",
      "  877.44070908  933.79478824  990.1488674  1046.50294656 1102.85702572\n",
      " 1159.21110488 1215.56518404 1271.9192632  1328.27334236 1384.62742152\n",
      " 1440.98150068 1497.33557984 1553.689659  ]\n",
      "Observed transits at (12): [ 313.89991748  370.25399664  426.6080758   539.31623412  595.67031328\n",
      " 1102.85702572 1159.21110488 1215.56518404 1271.9192632  1328.27334236\n",
      " 1497.33557984 1553.689659  ]\n",
      "Index of missed transits: [20, 19, 13, 12, 11, 10, 9, 8, 7, 6, 3]\n",
      "\n",
      "******************************** KID2987027 ********************************\n",
      "\n",
      "Transit duration: 0.16447 [d]\n",
      "Period: 17.276296682 [d]\n",
      "Estimated transits at (18): [358.43102887 375.70732555 392.98362223 410.25991891 427.53621559\n",
      " 444.81251228 462.08880896 479.36510564 496.64140232 513.917699\n",
      " 531.19399569 548.47029237 565.74658905 583.02288573 600.29918241\n",
      " 617.5754791  634.85177578 652.12807246]\n",
      "Observed transits at (14): [358.43102887 375.70732555 392.98362223 410.25991891 427.53621559\n",
      " 513.917699   531.19399569 548.47029237 565.74658905 583.02288573\n",
      " 600.29918241 617.5754791  634.85177578 652.12807246]\n",
      "Index of missed transits: [8, 7, 6, 5]\n"
     ]
    }
   ],
   "source": [
    "for target in targets:\n",
    "    print(\"\\n******************************** KID\"+str(target.kepid)+\" ********************************\\n\")\n",
    "    target.transit_times = find_transits(target)    \n",
    "    get_data_in_transit(target, amplify)\n",
    "\n",
    "    if (len(target.transit_times)==0): stars_wo_transits.append(target.kepid)\n",
    "\n",
    "    target.ind_missed_transits = find_missed_transits(target) # On notation: Imagine target.ind_missed_transits = [18]. This means \n",
    "                                                              # that the transit with flag_id = 18 hasn't been observed (and not the transit \n",
    "                                                              # with flag_id = 17)\n",
    "    oot_fit(target, poly_order)\n",
    "    observed_transits = np.delete(target.transit_times, target.ind_missed_transits)\n",
    "    mark_transits(target, observed_transits, False)\n",
    "    show_transits(target, target.ind_missed_transits, False)\n",
    "\n",
    "    if len(observed_transits!=0): show_folded_lightcurve(target, False)\n",
    "\n",
    "    export_folded_lc(target)\n",
    "\n",
    "    print(\"Transit duration: {0:0.5} [d]\".format(target.duration))\n",
    "    print(\"Period: {0:s} [d]\".format(str(target.P)))\n",
    "    print(\"Estimated transits at ({0:s}):\".format(str(len(target.transit_times))), target.transit_times)\n",
    "    print(\"Observed transits at ({0:s}):\".format(str(len(observed_transits))), observed_transits)\n",
    "    print(\"Index of missed transits:\", target.ind_missed_transits)"
   ]
  },
  {
   "cell_type": "code",
   "execution_count": 26,
   "metadata": {},
   "outputs": [
    {
     "name": "stdout",
     "output_type": "stream",
     "text": [
      "There are 4 stars without transits. These targets won't be studied\n",
      "[11027624, 11622600, 7761545, 10795103]\n"
     ]
    }
   ],
   "source": [
    "print(\"There are {:s} stars without transits. These targets won't be studied\".format(str(len(stars_wo_transits))))\n",
    "print(stars_wo_transits)"
   ]
  },
  {
   "cell_type": "code",
   "execution_count": 27,
   "metadata": {},
   "outputs": [
    {
     "name": "stdout",
     "output_type": "stream",
     "text": [
      "3000\n",
      "2000\n"
     ]
    }
   ],
   "source": [
    "print(steps)\n",
    "print(steps_rho)"
   ]
  },
  {
   "cell_type": "markdown",
   "metadata": {},
   "source": [
    "# Fit of the Stellar Density"
   ]
  },
  {
   "cell_type": "markdown",
   "metadata": {},
   "source": [
    "## Transit Routine (DFM)\n",
    "\n",
    "A Python library for generating light curves of transiting planets. See https://github.com/dfm/transit/blob/master/transit/transit.py for original code"
   ]
  },
  {
   "cell_type": "code",
   "execution_count": 28,
   "metadata": {},
   "outputs": [],
   "source": [
    "def lnprior_rho(theta, maxb):\n",
    "    pdepth, pb, sigma, pradius, f0, ptc = theta \n",
    "    if ((0 <= pb < maxb) and (0 <= sigma) and (pradius > 0) and (pdepth > 0) and (ptc**2<0.01)):\n",
    "        return 0.0\n",
    "    return -np.inf  \n",
    "\n",
    "def lnlike_rho(theta, timeLC, fluxLC, errorLC, allfixed):\n",
    "    ecc,  mass, masserr, tKep, u1, u2, maxb, P = allfixed\n",
    "    pdepth, pb, sigma, pradius, f0, ptc = theta \n",
    "    \n",
    "    s = transit.System(transit.Central(mu1=u1, mu2=u2, mass = mass, radius = pradius))\n",
    "    body = transit.Body(radius=np.sqrt(pdepth)*pradius, period=P, t0=ptc, b=np.abs(pb), e=ecc)\n",
    "    s.add_body(body)\n",
    "    inv_sigma2 = 1.0/(errorLC**2 + sigma**2)\n",
    "    try: \n",
    "        ftheo = s.light_curve(timeLC, texp=tKep, tol=1e-08, maxdepth=5)\n",
    "    except ValueError:\n",
    "        return -np.inf\n",
    "    ftheo = ftheo-1+f0\n",
    "    chi2 = -0.5*(np.sum((fluxLC-ftheo)**2*inv_sigma2 - np.log(inv_sigma2)))\n",
    "    return chi2\n",
    "                 \n",
    "def lnprob_rho(theta, timeLC, fluxLC, errorLC, allfixed):\n",
    "    ecc, mass, masserr, tKep, u1, u2, maxb, P = allfixed\n",
    "    lp_rho = lnprior_rho(theta, maxb)\n",
    "    if not np.isfinite(lp_rho):\n",
    "        return -np.inf\n",
    "    return lp_rho + lnlike_rho(theta, timeLC, fluxLC, errorLC, allfixed)"
   ]
  },
  {
   "cell_type": "markdown",
   "metadata": {},
   "source": [
    "## MCMC"
   ]
  },
  {
   "cell_type": "code",
   "execution_count": 29,
   "metadata": {},
   "outputs": [],
   "source": [
    "def fit_rho(star, t, f, ferr, num_trans, showLC, showMCMC):\n",
    "    \n",
    "    max_b = 1+star.rp_solarRad/star.rs\n",
    "    print(\"\\nMax b (rp in Solar Radius):\", max_b)\n",
    "    \n",
    "    allfixed_rho = np.array([star.eccen, star.smass, 0.0, tKep, star.u1, star.u2, max_b, star.P])\n",
    "    first_guess =  np.array([star.depth/1.2, star.b, 0.0, star.rs, 1.0, 0.0])\n",
    "    \n",
    "    nll_rho = lambda *args: -lnprob_rho(*args)\n",
    "       \n",
    "    result = op.minimize(nll_rho, first_guess, args=(t, f, ferr, allfixed_rho), \n",
    "                       options={'maxiter':1e5,'disp': True},\n",
    "                       method='Nelder-Mead') \n",
    "    \n",
    "    depth_ml, b_ml, sigma_ml, radius_ml, f0_ml, tc_ml = result[\"x\"]\n",
    "    \n",
    "    # Compute the theoretical light curve integrated over a Kepler short-cadence exposure time.\n",
    "    s = transit.System(transit.Central(mu1=star.u1, mu2=star.u2, mass=star.smass, radius=radius_ml))\n",
    "    body = transit.Body(radius=np.sqrt(depth_ml)*radius_ml,period=star.P, t0=tc_ml,b=np.abs(b_ml),e=star.eccen)\n",
    "    s.add_body(body)\n",
    "    t_fit = np.arange(-1, 1, tKep*0.01)\n",
    "    f_fit = s.light_curve(t_fit, texp=tKep, tol=1e-08, maxdepth=5)\n",
    "    f_fit = f_fit - 1.0 + f0_ml\n",
    "    \n",
    "    if showLC == True:\n",
    "        fig = plt.figure(figsize=(16,7))\n",
    "        plt.title(str(star.kepid)+'. Stellar Density Fit for Transit '+str(num_trans+1), fontsize = 15)\n",
    "        plt.plot(t, f, '.')\n",
    "        plt.plot(t_fit, f_fit, color='r', lw = 3)\n",
    "        plt.xlabel('Time from midtransit [days]')\n",
    "        plt.ylabel('Normalized flux')\n",
    "        plt.xlim([min(t),max(t)]) \n",
    "        plt.show(block=False)    \n",
    "        time.sleep(0.2)\n",
    "        plt.close()\n",
    "       \n",
    "    ndim_rho = len(result[\"x\"])\n",
    "    \n",
    "    p0 = [result[\"x\"]*(1+1e-8*np.random.randn(ndim_rho)) for i in range(nwalkers_rho)]\n",
    "    sampler = emcee.EnsembleSampler(nwalkers_rho, ndim_rho, lnprob_rho, args=(t, f, ferr, allfixed_rho))\n",
    "    \n",
    "    print(\"Running burn-in\")\n",
    "    pos, prob, state = sampler.run_mcmc(p0, 200, progress=True);\n",
    "    sampler.reset() # Reset the chain to remove the burn-in samples.\n",
    "    print(\"\\n------ Run MCMC -------\")\n",
    "    sampler.run_mcmc(p0, steps_rho, rstate0 = state, progress=True);\n",
    "    samples = sampler.chain[:, int(steps_rho/10):, :].reshape((-1, ndim_rho)) #burnin currently set to 10%\n",
    "    \n",
    "    samples[:, 2] = np.exp(samples[:, 2])\n",
    "    \n",
    "    #Get the 50% percentile and the +- 1 sigma error of the parameters and 2 derived quantities \n",
    "    depth_mcmc, b_mcmc, sigma_mcmc, \\\n",
    "    rs_mcmc, f0_mcmc, tc_mcmc = map(lambda v: (v[1], v[2]-v[1], v[1]-v[0]), \n",
    "                               zip(*np.percentile(samples, [15.86, 50, 84.14], axis=0)))\n",
    "    \n",
    "    if showMCMC == True:\n",
    "        print(\"\\n------ Post-MCMC Results ------\")\n",
    "        print(\"\\nDepth:\\n\\tTrue = {:0.3f}\".format(star.depth))\n",
    "        print(\"\\tMCMC Fit = {0:0.3f} (+{1:0.3f},-{2:0.3f})\".format(depth_mcmc[0],depth_mcmc[1],depth_mcmc[2]))\n",
    "        print(\"\\nImpact parameter:\\n\\tTrue = {:0.3f}\".format(star.b))\n",
    "        print(\"\\tMCMC Fit = {0:0.3f} (+{1:0.3f},-{2:0.3f})\".format(b_mcmc[0],b_mcmc[1],b_mcmc[2]))\n",
    "        print(\"\\nStellar radius [Rsun]:\\n\\tREPORTED = {:0.3f}\".format(star.rs))\n",
    "        print(\"\\tMCMC Fit = {0:0.3f} (+{1:0.3f},-{2:0.3f})\".format(rs_mcmc[0], rs_mcmc[1],rs_mcmc[2]))\n",
    "   \n",
    "    #---------- Plot the LC with the MCMC fit ----------\n",
    "    s = transit.System(transit.Central(mu1=star.u1, mu2=star.u2, mass=star.smass, radius=rs_mcmc[0]))\n",
    "    body = transit.Body(radius=np.sqrt(depth_mcmc[0])*rs_mcmc[0], period=star.P, t0=tc_mcmc[0], \n",
    "                        b=np.abs(b_mcmc[0]), e=star.eccen)\n",
    "    s.add_body(body)\n",
    "    t_fit = np.arange(-1, 1, tKep*0.01)\n",
    "    f_fit = s.light_curve(t_fit, texp=tKep, tol=1e-08, maxdepth=4)\n",
    "    f_fit = f_fit - 1.0 + f0_mcmc[0]\n",
    "    fig_lc = plt.figure(figsize=(15,4))\n",
    "    plt.title('MCMC Fit for KID'+str(star.kepid))\n",
    "    plt.plot(t, f, '.')\n",
    "    plt.plot(t_fit, f_fit, 'r', lw = 3)\n",
    "    plt.xlabel('Time [d]'); plt.ylabel('Normalized Flux')\n",
    "    plt.xlim([min(t),max(t)])\n",
    "    \n",
    "    filepath_rho = '/Users/mbadenas/Documents/Master UAB/Tesis UAB/TFM2018/results/new_rs/'\n",
    "    store_lcfit = \"fit\"+str(star.kepid)+\"_st\"+str(steps_rho)+\"_trans\"+str(num_trans+1)+\".png\"\n",
    "    fig_lc.savefig(filepath_rho+store_lcfit)\n",
    "    plt.close(fig_lc)\n",
    "        \n",
    "    true_params = [star.depth, star.b, None, star.rs, 1.0, 0.0]\n",
    "    res_labels = [r'Depth', r'$b$', r'$\\sigma$', r'$R_{s} [R_{\\odot}]$', r'$f_{0}$', r'$t_{c}$']\n",
    "    \n",
    "    fig_corner = corner.corner(samples, weights = None, labels = res_labels, quantiles=[0.16, 0.5, 0.84],\n",
    "                               truths = true_params, show_titles = True, title_args={\"fontsize\": 12}, \n",
    "                               plot_contours=True, truth_color='r', plot_datapoints=True) \n",
    "        \n",
    "    plt.suptitle(\"KID\"+str(star.kepid)+\". Corner Plot for Transit \"+str(num_trans+1), fontsize = 20)\n",
    "    store_corner = \"corner\"+str(star.kepid)+\"_st\"+str(steps_rho)+\"_trans\"+str(num_trans+1)+\".png\"\n",
    "    fig_corner.savefig(filepath_rho+store_corner)\n",
    "    plt.close(fig_corner)\n",
    "   \n",
    "    #Acceptance fraction: s a rule of thumb, the acceptance fraction (af) should be between 0.2 and 0.5. \n",
    "    #If af < 0.2 decrease the a parameter. If af > 0.5 increase the a parameter. \n",
    "    af = sampler.acceptance_fraction  \n",
    "    af_percentage = 100*np.mean(sampler.acceptance_fraction)\n",
    "    \n",
    "    print(\"Mean acceptance fraction:\", np.mean(af))\n",
    "    print(\"Acceptance fraction: {0:.2f} %\".format(af_percentage))\n",
    "    \n",
    "    #Steps plot\n",
    "    fig_steps, axes = plt.subplots(ndim_rho, 1, sharex=True, figsize=(8, 9))\n",
    "    axes[0].plot(sampler.chain[:, :, 0].T, ls='dotted', color = \"xkcd:sky blue\") #depth = 0\n",
    "    axes[0].set_ylabel(r'Depth'); axes[0].axhline(true_params[0], color='red')\n",
    "    axes[1].plot(sampler.chain[:, :, 1].T,'.', ls='dotted', color=\"xkcd:sky blue\")\n",
    "    axes[1].set_ylabel(r'$b$'); axes[1].axhline(true_params[1], color='red')\n",
    "    axes[2].plot((sampler.chain[:, :, 2]).T, ls='dotted', color=\"xkcd:sky blue\")\n",
    "    axes[2].set_ylabel(r'$\\sigma$');\n",
    "    axes[3].plot((sampler.chain[:, :, 3]).T, ls='dotted', color=\"xkcd:sky blue\")\n",
    "    axes[3].set_ylabel(r'$R_{s} [R_{\\odot}]$'); axes[3].axhline(true_params[3], color='red')\n",
    "    axes[4].plot((sampler.chain[:, :, 4]).T, ls='dotted', color=\"xkcd:sky blue\")\n",
    "    axes[4].set_ylabel(r'$f_{0}$'); axes[4].axhline(true_params[4], color='red')\n",
    "    axes[5].plot((sampler.chain[:, :, 5]).T, ls='dotted',color=\"xkcd:sky blue\")\n",
    "    axes[5].set_ylabel(r\"$t_{c}$\"); axes[5].axhline(true_params[5], color='red')\n",
    "    axes[5].set_xlabel(\"Step number\")\n",
    "    fig_steps.tight_layout(h_pad=0.0)\n",
    "    store_steps= \"steps\"+str(star.kepid)+\"_st\"+str(steps_rho)+\"_trans\"+str(num_trans+1)+\".png\"\n",
    "    fig_steps.savefig(filepath_rho+store_steps)\n",
    "    plt.close(fig_steps)\n",
    "    \n",
    "    results_mcmc = [depth_mcmc, b_mcmc, sigma_mcmc, rs_mcmc, f0_mcmc, tc_mcmc]\n",
    "    rs_results = np.array([rs_mcmc[0],rs_mcmc[1],rs_mcmc[2]])\n",
    "    \n",
    "    return radius_ml, rs_results, af_percentage"
   ]
  },
  {
   "cell_type": "markdown",
   "metadata": {},
   "source": [
    "Store the KID of stars with missing or bad (SNR < 3) transits "
   ]
  },
  {
   "cell_type": "code",
   "execution_count": null,
   "metadata": {},
   "outputs": [
    {
     "name": "stdout",
     "output_type": "stream",
     "text": [
      "defaultdict(<class 'list'>, {11027624: [], 11622600: [], 7761545: [], 10795103: []})\n"
     ]
    }
   ],
   "source": [
    "no_transits = set(stars_wo_transits)\n",
    "ugly_stars = defaultdict(list)\n",
    "\n",
    "for i in range(len(stars_wo_transits)):\n",
    "    idx_target = stars_wo_transits[i]\n",
    "    ugly_stars[idx_target] = []\n",
    "    \n",
    "print(ugly_stars)"
   ]
  },
  {
   "cell_type": "markdown",
   "metadata": {},
   "source": [
    "## Fit individual Transits"
   ]
  },
  {
   "cell_type": "markdown",
   "metadata": {},
   "source": [
    "Fit the stellar radius to obtain a better estimate of the stellar density"
   ]
  },
  {
   "cell_type": "code",
   "execution_count": null,
   "metadata": {},
   "outputs": [
    {
     "name": "stdout",
     "output_type": "stream",
     "text": [
      "\n",
      "******************************** KID11133306 ********************************\n",
      "\n",
      "\t*TRANSIT 1\n",
      "\t\tSignal = 0.00038. Noise (rms) = 0.00030. SNR = 1.27823\n",
      "\t\tOut-of-transit error of the transit LC = 0.00030\n",
      "\n",
      "\t*TRANSIT 2\n",
      "\t\tSignal = 0.00039. Noise (rms) = 0.00029. SNR = 1.34154\n",
      "\t\tOut-of-transit error of the transit LC = 0.00029\n",
      "\n",
      "\t*TRANSIT 3\n",
      "\t\tSignal = 0.00036. Noise (rms) = 0.00028. SNR = 1.25945\n",
      "\t\tOut-of-transit error of the transit LC = 0.00028\n",
      "\n",
      "\t*TRANSIT 4\n",
      "\t\tSignal = 0.00034. Noise (rms) = 0.00028. SNR = 1.21716\n",
      "\t\tOut-of-transit error of the transit LC = 0.00028\n",
      "\n",
      "\t*TRANSIT 5\n",
      "\t\tSignal = 0.00024. Noise (rms) = 0.00028. SNR = 0.85699\n",
      "\t\tOut-of-transit error of the transit LC = 0.00028\n",
      "\n",
      "\t*TRANSIT 6\n",
      "\t\tSignal = 0.00032. Noise (rms) = 0.00029. SNR = 1.10424\n",
      "\t\tOut-of-transit error of the transit LC = 0.00029\n",
      "\n",
      "\t*TRANSIT 7\n",
      "\t\tSignal = 0.00036. Noise (rms) = 0.00028. SNR = 1.26480\n",
      "\t\tOut-of-transit error of the transit LC = 0.00028\n",
      "\n",
      "\t*TRANSIT 8\n",
      "\t\tSignal = 0.00038. Noise (rms) = 0.00029. SNR = 1.28654\n",
      "\t\tOut-of-transit error of the transit LC = 0.00029\n",
      "\n",
      "\t*TRANSIT 9\n",
      "\t\tSignal = 0.00034. Noise (rms) = 0.00029. SNR = 1.20464\n",
      "\t\tOut-of-transit error of the transit LC = 0.00029\n",
      "\n",
      "\t*TRANSIT 10\n",
      "\t\tSignal = 0.00039. Noise (rms) = 0.00029. SNR = 1.36573\n",
      "\t\tOut-of-transit error of the transit LC = 0.00029\n",
      "\n",
      "\t*TRANSIT 11\n",
      "\t\tSignal = 0.00038. Noise (rms) = 0.00029. SNR = 1.28322\n",
      "\t\tOut-of-transit error of the transit LC = 0.00029\n",
      "\n",
      "\t*TRANSIT 12\n",
      "\t\tSignal = 0.00028. Noise (rms) = 0.00029. SNR = 0.96103\n",
      "\t\tOut-of-transit error of the transit LC = 0.00029\n",
      "\n",
      "\t*TRANSIT 13\n",
      "\t\tSignal = 0.00040. Noise (rms) = 0.00029. SNR = 1.38173\n",
      "\t\tOut-of-transit error of the transit LC = 0.00029\n",
      "\n",
      "\t*TRANSIT 14\n",
      "\t\tSignal = 0.00037. Noise (rms) = 0.00028. SNR = 1.30180\n",
      "\t\tOut-of-transit error of the transit LC = 0.00028\n",
      "\n",
      "\t*TRANSIT 15\n",
      "\t\tSignal = 0.00039. Noise (rms) = 0.00027. SNR = 1.41727\n",
      "\t\tOut-of-transit error of the transit LC = 0.00027\n",
      "\n",
      "\t*TRANSIT 16\n",
      "\t\tSignal = 0.00034. Noise (rms) = 0.00029. SNR = 1.20101\n",
      "\t\tOut-of-transit error of the transit LC = 0.00029\n",
      "\n",
      "\t*TRANSIT 17\n",
      "\t\tSignal = 0.00035. Noise (rms) = 0.00028. SNR = 1.22890\n",
      "\t\tOut-of-transit error of the transit LC = 0.00028\n",
      "\n",
      "\t*TRANSIT 18\n",
      "\t\tSignal = 0.00033. Noise (rms) = 0.00029. SNR = 1.12663\n",
      "\t\tOut-of-transit error of the transit LC = 0.00029\n",
      "\n",
      "\t*TRANSIT 20\n",
      "\t\tSignal = 0.00034. Noise (rms) = 0.00030. SNR = 1.15976\n",
      "\t\tOut-of-transit error of the transit LC = 0.00030\n",
      "\n",
      "\t*TRANSIT 21\n",
      "\t\tSignal = 0.00032. Noise (rms) = 0.00030. SNR = 1.07833\n",
      "\t\tOut-of-transit error of the transit LC = 0.00030\n",
      "\n",
      "\t*TRANSIT 22\n",
      "\t\tSignal = 0.00036. Noise (rms) = 0.00029. SNR = 1.24507\n",
      "\t\tOut-of-transit error of the transit LC = 0.00029\n",
      "\n",
      "\t*TRANSIT 23\n",
      "\t\tSignal = 0.00039. Noise (rms) = 0.00030. SNR = 1.31326\n",
      "\t\tOut-of-transit error of the transit LC = 0.00030\n",
      "\n",
      "\t*TRANSIT 24\n",
      "\t\tSignal = 0.00037. Noise (rms) = 0.00029. SNR = 1.28489\n",
      "\t\tOut-of-transit error of the transit LC = 0.00029\n",
      "\n",
      "\t*TRANSIT 25\n",
      "\t\tSignal = 0.00038. Noise (rms) = 0.00028. SNR = 1.37616\n",
      "\t\tOut-of-transit error of the transit LC = 0.00028\n",
      "\n",
      "\t*TRANSIT 26\n",
      "\t\tSignal = 0.00033. Noise (rms) = 0.00029. SNR = 1.13416\n",
      "\t\tOut-of-transit error of the transit LC = 0.00029\n",
      "\n",
      "******************************** KID3733628 ********************************\n",
      "\n",
      "\t*TRANSIT 1\n",
      "\t\tSignal = 0.00068. Noise (rms) = 0.00067. SNR = 1.00079\n",
      "\t\tOut-of-transit error of the transit LC = 0.00067\n",
      "\n",
      "\t*TRANSIT 2\n",
      "\t\tSignal = 0.00082. Noise (rms) = 0.00070. SNR = 1.17279\n",
      "\t\tOut-of-transit error of the transit LC = 0.00070\n",
      "\n",
      "******************************** KID4155328 ********************************\n",
      "\n",
      "\t*TRANSIT 1\n",
      "\t\tSignal = 0.00169. Noise (rms) = 0.00105. SNR = 1.59985\n",
      "\t\tOut-of-transit error of the transit LC = 0.00105\n",
      "\n",
      "******************************** KID5383248 ********************************\n",
      "\n",
      "\t*TRANSIT 1\n",
      "\t\tSignal = 0.00053. Noise (rms) = 0.00016. SNR = 3.32696\n",
      "\t\tOut-of-transit error of the transit LC = 0.00016\n",
      "\n",
      "Max b (rp in Solar Radius): 1.0254820543806646\n"
     ]
    },
    {
     "name": "stderr",
     "output_type": "stream",
     "text": [
      "/Users/mbadenas/anaconda3/lib/python3.6/site-packages/transit/transit.py:518: RuntimeWarning: divide by zero encountered in log\n",
      "  np.log(self.central.dilution)-np.log(1.0-self.central.dilution)\n"
     ]
    },
    {
     "name": "stdout",
     "output_type": "stream",
     "text": [
      "Optimization terminated successfully.\n",
      "         Current function value: -7291.683701\n",
      "         Iterations: 322\n",
      "         Function evaluations: 526\n"
     ]
    },
    {
     "name": "stderr",
     "output_type": "stream",
     "text": [
      "\r",
      "  0%|          | 0/200 [00:00<?, ?it/s]"
     ]
    },
    {
     "name": "stdout",
     "output_type": "stream",
     "text": [
      "Running burn-in\n"
     ]
    },
    {
     "name": "stderr",
     "output_type": "stream",
     "text": [
      "100%|██████████| 200/200 [00:25<00:00,  7.53it/s]\n",
      "  0%|          | 0/2000 [00:00<?, ?it/s]"
     ]
    },
    {
     "name": "stdout",
     "output_type": "stream",
     "text": [
      "\n",
      "------ Run MCMC -------\n"
     ]
    },
    {
     "name": "stderr",
     "output_type": "stream",
     "text": [
      "100%|██████████| 2000/2000 [03:40<00:00,  9.97it/s]\n"
     ]
    },
    {
     "name": "stdout",
     "output_type": "stream",
     "text": [
      "Mean acceptance fraction: 0.29560000000000003\n",
      "Acceptance fraction: 29.56 %\n",
      "\tStellar Radius [Rsun]:\tMCMC = 1.07577.\t1st Fit = 1.09543.\tKepler = 0.99300\n",
      "\tError Stellar Radius [Rsun]:\tMCMC (up) = 0.25994, (down) = 0.20255.\tOld = 0.04965\n",
      "\n",
      "\t*TRANSIT 2\n",
      "\t\tSignal = 0.00054. Noise (rms) = 0.00017. SNR = 3.21174\n",
      "\t\tOut-of-transit error of the transit LC = 0.00017\n",
      "\n",
      "Max b (rp in Solar Radius): 1.0254820543806646\n"
     ]
    },
    {
     "name": "stderr",
     "output_type": "stream",
     "text": [
      "/Users/mbadenas/anaconda3/lib/python3.6/site-packages/transit/transit.py:518: RuntimeWarning: divide by zero encountered in log\n",
      "  np.log(self.central.dilution)-np.log(1.0-self.central.dilution)\n"
     ]
    },
    {
     "name": "stdout",
     "output_type": "stream",
     "text": [
      "Optimization terminated successfully.\n",
      "         Current function value: -7638.681627\n",
      "         Iterations: 633\n",
      "         Function evaluations: 975\n"
     ]
    },
    {
     "name": "stderr",
     "output_type": "stream",
     "text": [
      "\r",
      "  0%|          | 0/200 [00:00<?, ?it/s]"
     ]
    },
    {
     "name": "stdout",
     "output_type": "stream",
     "text": [
      "Running burn-in\n"
     ]
    },
    {
     "name": "stderr",
     "output_type": "stream",
     "text": [
      "100%|██████████| 200/200 [00:23<00:00,  8.51it/s]\n",
      "  0%|          | 0/2000 [00:00<?, ?it/s]"
     ]
    },
    {
     "name": "stdout",
     "output_type": "stream",
     "text": [
      "\n",
      "------ Run MCMC -------\n"
     ]
    },
    {
     "name": "stderr",
     "output_type": "stream",
     "text": [
      "100%|██████████| 2000/2000 [03:59<00:00,  8.50it/s]\n"
     ]
    },
    {
     "name": "stdout",
     "output_type": "stream",
     "text": [
      "Mean acceptance fraction: 0.38000500000000004\n",
      "Acceptance fraction: 38.00 %\n",
      "\tStellar Radius [Rsun]:\tMCMC = 1.40867.\t1st Fit = 1.46581.\tKepler = 0.99300\n",
      "\tError Stellar Radius [Rsun]:\tMCMC (up) = 0.20484, (down) = 0.21389.\tOld = 0.04965\n",
      "\n",
      "\t*TRANSIT 9\n",
      "\t\tSignal = 0.00048. Noise (rms) = 0.00015. SNR = 3.20060\n",
      "\t\tOut-of-transit error of the transit LC = 0.00015\n",
      "\n",
      "Max b (rp in Solar Radius): 1.0254820543806646\n"
     ]
    },
    {
     "name": "stderr",
     "output_type": "stream",
     "text": [
      "/Users/mbadenas/anaconda3/lib/python3.6/site-packages/transit/transit.py:518: RuntimeWarning: divide by zero encountered in log\n",
      "  np.log(self.central.dilution)-np.log(1.0-self.central.dilution)\n"
     ]
    },
    {
     "name": "stdout",
     "output_type": "stream",
     "text": [
      "Optimization terminated successfully.\n",
      "         Current function value: -6904.341963\n",
      "         Iterations: 338\n",
      "         Function evaluations: 531\n"
     ]
    },
    {
     "name": "stderr",
     "output_type": "stream",
     "text": [
      "\r",
      "  0%|          | 0/200 [00:00<?, ?it/s]"
     ]
    },
    {
     "name": "stdout",
     "output_type": "stream",
     "text": [
      "Running burn-in\n"
     ]
    },
    {
     "name": "stderr",
     "output_type": "stream",
     "text": [
      "100%|██████████| 200/200 [00:23<00:00,  8.94it/s]\n",
      "  0%|          | 0/2000 [00:00<?, ?it/s]"
     ]
    },
    {
     "name": "stdout",
     "output_type": "stream",
     "text": [
      "\n",
      "------ Run MCMC -------\n"
     ]
    },
    {
     "name": "stderr",
     "output_type": "stream",
     "text": [
      "100%|██████████| 2000/2000 [03:17<00:00, 10.15it/s]\n"
     ]
    },
    {
     "name": "stdout",
     "output_type": "stream",
     "text": [
      "Mean acceptance fraction: 0.29906\n",
      "Acceptance fraction: 29.91 %\n",
      "\tStellar Radius [Rsun]:\tMCMC = 0.96236.\t1st Fit = 1.04570.\tKepler = 0.99300\n",
      "\tError Stellar Radius [Rsun]:\tMCMC (up) = 0.21866, (down) = 0.13706.\tOld = 0.04965\n",
      "\n",
      "\t*TRANSIT 10\n",
      "\t\tSignal = nan. Noise (rms) = 0.00016. SNR = nan\n",
      "\t\tOut-of-transit error of the transit LC = 0.00016\n",
      "\n",
      "\t*TRANSIT 20\n",
      "\t\tSignal = 0.00054. Noise (rms) = 0.00016. SNR = 3.42045\n",
      "\t\tOut-of-transit error of the transit LC = 0.00016\n",
      "\n",
      "Max b (rp in Solar Radius): 1.0254820543806646\n"
     ]
    },
    {
     "name": "stderr",
     "output_type": "stream",
     "text": [
      "/Users/mbadenas/anaconda3/lib/python3.6/site-packages/numpy/core/fromnumeric.py:2957: RuntimeWarning: Mean of empty slice.\n",
      "  out=out, **kwargs)\n",
      "/Users/mbadenas/anaconda3/lib/python3.6/site-packages/numpy/core/_methods.py:80: RuntimeWarning: invalid value encountered in double_scalars\n",
      "  ret = ret.dtype.type(ret / rcount)\n",
      "/Users/mbadenas/anaconda3/lib/python3.6/site-packages/transit/transit.py:518: RuntimeWarning: divide by zero encountered in log\n",
      "  np.log(self.central.dilution)-np.log(1.0-self.central.dilution)\n"
     ]
    },
    {
     "name": "stdout",
     "output_type": "stream",
     "text": [
      "Optimization terminated successfully.\n",
      "         Current function value: -7641.410387\n",
      "         Iterations: 199\n",
      "         Function evaluations: 332\n"
     ]
    },
    {
     "name": "stderr",
     "output_type": "stream",
     "text": [
      "\r",
      "  0%|          | 0/200 [00:00<?, ?it/s]"
     ]
    },
    {
     "name": "stdout",
     "output_type": "stream",
     "text": [
      "Running burn-in\n"
     ]
    },
    {
     "name": "stderr",
     "output_type": "stream",
     "text": [
      "100%|██████████| 200/200 [00:27<00:00,  7.82it/s]\n",
      "  0%|          | 0/2000 [00:00<?, ?it/s]"
     ]
    },
    {
     "name": "stdout",
     "output_type": "stream",
     "text": [
      "\n",
      "------ Run MCMC -------\n"
     ]
    },
    {
     "name": "stderr",
     "output_type": "stream",
     "text": [
      "100%|██████████| 2000/2000 [03:41<00:00,  9.04it/s]\n"
     ]
    },
    {
     "name": "stdout",
     "output_type": "stream",
     "text": [
      "Mean acceptance fraction: 0.31811\n",
      "Acceptance fraction: 31.81 %\n",
      "\tStellar Radius [Rsun]:\tMCMC = 1.37116.\t1st Fit = 1.16291.\tKepler = 0.99300\n",
      "\tError Stellar Radius [Rsun]:\tMCMC (up) = 0.27247, (down) = 0.32105.\tOld = 0.04965\n",
      "\n",
      "\t*TRANSIT 21\n",
      "\t\tSignal = 0.00057. Noise (rms) = 0.00015. SNR = 3.82246\n",
      "\t\tOut-of-transit error of the transit LC = 0.00015\n",
      "\n",
      "Max b (rp in Solar Radius): 1.0254820543806646\n"
     ]
    },
    {
     "name": "stderr",
     "output_type": "stream",
     "text": [
      "/Users/mbadenas/anaconda3/lib/python3.6/site-packages/transit/transit.py:518: RuntimeWarning: divide by zero encountered in log\n",
      "  np.log(self.central.dilution)-np.log(1.0-self.central.dilution)\n"
     ]
    },
    {
     "name": "stdout",
     "output_type": "stream",
     "text": [
      "Optimization terminated successfully.\n",
      "         Current function value: -7751.304925\n",
      "         Iterations: 267\n",
      "         Function evaluations: 438\n"
     ]
    },
    {
     "name": "stderr",
     "output_type": "stream",
     "text": [
      "\r",
      "  0%|          | 0/200 [00:00<?, ?it/s]"
     ]
    },
    {
     "name": "stdout",
     "output_type": "stream",
     "text": [
      "Running burn-in\n"
     ]
    },
    {
     "name": "stderr",
     "output_type": "stream",
     "text": [
      "100%|██████████| 200/200 [00:23<00:00,  8.11it/s]\n",
      "  0%|          | 0/2000 [00:00<?, ?it/s]"
     ]
    },
    {
     "name": "stdout",
     "output_type": "stream",
     "text": [
      "\n",
      "------ Run MCMC -------\n"
     ]
    },
    {
     "name": "stderr",
     "output_type": "stream",
     "text": [
      "100%|██████████| 2000/2000 [03:56<00:00,  8.62it/s]\n"
     ]
    },
    {
     "name": "stdout",
     "output_type": "stream",
     "text": [
      "Mean acceptance fraction: 0.31659500000000007\n",
      "Acceptance fraction: 31.66 %\n",
      "\tStellar Radius [Rsun]:\tMCMC = 1.11087.\t1st Fit = 0.99987.\tKepler = 0.99300\n",
      "\tError Stellar Radius [Rsun]:\tMCMC (up) = 0.22799, (down) = 0.19026.\tOld = 0.04965\n",
      "\n",
      "\t*TRANSIT 22\n",
      "\t\tSignal = 0.00058. Noise (rms) = 0.00016. SNR = 3.60633\n",
      "\t\tOut-of-transit error of the transit LC = 0.00016\n",
      "\n",
      "Max b (rp in Solar Radius): 1.0254820543806646\n"
     ]
    },
    {
     "name": "stderr",
     "output_type": "stream",
     "text": [
      "/Users/mbadenas/anaconda3/lib/python3.6/site-packages/transit/transit.py:518: RuntimeWarning: divide by zero encountered in log\n",
      "  np.log(self.central.dilution)-np.log(1.0-self.central.dilution)\n"
     ]
    },
    {
     "name": "stdout",
     "output_type": "stream",
     "text": [
      "Optimization terminated successfully.\n",
      "         Current function value: -7605.718034\n",
      "         Iterations: 337\n",
      "         Function evaluations: 525\n"
     ]
    },
    {
     "name": "stderr",
     "output_type": "stream",
     "text": [
      "\r",
      "  0%|          | 0/200 [00:00<?, ?it/s]"
     ]
    },
    {
     "name": "stdout",
     "output_type": "stream",
     "text": [
      "Running burn-in\n"
     ]
    },
    {
     "name": "stderr",
     "output_type": "stream",
     "text": [
      "100%|██████████| 200/200 [00:25<00:00,  8.19it/s]\n",
      "  0%|          | 0/2000 [00:00<?, ?it/s]"
     ]
    },
    {
     "name": "stdout",
     "output_type": "stream",
     "text": [
      "\n",
      "------ Run MCMC -------\n"
     ]
    },
    {
     "name": "stderr",
     "output_type": "stream",
     "text": [
      "100%|██████████| 2000/2000 [03:45<00:00,  8.71it/s]\n"
     ]
    },
    {
     "name": "stdout",
     "output_type": "stream",
     "text": [
      "Mean acceptance fraction: 0.31150999999999995\n",
      "Acceptance fraction: 31.15 %\n",
      "\tStellar Radius [Rsun]:\tMCMC = 0.95432.\t1st Fit = 0.96610.\tKepler = 0.99300\n",
      "\tError Stellar Radius [Rsun]:\tMCMC (up) = 0.16682, (down) = 0.12360.\tOld = 0.04965\n",
      "\n",
      "\t*TRANSIT 23\n",
      "\t\tSignal = 0.00056. Noise (rms) = 0.00015. SNR = 3.61703\n",
      "\t\tOut-of-transit error of the transit LC = 0.00015\n",
      "\n",
      "Max b (rp in Solar Radius): 1.0254820543806646\n"
     ]
    },
    {
     "name": "stderr",
     "output_type": "stream",
     "text": [
      "/Users/mbadenas/anaconda3/lib/python3.6/site-packages/transit/transit.py:518: RuntimeWarning: divide by zero encountered in log\n",
      "  np.log(self.central.dilution)-np.log(1.0-self.central.dilution)\n"
     ]
    },
    {
     "name": "stdout",
     "output_type": "stream",
     "text": [
      "Optimization terminated successfully.\n",
      "         Current function value: -7239.862373\n",
      "         Iterations: 245\n",
      "         Function evaluations: 398\n"
     ]
    },
    {
     "name": "stderr",
     "output_type": "stream",
     "text": [
      "  0%|          | 1/200 [00:00<00:24,  8.09it/s]"
     ]
    },
    {
     "name": "stdout",
     "output_type": "stream",
     "text": [
      "Running burn-in\n"
     ]
    },
    {
     "name": "stderr",
     "output_type": "stream",
     "text": [
      "100%|██████████| 200/200 [00:23<00:00,  9.17it/s]\n",
      "  0%|          | 0/2000 [00:00<?, ?it/s]"
     ]
    },
    {
     "name": "stdout",
     "output_type": "stream",
     "text": [
      "\n",
      "------ Run MCMC -------\n"
     ]
    },
    {
     "name": "stderr",
     "output_type": "stream",
     "text": [
      "100%|██████████| 2000/2000 [03:44<00:00,  8.91it/s]\n"
     ]
    },
    {
     "name": "stdout",
     "output_type": "stream",
     "text": [
      "Mean acceptance fraction: 0.32445500000000005\n",
      "Acceptance fraction: 32.45 %\n",
      "\tStellar Radius [Rsun]:\tMCMC = 1.15588.\t1st Fit = 1.05145.\tKepler = 0.99300\n",
      "\tError Stellar Radius [Rsun]:\tMCMC (up) = 0.19817, (down) = 0.22043.\tOld = 0.04965\n",
      "\n",
      "\t*TRANSIT 24\n",
      "\t\tSignal = 0.00056. Noise (rms) = 0.00016. SNR = 3.47282\n",
      "\t\tOut-of-transit error of the transit LC = 0.00016\n",
      "\n",
      "Max b (rp in Solar Radius): 1.0254820543806646\n"
     ]
    },
    {
     "name": "stderr",
     "output_type": "stream",
     "text": [
      "/Users/mbadenas/anaconda3/lib/python3.6/site-packages/transit/transit.py:518: RuntimeWarning: divide by zero encountered in log\n",
      "  np.log(self.central.dilution)-np.log(1.0-self.central.dilution)\n"
     ]
    },
    {
     "name": "stdout",
     "output_type": "stream",
     "text": [
      "Optimization terminated successfully.\n",
      "         Current function value: -7625.651801\n",
      "         Iterations: 339\n",
      "         Function evaluations: 531\n"
     ]
    },
    {
     "name": "stderr",
     "output_type": "stream",
     "text": [
      "\r",
      "  0%|          | 0/200 [00:00<?, ?it/s]"
     ]
    },
    {
     "name": "stdout",
     "output_type": "stream",
     "text": [
      "Running burn-in\n"
     ]
    },
    {
     "name": "stderr",
     "output_type": "stream",
     "text": [
      "100%|██████████| 200/200 [00:24<00:00,  8.46it/s]\n",
      "  0%|          | 0/2000 [00:00<?, ?it/s]"
     ]
    },
    {
     "name": "stdout",
     "output_type": "stream",
     "text": [
      "\n",
      "------ Run MCMC -------\n"
     ]
    },
    {
     "name": "stderr",
     "output_type": "stream",
     "text": [
      "100%|██████████| 2000/2000 [03:49<00:00,  9.33it/s]\n"
     ]
    },
    {
     "name": "stdout",
     "output_type": "stream",
     "text": [
      "Mean acceptance fraction: 0.35437499999999994\n",
      "Acceptance fraction: 35.44 %\n",
      "\tStellar Radius [Rsun]:\tMCMC = 1.39748.\t1st Fit = 1.24379.\tKepler = 0.99300\n",
      "\tError Stellar Radius [Rsun]:\tMCMC (up) = 0.24803, (down) = 0.23716.\tOld = 0.04965\n",
      "\n",
      "\t*TRANSIT 25\n",
      "\t\tSignal = 0.00056. Noise (rms) = 0.00015. SNR = 3.63574\n",
      "\t\tOut-of-transit error of the transit LC = 0.00015\n",
      "\n",
      "Max b (rp in Solar Radius): 1.0254820543806646\n"
     ]
    },
    {
     "name": "stderr",
     "output_type": "stream",
     "text": [
      "/Users/mbadenas/anaconda3/lib/python3.6/site-packages/transit/transit.py:518: RuntimeWarning: divide by zero encountered in log\n",
      "  np.log(self.central.dilution)-np.log(1.0-self.central.dilution)\n"
     ]
    },
    {
     "name": "stdout",
     "output_type": "stream",
     "text": [
      "Optimization terminated successfully.\n",
      "         Current function value: -7650.669747\n",
      "         Iterations: 184\n",
      "         Function evaluations: 293\n"
     ]
    },
    {
     "name": "stderr",
     "output_type": "stream",
     "text": [
      "\r",
      "  0%|          | 0/200 [00:00<?, ?it/s]"
     ]
    },
    {
     "name": "stdout",
     "output_type": "stream",
     "text": [
      "Running burn-in\n"
     ]
    },
    {
     "name": "stderr",
     "output_type": "stream",
     "text": [
      "100%|██████████| 200/200 [00:24<00:00,  7.90it/s]\n",
      "  0%|          | 1/2000 [00:00<04:09,  8.02it/s]"
     ]
    },
    {
     "name": "stdout",
     "output_type": "stream",
     "text": [
      "\n",
      "------ Run MCMC -------\n"
     ]
    },
    {
     "name": "stderr",
     "output_type": "stream",
     "text": [
      "100%|██████████| 2000/2000 [03:43<00:00,  9.63it/s]\n"
     ]
    },
    {
     "name": "stdout",
     "output_type": "stream",
     "text": [
      "Mean acceptance fraction: 0.306485\n",
      "Acceptance fraction: 30.65 %\n",
      "\tStellar Radius [Rsun]:\tMCMC = 1.28430.\t1st Fit = 1.07029.\tKepler = 0.99300\n",
      "\tError Stellar Radius [Rsun]:\tMCMC (up) = 0.27661, (down) = 0.31908.\tOld = 0.04965\n",
      "\n",
      "\t*TRANSIT 26\n",
      "\t\tSignal = 0.00053. Noise (rms) = 0.00015. SNR = 3.43006\n",
      "\t\tOut-of-transit error of the transit LC = 0.00015\n",
      "\n",
      "Max b (rp in Solar Radius): 1.0254820543806646\n"
     ]
    },
    {
     "name": "stderr",
     "output_type": "stream",
     "text": [
      "/Users/mbadenas/anaconda3/lib/python3.6/site-packages/transit/transit.py:518: RuntimeWarning: divide by zero encountered in log\n",
      "  np.log(self.central.dilution)-np.log(1.0-self.central.dilution)\n"
     ]
    },
    {
     "name": "stdout",
     "output_type": "stream",
     "text": [
      "Optimization terminated successfully.\n",
      "         Current function value: -7679.710809\n",
      "         Iterations: 299\n",
      "         Function evaluations: 470\n"
     ]
    },
    {
     "name": "stderr",
     "output_type": "stream",
     "text": [
      "\r",
      "  0%|          | 0/200 [00:00<?, ?it/s]"
     ]
    },
    {
     "name": "stdout",
     "output_type": "stream",
     "text": [
      "Running burn-in\n"
     ]
    },
    {
     "name": "stderr",
     "output_type": "stream",
     "text": [
      "100%|██████████| 200/200 [00:24<00:00,  8.78it/s]\n",
      "  0%|          | 0/2000 [00:00<?, ?it/s]"
     ]
    },
    {
     "name": "stdout",
     "output_type": "stream",
     "text": [
      "\n",
      "------ Run MCMC -------\n"
     ]
    },
    {
     "name": "stderr",
     "output_type": "stream",
     "text": [
      "100%|██████████| 2000/2000 [03:47<00:00,  9.52it/s]\n"
     ]
    },
    {
     "name": "stdout",
     "output_type": "stream",
     "text": [
      "Mean acceptance fraction: 0.32959000000000005\n",
      "Acceptance fraction: 32.96 %\n",
      "\tStellar Radius [Rsun]:\tMCMC = 0.94637.\t1st Fit = 1.02424.\tKepler = 0.99300\n",
      "\tError Stellar Radius [Rsun]:\tMCMC (up) = 0.15767, (down) = 0.11859.\tOld = 0.04965\n",
      "\n",
      "\t*TRANSIT 27\n",
      "\t\tSignal = 0.00059. Noise (rms) = 0.00016. SNR = 3.72978\n",
      "\t\tOut-of-transit error of the transit LC = 0.00016\n",
      "\n",
      "Max b (rp in Solar Radius): 1.0254820543806646\n"
     ]
    },
    {
     "name": "stderr",
     "output_type": "stream",
     "text": [
      "/Users/mbadenas/anaconda3/lib/python3.6/site-packages/transit/transit.py:518: RuntimeWarning: divide by zero encountered in log\n",
      "  np.log(self.central.dilution)-np.log(1.0-self.central.dilution)\n"
     ]
    },
    {
     "name": "stdout",
     "output_type": "stream",
     "text": [
      "Optimization terminated successfully.\n",
      "         Current function value: -7487.039998\n",
      "         Iterations: 609\n",
      "         Function evaluations: 951\n"
     ]
    },
    {
     "name": "stderr",
     "output_type": "stream",
     "text": [
      "\r",
      "  0%|          | 0/200 [00:00<?, ?it/s]"
     ]
    },
    {
     "name": "stdout",
     "output_type": "stream",
     "text": [
      "Running burn-in\n"
     ]
    },
    {
     "name": "stderr",
     "output_type": "stream",
     "text": [
      "100%|██████████| 200/200 [00:25<00:00,  7.82it/s]\n",
      "  0%|          | 0/2000 [00:00<?, ?it/s]"
     ]
    },
    {
     "name": "stdout",
     "output_type": "stream",
     "text": [
      "\n",
      "------ Run MCMC -------\n"
     ]
    },
    {
     "name": "stderr",
     "output_type": "stream",
     "text": [
      "100%|██████████| 2000/2000 [03:55<00:00,  9.15it/s]\n"
     ]
    },
    {
     "name": "stdout",
     "output_type": "stream",
     "text": [
      "Mean acceptance fraction: 0.34582999999999997\n",
      "Acceptance fraction: 34.58 %\n",
      "\tStellar Radius [Rsun]:\tMCMC = 1.16574.\t1st Fit = 1.18822.\tKepler = 0.99300\n",
      "\tError Stellar Radius [Rsun]:\tMCMC (up) = 0.20069, (down) = 0.17018.\tOld = 0.04965\n",
      "\n",
      "\t*TRANSIT 28\n",
      "\t\tSignal = 0.00054. Noise (rms) = 0.00015. SNR = 3.48245\n",
      "\t\tOut-of-transit error of the transit LC = 0.00015\n",
      "\n",
      "Max b (rp in Solar Radius): 1.0254820543806646\n"
     ]
    },
    {
     "name": "stderr",
     "output_type": "stream",
     "text": [
      "/Users/mbadenas/anaconda3/lib/python3.6/site-packages/transit/transit.py:518: RuntimeWarning: divide by zero encountered in log\n",
      "  np.log(self.central.dilution)-np.log(1.0-self.central.dilution)\n"
     ]
    },
    {
     "name": "stdout",
     "output_type": "stream",
     "text": [
      "Optimization terminated successfully.\n",
      "         Current function value: -7237.238041\n",
      "         Iterations: 287\n",
      "         Function evaluations: 463\n"
     ]
    },
    {
     "name": "stderr",
     "output_type": "stream",
     "text": [
      "\r",
      "  0%|          | 0/200 [00:00<?, ?it/s]"
     ]
    },
    {
     "name": "stdout",
     "output_type": "stream",
     "text": [
      "Running burn-in\n"
     ]
    },
    {
     "name": "stderr",
     "output_type": "stream",
     "text": [
      "100%|██████████| 200/200 [00:22<00:00,  8.95it/s]\n",
      "  0%|          | 0/2000 [00:00<?, ?it/s]"
     ]
    },
    {
     "name": "stdout",
     "output_type": "stream",
     "text": [
      "\n",
      "------ Run MCMC -------\n"
     ]
    },
    {
     "name": "stderr",
     "output_type": "stream",
     "text": [
      "100%|██████████| 2000/2000 [03:27<00:00,  9.63it/s]\n"
     ]
    },
    {
     "name": "stdout",
     "output_type": "stream",
     "text": [
      "Mean acceptance fraction: 0.318835\n",
      "Acceptance fraction: 31.88 %\n",
      "\tStellar Radius [Rsun]:\tMCMC = 0.98791.\t1st Fit = 1.05707.\tKepler = 0.99300\n",
      "\tError Stellar Radius [Rsun]:\tMCMC (up) = 0.18897, (down) = 0.13692.\tOld = 0.04965\n",
      "\n",
      "\t*TRANSIT 29\n",
      "\t\tSignal = 0.00056. Noise (rms) = 0.00014. SNR = 3.96997\n",
      "\t\tOut-of-transit error of the transit LC = 0.00014\n",
      "\n",
      "Max b (rp in Solar Radius): 1.0254820543806646\n"
     ]
    },
    {
     "name": "stderr",
     "output_type": "stream",
     "text": [
      "/Users/mbadenas/anaconda3/lib/python3.6/site-packages/transit/transit.py:518: RuntimeWarning: divide by zero encountered in log\n",
      "  np.log(self.central.dilution)-np.log(1.0-self.central.dilution)\n"
     ]
    },
    {
     "name": "stdout",
     "output_type": "stream",
     "text": [
      "Optimization terminated successfully.\n",
      "         Current function value: -7860.640999\n",
      "         Iterations: 286\n",
      "         Function evaluations: 459\n"
     ]
    },
    {
     "name": "stderr",
     "output_type": "stream",
     "text": [
      "\r",
      "  0%|          | 0/200 [00:00<?, ?it/s]"
     ]
    },
    {
     "name": "stdout",
     "output_type": "stream",
     "text": [
      "Running burn-in\n"
     ]
    },
    {
     "name": "stderr",
     "output_type": "stream",
     "text": [
      "100%|██████████| 200/200 [00:23<00:00,  8.74it/s]\n",
      "  0%|          | 0/2000 [00:00<?, ?it/s]"
     ]
    },
    {
     "name": "stdout",
     "output_type": "stream",
     "text": [
      "\n",
      "------ Run MCMC -------\n"
     ]
    },
    {
     "name": "stderr",
     "output_type": "stream",
     "text": [
      "100%|██████████| 2000/2000 [03:44<00:00,  9.20it/s]\n"
     ]
    },
    {
     "name": "stdout",
     "output_type": "stream",
     "text": [
      "Mean acceptance fraction: 0.31695500000000004\n",
      "Acceptance fraction: 31.70 %\n",
      "\tStellar Radius [Rsun]:\tMCMC = 1.07585.\t1st Fit = 1.10807.\tKepler = 0.99300\n",
      "\tError Stellar Radius [Rsun]:\tMCMC (up) = 0.20451, (down) = 0.16913.\tOld = 0.04965\n",
      "\n",
      "\t*TRANSIT 30\n",
      "\t\tSignal = 0.00050. Noise (rms) = 0.00016. SNR = 3.13579\n",
      "\t\tOut-of-transit error of the transit LC = 0.00016\n",
      "\n",
      "Max b (rp in Solar Radius): 1.0254820543806646\n"
     ]
    },
    {
     "name": "stderr",
     "output_type": "stream",
     "text": [
      "/Users/mbadenas/anaconda3/lib/python3.6/site-packages/transit/transit.py:518: RuntimeWarning: divide by zero encountered in log\n",
      "  np.log(self.central.dilution)-np.log(1.0-self.central.dilution)\n"
     ]
    },
    {
     "name": "stdout",
     "output_type": "stream",
     "text": [
      "Optimization terminated successfully.\n",
      "         Current function value: -7723.092747\n",
      "         Iterations: 345\n",
      "         Function evaluations: 552\n"
     ]
    },
    {
     "name": "stderr",
     "output_type": "stream",
     "text": [
      "\r",
      "  0%|          | 0/200 [00:00<?, ?it/s]"
     ]
    },
    {
     "name": "stdout",
     "output_type": "stream",
     "text": [
      "Running burn-in\n"
     ]
    },
    {
     "name": "stderr",
     "output_type": "stream",
     "text": [
      "100%|██████████| 200/200 [00:22<00:00,  8.88it/s]\n",
      "  0%|          | 0/2000 [00:00<?, ?it/s]"
     ]
    },
    {
     "name": "stdout",
     "output_type": "stream",
     "text": [
      "\n",
      "------ Run MCMC -------\n"
     ]
    },
    {
     "name": "stderr",
     "output_type": "stream",
     "text": [
      "100%|██████████| 2000/2000 [03:18<00:00, 10.06it/s]\n"
     ]
    },
    {
     "name": "stdout",
     "output_type": "stream",
     "text": [
      "Mean acceptance fraction: 0.29155000000000003\n",
      "Acceptance fraction: 29.16 %\n",
      "\tStellar Radius [Rsun]:\tMCMC = 1.24672.\t1st Fit = 0.98810.\tKepler = 0.99300\n",
      "\tError Stellar Radius [Rsun]:\tMCMC (up) = 0.46338, (down) = 0.36629.\tOld = 0.04965\n",
      "\n",
      "\t*TRANSIT 32\n",
      "\t\tSignal = 0.00055. Noise (rms) = 0.00015. SNR = 3.56238\n",
      "\t\tOut-of-transit error of the transit LC = 0.00015\n",
      "\n",
      "Max b (rp in Solar Radius): 1.0254820543806646\n"
     ]
    },
    {
     "name": "stderr",
     "output_type": "stream",
     "text": [
      "/Users/mbadenas/anaconda3/lib/python3.6/site-packages/transit/transit.py:518: RuntimeWarning: divide by zero encountered in log\n",
      "  np.log(self.central.dilution)-np.log(1.0-self.central.dilution)\n"
     ]
    },
    {
     "name": "stdout",
     "output_type": "stream",
     "text": [
      "Optimization terminated successfully.\n",
      "         Current function value: -7692.009701\n",
      "         Iterations: 565\n",
      "         Function evaluations: 891\n"
     ]
    },
    {
     "name": "stderr",
     "output_type": "stream",
     "text": [
      "\r",
      "  0%|          | 0/200 [00:00<?, ?it/s]"
     ]
    },
    {
     "name": "stdout",
     "output_type": "stream",
     "text": [
      "Running burn-in\n"
     ]
    },
    {
     "name": "stderr",
     "output_type": "stream",
     "text": [
      "100%|██████████| 200/200 [00:23<00:00,  7.99it/s]\n",
      "  0%|          | 0/2000 [00:00<?, ?it/s]"
     ]
    },
    {
     "name": "stdout",
     "output_type": "stream",
     "text": [
      "\n",
      "------ Run MCMC -------\n"
     ]
    },
    {
     "name": "stderr",
     "output_type": "stream",
     "text": [
      "100%|██████████| 2000/2000 [03:46<00:00,  8.83it/s]\n"
     ]
    },
    {
     "name": "stdout",
     "output_type": "stream",
     "text": [
      "Mean acceptance fraction: 0.33282000000000006\n",
      "Acceptance fraction: 33.28 %\n",
      "\tStellar Radius [Rsun]:\tMCMC = 1.03589.\t1st Fit = 1.06384.\tKepler = 0.99300\n",
      "\tError Stellar Radius [Rsun]:\tMCMC (up) = 0.17763, (down) = 0.15176.\tOld = 0.04965\n",
      "\n",
      "\t*TRANSIT 34\n",
      "\t\tSignal = 0.00052. Noise (rms) = 0.00015. SNR = 3.49653\n",
      "\t\tOut-of-transit error of the transit LC = 0.00015\n",
      "\n",
      "Max b (rp in Solar Radius): 1.0254820543806646\n"
     ]
    },
    {
     "name": "stderr",
     "output_type": "stream",
     "text": [
      "/Users/mbadenas/anaconda3/lib/python3.6/site-packages/transit/transit.py:518: RuntimeWarning: divide by zero encountered in log\n",
      "  np.log(self.central.dilution)-np.log(1.0-self.central.dilution)\n"
     ]
    },
    {
     "name": "stdout",
     "output_type": "stream",
     "text": [
      "Optimization terminated successfully.\n",
      "         Current function value: -7546.753725\n",
      "         Iterations: 1529\n",
      "         Function evaluations: 2319\n"
     ]
    },
    {
     "name": "stderr",
     "output_type": "stream",
     "text": [
      "\r",
      "  0%|          | 0/200 [00:00<?, ?it/s]"
     ]
    },
    {
     "name": "stdout",
     "output_type": "stream",
     "text": [
      "Running burn-in\n"
     ]
    },
    {
     "name": "stderr",
     "output_type": "stream",
     "text": [
      "100%|██████████| 200/200 [00:22<00:00,  8.98it/s]\n",
      "  0%|          | 0/2000 [00:00<?, ?it/s]"
     ]
    },
    {
     "name": "stdout",
     "output_type": "stream",
     "text": [
      "\n",
      "------ Run MCMC -------\n"
     ]
    },
    {
     "name": "stderr",
     "output_type": "stream",
     "text": [
      "100%|██████████| 2000/2000 [03:40<00:00,  8.53it/s]\n"
     ]
    },
    {
     "name": "stdout",
     "output_type": "stream",
     "text": [
      "Mean acceptance fraction: 0.4123449999999999\n",
      "Acceptance fraction: 41.23 %\n",
      "\tStellar Radius [Rsun]:\tMCMC = 0.80333.\t1st Fit = 0.78987.\tKepler = 0.99300\n",
      "\tError Stellar Radius [Rsun]:\tMCMC (up) = 0.07792, (down) = 0.01403.\tOld = 0.04965\n",
      "\n",
      "\t*TRANSIT 35\n",
      "\t\tSignal = 0.00052. Noise (rms) = 0.00014. SNR = 3.63906\n",
      "\t\tOut-of-transit error of the transit LC = 0.00014\n",
      "\n",
      "Max b (rp in Solar Radius): 1.0254820543806646\n"
     ]
    },
    {
     "name": "stderr",
     "output_type": "stream",
     "text": [
      "/Users/mbadenas/anaconda3/lib/python3.6/site-packages/transit/transit.py:518: RuntimeWarning: divide by zero encountered in log\n",
      "  np.log(self.central.dilution)-np.log(1.0-self.central.dilution)\n"
     ]
    },
    {
     "name": "stdout",
     "output_type": "stream",
     "text": [
      "Optimization terminated successfully.\n",
      "         Current function value: -7743.738580\n",
      "         Iterations: 258\n",
      "         Function evaluations: 419\n"
     ]
    },
    {
     "name": "stderr",
     "output_type": "stream",
     "text": [
      "\r",
      "  0%|          | 0/200 [00:00<?, ?it/s]"
     ]
    },
    {
     "name": "stdout",
     "output_type": "stream",
     "text": [
      "Running burn-in\n"
     ]
    },
    {
     "name": "stderr",
     "output_type": "stream",
     "text": [
      "100%|██████████| 200/200 [00:26<00:00,  7.53it/s]\n",
      "  0%|          | 0/2000 [00:00<?, ?it/s]"
     ]
    },
    {
     "name": "stdout",
     "output_type": "stream",
     "text": [
      "\n",
      "------ Run MCMC -------\n"
     ]
    },
    {
     "name": "stderr",
     "output_type": "stream",
     "text": [
      "100%|██████████| 2000/2000 [03:55<00:00,  8.47it/s]\n"
     ]
    },
    {
     "name": "stdout",
     "output_type": "stream",
     "text": [
      "Mean acceptance fraction: 0.29235999999999995\n",
      "Acceptance fraction: 29.24 %\n",
      "\tStellar Radius [Rsun]:\tMCMC = 0.94696.\t1st Fit = 1.06489.\tKepler = 0.99300\n",
      "\tError Stellar Radius [Rsun]:\tMCMC (up) = 0.25910, (down) = 0.13184.\tOld = 0.04965\n",
      "\n",
      "\t*TRANSIT 36\n",
      "\t\tSignal = 0.00053. Noise (rms) = 0.00016. SNR = 3.38411\n",
      "\t\tOut-of-transit error of the transit LC = 0.00016\n",
      "\n",
      "Max b (rp in Solar Radius): 1.0254820543806646\n"
     ]
    },
    {
     "name": "stderr",
     "output_type": "stream",
     "text": [
      "/Users/mbadenas/anaconda3/lib/python3.6/site-packages/transit/transit.py:518: RuntimeWarning: divide by zero encountered in log\n",
      "  np.log(self.central.dilution)-np.log(1.0-self.central.dilution)\n"
     ]
    },
    {
     "name": "stdout",
     "output_type": "stream",
     "text": [
      "Optimization terminated successfully.\n",
      "         Current function value: -7496.983870\n",
      "         Iterations: 320\n",
      "         Function evaluations: 530\n"
     ]
    },
    {
     "name": "stderr",
     "output_type": "stream",
     "text": [
      "\r",
      "  0%|          | 0/200 [00:00<?, ?it/s]"
     ]
    },
    {
     "name": "stdout",
     "output_type": "stream",
     "text": [
      "Running burn-in\n"
     ]
    },
    {
     "name": "stderr",
     "output_type": "stream",
     "text": [
      "100%|██████████| 200/200 [00:24<00:00,  8.68it/s]\n",
      "  0%|          | 0/2000 [00:00<?, ?it/s]"
     ]
    },
    {
     "name": "stdout",
     "output_type": "stream",
     "text": [
      "\n",
      "------ Run MCMC -------\n"
     ]
    },
    {
     "name": "stderr",
     "output_type": "stream",
     "text": [
      "100%|██████████| 2000/2000 [03:31<00:00, 10.46it/s]\n"
     ]
    },
    {
     "name": "stdout",
     "output_type": "stream",
     "text": [
      "Mean acceptance fraction: 0.28356499999999996\n",
      "Acceptance fraction: 28.36 %\n",
      "\tStellar Radius [Rsun]:\tMCMC = 1.02764.\t1st Fit = 0.96868.\tKepler = 0.99300\n",
      "\tError Stellar Radius [Rsun]:\tMCMC (up) = 0.27722, (down) = 0.19417.\tOld = 0.04965\n",
      "\n",
      "\t*TRANSIT 37\n",
      "\t\tSignal = 0.00057. Noise (rms) = 0.00016. SNR = 3.56090\n",
      "\t\tOut-of-transit error of the transit LC = 0.00016\n",
      "\n",
      "Max b (rp in Solar Radius): 1.0254820543806646\n"
     ]
    },
    {
     "name": "stderr",
     "output_type": "stream",
     "text": [
      "/Users/mbadenas/anaconda3/lib/python3.6/site-packages/transit/transit.py:518: RuntimeWarning: divide by zero encountered in log\n",
      "  np.log(self.central.dilution)-np.log(1.0-self.central.dilution)\n"
     ]
    },
    {
     "name": "stdout",
     "output_type": "stream",
     "text": [
      "Optimization terminated successfully.\n",
      "         Current function value: -7596.108206\n",
      "         Iterations: 288\n",
      "         Function evaluations: 466\n"
     ]
    },
    {
     "name": "stderr",
     "output_type": "stream",
     "text": [
      "\r",
      "  0%|          | 0/200 [00:00<?, ?it/s]"
     ]
    },
    {
     "name": "stdout",
     "output_type": "stream",
     "text": [
      "Running burn-in\n"
     ]
    },
    {
     "name": "stderr",
     "output_type": "stream",
     "text": [
      "100%|██████████| 200/200 [00:25<00:00,  7.77it/s]\n",
      "  0%|          | 0/2000 [00:00<?, ?it/s]"
     ]
    },
    {
     "name": "stdout",
     "output_type": "stream",
     "text": [
      "\n",
      "------ Run MCMC -------\n"
     ]
    },
    {
     "name": "stderr",
     "output_type": "stream",
     "text": [
      "100%|██████████| 2000/2000 [03:46<00:00,  9.63it/s]\n"
     ]
    },
    {
     "name": "stdout",
     "output_type": "stream",
     "text": [
      "Mean acceptance fraction: 0.33055999999999996\n",
      "Acceptance fraction: 33.06 %\n",
      "\tStellar Radius [Rsun]:\tMCMC = 1.43060.\t1st Fit = 1.14236.\tKepler = 0.99300\n",
      "\tError Stellar Radius [Rsun]:\tMCMC (up) = 0.28529, (down) = 0.34809.\tOld = 0.04965\n",
      "\n",
      "\t*TRANSIT 39\n",
      "\t\tSignal = 0.00053. Noise (rms) = 0.00016. SNR = 3.23842\n",
      "\t\tOut-of-transit error of the transit LC = 0.00016\n",
      "\n",
      "Max b (rp in Solar Radius): 1.0254820543806646\n"
     ]
    },
    {
     "name": "stderr",
     "output_type": "stream",
     "text": [
      "/Users/mbadenas/anaconda3/lib/python3.6/site-packages/transit/transit.py:518: RuntimeWarning: divide by zero encountered in log\n",
      "  np.log(self.central.dilution)-np.log(1.0-self.central.dilution)\n"
     ]
    },
    {
     "name": "stdout",
     "output_type": "stream",
     "text": [
      "Optimization terminated successfully.\n",
      "         Current function value: -7657.780833\n",
      "         Iterations: 291\n",
      "         Function evaluations: 458\n"
     ]
    },
    {
     "name": "stderr",
     "output_type": "stream",
     "text": [
      "\r",
      "  0%|          | 0/200 [00:00<?, ?it/s]"
     ]
    },
    {
     "name": "stdout",
     "output_type": "stream",
     "text": [
      "Running burn-in\n"
     ]
    },
    {
     "name": "stderr",
     "output_type": "stream",
     "text": [
      "100%|██████████| 200/200 [00:24<00:00,  8.60it/s]\n",
      "  0%|          | 0/2000 [00:00<?, ?it/s]"
     ]
    },
    {
     "name": "stdout",
     "output_type": "stream",
     "text": [
      "\n",
      "------ Run MCMC -------\n"
     ]
    },
    {
     "name": "stderr",
     "output_type": "stream",
     "text": [
      "100%|██████████| 2000/2000 [03:38<00:00,  9.14it/s]\n"
     ]
    },
    {
     "name": "stdout",
     "output_type": "stream",
     "text": [
      "Mean acceptance fraction: 0.31903\n",
      "Acceptance fraction: 31.90 %\n",
      "\tStellar Radius [Rsun]:\tMCMC = 1.01033.\t1st Fit = 1.04050.\tKepler = 0.99300\n",
      "\tError Stellar Radius [Rsun]:\tMCMC (up) = 0.19325, (down) = 0.16242.\tOld = 0.04965\n",
      "\n",
      "\t*TRANSIT 40\n",
      "\t\tSignal = 0.00051. Noise (rms) = 0.00015. SNR = 3.38126\n",
      "\t\tOut-of-transit error of the transit LC = 0.00015\n",
      "\n",
      "Max b (rp in Solar Radius): 1.0254820543806646\n"
     ]
    },
    {
     "name": "stderr",
     "output_type": "stream",
     "text": [
      "/Users/mbadenas/anaconda3/lib/python3.6/site-packages/transit/transit.py:518: RuntimeWarning: divide by zero encountered in log\n",
      "  np.log(self.central.dilution)-np.log(1.0-self.central.dilution)\n"
     ]
    },
    {
     "name": "stdout",
     "output_type": "stream",
     "text": [
      "Optimization terminated successfully.\n",
      "         Current function value: -7725.150644\n",
      "         Iterations: 233\n",
      "         Function evaluations: 375\n"
     ]
    },
    {
     "name": "stderr",
     "output_type": "stream",
     "text": [
      "  0%|          | 1/200 [00:00<00:22,  9.00it/s]"
     ]
    },
    {
     "name": "stdout",
     "output_type": "stream",
     "text": [
      "Running burn-in\n"
     ]
    },
    {
     "name": "stderr",
     "output_type": "stream",
     "text": [
      "100%|██████████| 200/200 [00:24<00:00,  7.17it/s]\n",
      "  0%|          | 0/2000 [00:00<?, ?it/s]"
     ]
    },
    {
     "name": "stdout",
     "output_type": "stream",
     "text": [
      "\n",
      "------ Run MCMC -------\n"
     ]
    },
    {
     "name": "stderr",
     "output_type": "stream",
     "text": [
      "100%|██████████| 2000/2000 [03:49<00:00,  9.60it/s]\n"
     ]
    },
    {
     "name": "stdout",
     "output_type": "stream",
     "text": [
      "Mean acceptance fraction: 0.30639000000000005\n",
      "Acceptance fraction: 30.64 %\n",
      "\tStellar Radius [Rsun]:\tMCMC = 1.04756.\t1st Fit = 1.05158.\tKepler = 0.99300\n",
      "\tError Stellar Radius [Rsun]:\tMCMC (up) = 0.20575, (down) = 0.18914.\tOld = 0.04965\n",
      "\n",
      "\t*TRANSIT 41\n",
      "\t\tSignal = 0.00058. Noise (rms) = 0.00016. SNR = 3.73193\n",
      "\t\tOut-of-transit error of the transit LC = 0.00016\n",
      "\n",
      "Max b (rp in Solar Radius): 1.0254820543806646\n"
     ]
    },
    {
     "name": "stderr",
     "output_type": "stream",
     "text": [
      "/Users/mbadenas/anaconda3/lib/python3.6/site-packages/transit/transit.py:518: RuntimeWarning: divide by zero encountered in log\n",
      "  np.log(self.central.dilution)-np.log(1.0-self.central.dilution)\n"
     ]
    },
    {
     "name": "stdout",
     "output_type": "stream",
     "text": [
      "Optimization terminated successfully.\n",
      "         Current function value: -7712.184226\n",
      "         Iterations: 276\n",
      "         Function evaluations: 442\n"
     ]
    },
    {
     "name": "stderr",
     "output_type": "stream",
     "text": [
      "\r",
      "  0%|          | 0/200 [00:00<?, ?it/s]"
     ]
    },
    {
     "name": "stdout",
     "output_type": "stream",
     "text": [
      "Running burn-in\n"
     ]
    },
    {
     "name": "stderr",
     "output_type": "stream",
     "text": [
      "100%|██████████| 200/200 [00:23<00:00,  8.45it/s]\n",
      "  0%|          | 0/2000 [00:00<?, ?it/s]"
     ]
    },
    {
     "name": "stdout",
     "output_type": "stream",
     "text": [
      "\n",
      "------ Run MCMC -------\n"
     ]
    },
    {
     "name": "stderr",
     "output_type": "stream",
     "text": [
      "100%|██████████| 2000/2000 [03:39<00:00,  9.36it/s]\n"
     ]
    },
    {
     "name": "stdout",
     "output_type": "stream",
     "text": [
      "Mean acceptance fraction: 0.3111\n",
      "Acceptance fraction: 31.11 %\n",
      "\tStellar Radius [Rsun]:\tMCMC = 1.04729.\t1st Fit = 1.03558.\tKepler = 0.99300\n",
      "\tError Stellar Radius [Rsun]:\tMCMC (up) = 0.18015, (down) = 0.18156.\tOld = 0.04965\n",
      "\n",
      "\t*TRANSIT 42\n",
      "\t\tSignal = 0.00054. Noise (rms) = 0.00015. SNR = 3.58309\n",
      "\t\tOut-of-transit error of the transit LC = 0.00015\n",
      "\n",
      "Max b (rp in Solar Radius): 1.0254820543806646\n"
     ]
    },
    {
     "name": "stderr",
     "output_type": "stream",
     "text": [
      "/Users/mbadenas/anaconda3/lib/python3.6/site-packages/transit/transit.py:518: RuntimeWarning: divide by zero encountered in log\n",
      "  np.log(self.central.dilution)-np.log(1.0-self.central.dilution)\n"
     ]
    },
    {
     "name": "stdout",
     "output_type": "stream",
     "text": [
      "Optimization terminated successfully.\n",
      "         Current function value: -7674.736298\n",
      "         Iterations: 354\n",
      "         Function evaluations: 559\n"
     ]
    },
    {
     "name": "stderr",
     "output_type": "stream",
     "text": [
      "\r",
      "  0%|          | 0/200 [00:00<?, ?it/s]"
     ]
    },
    {
     "name": "stdout",
     "output_type": "stream",
     "text": [
      "Running burn-in\n"
     ]
    },
    {
     "name": "stderr",
     "output_type": "stream",
     "text": [
      "100%|██████████| 200/200 [00:23<00:00,  8.33it/s]\n",
      "  0%|          | 0/2000 [00:00<?, ?it/s]"
     ]
    },
    {
     "name": "stdout",
     "output_type": "stream",
     "text": [
      "\n",
      "------ Run MCMC -------\n"
     ]
    },
    {
     "name": "stderr",
     "output_type": "stream",
     "text": [
      "100%|██████████| 2000/2000 [03:36<00:00,  9.80it/s]\n"
     ]
    },
    {
     "name": "stdout",
     "output_type": "stream",
     "text": [
      "Mean acceptance fraction: 0.29942500000000005\n",
      "Acceptance fraction: 29.94 %\n",
      "\tStellar Radius [Rsun]:\tMCMC = 0.96934.\t1st Fit = 1.00938.\tKepler = 0.99300\n",
      "\tError Stellar Radius [Rsun]:\tMCMC (up) = 0.21848, (down) = 0.13199.\tOld = 0.04965\n",
      "\n",
      "\t*TRANSIT 43\n",
      "\t\tSignal = 0.00056. Noise (rms) = 0.00014. SNR = 3.86792\n",
      "\t\tOut-of-transit error of the transit LC = 0.00014\n",
      "\n",
      "Max b (rp in Solar Radius): 1.0254820543806646\n"
     ]
    },
    {
     "name": "stderr",
     "output_type": "stream",
     "text": [
      "/Users/mbadenas/anaconda3/lib/python3.6/site-packages/transit/transit.py:518: RuntimeWarning: divide by zero encountered in log\n",
      "  np.log(self.central.dilution)-np.log(1.0-self.central.dilution)\n"
     ]
    },
    {
     "name": "stdout",
     "output_type": "stream",
     "text": [
      "Optimization terminated successfully.\n",
      "         Current function value: -7741.218762\n",
      "         Iterations: 252\n",
      "         Function evaluations: 410\n"
     ]
    },
    {
     "name": "stderr",
     "output_type": "stream",
     "text": [
      "\r",
      "  0%|          | 0/200 [00:00<?, ?it/s]"
     ]
    },
    {
     "name": "stdout",
     "output_type": "stream",
     "text": [
      "Running burn-in\n"
     ]
    },
    {
     "name": "stderr",
     "output_type": "stream",
     "text": [
      "100%|██████████| 200/200 [00:23<00:00,  8.70it/s]\n",
      "  0%|          | 0/2000 [00:00<?, ?it/s]"
     ]
    },
    {
     "name": "stdout",
     "output_type": "stream",
     "text": [
      "\n",
      "------ Run MCMC -------\n"
     ]
    },
    {
     "name": "stderr",
     "output_type": "stream",
     "text": [
      "100%|██████████| 2000/2000 [03:49<00:00,  9.21it/s]\n"
     ]
    },
    {
     "name": "stdout",
     "output_type": "stream",
     "text": [
      "Mean acceptance fraction: 0.30824000000000007\n",
      "Acceptance fraction: 30.82 %\n",
      "\tStellar Radius [Rsun]:\tMCMC = 0.97705.\t1st Fit = 1.05125.\tKepler = 0.99300\n",
      "\tError Stellar Radius [Rsun]:\tMCMC (up) = 0.21046, (down) = 0.13154.\tOld = 0.04965\n",
      "\n",
      "\t*TRANSIT 44\n",
      "\t\tSignal = 0.00052. Noise (rms) = 0.00015. SNR = 3.35185\n",
      "\t\tOut-of-transit error of the transit LC = 0.00015\n",
      "\n",
      "Max b (rp in Solar Radius): 1.0254820543806646\n"
     ]
    },
    {
     "name": "stderr",
     "output_type": "stream",
     "text": [
      "/Users/mbadenas/anaconda3/lib/python3.6/site-packages/transit/transit.py:518: RuntimeWarning: divide by zero encountered in log\n",
      "  np.log(self.central.dilution)-np.log(1.0-self.central.dilution)\n"
     ]
    },
    {
     "name": "stdout",
     "output_type": "stream",
     "text": [
      "Optimization terminated successfully.\n",
      "         Current function value: -7650.820464\n",
      "         Iterations: 369\n",
      "         Function evaluations: 580\n"
     ]
    },
    {
     "name": "stderr",
     "output_type": "stream",
     "text": [
      "\r",
      "  0%|          | 0/200 [00:00<?, ?it/s]"
     ]
    },
    {
     "name": "stdout",
     "output_type": "stream",
     "text": [
      "Running burn-in\n"
     ]
    },
    {
     "name": "stderr",
     "output_type": "stream",
     "text": [
      "100%|██████████| 200/200 [00:23<00:00,  9.03it/s]\n",
      "  0%|          | 0/2000 [00:00<?, ?it/s]"
     ]
    },
    {
     "name": "stdout",
     "output_type": "stream",
     "text": [
      "\n",
      "------ Run MCMC -------\n"
     ]
    },
    {
     "name": "stderr",
     "output_type": "stream",
     "text": [
      "100%|██████████| 2000/2000 [03:45<00:00, 10.26it/s]\n"
     ]
    },
    {
     "name": "stdout",
     "output_type": "stream",
     "text": [
      "Mean acceptance fraction: 0.309805\n",
      "Acceptance fraction: 30.98 %\n",
      "\tStellar Radius [Rsun]:\tMCMC = 1.20833.\t1st Fit = 1.08150.\tKepler = 0.99300\n",
      "\tError Stellar Radius [Rsun]:\tMCMC (up) = 0.26896, (down) = 0.25192.\tOld = 0.04965\n",
      "\n",
      "\t*TRANSIT 45\n",
      "\t\tSignal = 0.00055. Noise (rms) = 0.00015. SNR = 3.64847\n",
      "\t\tOut-of-transit error of the transit LC = 0.00015\n",
      "\n",
      "Max b (rp in Solar Radius): 1.0254820543806646\n"
     ]
    },
    {
     "name": "stderr",
     "output_type": "stream",
     "text": [
      "/Users/mbadenas/anaconda3/lib/python3.6/site-packages/transit/transit.py:518: RuntimeWarning: divide by zero encountered in log\n",
      "  np.log(self.central.dilution)-np.log(1.0-self.central.dilution)\n"
     ]
    },
    {
     "name": "stdout",
     "output_type": "stream",
     "text": [
      "Optimization terminated successfully.\n",
      "         Current function value: -6157.818225\n",
      "         Iterations: 176\n",
      "         Function evaluations: 286\n"
     ]
    },
    {
     "name": "stderr",
     "output_type": "stream",
     "text": [
      "  1%|          | 2/200 [00:00<00:16, 11.90it/s]"
     ]
    },
    {
     "name": "stdout",
     "output_type": "stream",
     "text": [
      "Running burn-in\n"
     ]
    },
    {
     "name": "stderr",
     "output_type": "stream",
     "text": [
      "100%|██████████| 200/200 [00:18<00:00, 11.69it/s]\n",
      "  0%|          | 0/2000 [00:00<?, ?it/s]"
     ]
    },
    {
     "name": "stdout",
     "output_type": "stream",
     "text": [
      "\n",
      "------ Run MCMC -------\n"
     ]
    },
    {
     "name": "stderr",
     "output_type": "stream",
     "text": [
      "100%|██████████| 2000/2000 [02:35<00:00, 13.81it/s]\n"
     ]
    },
    {
     "name": "stdout",
     "output_type": "stream",
     "text": [
      "Mean acceptance fraction: 0.31581000000000004\n",
      "Acceptance fraction: 31.58 %\n",
      "\tStellar Radius [Rsun]:\tMCMC = 1.04899.\t1st Fit = 1.05883.\tKepler = 0.99300\n",
      "\tError Stellar Radius [Rsun]:\tMCMC (up) = 0.26011, (down) = 0.17668.\tOld = 0.04965\n",
      "\n",
      "\t*TRANSIT 46\n",
      "\t\tSignal = 0.00056. Noise (rms) = 0.00016. SNR = 3.52737\n",
      "\t\tOut-of-transit error of the transit LC = 0.00016\n",
      "\n",
      "Max b (rp in Solar Radius): 1.0254820543806646\n"
     ]
    },
    {
     "name": "stderr",
     "output_type": "stream",
     "text": [
      "/Users/mbadenas/anaconda3/lib/python3.6/site-packages/transit/transit.py:518: RuntimeWarning: divide by zero encountered in log\n",
      "  np.log(self.central.dilution)-np.log(1.0-self.central.dilution)\n"
     ]
    },
    {
     "name": "stdout",
     "output_type": "stream",
     "text": [
      "Optimization terminated successfully.\n",
      "         Current function value: -7660.669838\n",
      "         Iterations: 296\n",
      "         Function evaluations: 468\n"
     ]
    },
    {
     "name": "stderr",
     "output_type": "stream",
     "text": [
      "\r",
      "  0%|          | 0/200 [00:00<?, ?it/s]"
     ]
    },
    {
     "name": "stdout",
     "output_type": "stream",
     "text": [
      "Running burn-in\n"
     ]
    },
    {
     "name": "stderr",
     "output_type": "stream",
     "text": [
      "100%|██████████| 200/200 [00:23<00:00,  8.52it/s]\n",
      "  0%|          | 0/2000 [00:00<?, ?it/s]"
     ]
    },
    {
     "name": "stdout",
     "output_type": "stream",
     "text": [
      "\n",
      "------ Run MCMC -------\n"
     ]
    },
    {
     "name": "stderr",
     "output_type": "stream",
     "text": [
      "100%|██████████| 2000/2000 [03:46<00:00,  9.50it/s]\n"
     ]
    },
    {
     "name": "stdout",
     "output_type": "stream",
     "text": [
      "Mean acceptance fraction: 0.31167999999999996\n",
      "Acceptance fraction: 31.17 %\n",
      "\tStellar Radius [Rsun]:\tMCMC = 1.05402.\t1st Fit = 1.03157.\tKepler = 0.99300\n",
      "\tError Stellar Radius [Rsun]:\tMCMC (up) = 0.19498, (down) = 0.17995.\tOld = 0.04965\n",
      "\n",
      "\t*TRANSIT 47\n",
      "\t\tSignal = 0.00055. Noise (rms) = 0.00015. SNR = 3.61026\n",
      "\t\tOut-of-transit error of the transit LC = 0.00015\n",
      "\n",
      "Max b (rp in Solar Radius): 1.0254820543806646\n"
     ]
    },
    {
     "name": "stderr",
     "output_type": "stream",
     "text": [
      "/Users/mbadenas/anaconda3/lib/python3.6/site-packages/transit/transit.py:518: RuntimeWarning: divide by zero encountered in log\n",
      "  np.log(self.central.dilution)-np.log(1.0-self.central.dilution)\n"
     ]
    },
    {
     "name": "stdout",
     "output_type": "stream",
     "text": [
      "Optimization terminated successfully.\n",
      "         Current function value: -7619.116917\n",
      "         Iterations: 163\n",
      "         Function evaluations: 271\n"
     ]
    },
    {
     "name": "stderr",
     "output_type": "stream",
     "text": [
      "\r",
      "  0%|          | 0/200 [00:00<?, ?it/s]"
     ]
    },
    {
     "name": "stdout",
     "output_type": "stream",
     "text": [
      "Running burn-in\n"
     ]
    },
    {
     "name": "stderr",
     "output_type": "stream",
     "text": [
      "100%|██████████| 200/200 [00:24<00:00,  7.97it/s]\n",
      "  0%|          | 0/2000 [00:00<?, ?it/s]"
     ]
    },
    {
     "name": "stdout",
     "output_type": "stream",
     "text": [
      "\n",
      "------ Run MCMC -------\n"
     ]
    },
    {
     "name": "stderr",
     "output_type": "stream",
     "text": [
      "100%|██████████| 2000/2000 [04:37<00:00,  8.01it/s]\n"
     ]
    },
    {
     "name": "stdout",
     "output_type": "stream",
     "text": [
      "Mean acceptance fraction: 0.323185\n",
      "Acceptance fraction: 32.32 %\n",
      "\tStellar Radius [Rsun]:\tMCMC = 1.04208.\t1st Fit = 1.08102.\tKepler = 0.99300\n",
      "\tError Stellar Radius [Rsun]:\tMCMC (up) = 0.17836, (down) = 0.15634.\tOld = 0.04965\n",
      "\n",
      "\t*TRANSIT 48\n",
      "\t\tSignal = 0.00056. Noise (rms) = 0.00016. SNR = 3.58921\n",
      "\t\tOut-of-transit error of the transit LC = 0.00016\n",
      "\n",
      "Max b (rp in Solar Radius): 1.0254820543806646\n"
     ]
    },
    {
     "name": "stderr",
     "output_type": "stream",
     "text": [
      "/Users/mbadenas/anaconda3/lib/python3.6/site-packages/transit/transit.py:518: RuntimeWarning: divide by zero encountered in log\n",
      "  np.log(self.central.dilution)-np.log(1.0-self.central.dilution)\n"
     ]
    },
    {
     "name": "stdout",
     "output_type": "stream",
     "text": [
      "Optimization terminated successfully.\n",
      "         Current function value: -6516.978923\n",
      "         Iterations: 438\n",
      "         Function evaluations: 688\n"
     ]
    },
    {
     "name": "stderr",
     "output_type": "stream",
     "text": [
      "\r",
      "  0%|          | 0/200 [00:00<?, ?it/s]"
     ]
    },
    {
     "name": "stdout",
     "output_type": "stream",
     "text": [
      "Running burn-in\n"
     ]
    },
    {
     "name": "stderr",
     "output_type": "stream",
     "text": [
      "100%|██████████| 200/200 [00:25<00:00,  7.38it/s]\n",
      "  0%|          | 1/2000 [00:00<04:17,  7.75it/s]"
     ]
    },
    {
     "name": "stdout",
     "output_type": "stream",
     "text": [
      "\n",
      "------ Run MCMC -------\n"
     ]
    },
    {
     "name": "stderr",
     "output_type": "stream",
     "text": [
      "100%|██████████| 2000/2000 [04:24<00:00,  9.59it/s]\n"
     ]
    },
    {
     "name": "stdout",
     "output_type": "stream",
     "text": [
      "Mean acceptance fraction: 0.3646149999999999\n",
      "Acceptance fraction: 36.46 %\n",
      "\tStellar Radius [Rsun]:\tMCMC = 1.27954.\t1st Fit = 1.25621.\tKepler = 0.99300\n",
      "\tError Stellar Radius [Rsun]:\tMCMC (up) = 0.23006, (down) = 0.20953.\tOld = 0.04965\n",
      "\n",
      "\t*TRANSIT 49\n",
      "\t\tSignal = 0.00051. Noise (rms) = 0.00015. SNR = 3.34691\n",
      "\t\tOut-of-transit error of the transit LC = 0.00015\n",
      "\n",
      "Max b (rp in Solar Radius): 1.0254820543806646\n",
      "Optimization terminated successfully.\n",
      "         Current function value: -7707.174563\n",
      "         Iterations: 272\n",
      "         Function evaluations: 436\n"
     ]
    },
    {
     "name": "stderr",
     "output_type": "stream",
     "text": [
      "\r",
      "  0%|          | 0/200 [00:00<?, ?it/s]"
     ]
    },
    {
     "name": "stdout",
     "output_type": "stream",
     "text": [
      "Running burn-in\n"
     ]
    },
    {
     "name": "stderr",
     "output_type": "stream",
     "text": [
      "100%|██████████| 200/200 [00:24<00:00,  8.59it/s]\n",
      "  0%|          | 0/2000 [00:00<?, ?it/s]"
     ]
    },
    {
     "name": "stdout",
     "output_type": "stream",
     "text": [
      "\n",
      "------ Run MCMC -------\n"
     ]
    },
    {
     "name": "stderr",
     "output_type": "stream",
     "text": [
      "100%|██████████| 2000/2000 [03:50<00:00,  7.95it/s]\n"
     ]
    },
    {
     "name": "stdout",
     "output_type": "stream",
     "text": [
      "Mean acceptance fraction: 0.30261499999999997\n",
      "Acceptance fraction: 30.26 %\n",
      "\tStellar Radius [Rsun]:\tMCMC = 1.00404.\t1st Fit = 1.03071.\tKepler = 0.99300\n",
      "\tError Stellar Radius [Rsun]:\tMCMC (up) = 0.21586, (down) = 0.15494.\tOld = 0.04965\n",
      "\n",
      "\t*TRANSIT 50\n",
      "\t\tSignal = 0.00050. Noise (rms) = 0.00015. SNR = 3.24363\n",
      "\t\tOut-of-transit error of the transit LC = 0.00015\n",
      "\n",
      "Max b (rp in Solar Radius): 1.0254820543806646\n"
     ]
    },
    {
     "name": "stderr",
     "output_type": "stream",
     "text": [
      "/Users/mbadenas/anaconda3/lib/python3.6/site-packages/transit/transit.py:518: RuntimeWarning: divide by zero encountered in log\n",
      "  np.log(self.central.dilution)-np.log(1.0-self.central.dilution)\n"
     ]
    },
    {
     "name": "stdout",
     "output_type": "stream",
     "text": [
      "Optimization terminated successfully.\n",
      "         Current function value: -7649.366117\n",
      "         Iterations: 310\n",
      "         Function evaluations: 502\n"
     ]
    },
    {
     "name": "stderr",
     "output_type": "stream",
     "text": [
      "\r",
      "  0%|          | 0/200 [00:00<?, ?it/s]"
     ]
    },
    {
     "name": "stdout",
     "output_type": "stream",
     "text": [
      "Running burn-in\n"
     ]
    },
    {
     "name": "stderr",
     "output_type": "stream",
     "text": [
      "100%|██████████| 200/200 [00:25<00:00,  8.25it/s]\n",
      "  0%|          | 0/2000 [00:00<?, ?it/s]"
     ]
    },
    {
     "name": "stdout",
     "output_type": "stream",
     "text": [
      "\n",
      "------ Run MCMC -------\n"
     ]
    },
    {
     "name": "stderr",
     "output_type": "stream",
     "text": [
      "100%|██████████| 2000/2000 [03:54<00:00,  8.68it/s]\n"
     ]
    },
    {
     "name": "stdout",
     "output_type": "stream",
     "text": [
      "Mean acceptance fraction: 0.3699299999999999\n",
      "Acceptance fraction: 36.99 %\n",
      "\tStellar Radius [Rsun]:\tMCMC = 1.63401.\t1st Fit = 1.12176.\tKepler = 0.99300\n",
      "\tError Stellar Radius [Rsun]:\tMCMC (up) = 0.24726, (down) = 0.34973.\tOld = 0.04965\n",
      "\n",
      "\t*TRANSIT 67\n",
      "\t\tSignal = 0.00057. Noise (rms) = 0.00016. SNR = 3.51335\n",
      "\t\tOut-of-transit error of the transit LC = 0.00016\n",
      "\n",
      "Max b (rp in Solar Radius): 1.0254820543806646\n"
     ]
    },
    {
     "name": "stderr",
     "output_type": "stream",
     "text": [
      "/Users/mbadenas/anaconda3/lib/python3.6/site-packages/transit/transit.py:518: RuntimeWarning: divide by zero encountered in log\n",
      "  np.log(self.central.dilution)-np.log(1.0-self.central.dilution)\n"
     ]
    },
    {
     "name": "stdout",
     "output_type": "stream",
     "text": [
      "Optimization terminated successfully.\n",
      "         Current function value: -7625.529926\n",
      "         Iterations: 494\n",
      "         Function evaluations: 767\n"
     ]
    },
    {
     "name": "stderr",
     "output_type": "stream",
     "text": [
      "\r",
      "  0%|          | 0/200 [00:00<?, ?it/s]"
     ]
    },
    {
     "name": "stdout",
     "output_type": "stream",
     "text": [
      "Running burn-in\n"
     ]
    },
    {
     "name": "stderr",
     "output_type": "stream",
     "text": [
      "100%|██████████| 200/200 [00:24<00:00,  9.12it/s]\n",
      "  0%|          | 0/2000 [00:00<?, ?it/s]"
     ]
    },
    {
     "name": "stdout",
     "output_type": "stream",
     "text": [
      "\n",
      "------ Run MCMC -------\n"
     ]
    },
    {
     "name": "stderr",
     "output_type": "stream",
     "text": [
      "100%|██████████| 2000/2000 [03:44<00:00,  8.92it/s]\n"
     ]
    },
    {
     "name": "stdout",
     "output_type": "stream",
     "text": [
      "Mean acceptance fraction: 0.3633849999999999\n",
      "Acceptance fraction: 36.34 %\n",
      "\tStellar Radius [Rsun]:\tMCMC = 0.85447.\t1st Fit = 0.82982.\tKepler = 0.99300\n",
      "\tError Stellar Radius [Rsun]:\tMCMC (up) = 0.11769, (down) = 0.03619.\tOld = 0.04965\n",
      "\n",
      "\t*TRANSIT 71\n",
      "\t\tSignal = 0.00054. Noise (rms) = 0.00016. SNR = 3.46231\n",
      "\t\tOut-of-transit error of the transit LC = 0.00016\n",
      "\n",
      "Max b (rp in Solar Radius): 1.0254820543806646\n"
     ]
    },
    {
     "name": "stderr",
     "output_type": "stream",
     "text": [
      "/Users/mbadenas/anaconda3/lib/python3.6/site-packages/transit/transit.py:518: RuntimeWarning: divide by zero encountered in log\n",
      "  np.log(self.central.dilution)-np.log(1.0-self.central.dilution)\n"
     ]
    },
    {
     "name": "stdout",
     "output_type": "stream",
     "text": [
      "Optimization terminated successfully.\n",
      "         Current function value: -7774.986555\n",
      "         Iterations: 283\n",
      "         Function evaluations: 463\n"
     ]
    },
    {
     "name": "stderr",
     "output_type": "stream",
     "text": [
      "\r",
      "  0%|          | 0/200 [00:00<?, ?it/s]"
     ]
    },
    {
     "name": "stdout",
     "output_type": "stream",
     "text": [
      "Running burn-in\n"
     ]
    },
    {
     "name": "stderr",
     "output_type": "stream",
     "text": [
      "100%|██████████| 200/200 [00:23<00:00,  8.84it/s]\n",
      "  0%|          | 1/2000 [00:00<03:53,  8.55it/s]"
     ]
    },
    {
     "name": "stdout",
     "output_type": "stream",
     "text": [
      "\n",
      "------ Run MCMC -------\n"
     ]
    },
    {
     "name": "stderr",
     "output_type": "stream",
     "text": [
      "100%|██████████| 2000/2000 [03:42<00:00,  9.64it/s]\n"
     ]
    },
    {
     "name": "stdout",
     "output_type": "stream",
     "text": [
      "Mean acceptance fraction: 0.334505\n",
      "Acceptance fraction: 33.45 %\n",
      "\tStellar Radius [Rsun]:\tMCMC = 0.98472.\t1st Fit = 1.00919.\tKepler = 0.99300\n",
      "\tError Stellar Radius [Rsun]:\tMCMC (up) = 0.15537, (down) = 0.12880.\tOld = 0.04965\n",
      "\n",
      "\t*TRANSIT 72\n",
      "\t\tSignal = 0.00053. Noise (rms) = 0.00015. SNR = 3.41971\n",
      "\t\tOut-of-transit error of the transit LC = 0.00015\n",
      "\n",
      "Max b (rp in Solar Radius): 1.0254820543806646\n"
     ]
    },
    {
     "name": "stderr",
     "output_type": "stream",
     "text": [
      "/Users/mbadenas/anaconda3/lib/python3.6/site-packages/transit/transit.py:518: RuntimeWarning: divide by zero encountered in log\n",
      "  np.log(self.central.dilution)-np.log(1.0-self.central.dilution)\n"
     ]
    },
    {
     "name": "stdout",
     "output_type": "stream",
     "text": [
      "Optimization terminated successfully.\n",
      "         Current function value: -7784.345857\n",
      "         Iterations: 232\n",
      "         Function evaluations: 381\n"
     ]
    },
    {
     "name": "stderr",
     "output_type": "stream",
     "text": [
      "\r",
      "  0%|          | 0/200 [00:00<?, ?it/s]"
     ]
    },
    {
     "name": "stdout",
     "output_type": "stream",
     "text": [
      "Running burn-in\n"
     ]
    },
    {
     "name": "stderr",
     "output_type": "stream",
     "text": [
      "100%|██████████| 200/200 [00:22<00:00,  8.88it/s]\n",
      "  0%|          | 0/2000 [00:00<?, ?it/s]"
     ]
    },
    {
     "name": "stdout",
     "output_type": "stream",
     "text": [
      "\n",
      "------ Run MCMC -------\n"
     ]
    },
    {
     "name": "stderr",
     "output_type": "stream",
     "text": [
      "100%|██████████| 2000/2000 [03:37<00:00,  9.50it/s]\n"
     ]
    },
    {
     "name": "stdout",
     "output_type": "stream",
     "text": [
      "Mean acceptance fraction: 0.32122500000000004\n",
      "Acceptance fraction: 32.12 %\n",
      "\tStellar Radius [Rsun]:\tMCMC = 1.14198.\t1st Fit = 1.07459.\tKepler = 0.99300\n",
      "\tError Stellar Radius [Rsun]:\tMCMC (up) = 0.21941, (down) = 0.20929.\tOld = 0.04965\n",
      "\n",
      "\t*TRANSIT 74\n",
      "\t\tSignal = 0.00052. Noise (rms) = 0.00016. SNR = 3.33436\n",
      "\t\tOut-of-transit error of the transit LC = 0.00016\n",
      "\n",
      "Max b (rp in Solar Radius): 1.0254820543806646\n"
     ]
    },
    {
     "name": "stderr",
     "output_type": "stream",
     "text": [
      "/Users/mbadenas/anaconda3/lib/python3.6/site-packages/transit/transit.py:518: RuntimeWarning: divide by zero encountered in log\n",
      "  np.log(self.central.dilution)-np.log(1.0-self.central.dilution)\n"
     ]
    },
    {
     "name": "stdout",
     "output_type": "stream",
     "text": [
      "Optimization terminated successfully.\n",
      "         Current function value: -7655.598168\n",
      "         Iterations: 260\n",
      "         Function evaluations: 415\n"
     ]
    },
    {
     "name": "stderr",
     "output_type": "stream",
     "text": [
      "\r",
      "  0%|          | 0/200 [00:00<?, ?it/s]"
     ]
    },
    {
     "name": "stdout",
     "output_type": "stream",
     "text": [
      "Running burn-in\n"
     ]
    },
    {
     "name": "stderr",
     "output_type": "stream",
     "text": [
      "100%|██████████| 200/200 [00:22<00:00,  9.05it/s]\n",
      "  0%|          | 1/2000 [00:00<03:47,  8.77it/s]"
     ]
    },
    {
     "name": "stdout",
     "output_type": "stream",
     "text": [
      "\n",
      "------ Run MCMC -------\n"
     ]
    },
    {
     "name": "stderr",
     "output_type": "stream",
     "text": [
      "100%|██████████| 2000/2000 [03:33<00:00,  9.36it/s]\n"
     ]
    },
    {
     "name": "stdout",
     "output_type": "stream",
     "text": [
      "Mean acceptance fraction: 0.32216\n",
      "Acceptance fraction: 32.22 %\n",
      "\tStellar Radius [Rsun]:\tMCMC = 1.01179.\t1st Fit = 1.17403.\tKepler = 0.99300\n",
      "\tError Stellar Radius [Rsun]:\tMCMC (up) = 0.24250, (down) = 0.13961.\tOld = 0.04965\n",
      "\n",
      "\t*TRANSIT 75\n",
      "\t\tSignal = nan. Noise (rms) = 0.00016. SNR = nan\n",
      "\t\tOut-of-transit error of the transit LC = 0.00016\n",
      "\n",
      "\t*TRANSIT 76\n",
      "\t\tSignal = 0.00055. Noise (rms) = 0.00016. SNR = 3.48506\n",
      "\t\tOut-of-transit error of the transit LC = 0.00016\n",
      "\n",
      "Max b (rp in Solar Radius): 1.0254820543806646\n"
     ]
    },
    {
     "name": "stderr",
     "output_type": "stream",
     "text": [
      "/Users/mbadenas/anaconda3/lib/python3.6/site-packages/numpy/core/fromnumeric.py:2957: RuntimeWarning: Mean of empty slice.\n",
      "  out=out, **kwargs)\n",
      "/Users/mbadenas/anaconda3/lib/python3.6/site-packages/numpy/core/_methods.py:80: RuntimeWarning: invalid value encountered in double_scalars\n",
      "  ret = ret.dtype.type(ret / rcount)\n",
      "/Users/mbadenas/anaconda3/lib/python3.6/site-packages/transit/transit.py:518: RuntimeWarning: divide by zero encountered in log\n",
      "  np.log(self.central.dilution)-np.log(1.0-self.central.dilution)\n"
     ]
    },
    {
     "name": "stdout",
     "output_type": "stream",
     "text": [
      "Optimization terminated successfully.\n",
      "         Current function value: -7779.081553\n",
      "         Iterations: 333\n",
      "         Function evaluations: 533\n"
     ]
    },
    {
     "name": "stderr",
     "output_type": "stream",
     "text": [
      "\r",
      "  0%|          | 0/200 [00:00<?, ?it/s]"
     ]
    },
    {
     "name": "stdout",
     "output_type": "stream",
     "text": [
      "Running burn-in\n"
     ]
    },
    {
     "name": "stderr",
     "output_type": "stream",
     "text": [
      "100%|██████████| 200/200 [00:22<00:00,  9.04it/s]\n",
      "  0%|          | 0/2000 [00:00<?, ?it/s]"
     ]
    },
    {
     "name": "stdout",
     "output_type": "stream",
     "text": [
      "\n",
      "------ Run MCMC -------\n"
     ]
    },
    {
     "name": "stderr",
     "output_type": "stream",
     "text": [
      "100%|██████████| 2000/2000 [03:36<00:00,  9.31it/s]\n"
     ]
    },
    {
     "name": "stdout",
     "output_type": "stream",
     "text": [
      "Mean acceptance fraction: 0.355995\n",
      "Acceptance fraction: 35.60 %\n",
      "\tStellar Radius [Rsun]:\tMCMC = 1.34562.\t1st Fit = 1.15317.\tKepler = 0.99300\n",
      "\tError Stellar Radius [Rsun]:\tMCMC (up) = 0.18803, (down) = 0.25129.\tOld = 0.04965\n",
      "\n",
      "\t*TRANSIT 77\n",
      "\t\tSignal = 0.00053. Noise (rms) = 0.00015. SNR = 3.41201\n",
      "\t\tOut-of-transit error of the transit LC = 0.00015\n",
      "\n",
      "Max b (rp in Solar Radius): 1.0254820543806646\n"
     ]
    },
    {
     "name": "stderr",
     "output_type": "stream",
     "text": [
      "/Users/mbadenas/anaconda3/lib/python3.6/site-packages/transit/transit.py:518: RuntimeWarning: divide by zero encountered in log\n",
      "  np.log(self.central.dilution)-np.log(1.0-self.central.dilution)\n"
     ]
    },
    {
     "name": "stdout",
     "output_type": "stream",
     "text": [
      "Optimization terminated successfully.\n",
      "         Current function value: -7616.710248\n",
      "         Iterations: 1130\n",
      "         Function evaluations: 1723\n",
      "Running burn-in\n"
     ]
    },
    {
     "name": "stderr",
     "output_type": "stream",
     "text": [
      "100%|██████████| 200/200 [00:21<00:00,  9.33it/s]\n",
      "  0%|          | 1/2000 [00:00<03:33,  9.36it/s]"
     ]
    },
    {
     "name": "stdout",
     "output_type": "stream",
     "text": [
      "\n",
      "------ Run MCMC -------\n"
     ]
    },
    {
     "name": "stderr",
     "output_type": "stream",
     "text": [
      "100%|██████████| 2000/2000 [03:31<00:00,  9.61it/s]\n"
     ]
    },
    {
     "name": "stdout",
     "output_type": "stream",
     "text": [
      "Mean acceptance fraction: 0.46947500000000003\n",
      "Acceptance fraction: 46.95 %\n",
      "\tStellar Radius [Rsun]:\tMCMC = 2.26864.\t1st Fit = 2.35255.\tKepler = 0.99300\n",
      "\tError Stellar Radius [Rsun]:\tMCMC (up) = 0.17427, (down) = 0.24442.\tOld = 0.04965\n",
      "\n",
      "\t*TRANSIT 78\n",
      "\t\tSignal = 0.00059. Noise (rms) = 0.00017. SNR = 3.54079\n",
      "\t\tOut-of-transit error of the transit LC = 0.00017\n",
      "\n",
      "Max b (rp in Solar Radius): 1.0254820543806646\n",
      "Optimization terminated successfully.\n",
      "         Current function value: -7808.796200\n",
      "         Iterations: 1341\n",
      "         Function evaluations: 2037\n"
     ]
    },
    {
     "name": "stderr",
     "output_type": "stream",
     "text": [
      "\r",
      "  0%|          | 0/200 [00:00<?, ?it/s]"
     ]
    },
    {
     "name": "stdout",
     "output_type": "stream",
     "text": [
      "Running burn-in\n"
     ]
    },
    {
     "name": "stderr",
     "output_type": "stream",
     "text": [
      "100%|██████████| 200/200 [00:22<00:00,  9.51it/s]\n",
      "  0%|          | 0/2000 [00:00<?, ?it/s]"
     ]
    },
    {
     "name": "stdout",
     "output_type": "stream",
     "text": [
      "\n",
      "------ Run MCMC -------\n"
     ]
    },
    {
     "name": "stderr",
     "output_type": "stream",
     "text": [
      "100%|██████████| 2000/2000 [03:32<00:00,  8.87it/s]\n"
     ]
    },
    {
     "name": "stdout",
     "output_type": "stream",
     "text": [
      "Mean acceptance fraction: 0.40328500000000006\n",
      "Acceptance fraction: 40.33 %\n",
      "\tStellar Radius [Rsun]:\tMCMC = 0.81272.\t1st Fit = 0.79358.\tKepler = 0.99300\n",
      "\tError Stellar Radius [Rsun]:\tMCMC (up) = 0.06849, (down) = 0.01768.\tOld = 0.04965\n",
      "\n",
      "\t*TRANSIT 79\n",
      "\t\tSignal = 0.00052. Noise (rms) = 0.00015. SNR = 3.39008\n",
      "\t\tOut-of-transit error of the transit LC = 0.00015\n",
      "\n",
      "Max b (rp in Solar Radius): 1.0254820543806646\n"
     ]
    },
    {
     "name": "stderr",
     "output_type": "stream",
     "text": [
      "/Users/mbadenas/anaconda3/lib/python3.6/site-packages/transit/transit.py:518: RuntimeWarning: divide by zero encountered in log\n",
      "  np.log(self.central.dilution)-np.log(1.0-self.central.dilution)\n"
     ]
    },
    {
     "name": "stdout",
     "output_type": "stream",
     "text": [
      "Optimization terminated successfully.\n",
      "         Current function value: -7831.920855\n",
      "         Iterations: 169\n",
      "         Function evaluations: 283\n"
     ]
    },
    {
     "name": "stderr",
     "output_type": "stream",
     "text": [
      "\r",
      "  0%|          | 0/200 [00:00<?, ?it/s]"
     ]
    },
    {
     "name": "stdout",
     "output_type": "stream",
     "text": [
      "Running burn-in\n"
     ]
    },
    {
     "name": "stderr",
     "output_type": "stream",
     "text": [
      "100%|██████████| 200/200 [00:23<00:00,  8.72it/s]\n",
      "  0%|          | 0/2000 [00:00<?, ?it/s]"
     ]
    },
    {
     "name": "stdout",
     "output_type": "stream",
     "text": [
      "\n",
      "------ Run MCMC -------\n"
     ]
    },
    {
     "name": "stderr",
     "output_type": "stream",
     "text": [
      "100%|██████████| 2000/2000 [03:44<00:00,  9.66it/s]\n"
     ]
    },
    {
     "name": "stdout",
     "output_type": "stream",
     "text": [
      "Mean acceptance fraction: 0.33693999999999996\n",
      "Acceptance fraction: 33.69 %\n",
      "\tStellar Radius [Rsun]:\tMCMC = 1.01984.\t1st Fit = 1.09434.\tKepler = 0.99300\n",
      "\tError Stellar Radius [Rsun]:\tMCMC (up) = 0.16022, (down) = 0.14200.\tOld = 0.04965\n",
      "\n",
      "\t*TRANSIT 81\n",
      "\t\tSignal = 0.00058. Noise (rms) = 0.00015. SNR = 3.75174\n",
      "\t\tOut-of-transit error of the transit LC = 0.00015\n",
      "\n",
      "Max b (rp in Solar Radius): 1.0254820543806646\n"
     ]
    },
    {
     "name": "stderr",
     "output_type": "stream",
     "text": [
      "/Users/mbadenas/anaconda3/lib/python3.6/site-packages/transit/transit.py:518: RuntimeWarning: divide by zero encountered in log\n",
      "  np.log(self.central.dilution)-np.log(1.0-self.central.dilution)\n"
     ]
    },
    {
     "name": "stdout",
     "output_type": "stream",
     "text": [
      "Optimization terminated successfully.\n",
      "         Current function value: -7817.179836\n",
      "         Iterations: 276\n",
      "         Function evaluations: 458\n"
     ]
    },
    {
     "name": "stderr",
     "output_type": "stream",
     "text": [
      "\r",
      "  0%|          | 0/200 [00:00<?, ?it/s]"
     ]
    },
    {
     "name": "stdout",
     "output_type": "stream",
     "text": [
      "Running burn-in\n"
     ]
    },
    {
     "name": "stderr",
     "output_type": "stream",
     "text": [
      "100%|██████████| 200/200 [00:23<00:00,  8.66it/s]\n",
      "  0%|          | 0/2000 [00:00<?, ?it/s]"
     ]
    },
    {
     "name": "stdout",
     "output_type": "stream",
     "text": [
      "\n",
      "------ Run MCMC -------\n"
     ]
    },
    {
     "name": "stderr",
     "output_type": "stream",
     "text": [
      "100%|██████████| 2000/2000 [03:44<00:00,  9.07it/s]\n"
     ]
    },
    {
     "name": "stdout",
     "output_type": "stream",
     "text": [
      "Mean acceptance fraction: 0.31927999999999995\n",
      "Acceptance fraction: 31.93 %\n",
      "\tStellar Radius [Rsun]:\tMCMC = 1.12292.\t1st Fit = 1.00611.\tKepler = 0.99300\n",
      "\tError Stellar Radius [Rsun]:\tMCMC (up) = 0.22449, (down) = 0.20508.\tOld = 0.04965\n",
      "\n",
      "\t*TRANSIT 82\n",
      "\t\tSignal = 0.00049. Noise (rms) = 0.00015. SNR = 3.26050\n",
      "\t\tOut-of-transit error of the transit LC = 0.00015\n",
      "\n",
      "Max b (rp in Solar Radius): 1.0254820543806646\n"
     ]
    },
    {
     "name": "stderr",
     "output_type": "stream",
     "text": [
      "/Users/mbadenas/anaconda3/lib/python3.6/site-packages/transit/transit.py:518: RuntimeWarning: divide by zero encountered in log\n",
      "  np.log(self.central.dilution)-np.log(1.0-self.central.dilution)\n"
     ]
    },
    {
     "name": "stdout",
     "output_type": "stream",
     "text": [
      "Optimization terminated successfully.\n",
      "         Current function value: -7683.092189\n",
      "         Iterations: 273\n",
      "         Function evaluations: 454\n",
      "Running burn-in\n"
     ]
    },
    {
     "name": "stderr",
     "output_type": "stream",
     "text": [
      "100%|██████████| 200/200 [00:22<00:00,  9.03it/s]\n",
      "  0%|          | 0/2000 [00:00<?, ?it/s]"
     ]
    },
    {
     "name": "stdout",
     "output_type": "stream",
     "text": [
      "\n",
      "------ Run MCMC -------\n"
     ]
    },
    {
     "name": "stderr",
     "output_type": "stream",
     "text": [
      "100%|██████████| 2000/2000 [03:34<00:00,  9.32it/s]\n"
     ]
    },
    {
     "name": "stdout",
     "output_type": "stream",
     "text": [
      "Mean acceptance fraction: 0.32836000000000004\n",
      "Acceptance fraction: 32.84 %\n",
      "\tStellar Radius [Rsun]:\tMCMC = 1.04170.\t1st Fit = 1.14211.\tKepler = 0.99300\n",
      "\tError Stellar Radius [Rsun]:\tMCMC (up) = 0.19951, (down) = 0.15484.\tOld = 0.04965\n",
      "\n",
      "\t*TRANSIT 83\n",
      "\t\tSignal = 0.00059. Noise (rms) = 0.00015. SNR = 3.90186\n",
      "\t\tOut-of-transit error of the transit LC = 0.00015\n",
      "\n",
      "Max b (rp in Solar Radius): 1.0254820543806646\n"
     ]
    },
    {
     "name": "stderr",
     "output_type": "stream",
     "text": [
      "/Users/mbadenas/anaconda3/lib/python3.6/site-packages/transit/transit.py:518: RuntimeWarning: divide by zero encountered in log\n",
      "  np.log(self.central.dilution)-np.log(1.0-self.central.dilution)\n"
     ]
    },
    {
     "name": "stdout",
     "output_type": "stream",
     "text": [
      "Optimization terminated successfully.\n",
      "         Current function value: -7809.095076\n",
      "         Iterations: 911\n",
      "         Function evaluations: 1392\n"
     ]
    },
    {
     "name": "stderr",
     "output_type": "stream",
     "text": [
      "\r",
      "  0%|          | 0/200 [00:00<?, ?it/s]"
     ]
    },
    {
     "name": "stdout",
     "output_type": "stream",
     "text": [
      "Running burn-in\n"
     ]
    },
    {
     "name": "stderr",
     "output_type": "stream",
     "text": [
      "100%|██████████| 200/200 [00:22<00:00,  8.74it/s]\n",
      "  0%|          | 0/2000 [00:00<?, ?it/s]"
     ]
    },
    {
     "name": "stdout",
     "output_type": "stream",
     "text": [
      "\n",
      "------ Run MCMC -------\n"
     ]
    },
    {
     "name": "stderr",
     "output_type": "stream",
     "text": [
      "100%|██████████| 2000/2000 [03:36<00:00, 10.33it/s]\n"
     ]
    },
    {
     "name": "stdout",
     "output_type": "stream",
     "text": [
      "Mean acceptance fraction: 0.315035\n",
      "Acceptance fraction: 31.50 %\n",
      "\tStellar Radius [Rsun]:\tMCMC = 0.96476.\t1st Fit = 0.97518.\tKepler = 0.99300\n",
      "\tError Stellar Radius [Rsun]:\tMCMC (up) = 0.16337, (down) = 0.12520.\tOld = 0.04965\n",
      "\n",
      "\t*TRANSIT 84\n",
      "\t\tSignal = 0.00055. Noise (rms) = 0.00015. SNR = 3.77518\n",
      "\t\tOut-of-transit error of the transit LC = 0.00015\n",
      "\n",
      "Max b (rp in Solar Radius): 1.0254820543806646\n"
     ]
    },
    {
     "name": "stderr",
     "output_type": "stream",
     "text": [
      "/Users/mbadenas/anaconda3/lib/python3.6/site-packages/transit/transit.py:518: RuntimeWarning: divide by zero encountered in log\n",
      "  np.log(self.central.dilution)-np.log(1.0-self.central.dilution)\n"
     ]
    },
    {
     "name": "stdout",
     "output_type": "stream",
     "text": [
      "Optimization terminated successfully.\n",
      "         Current function value: -7902.071677\n",
      "         Iterations: 363\n",
      "         Function evaluations: 596\n"
     ]
    },
    {
     "name": "stderr",
     "output_type": "stream",
     "text": [
      "\r",
      "  0%|          | 0/200 [00:00<?, ?it/s]"
     ]
    },
    {
     "name": "stdout",
     "output_type": "stream",
     "text": [
      "Running burn-in\n"
     ]
    },
    {
     "name": "stderr",
     "output_type": "stream",
     "text": [
      "100%|██████████| 200/200 [00:23<00:00,  8.66it/s]\n",
      "  0%|          | 0/2000 [00:00<?, ?it/s]"
     ]
    },
    {
     "name": "stdout",
     "output_type": "stream",
     "text": [
      "\n",
      "------ Run MCMC -------\n"
     ]
    },
    {
     "name": "stderr",
     "output_type": "stream",
     "text": [
      "100%|██████████| 2000/2000 [03:32<00:00,  9.92it/s]\n"
     ]
    },
    {
     "name": "stdout",
     "output_type": "stream",
     "text": [
      "Mean acceptance fraction: 0.31628999999999996\n",
      "Acceptance fraction: 31.63 %\n",
      "\tStellar Radius [Rsun]:\tMCMC = 0.88063.\t1st Fit = 0.91741.\tKepler = 0.99300\n",
      "\tError Stellar Radius [Rsun]:\tMCMC (up) = 0.15369, (down) = 0.07528.\tOld = 0.04965\n",
      "\n",
      "\t*TRANSIT 85\n",
      "\t\tSignal = 0.00057. Noise (rms) = 0.00015. SNR = 3.80223\n",
      "\t\tOut-of-transit error of the transit LC = 0.00015\n",
      "\n",
      "Max b (rp in Solar Radius): 1.0254820543806646\n"
     ]
    },
    {
     "name": "stderr",
     "output_type": "stream",
     "text": [
      "/Users/mbadenas/anaconda3/lib/python3.6/site-packages/transit/transit.py:518: RuntimeWarning: divide by zero encountered in log\n",
      "  np.log(self.central.dilution)-np.log(1.0-self.central.dilution)\n"
     ]
    },
    {
     "name": "stdout",
     "output_type": "stream",
     "text": [
      "Optimization terminated successfully.\n",
      "         Current function value: -7842.770582\n",
      "         Iterations: 806\n",
      "         Function evaluations: 1237\n",
      "Running burn-in\n"
     ]
    },
    {
     "name": "stderr",
     "output_type": "stream",
     "text": [
      "100%|██████████| 200/200 [00:21<00:00,  9.14it/s]\n",
      "  0%|          | 0/2000 [00:00<?, ?it/s]"
     ]
    },
    {
     "name": "stdout",
     "output_type": "stream",
     "text": [
      "\n",
      "------ Run MCMC -------\n"
     ]
    },
    {
     "name": "stderr",
     "output_type": "stream",
     "text": [
      "100%|██████████| 2000/2000 [03:35<00:00,  9.36it/s]\n"
     ]
    },
    {
     "name": "stdout",
     "output_type": "stream",
     "text": [
      "Mean acceptance fraction: 0.41539999999999994\n",
      "Acceptance fraction: 41.54 %\n",
      "\tStellar Radius [Rsun]:\tMCMC = 1.70588.\t1st Fit = 1.77643.\tKepler = 0.99300\n",
      "\tError Stellar Radius [Rsun]:\tMCMC (up) = 0.18190, (down) = 0.24156.\tOld = 0.04965\n",
      "\n",
      "******************************** KID8156120 ********************************\n",
      "\n",
      "\t*TRANSIT 1\n",
      "\t\tSignal = 0.00079. Noise (rms) = 0.00036. SNR = 2.19340\n",
      "\t\tOut-of-transit error of the transit LC = 0.00036\n",
      "\n",
      "\t*TRANSIT 2\n",
      "\t\tSignal = 0.00079. Noise (rms) = 0.00034. SNR = 2.33503\n",
      "\t\tOut-of-transit error of the transit LC = 0.00034\n",
      "\n",
      "\t*TRANSIT 3\n",
      "\t\tSignal = 0.00100. Noise (rms) = 0.00035. SNR = 2.84176\n",
      "\t\tOut-of-transit error of the transit LC = 0.00035\n",
      "\n",
      "\t*TRANSIT 4\n",
      "\t\tSignal = 0.00100. Noise (rms) = 0.00035. SNR = 2.82683\n",
      "\t\tOut-of-transit error of the transit LC = 0.00035\n",
      "\n",
      "\t*TRANSIT 5\n",
      "\t\tSignal = 0.00096. Noise (rms) = 0.00036. SNR = 2.68900\n",
      "\t\tOut-of-transit error of the transit LC = 0.00036\n",
      "\n",
      "\t*TRANSIT 6\n",
      "\t\tSignal = 0.00090. Noise (rms) = 0.00035. SNR = 2.58255\n",
      "\t\tOut-of-transit error of the transit LC = 0.00035\n",
      "\n",
      "\t*TRANSIT 7\n",
      "\t\tSignal = 0.00085. Noise (rms) = 0.00035. SNR = 2.40061\n",
      "\t\tOut-of-transit error of the transit LC = 0.00035\n",
      "\n",
      "\t*TRANSIT 8\n",
      "\t\tSignal = 0.00101. Noise (rms) = 0.00035. SNR = 2.91700\n",
      "\t\tOut-of-transit error of the transit LC = 0.00035\n",
      "\n",
      "\t*TRANSIT 9\n",
      "\t\tSignal = 0.00087. Noise (rms) = 0.00035. SNR = 2.48926\n",
      "\t\tOut-of-transit error of the transit LC = 0.00035\n",
      "\n",
      "\t*TRANSIT 10\n",
      "\t\tSignal = 0.00108. Noise (rms) = 0.00036. SNR = 2.97803\n",
      "\t\tOut-of-transit error of the transit LC = 0.00036\n",
      "\n",
      "\t*TRANSIT 11\n",
      "\t\tSignal = 0.00089. Noise (rms) = 0.00034. SNR = 2.61494\n",
      "\t\tOut-of-transit error of the transit LC = 0.00034\n",
      "\n",
      "\t*TRANSIT 12\n",
      "\t\tSignal = 0.00088. Noise (rms) = 0.00035. SNR = 2.55719\n",
      "\t\tOut-of-transit error of the transit LC = 0.00035\n",
      "\n",
      "\t*TRANSIT 13\n",
      "\t\tSignal = 0.00114. Noise (rms) = 0.00036. SNR = 3.16823\n",
      "\t\tOut-of-transit error of the transit LC = 0.00036\n",
      "\n",
      "Max b (rp in Solar Radius): 1.0407255215360665\n"
     ]
    },
    {
     "name": "stderr",
     "output_type": "stream",
     "text": [
      "/Users/mbadenas/anaconda3/lib/python3.6/site-packages/transit/transit.py:518: RuntimeWarning: divide by zero encountered in log\n",
      "  np.log(self.central.dilution)-np.log(1.0-self.central.dilution)\n"
     ]
    },
    {
     "name": "stdout",
     "output_type": "stream",
     "text": [
      "Optimization terminated successfully.\n",
      "         Current function value: -20913.748433\n",
      "         Iterations: 619\n",
      "         Function evaluations: 972\n",
      "Running burn-in\n"
     ]
    },
    {
     "name": "stderr",
     "output_type": "stream",
     "text": [
      "100%|██████████| 200/200 [00:45<00:00,  4.86it/s]\n"
     ]
    },
    {
     "name": "stdout",
     "output_type": "stream",
     "text": [
      "\n",
      "------ Run MCMC -------\n"
     ]
    },
    {
     "name": "stderr",
     "output_type": "stream",
     "text": [
      "100%|██████████| 2000/2000 [07:09<00:00,  4.43it/s]\n",
      "WARNING:root:Too few points to create valid contours\n"
     ]
    },
    {
     "name": "stdout",
     "output_type": "stream",
     "text": [
      "Mean acceptance fraction: 0.43835999999999997\n",
      "Acceptance fraction: 43.84 %\n",
      "\tStellar Radius [Rsun]:\tMCMC = 1.90514.\t1st Fit = 1.89916.\tKepler = 1.92700\n",
      "\tError Stellar Radius [Rsun]:\tMCMC (up) = 0.09130, (down) = 0.01441.\tOld = 0.09635\n",
      "\n",
      "\t*TRANSIT 14\n",
      "\t\tSignal = 0.00095. Noise (rms) = 0.00035. SNR = 2.69524\n",
      "\t\tOut-of-transit error of the transit LC = 0.00035\n",
      "\n",
      "\t*TRANSIT 15\n",
      "\t\tSignal = 0.00117. Noise (rms) = 0.00035. SNR = 3.31905\n",
      "\t\tOut-of-transit error of the transit LC = 0.00035\n",
      "\n",
      "Max b (rp in Solar Radius): 1.0407255215360665\n"
     ]
    },
    {
     "name": "stderr",
     "output_type": "stream",
     "text": [
      "/Users/mbadenas/anaconda3/lib/python3.6/site-packages/transit/transit.py:518: RuntimeWarning: divide by zero encountered in log\n",
      "  np.log(self.central.dilution)-np.log(1.0-self.central.dilution)\n"
     ]
    },
    {
     "name": "stdout",
     "output_type": "stream",
     "text": [
      "Optimization terminated successfully.\n",
      "         Current function value: -21931.623778\n",
      "         Iterations: 384\n",
      "         Function evaluations: 625\n",
      "Running burn-in\n"
     ]
    },
    {
     "name": "stderr",
     "output_type": "stream",
     "text": [
      "100%|██████████| 200/200 [00:50<00:00,  4.30it/s]\n"
     ]
    },
    {
     "name": "stdout",
     "output_type": "stream",
     "text": [
      "\n",
      "------ Run MCMC -------\n"
     ]
    },
    {
     "name": "stderr",
     "output_type": "stream",
     "text": [
      "100%|██████████| 2000/2000 [07:54<00:00,  4.40it/s]\n"
     ]
    },
    {
     "name": "stdout",
     "output_type": "stream",
     "text": [
      "Mean acceptance fraction: 0.32622\n",
      "Acceptance fraction: 32.62 %\n",
      "\tStellar Radius [Rsun]:\tMCMC = 2.31802.\t1st Fit = 1.94744.\tKepler = 1.92700\n",
      "\tError Stellar Radius [Rsun]:\tMCMC (up) = 0.44137, (down) = 0.35079.\tOld = 0.09635\n",
      "\n",
      "\t*TRANSIT 16\n",
      "\t\tSignal = 0.00073. Noise (rms) = 0.00036. SNR = 2.03349\n",
      "\t\tOut-of-transit error of the transit LC = 0.00036\n",
      "\n",
      "\t*TRANSIT 17\n",
      "\t\tSignal = 0.00118. Noise (rms) = 0.00036. SNR = 3.30736\n",
      "\t\tOut-of-transit error of the transit LC = 0.00036\n",
      "\n",
      "Max b (rp in Solar Radius): 1.0407255215360665\n"
     ]
    },
    {
     "name": "stderr",
     "output_type": "stream",
     "text": [
      "/Users/mbadenas/anaconda3/lib/python3.6/site-packages/transit/transit.py:518: RuntimeWarning: divide by zero encountered in log\n",
      "  np.log(self.central.dilution)-np.log(1.0-self.central.dilution)\n"
     ]
    },
    {
     "name": "stdout",
     "output_type": "stream",
     "text": [
      "Optimization terminated successfully.\n",
      "         Current function value: -10429.296350\n",
      "         Iterations: 545\n",
      "         Function evaluations: 852\n"
     ]
    },
    {
     "name": "stderr",
     "output_type": "stream",
     "text": [
      "\r",
      "  0%|          | 0/200 [00:00<?, ?it/s]"
     ]
    },
    {
     "name": "stdout",
     "output_type": "stream",
     "text": [
      "Running burn-in\n"
     ]
    },
    {
     "name": "stderr",
     "output_type": "stream",
     "text": [
      "100%|██████████| 200/200 [00:33<00:00,  6.47it/s]\n",
      "  0%|          | 0/2000 [00:00<?, ?it/s]"
     ]
    },
    {
     "name": "stdout",
     "output_type": "stream",
     "text": [
      "\n",
      "------ Run MCMC -------\n"
     ]
    },
    {
     "name": "stderr",
     "output_type": "stream",
     "text": [
      "100%|██████████| 2000/2000 [05:37<00:00,  4.72it/s]  \n",
      "WARNING:root:Too few points to create valid contours\n"
     ]
    },
    {
     "name": "stdout",
     "output_type": "stream",
     "text": [
      "Mean acceptance fraction: 0.4421\n",
      "Acceptance fraction: 44.21 %\n",
      "\tStellar Radius [Rsun]:\tMCMC = 1.87796.\t1st Fit = 1.93291.\tKepler = 1.92700\n",
      "\tError Stellar Radius [Rsun]:\tMCMC (up) = 0.10675, (down) = 0.01476.\tOld = 0.09635\n",
      "\n",
      "\t*TRANSIT 18\n",
      "\t\tSignal = 0.00100. Noise (rms) = 0.00035. SNR = 2.86477\n",
      "\t\tOut-of-transit error of the transit LC = 0.00035\n",
      "\n",
      "\t*TRANSIT 19\n",
      "\t\tSignal = 0.00084. Noise (rms) = 0.00035. SNR = 2.40574\n",
      "\t\tOut-of-transit error of the transit LC = 0.00035\n",
      "\n",
      "\t*TRANSIT 21\n",
      "\t\tSignal = 0.00098. Noise (rms) = 0.00035. SNR = 2.76549\n",
      "\t\tOut-of-transit error of the transit LC = 0.00035\n",
      "\n",
      "\t*TRANSIT 22\n",
      "\t\tSignal = 0.00106. Noise (rms) = 0.00035. SNR = 3.01266\n",
      "\t\tOut-of-transit error of the transit LC = 0.00035\n",
      "\n",
      "Max b (rp in Solar Radius): 1.0407255215360665\n"
     ]
    },
    {
     "name": "stderr",
     "output_type": "stream",
     "text": [
      "/Users/mbadenas/anaconda3/lib/python3.6/site-packages/transit/transit.py:518: RuntimeWarning: divide by zero encountered in log\n",
      "  np.log(self.central.dilution)-np.log(1.0-self.central.dilution)\n"
     ]
    },
    {
     "name": "stdout",
     "output_type": "stream",
     "text": [
      "Optimization terminated successfully.\n",
      "         Current function value: -14727.823764\n",
      "         Iterations: 423\n",
      "         Function evaluations: 673\n"
     ]
    },
    {
     "name": "stderr",
     "output_type": "stream",
     "text": [
      "\r",
      "  0%|          | 0/200 [00:00<?, ?it/s]"
     ]
    },
    {
     "name": "stdout",
     "output_type": "stream",
     "text": [
      "Running burn-in\n"
     ]
    },
    {
     "name": "stderr",
     "output_type": "stream",
     "text": [
      "100%|██████████| 200/200 [00:38<00:00,  5.60it/s]\n",
      "  0%|          | 0/2000 [00:00<?, ?it/s]"
     ]
    },
    {
     "name": "stdout",
     "output_type": "stream",
     "text": [
      "\n",
      "------ Run MCMC -------\n"
     ]
    },
    {
     "name": "stderr",
     "output_type": "stream",
     "text": [
      "100%|██████████| 2000/2000 [11:05<00:00,  5.07it/s]  \n"
     ]
    },
    {
     "name": "stdout",
     "output_type": "stream",
     "text": [
      "Mean acceptance fraction: 0.421965\n",
      "Acceptance fraction: 42.20 %\n",
      "\tStellar Radius [Rsun]:\tMCMC = 1.88815.\t1st Fit = 1.87194.\tKepler = 1.92700\n",
      "\tError Stellar Radius [Rsun]:\tMCMC (up) = 0.12275, (down) = 0.01862.\tOld = 0.09635\n",
      "\n",
      "\t*TRANSIT 23\n",
      "\t\tSignal = 0.00097. Noise (rms) = 0.00035. SNR = 2.77724\n",
      "\t\tOut-of-transit error of the transit LC = 0.00035\n",
      "\n",
      "\t*TRANSIT 24\n",
      "\t\tSignal = 0.00074. Noise (rms) = 0.00036. SNR = 2.07489\n",
      "\t\tOut-of-transit error of the transit LC = 0.00036\n",
      "\n",
      "\t*TRANSIT 26\n",
      "\t\tSignal = nan. Noise (rms) = 0.00034. SNR = nan\n",
      "\t\tOut-of-transit error of the transit LC = 0.00034\n",
      "\n",
      "\t*TRANSIT 27\n",
      "\t\tSignal = 0.00088. Noise (rms) = 0.00035. SNR = 2.49093\n",
      "\t\tOut-of-transit error of the transit LC = 0.00035\n",
      "\n",
      "******************************** KID5966322 ********************************\n",
      "\n",
      "\t*TRANSIT 1\n",
      "\t\tSignal = 0.00068. Noise (rms) = 0.00035. SNR = 1.94637\n",
      "\t\tOut-of-transit error of the transit LC = 0.00035\n",
      "\n",
      "\t*TRANSIT 2\n",
      "\t\tSignal = nan. Noise (rms) = 0.00033. SNR = nan\n",
      "\t\tOut-of-transit error of the transit LC = 0.00033\n",
      "\n",
      "\t*TRANSIT 4\n",
      "\t\tSignal = 0.00060. Noise (rms) = 0.00034. SNR = 1.75327\n",
      "\t\tOut-of-transit error of the transit LC = 0.00034\n",
      "\n",
      "******************************** KID5121511 ********************************\n",
      "\n",
      "\t*TRANSIT 1\n",
      "\t\tSignal = 0.00065. Noise (rms) = 0.00068. SNR = 0.94795\n",
      "\t\tOut-of-transit error of the transit LC = 0.00068\n",
      "\n",
      "******************************** KID9710326 ********************************\n",
      "\n",
      "\t*TRANSIT 1\n",
      "\t\tSignal = 0.00137. Noise (rms) = 0.00212. SNR = 0.64616\n",
      "\t\tOut-of-transit error of the transit LC = 0.00212\n",
      "\n",
      "\t*TRANSIT 2\n",
      "\t\tSignal = 0.00128. Noise (rms) = 0.00223. SNR = 0.57576\n",
      "\t\tOut-of-transit error of the transit LC = 0.00223\n",
      "\n",
      "\t*TRANSIT 3\n",
      "\t\tSignal = 0.00146. Noise (rms) = 0.00204. SNR = 0.71591\n",
      "\t\tOut-of-transit error of the transit LC = 0.00204\n",
      "\n",
      "\t*TRANSIT 4\n",
      "\t\tSignal = 0.00083. Noise (rms) = 0.00187. SNR = 0.44464\n",
      "\t\tOut-of-transit error of the transit LC = 0.00187\n",
      "\n",
      "\t*TRANSIT 5\n",
      "\t\tSignal = 0.00104. Noise (rms) = 0.00189. SNR = 0.55114\n",
      "\t\tOut-of-transit error of the transit LC = 0.00189\n",
      "\n",
      "\t*TRANSIT 7\n",
      "\t\tSignal = 0.00126. Noise (rms) = 0.00247. SNR = 0.51212\n",
      "\t\tOut-of-transit error of the transit LC = 0.00247\n",
      "\n",
      "\t*TRANSIT 8\n",
      "\t\tSignal = 0.00080. Noise (rms) = 0.00243. SNR = 0.33036\n",
      "\t\tOut-of-transit error of the transit LC = 0.00243\n",
      "\n",
      "\t*TRANSIT 9\n",
      "\t\tSignal = 0.00132. Noise (rms) = 0.00226. SNR = 0.58585\n",
      "\t\tOut-of-transit error of the transit LC = 0.00226\n",
      "\n",
      "\t*TRANSIT 10\n",
      "\t\tSignal = 0.00196. Noise (rms) = 0.00184. SNR = 1.06754\n",
      "\t\tOut-of-transit error of the transit LC = 0.00184\n",
      "\n",
      "\t*TRANSIT 11\n",
      "\t\tSignal = nan. Noise (rms) = 0.00213. SNR = nan\n",
      "\t\tOut-of-transit error of the transit LC = 0.00213\n",
      "\n",
      "\t*TRANSIT 12\n",
      "\t\tSignal = 0.00161. Noise (rms) = 0.00176. SNR = 0.91329\n",
      "\t\tOut-of-transit error of the transit LC = 0.00176\n",
      "\n",
      "\t*TRANSIT 13\n",
      "\t\tSignal = 0.00152. Noise (rms) = 0.00177. SNR = 0.86137\n",
      "\t\tOut-of-transit error of the transit LC = 0.00177\n",
      "\n",
      "\t*TRANSIT 14\n",
      "\t\tSignal = 0.00149. Noise (rms) = 0.00211. SNR = 0.70579\n",
      "\t\tOut-of-transit error of the transit LC = 0.00211\n",
      "\n",
      "\t*TRANSIT 15\n",
      "\t\tSignal = 0.00113. Noise (rms) = 0.00229. SNR = 0.49588\n",
      "\t\tOut-of-transit error of the transit LC = 0.00229\n",
      "\n",
      "\t*TRANSIT 16\n",
      "\t\tSignal = 0.00162. Noise (rms) = 0.00215. SNR = 0.75456\n",
      "\t\tOut-of-transit error of the transit LC = 0.00215\n",
      "\n",
      "\t*TRANSIT 17\n",
      "\t\tSignal = 0.00123. Noise (rms) = 0.00191. SNR = 0.64276\n",
      "\t\tOut-of-transit error of the transit LC = 0.00191\n",
      "\n",
      "\t*TRANSIT 18\n",
      "\t\tSignal = 0.00130. Noise (rms) = 0.00198. SNR = 0.65396\n",
      "\t\tOut-of-transit error of the transit LC = 0.00198\n",
      "\n",
      "\t*TRANSIT 19\n",
      "\t\tSignal = 0.00104. Noise (rms) = 0.00194. SNR = 0.53701\n",
      "\t\tOut-of-transit error of the transit LC = 0.00194\n",
      "\n",
      "******************************** KID6504954 ********************************\n",
      "\n",
      "\t*TRANSIT 1\n",
      "\t\tSignal = 0.00414. Noise (rms) = 0.00202. SNR = 2.04995\n",
      "\t\tOut-of-transit error of the transit LC = 0.00202\n",
      "\n",
      "\t*TRANSIT 2\n",
      "\t\tSignal = 0.00403. Noise (rms) = 0.00185. SNR = 2.18200\n",
      "\t\tOut-of-transit error of the transit LC = 0.00185\n",
      "\n",
      "******************************** KID5164255 ********************************\n",
      "\n",
      "\t*TRANSIT 1\n",
      "\t\tSignal = 0.00967. Noise (rms) = 0.00636. SNR = 1.52180\n",
      "\t\tOut-of-transit error of the transit LC = 0.00636\n",
      "\n",
      "\t*TRANSIT 3\n",
      "\t\tSignal = 0.01162. Noise (rms) = 0.00668. SNR = 1.73961\n",
      "\t\tOut-of-transit error of the transit LC = 0.00668\n",
      "\n",
      "\t*TRANSIT 4\n",
      "\t\tSignal = 0.00981. Noise (rms) = 0.00575. SNR = 1.70697\n",
      "\t\tOut-of-transit error of the transit LC = 0.00575\n",
      "\n",
      "\t*TRANSIT 5\n",
      "\t\tSignal = 0.00978. Noise (rms) = 0.00672. SNR = 1.45603\n",
      "\t\tOut-of-transit error of the transit LC = 0.00672\n",
      "\n",
      "\t*TRANSIT 6\n",
      "\t\tSignal = 0.00974. Noise (rms) = 0.00614. SNR = 1.58760\n",
      "\t\tOut-of-transit error of the transit LC = 0.00614\n",
      "\n",
      "\t*TRANSIT 8\n",
      "\t\tSignal = 0.01090. Noise (rms) = 0.00551. SNR = 1.97906\n",
      "\t\tOut-of-transit error of the transit LC = 0.00551\n",
      "\n",
      "\t*TRANSIT 9\n",
      "\t\tSignal = 0.01151. Noise (rms) = 0.00509. SNR = 2.25976\n",
      "\t\tOut-of-transit error of the transit LC = 0.00509\n",
      "\n",
      "\t*TRANSIT 10\n",
      "\t\tSignal = 0.01014. Noise (rms) = 0.00549. SNR = 1.84754\n",
      "\t\tOut-of-transit error of the transit LC = 0.00549\n",
      "\n",
      "\t*TRANSIT 11\n",
      "\t\tSignal = 0.00971. Noise (rms) = 0.00519. SNR = 1.87140\n",
      "\t\tOut-of-transit error of the transit LC = 0.00519\n",
      "\n",
      "\t*TRANSIT 12\n",
      "\t\tSignal = 0.00925. Noise (rms) = 0.00553. SNR = 1.67296\n",
      "\t\tOut-of-transit error of the transit LC = 0.00553\n",
      "\n",
      "\t*TRANSIT 13\n",
      "\t\tSignal = 0.01029. Noise (rms) = 0.00515. SNR = 1.99636\n",
      "\t\tOut-of-transit error of the transit LC = 0.00515\n",
      "\n",
      "\t*TRANSIT 15\n",
      "\t\tSignal = 0.01110. Noise (rms) = 0.00590. SNR = 1.87971\n",
      "\t\tOut-of-transit error of the transit LC = 0.00590\n",
      "\n",
      "\t*TRANSIT 16\n",
      "\t\tSignal = 0.00966. Noise (rms) = 0.00598. SNR = 1.61478\n",
      "\t\tOut-of-transit error of the transit LC = 0.00598\n",
      "\n",
      "\t*TRANSIT 17\n",
      "\t\tSignal = 0.01009. Noise (rms) = 0.00592. SNR = 1.70490\n",
      "\t\tOut-of-transit error of the transit LC = 0.00592\n",
      "\n",
      "\t*TRANSIT 18\n",
      "\t\tSignal = 0.01053. Noise (rms) = 0.00582. SNR = 1.80758\n",
      "\t\tOut-of-transit error of the transit LC = 0.00582\n",
      "\n",
      "\t*TRANSIT 19\n",
      "\t\tSignal = 0.01100. Noise (rms) = 0.00613. SNR = 1.79375\n",
      "\t\tOut-of-transit error of the transit LC = 0.00613\n",
      "\n",
      "******************************** KID11015108 ********************************\n",
      "\n",
      "\t*TRANSIT 1\n",
      "\t\tSignal = 0.00103. Noise (rms) = 0.00069. SNR = 1.48273\n",
      "\t\tOut-of-transit error of the transit LC = 0.00069\n",
      "\n",
      "\t*TRANSIT 2\n",
      "\t\tSignal = 0.00098. Noise (rms) = 0.00070. SNR = 1.39188\n",
      "\t\tOut-of-transit error of the transit LC = 0.00070\n",
      "\n",
      "\t*TRANSIT 3\n",
      "\t\tSignal = 0.00096. Noise (rms) = 0.00073. SNR = 1.30607\n",
      "\t\tOut-of-transit error of the transit LC = 0.00073\n",
      "\n",
      "******************************** KID3531558 ********************************\n",
      "\n",
      "\t*TRANSIT 1\n",
      "\t\tSignal = 0.00023. Noise (rms) = 0.00044. SNR = 0.52055\n",
      "\t\tOut-of-transit error of the transit LC = 0.00044\n",
      "\n",
      "\t*TRANSIT 2\n",
      "\t\tSignal = 0.00022. Noise (rms) = 0.00042. SNR = 0.52506\n",
      "\t\tOut-of-transit error of the transit LC = 0.00042\n",
      "\n",
      "\t*TRANSIT 3\n",
      "\t\tSignal = 0.00023. Noise (rms) = 0.00043. SNR = 0.53070\n",
      "\t\tOut-of-transit error of the transit LC = 0.00043\n",
      "\n",
      "\t*TRANSIT 4\n",
      "\t\tSignal = 0.00028. Noise (rms) = 0.00045. SNR = 0.61624\n",
      "\t\tOut-of-transit error of the transit LC = 0.00045\n",
      "\n",
      "\t*TRANSIT 5\n",
      "\t\tSignal = 0.00020. Noise (rms) = 0.00040. SNR = 0.48747\n",
      "\t\tOut-of-transit error of the transit LC = 0.00040\n",
      "\n",
      "\t*TRANSIT 6\n",
      "\t\tSignal = 0.00023. Noise (rms) = 0.00040. SNR = 0.55994\n",
      "\t\tOut-of-transit error of the transit LC = 0.00040\n",
      "\n",
      "\t*TRANSIT 7\n",
      "\t\tSignal = 0.00026. Noise (rms) = 0.00040. SNR = 0.64713\n",
      "\t\tOut-of-transit error of the transit LC = 0.00040\n",
      "\n",
      "\t*TRANSIT 8\n",
      "\t\tSignal = 0.00029. Noise (rms) = 0.00040. SNR = 0.73073\n",
      "\t\tOut-of-transit error of the transit LC = 0.00040\n",
      "\n",
      "\t*TRANSIT 11\n",
      "\t\tSignal = 0.00023. Noise (rms) = 0.00043. SNR = 0.53726\n",
      "\t\tOut-of-transit error of the transit LC = 0.00043\n",
      "\n",
      "\t*TRANSIT 13\n",
      "\t\tSignal = 0.00025. Noise (rms) = 0.00047. SNR = 0.53879\n",
      "\t\tOut-of-transit error of the transit LC = 0.00047\n",
      "\n",
      "\t*TRANSIT 14\n",
      "\t\tSignal = 0.00024. Noise (rms) = 0.00047. SNR = 0.50700\n",
      "\t\tOut-of-transit error of the transit LC = 0.00047\n",
      "\n",
      "\t*TRANSIT 15\n",
      "\t\tSignal = 0.00032. Noise (rms) = 0.00045. SNR = 0.72719\n",
      "\t\tOut-of-transit error of the transit LC = 0.00045\n",
      "\n",
      "\t*TRANSIT 16\n",
      "\t\tSignal = 0.00024. Noise (rms) = 0.00040. SNR = 0.60702\n",
      "\t\tOut-of-transit error of the transit LC = 0.00040\n",
      "\n",
      "\t*TRANSIT 17\n",
      "\t\tSignal = 0.00015. Noise (rms) = 0.00041. SNR = 0.37420\n",
      "\t\tOut-of-transit error of the transit LC = 0.00041\n",
      "\n",
      "\t*TRANSIT 18\n",
      "\t\tSignal = 0.00025. Noise (rms) = 0.00042. SNR = 0.61213\n",
      "\t\tOut-of-transit error of the transit LC = 0.00042\n",
      "\n",
      "\t*TRANSIT 19\n",
      "\t\tSignal = 0.00023. Noise (rms) = 0.00042. SNR = 0.55120\n",
      "\t\tOut-of-transit error of the transit LC = 0.00042\n",
      "\n",
      "\t*TRANSIT 20\n",
      "\t\tSignal = 0.00025. Noise (rms) = 0.00041. SNR = 0.60175\n",
      "\t\tOut-of-transit error of the transit LC = 0.00041\n",
      "\n",
      "\t*TRANSIT 21\n",
      "\t\tSignal = nan. Noise (rms) = 0.00038. SNR = nan\n",
      "\t\tOut-of-transit error of the transit LC = 0.00038\n",
      "\n",
      "\t*TRANSIT 22\n",
      "\t\tSignal = 0.00017. Noise (rms) = 0.00041. SNR = 0.40638\n",
      "\t\tOut-of-transit error of the transit LC = 0.00041\n",
      "\n",
      "******************************** KID8822366 ********************************\n",
      "\n",
      "\t*TRANSIT 1\n",
      "\t\tSignal = 0.00022. Noise (rms) = 0.00042. SNR = 0.52614\n",
      "\t\tOut-of-transit error of the transit LC = 0.00042\n",
      "\n",
      "\t*TRANSIT 2\n",
      "\t\tSignal = 0.00018. Noise (rms) = 0.00042. SNR = 0.42366\n",
      "\t\tOut-of-transit error of the transit LC = 0.00042\n",
      "\n",
      "\t*TRANSIT 3\n",
      "\t\tSignal = 0.00022. Noise (rms) = 0.00042. SNR = 0.52175\n",
      "\t\tOut-of-transit error of the transit LC = 0.00042\n",
      "\n",
      "\t*TRANSIT 4\n",
      "\t\tSignal = 0.00026. Noise (rms) = 0.00041. SNR = 0.62278\n",
      "\t\tOut-of-transit error of the transit LC = 0.00041\n",
      "\n",
      "\t*TRANSIT 5\n",
      "\t\tSignal = 0.00021. Noise (rms) = 0.00040. SNR = 0.52979\n",
      "\t\tOut-of-transit error of the transit LC = 0.00040\n",
      "\n",
      "\t*TRANSIT 6\n",
      "\t\tSignal = 0.00018. Noise (rms) = 0.00043. SNR = 0.42978\n",
      "\t\tOut-of-transit error of the transit LC = 0.00043\n",
      "\n",
      "\t*TRANSIT 7\n",
      "\t\tSignal = 0.00017. Noise (rms) = 0.00041. SNR = 0.41869\n",
      "\t\tOut-of-transit error of the transit LC = 0.00041\n",
      "\n",
      "\t*TRANSIT 8\n",
      "\t\tSignal = 0.00028. Noise (rms) = 0.00039. SNR = 0.70204\n",
      "\t\tOut-of-transit error of the transit LC = 0.00039\n",
      "\n",
      "\t*TRANSIT 9\n",
      "\t\tSignal = 0.00027. Noise (rms) = 0.00040. SNR = 0.68480\n",
      "\t\tOut-of-transit error of the transit LC = 0.00040\n",
      "\n",
      "\t*TRANSIT 10\n",
      "\t\tSignal = 0.00023. Noise (rms) = 0.00042. SNR = 0.54267\n",
      "\t\tOut-of-transit error of the transit LC = 0.00042\n",
      "\n",
      "\t*TRANSIT 11\n",
      "\t\tSignal = 0.00018. Noise (rms) = 0.00042. SNR = 0.41870\n",
      "\t\tOut-of-transit error of the transit LC = 0.00042\n",
      "\n",
      "\t*TRANSIT 12\n",
      "\t\tSignal = 0.00018. Noise (rms) = 0.00042. SNR = 0.42031\n",
      "\t\tOut-of-transit error of the transit LC = 0.00042\n",
      "\n",
      "\t*TRANSIT 13\n",
      "\t\tSignal = 0.00019. Noise (rms) = 0.00042. SNR = 0.44546\n",
      "\t\tOut-of-transit error of the transit LC = 0.00042\n",
      "\n",
      "\t*TRANSIT 14\n",
      "\t\tSignal = 0.00023. Noise (rms) = 0.00044. SNR = 0.53885\n",
      "\t\tOut-of-transit error of the transit LC = 0.00044\n",
      "\n",
      "\t*TRANSIT 15\n",
      "\t\tSignal = 0.00022. Noise (rms) = 0.00044. SNR = 0.50478\n",
      "\t\tOut-of-transit error of the transit LC = 0.00044\n",
      "\n",
      "******************************** KID8805348 ********************************\n",
      "\n",
      "\t*TRANSIT 1\n",
      "\t\tSignal = 0.00052. Noise (rms) = 0.00067. SNR = 0.77784\n",
      "\t\tOut-of-transit error of the transit LC = 0.00067\n",
      "\n",
      "******************************** KID11027624 ********************************\n",
      "\n",
      "******************************** KID5009743 ********************************\n",
      "\n",
      "\t*TRANSIT 1\n",
      "\t\tSignal = 0.00029. Noise (rms) = 0.00088. SNR = 0.32769\n",
      "\t\tOut-of-transit error of the transit LC = 0.00088\n",
      "\n",
      "******************************** KID2853093 ********************************\n",
      "\n",
      "\t*TRANSIT 1\n",
      "\t\tSignal = 0.00410. Noise (rms) = 0.00273. SNR = 1.50067\n",
      "\t\tOut-of-transit error of the transit LC = 0.00273\n",
      "\n",
      "******************************** KID6442377 ********************************\n",
      "\n",
      "\t*TRANSIT 1\n",
      "\t\tSignal = 0.00032. Noise (rms) = 0.00064. SNR = 0.50151\n",
      "\t\tOut-of-transit error of the transit LC = 0.00064\n",
      "\n",
      "\t*TRANSIT 2\n",
      "\t\tSignal = 0.00041. Noise (rms) = 0.00067. SNR = 0.61178\n",
      "\t\tOut-of-transit error of the transit LC = 0.00067\n",
      "\n",
      "\t*TRANSIT 3\n",
      "\t\tSignal = 0.00038. Noise (rms) = 0.00063. SNR = 0.60213\n",
      "\t\tOut-of-transit error of the transit LC = 0.00063\n",
      "\n",
      "\t*TRANSIT 4\n",
      "\t\tSignal = 0.00036. Noise (rms) = 0.00068. SNR = 0.52687\n",
      "\t\tOut-of-transit error of the transit LC = 0.00068\n",
      "\n",
      "\t*TRANSIT 5\n",
      "\t\tSignal = 0.00047. Noise (rms) = 0.00064. SNR = 0.73567\n",
      "\t\tOut-of-transit error of the transit LC = 0.00064\n",
      "\n",
      "\t*TRANSIT 6\n",
      "\t\tSignal = 0.00032. Noise (rms) = 0.00068. SNR = 0.46474\n",
      "\t\tOut-of-transit error of the transit LC = 0.00068\n",
      "\n",
      "\t*TRANSIT 9\n",
      "\t\tSignal = 0.00033. Noise (rms) = 0.00063. SNR = 0.52847\n",
      "\t\tOut-of-transit error of the transit LC = 0.00063\n",
      "\n",
      "\t*TRANSIT 10\n",
      "\t\tSignal = 0.00036. Noise (rms) = 0.00063. SNR = 0.57193\n",
      "\t\tOut-of-transit error of the transit LC = 0.00063\n",
      "\n",
      "\t*TRANSIT 11\n",
      "\t\tSignal = 0.00032. Noise (rms) = 0.00063. SNR = 0.51797\n",
      "\t\tOut-of-transit error of the transit LC = 0.00063\n",
      "\n",
      "\t*TRANSIT 12\n",
      "\t\tSignal = 0.00042. Noise (rms) = 0.00061. SNR = 0.68775\n",
      "\t\tOut-of-transit error of the transit LC = 0.00061\n",
      "\n",
      "\t*TRANSIT 13\n",
      "\t\tSignal = 0.00029. Noise (rms) = 0.00065. SNR = 0.45101\n",
      "\t\tOut-of-transit error of the transit LC = 0.00065\n",
      "\n",
      "******************************** KID4143755 ********************************\n",
      "\n",
      "\t*TRANSIT 1\n",
      "\t\tSignal = 0.00028. Noise (rms) = 0.00034. SNR = 0.83270\n",
      "\t\tOut-of-transit error of the transit LC = 0.00034\n",
      "\n",
      "\t*TRANSIT 2\n",
      "\t\tSignal = 0.00027. Noise (rms) = 0.00033. SNR = 0.81537\n",
      "\t\tOut-of-transit error of the transit LC = 0.00033\n",
      "\n",
      "\t*TRANSIT 3\n",
      "\t\tSignal = 0.00028. Noise (rms) = 0.00034. SNR = 0.83503\n",
      "\t\tOut-of-transit error of the transit LC = 0.00034\n",
      "\n",
      "\t*TRANSIT 4\n",
      "\t\tSignal = 0.00027. Noise (rms) = 0.00033. SNR = 0.79632\n",
      "\t\tOut-of-transit error of the transit LC = 0.00033\n",
      "\n",
      "\t*TRANSIT 5\n",
      "\t\tSignal = 0.00024. Noise (rms) = 0.00034. SNR = 0.70656\n",
      "\t\tOut-of-transit error of the transit LC = 0.00034\n",
      "\n",
      "\t*TRANSIT 6\n",
      "\t\tSignal = 0.00022. Noise (rms) = 0.00033. SNR = 0.68137\n",
      "\t\tOut-of-transit error of the transit LC = 0.00033\n",
      "\n",
      "\t*TRANSIT 7\n",
      "\t\tSignal = 0.00026. Noise (rms) = 0.00034. SNR = 0.75929\n",
      "\t\tOut-of-transit error of the transit LC = 0.00034\n",
      "\n",
      "\t*TRANSIT 8\n",
      "\t\tSignal = 0.00027. Noise (rms) = 0.00033. SNR = 0.81775\n",
      "\t\tOut-of-transit error of the transit LC = 0.00033\n",
      "\n",
      "\t*TRANSIT 9\n",
      "\t\tSignal = 0.00029. Noise (rms) = 0.00033. SNR = 0.86147\n",
      "\t\tOut-of-transit error of the transit LC = 0.00033\n",
      "\n",
      "\t*TRANSIT 10\n",
      "\t\tSignal = 0.00022. Noise (rms) = 0.00034. SNR = 0.64915\n",
      "\t\tOut-of-transit error of the transit LC = 0.00034\n",
      "\n",
      "\t*TRANSIT 11\n",
      "\t\tSignal = 0.00033. Noise (rms) = 0.00051. SNR = 0.64299\n",
      "\t\tOut-of-transit error of the transit LC = 0.00051\n",
      "\n",
      "\t*TRANSIT 12\n",
      "\t\tSignal = 0.00020. Noise (rms) = 0.00051. SNR = 0.39269\n",
      "\t\tOut-of-transit error of the transit LC = 0.00051\n",
      "\n",
      "\t*TRANSIT 13\n",
      "\t\tSignal = 0.00023. Noise (rms) = 0.00041. SNR = 0.55324\n",
      "\t\tOut-of-transit error of the transit LC = 0.00041\n",
      "\n",
      "\t*TRANSIT 14\n",
      "\t\tSignal = 0.00028. Noise (rms) = 0.00040. SNR = 0.71919\n",
      "\t\tOut-of-transit error of the transit LC = 0.00040\n",
      "\n",
      "\t*TRANSIT 15\n",
      "\t\tSignal = 0.00029. Noise (rms) = 0.00034. SNR = 0.84426\n",
      "\t\tOut-of-transit error of the transit LC = 0.00034\n",
      "\n",
      "\t*TRANSIT 16\n",
      "\t\tSignal = 0.00023. Noise (rms) = 0.00034. SNR = 0.68647\n",
      "\t\tOut-of-transit error of the transit LC = 0.00034\n",
      "\n",
      "\t*TRANSIT 17\n",
      "\t\tSignal = 0.00021. Noise (rms) = 0.00034. SNR = 0.62041\n",
      "\t\tOut-of-transit error of the transit LC = 0.00034\n",
      "\n",
      "\t*TRANSIT 18\n",
      "\t\tSignal = 0.00023. Noise (rms) = 0.00034. SNR = 0.68035\n",
      "\t\tOut-of-transit error of the transit LC = 0.00034\n",
      "\n",
      "\t*TRANSIT 19\n",
      "\t\tSignal = 0.00029. Noise (rms) = 0.00034. SNR = 0.84821\n",
      "\t\tOut-of-transit error of the transit LC = 0.00034\n",
      "\n",
      "\t*TRANSIT 20\n",
      "\t\tSignal = 0.00028. Noise (rms) = 0.00034. SNR = 0.83350\n",
      "\t\tOut-of-transit error of the transit LC = 0.00034\n",
      "\n",
      "\t*TRANSIT 21\n",
      "\t\tSignal = 0.00022. Noise (rms) = 0.00033. SNR = 0.66145\n",
      "\t\tOut-of-transit error of the transit LC = 0.00033\n",
      "\n",
      "\t*TRANSIT 22\n",
      "\t\tSignal = 0.00028. Noise (rms) = 0.00034. SNR = 0.82205\n",
      "\t\tOut-of-transit error of the transit LC = 0.00034\n",
      "\n",
      "\t*TRANSIT 23\n",
      "\t\tSignal = 0.00028. Noise (rms) = 0.00034. SNR = 0.83522\n",
      "\t\tOut-of-transit error of the transit LC = 0.00034\n",
      "\n",
      "\t*TRANSIT 24\n",
      "\t\tSignal = 0.00031. Noise (rms) = 0.00033. SNR = 0.91318\n",
      "\t\tOut-of-transit error of the transit LC = 0.00033\n",
      "\n",
      "\t*TRANSIT 25\n",
      "\t\tSignal = 0.00021. Noise (rms) = 0.00033. SNR = 0.64544\n",
      "\t\tOut-of-transit error of the transit LC = 0.00033\n",
      "\n",
      "\t*TRANSIT 26\n",
      "\t\tSignal = 0.00025. Noise (rms) = 0.00033. SNR = 0.74210\n",
      "\t\tOut-of-transit error of the transit LC = 0.00033\n",
      "\n",
      "\t*TRANSIT 27\n",
      "\t\tSignal = 0.00029. Noise (rms) = 0.00032. SNR = 0.89964\n",
      "\t\tOut-of-transit error of the transit LC = 0.00032\n",
      "\n",
      "\t*TRANSIT 28\n",
      "\t\tSignal = 0.00025. Noise (rms) = 0.00032. SNR = 0.77158\n",
      "\t\tOut-of-transit error of the transit LC = 0.00032\n",
      "\n",
      "\t*TRANSIT 29\n",
      "\t\tSignal = 0.00022. Noise (rms) = 0.00034. SNR = 0.66213\n",
      "\t\tOut-of-transit error of the transit LC = 0.00034\n",
      "\n",
      "\t*TRANSIT 30\n",
      "\t\tSignal = 0.00028. Noise (rms) = 0.00032. SNR = 0.88349\n",
      "\t\tOut-of-transit error of the transit LC = 0.00032\n",
      "\n",
      "\t*TRANSIT 31\n",
      "\t\tSignal = 0.00024. Noise (rms) = 0.00031. SNR = 0.78090\n",
      "\t\tOut-of-transit error of the transit LC = 0.00031\n",
      "\n",
      "\t*TRANSIT 32\n",
      "\t\tSignal = 0.00021. Noise (rms) = 0.00033. SNR = 0.62752\n",
      "\t\tOut-of-transit error of the transit LC = 0.00033\n",
      "\n",
      "\t*TRANSIT 33\n",
      "\t\tSignal = 0.00025. Noise (rms) = 0.00034. SNR = 0.72949\n",
      "\t\tOut-of-transit error of the transit LC = 0.00034\n",
      "\n",
      "\t*TRANSIT 35\n",
      "\t\tSignal = 0.00029. Noise (rms) = 0.00034. SNR = 0.87482\n",
      "\t\tOut-of-transit error of the transit LC = 0.00034\n",
      "\n",
      "\t*TRANSIT 36\n",
      "\t\tSignal = 0.00029. Noise (rms) = 0.00034. SNR = 0.84357\n",
      "\t\tOut-of-transit error of the transit LC = 0.00034\n",
      "\n",
      "\t*TRANSIT 37\n",
      "\t\tSignal = nan. Noise (rms) = 0.00034. SNR = nan\n",
      "\t\tOut-of-transit error of the transit LC = 0.00034\n",
      "\n",
      "\t*TRANSIT 38\n",
      "\t\tSignal = 0.00023. Noise (rms) = 0.00034. SNR = 0.66052\n",
      "\t\tOut-of-transit error of the transit LC = 0.00034\n",
      "\n",
      "\t*TRANSIT 39\n",
      "\t\tSignal = 0.00028. Noise (rms) = 0.00036. SNR = 0.77662\n",
      "\t\tOut-of-transit error of the transit LC = 0.00036\n",
      "\n",
      "\t*TRANSIT 40\n",
      "\t\tSignal = 0.00028. Noise (rms) = 0.00035. SNR = 0.80778\n",
      "\t\tOut-of-transit error of the transit LC = 0.00035\n",
      "\n",
      "\t*TRANSIT 41\n",
      "\t\tSignal = 0.00030. Noise (rms) = 0.00034. SNR = 0.89095\n",
      "\t\tOut-of-transit error of the transit LC = 0.00034\n",
      "\n",
      "\t*TRANSIT 42\n",
      "\t\tSignal = 0.00029. Noise (rms) = 0.00033. SNR = 0.85572\n",
      "\t\tOut-of-transit error of the transit LC = 0.00033\n",
      "\n",
      "\t*TRANSIT 43\n",
      "\t\tSignal = 0.00023. Noise (rms) = 0.00034. SNR = 0.68098\n",
      "\t\tOut-of-transit error of the transit LC = 0.00034\n",
      "\n",
      "\t*TRANSIT 44\n",
      "\t\tSignal = 0.00025. Noise (rms) = 0.00033. SNR = 0.75058\n",
      "\t\tOut-of-transit error of the transit LC = 0.00033\n",
      "\n",
      "\t*TRANSIT 45\n",
      "\t\tSignal = 0.00024. Noise (rms) = 0.00034. SNR = 0.72335\n",
      "\t\tOut-of-transit error of the transit LC = 0.00034\n",
      "\n",
      "\t*TRANSIT 46\n",
      "\t\tSignal = 0.00022. Noise (rms) = 0.00033. SNR = 0.67218\n",
      "\t\tOut-of-transit error of the transit LC = 0.00033\n",
      "\n",
      "\t*TRANSIT 47\n",
      "\t\tSignal = 0.00027. Noise (rms) = 0.00033. SNR = 0.81829\n",
      "\t\tOut-of-transit error of the transit LC = 0.00033\n",
      "\n",
      "\t*TRANSIT 48\n",
      "\t\tSignal = 0.00027. Noise (rms) = 0.00034. SNR = 0.78681\n",
      "\t\tOut-of-transit error of the transit LC = 0.00034\n",
      "\n",
      "\t*TRANSIT 50\n",
      "\t\tSignal = 0.00026. Noise (rms) = 0.00033. SNR = 0.78623\n",
      "\t\tOut-of-transit error of the transit LC = 0.00033\n",
      "\n",
      "\t*TRANSIT 51\n",
      "\t\tSignal = 0.00022. Noise (rms) = 0.00032. SNR = 0.70863\n",
      "\t\tOut-of-transit error of the transit LC = 0.00032\n",
      "\n",
      "\t*TRANSIT 52\n",
      "\t\tSignal = 0.00028. Noise (rms) = 0.00033. SNR = 0.82926\n",
      "\t\tOut-of-transit error of the transit LC = 0.00033\n",
      "\n",
      "\t*TRANSIT 53\n",
      "\t\tSignal = 0.00044. Noise (rms) = 0.00033. SNR = 1.35048\n",
      "\t\tOut-of-transit error of the transit LC = 0.00033\n",
      "\n",
      "\t*TRANSIT 54\n",
      "\t\tSignal = 0.00024. Noise (rms) = 0.00034. SNR = 0.71192\n",
      "\t\tOut-of-transit error of the transit LC = 0.00034\n",
      "\n",
      "******************************** KID6960913 ********************************\n",
      "\n",
      "\t*TRANSIT 1\n",
      "\t\tSignal = 0.00084. Noise (rms) = 0.00157. SNR = 0.53659\n",
      "\t\tOut-of-transit error of the transit LC = 0.00157\n",
      "\n",
      "\t*TRANSIT 2\n",
      "\t\tSignal = 0.00134. Noise (rms) = 0.00167. SNR = 0.80505\n",
      "\t\tOut-of-transit error of the transit LC = 0.00167\n",
      "\n",
      "\t*TRANSIT 3\n",
      "\t\tSignal = 0.00119. Noise (rms) = 0.00176. SNR = 0.67625\n",
      "\t\tOut-of-transit error of the transit LC = 0.00176\n",
      "\n",
      "\t*TRANSIT 4\n",
      "\t\tSignal = 0.00120. Noise (rms) = 0.00158. SNR = 0.75677\n",
      "\t\tOut-of-transit error of the transit LC = 0.00158\n",
      "\n",
      "\t*TRANSIT 5\n",
      "\t\tSignal = 0.00108. Noise (rms) = 0.00163. SNR = 0.66440\n",
      "\t\tOut-of-transit error of the transit LC = 0.00163\n",
      "\n",
      "\t*TRANSIT 6\n",
      "\t\tSignal = 0.00129. Noise (rms) = 0.00155. SNR = 0.83473\n",
      "\t\tOut-of-transit error of the transit LC = 0.00155\n",
      "\n",
      "\t*TRANSIT 7\n",
      "\t\tSignal = 0.00117. Noise (rms) = 0.00166. SNR = 0.70407\n",
      "\t\tOut-of-transit error of the transit LC = 0.00166\n",
      "\n",
      "\t*TRANSIT 8\n",
      "\t\tSignal = 0.00173. Noise (rms) = 0.00162. SNR = 1.06801\n",
      "\t\tOut-of-transit error of the transit LC = 0.00162\n",
      "\n",
      "******************************** KID8845205 ********************************\n",
      "\n",
      "\t*TRANSIT 1\n",
      "\t\tSignal = 0.00198. Noise (rms) = 0.00169. SNR = 1.17557\n",
      "\t\tOut-of-transit error of the transit LC = 0.00169\n",
      "\n",
      "\t*TRANSIT 3\n",
      "\t\tSignal = 0.00188. Noise (rms) = 0.00172. SNR = 1.09213\n",
      "\t\tOut-of-transit error of the transit LC = 0.00172\n",
      "\n",
      "\t*TRANSIT 4\n",
      "\t\tSignal = 0.00198. Noise (rms) = 0.00168. SNR = 1.17837\n",
      "\t\tOut-of-transit error of the transit LC = 0.00168\n",
      "\n",
      "\t*TRANSIT 5\n",
      "\t\tSignal = 0.00203. Noise (rms) = 0.00176. SNR = 1.15574\n",
      "\t\tOut-of-transit error of the transit LC = 0.00176\n",
      "\n",
      "\t*TRANSIT 6\n",
      "\t\tSignal = 0.00198. Noise (rms) = 0.00171. SNR = 1.15863\n",
      "\t\tOut-of-transit error of the transit LC = 0.00171\n",
      "\n",
      "\t*TRANSIT 7\n",
      "\t\tSignal = 0.00190. Noise (rms) = 0.00214. SNR = 0.88789\n",
      "\t\tOut-of-transit error of the transit LC = 0.00214\n",
      "\n",
      "\t*TRANSIT 9\n",
      "\t\tSignal = 0.00210. Noise (rms) = 0.00219. SNR = 0.95990\n",
      "\t\tOut-of-transit error of the transit LC = 0.00219\n",
      "\n",
      "\t*TRANSIT 10\n",
      "\t\tSignal = 0.00281. Noise (rms) = 0.00205. SNR = 1.37385\n",
      "\t\tOut-of-transit error of the transit LC = 0.00205\n",
      "\n",
      "\t*TRANSIT 11\n",
      "\t\tSignal = 0.00183. Noise (rms) = 0.00210. SNR = 0.87358\n",
      "\t\tOut-of-transit error of the transit LC = 0.00210\n",
      "\n",
      "******************************** KID11194032 ********************************\n",
      "\n",
      "\t*TRANSIT 1\n",
      "\t\tSignal = 0.00137. Noise (rms) = 0.00086. SNR = 1.59194\n",
      "\t\tOut-of-transit error of the transit LC = 0.00086\n",
      "\n",
      "\t*TRANSIT 2\n",
      "\t\tSignal = 0.00155. Noise (rms) = 0.00090. SNR = 1.72897\n",
      "\t\tOut-of-transit error of the transit LC = 0.00090\n",
      "\n",
      "\t*TRANSIT 3\n",
      "\t\tSignal = 0.00183. Noise (rms) = 0.00093. SNR = 1.97348\n",
      "\t\tOut-of-transit error of the transit LC = 0.00093\n",
      "\n",
      "\t*TRANSIT 6\n",
      "\t\tSignal = 0.00127. Noise (rms) = 0.00088. SNR = 1.44919\n",
      "\t\tOut-of-transit error of the transit LC = 0.00088\n",
      "\n",
      "******************************** KID8686097 ********************************\n",
      "\n",
      "\t*TRANSIT 1\n",
      "\t\tSignal = 0.00055. Noise (rms) = 0.00037. SNR = 1.46379\n",
      "\t\tOut-of-transit error of the transit LC = 0.00037\n",
      "\n",
      "\t*TRANSIT 2\n",
      "\t\tSignal = 0.00064. Noise (rms) = 0.00036. SNR = 1.76814\n",
      "\t\tOut-of-transit error of the transit LC = 0.00036\n",
      "\n",
      "\t*TRANSIT 3\n",
      "\t\tSignal = 0.00058. Noise (rms) = 0.00036. SNR = 1.62248\n",
      "\t\tOut-of-transit error of the transit LC = 0.00036\n",
      "\n",
      "\t*TRANSIT 4\n",
      "\t\tSignal = 0.00064. Noise (rms) = 0.00038. SNR = 1.68460\n",
      "\t\tOut-of-transit error of the transit LC = 0.00038\n",
      "\n",
      "\t*TRANSIT 5\n",
      "\t\tSignal = 0.00053. Noise (rms) = 0.00037. SNR = 1.41825\n",
      "\t\tOut-of-transit error of the transit LC = 0.00037\n",
      "\n",
      "******************************** KID7277317 ********************************\n",
      "\n",
      "\t*TRANSIT 1\n",
      "\t\tSignal = 0.00145. Noise (rms) = 0.00086. SNR = 1.69351\n",
      "\t\tOut-of-transit error of the transit LC = 0.00086\n",
      "\n",
      "\t*TRANSIT 2\n",
      "\t\tSignal = 0.00133. Noise (rms) = 0.00086. SNR = 1.54200\n",
      "\t\tOut-of-transit error of the transit LC = 0.00086\n",
      "\n",
      "\t*TRANSIT 3\n",
      "\t\tSignal = 0.00104. Noise (rms) = 0.00085. SNR = 1.21474\n",
      "\t\tOut-of-transit error of the transit LC = 0.00085\n",
      "\n",
      "\t*TRANSIT 4\n",
      "\t\tSignal = 0.00150. Noise (rms) = 0.00083. SNR = 1.80870\n",
      "\t\tOut-of-transit error of the transit LC = 0.00083\n",
      "\n",
      "\t*TRANSIT 11\n",
      "\t\tSignal = 0.00152. Noise (rms) = 0.00081. SNR = 1.87875\n",
      "\t\tOut-of-transit error of the transit LC = 0.00081\n",
      "\n",
      "\t*TRANSIT 12\n",
      "\t\tSignal = 0.00147. Noise (rms) = 0.00081. SNR = 1.81378\n",
      "\t\tOut-of-transit error of the transit LC = 0.00081\n",
      "\n",
      "\t*TRANSIT 13\n",
      "\t\tSignal = 0.00147. Noise (rms) = 0.00084. SNR = 1.75704\n",
      "\t\tOut-of-transit error of the transit LC = 0.00084\n",
      "\n",
      "\t*TRANSIT 14\n",
      "\t\tSignal = 0.00142. Noise (rms) = 0.00079. SNR = 1.78141\n",
      "\t\tOut-of-transit error of the transit LC = 0.00079\n",
      "\n",
      "\t*TRANSIT 15\n",
      "\t\tSignal = 0.00151. Noise (rms) = 0.00084. SNR = 1.79425\n",
      "\t\tOut-of-transit error of the transit LC = 0.00084\n",
      "\n",
      "\t*TRANSIT 16\n",
      "\t\tSignal = 0.00137. Noise (rms) = 0.00085. SNR = 1.61633\n",
      "\t\tOut-of-transit error of the transit LC = 0.00085\n",
      "\n",
      "\t*TRANSIT 23\n",
      "\t\tSignal = 0.00136. Noise (rms) = 0.00086. SNR = 1.57692\n",
      "\t\tOut-of-transit error of the transit LC = 0.00086\n",
      "\n",
      "\t*TRANSIT 24\n",
      "\t\tSignal = 0.00143. Noise (rms) = 0.00087. SNR = 1.65122\n",
      "\t\tOut-of-transit error of the transit LC = 0.00087\n",
      "\n",
      "\t*TRANSIT 25\n",
      "\t\tSignal = 0.00139. Noise (rms) = 0.00088. SNR = 1.57961\n",
      "\t\tOut-of-transit error of the transit LC = 0.00088\n",
      "\n",
      "\t*TRANSIT 26\n",
      "\t\tSignal = 0.00136. Noise (rms) = 0.00084. SNR = 1.61623\n",
      "\t\tOut-of-transit error of the transit LC = 0.00084\n",
      "\n",
      "\t*TRANSIT 27\n",
      "\t\tSignal = 0.00141. Noise (rms) = 0.00087. SNR = 1.62820\n",
      "\t\tOut-of-transit error of the transit LC = 0.00087\n",
      "\n",
      "\t*TRANSIT 34\n",
      "\t\tSignal = 0.00158. Noise (rms) = 0.00086. SNR = 1.83045\n",
      "\t\tOut-of-transit error of the transit LC = 0.00086\n",
      "\n",
      "\t*TRANSIT 35\n",
      "\t\tSignal = nan. Noise (rms) = 0.00083. SNR = nan\n",
      "\t\tOut-of-transit error of the transit LC = 0.00083\n",
      "\n",
      "\t*TRANSIT 36\n",
      "\t\tSignal = 0.00145. Noise (rms) = 0.00081. SNR = 1.77845\n",
      "\t\tOut-of-transit error of the transit LC = 0.00081\n",
      "\n",
      "\t*TRANSIT 37\n",
      "\t\tSignal = 0.00129. Noise (rms) = 0.00081. SNR = 1.59653\n",
      "\t\tOut-of-transit error of the transit LC = 0.00081\n",
      "\n",
      "\t*TRANSIT 38\n",
      "\t\tSignal = 0.00144. Noise (rms) = 0.00083. SNR = 1.72885\n",
      "\t\tOut-of-transit error of the transit LC = 0.00083\n",
      "\n",
      "\t*TRANSIT 39\n",
      "\t\tSignal = 0.00141. Noise (rms) = 0.00083. SNR = 1.71218\n",
      "\t\tOut-of-transit error of the transit LC = 0.00083\n",
      "\n",
      "\t*TRANSIT 47\n",
      "\t\tSignal = 0.00134. Noise (rms) = 0.00087. SNR = 1.53415\n",
      "\t\tOut-of-transit error of the transit LC = 0.00087\n",
      "\n",
      "\t*TRANSIT 48\n",
      "\t\tSignal = 0.00134. Noise (rms) = 0.00088. SNR = 1.52424\n",
      "\t\tOut-of-transit error of the transit LC = 0.00088\n",
      "\n",
      "\t*TRANSIT 49\n",
      "\t\tSignal = 0.00143. Noise (rms) = 0.00086. SNR = 1.66262\n",
      "\t\tOut-of-transit error of the transit LC = 0.00086\n",
      "\n",
      "\t*TRANSIT 50\n",
      "\t\tSignal = 0.00144. Noise (rms) = 0.00087. SNR = 1.64813\n",
      "\t\tOut-of-transit error of the transit LC = 0.00087\n",
      "\n",
      "******************************** KID8802165 ********************************\n",
      "\n",
      "\t*TRANSIT 1\n",
      "\t\tSignal = 0.00074. Noise (rms) = 0.00107. SNR = 0.68781\n",
      "\t\tOut-of-transit error of the transit LC = 0.00107\n",
      "\n",
      "\t*TRANSIT 2\n",
      "\t\tSignal = 0.00079. Noise (rms) = 0.00104. SNR = 0.76280\n",
      "\t\tOut-of-transit error of the transit LC = 0.00104\n",
      "\n",
      "******************************** KID9965439 ********************************\n",
      "\n",
      "\t*TRANSIT 1\n",
      "\t\tSignal = 0.00042. Noise (rms) = 0.00070. SNR = 0.60017\n",
      "\t\tOut-of-transit error of the transit LC = 0.00070\n",
      "\n",
      "******************************** KID7211141 ********************************\n",
      "\n",
      "\t*TRANSIT 1\n",
      "\t\tSignal = 0.00266. Noise (rms) = 0.00292. SNR = 0.91027\n",
      "\t\tOut-of-transit error of the transit LC = 0.00292\n",
      "\n",
      "\t*TRANSIT 2\n",
      "\t\tSignal = 0.00258. Noise (rms) = 0.00290. SNR = 0.88877\n",
      "\t\tOut-of-transit error of the transit LC = 0.00290\n",
      "\n",
      "******************************** KID9578686 ********************************\n",
      "\n",
      "\t*TRANSIT 1\n",
      "\t\tSignal = 0.00048. Noise (rms) = 0.00100. SNR = 0.47894\n",
      "\t\tOut-of-transit error of the transit LC = 0.00100\n",
      "\n",
      "******************************** KID11074541 ********************************\n",
      "\n",
      "\t*TRANSIT 1\n",
      "\t\tSignal = 0.00099. Noise (rms) = 0.00064. SNR = 1.53216\n",
      "\t\tOut-of-transit error of the transit LC = 0.00064\n",
      "\n",
      "\t*TRANSIT 2\n",
      "\t\tSignal = 0.00095. Noise (rms) = 0.00065. SNR = 1.47139\n",
      "\t\tOut-of-transit error of the transit LC = 0.00065\n",
      "\n",
      "\t*TRANSIT 3\n",
      "\t\tSignal = 0.00090. Noise (rms) = 0.00061. SNR = 1.48629\n",
      "\t\tOut-of-transit error of the transit LC = 0.00061\n",
      "\n",
      "\t*TRANSIT 6\n",
      "\t\tSignal = nan. Noise (rms) = 0.00064. SNR = nan\n",
      "\t\tOut-of-transit error of the transit LC = 0.00064\n",
      "\n",
      "\t*TRANSIT 35\n",
      "\t\tSignal = 0.00089. Noise (rms) = 0.00064. SNR = 1.39626\n",
      "\t\tOut-of-transit error of the transit LC = 0.00064\n",
      "\n",
      "******************************** KID12365184 ********************************\n",
      "\n",
      "\t*TRANSIT 5\n",
      "\t\tSignal = 0.00386. Noise (rms) = 0.00073. SNR = 5.27941\n",
      "\t\tOut-of-transit error of the transit LC = 0.00073\n",
      "\n",
      "Max b (rp in Solar Radius): 1.0617025996533795\n"
     ]
    },
    {
     "name": "stderr",
     "output_type": "stream",
     "text": [
      "/Users/mbadenas/anaconda3/lib/python3.6/site-packages/numpy/core/fromnumeric.py:2957: RuntimeWarning: Mean of empty slice.\n",
      "  out=out, **kwargs)\n",
      "/Users/mbadenas/anaconda3/lib/python3.6/site-packages/numpy/core/_methods.py:80: RuntimeWarning: invalid value encountered in double_scalars\n",
      "  ret = ret.dtype.type(ret / rcount)\n",
      "/Users/mbadenas/anaconda3/lib/python3.6/site-packages/transit/transit.py:518: RuntimeWarning: divide by zero encountered in log\n",
      "  np.log(self.central.dilution)-np.log(1.0-self.central.dilution)\n"
     ]
    },
    {
     "name": "stdout",
     "output_type": "stream",
     "text": [
      "Optimization terminated successfully.\n",
      "         Current function value: -5952.654905\n",
      "         Iterations: 765\n",
      "         Function evaluations: 1200\n"
     ]
    },
    {
     "name": "stderr",
     "output_type": "stream",
     "text": [
      "\r",
      "  0%|          | 0/200 [00:00<?, ?it/s]"
     ]
    },
    {
     "name": "stdout",
     "output_type": "stream",
     "text": [
      "Running burn-in\n"
     ]
    },
    {
     "name": "stderr",
     "output_type": "stream",
     "text": [
      "100%|██████████| 200/200 [00:35<00:00,  5.84it/s]\n",
      "  0%|          | 0/2000 [00:00<?, ?it/s]"
     ]
    },
    {
     "name": "stdout",
     "output_type": "stream",
     "text": [
      "\n",
      "------ Run MCMC -------\n"
     ]
    },
    {
     "name": "stderr",
     "output_type": "stream",
     "text": [
      "100%|██████████| 2000/2000 [05:28<00:00,  6.00it/s]\n",
      "WARNING:root:Too few points to create valid contours\n"
     ]
    },
    {
     "name": "stdout",
     "output_type": "stream",
     "text": [
      "Mean acceptance fraction: 0.45291000000000003\n",
      "Acceptance fraction: 45.29 %\n",
      "\tStellar Radius [Rsun]:\tMCMC = 0.52976.\t1st Fit = 0.54745.\tKepler = 1.73100\n",
      "\tError Stellar Radius [Rsun]:\tMCMC (up) = 0.01718, (down) = 0.00396.\tOld = 0.08655\n",
      "\n",
      "\t*TRANSIT 6\n",
      "\t\tSignal = 0.00374. Noise (rms) = 0.00065. SNR = 5.73604\n",
      "\t\tOut-of-transit error of the transit LC = 0.00065\n",
      "\n",
      "Max b (rp in Solar Radius): 1.0617025996533795\n",
      "Optimization terminated successfully.\n",
      "         Current function value: -6068.816632\n",
      "         Iterations: 404\n",
      "         Function evaluations: 641\n"
     ]
    },
    {
     "name": "stderr",
     "output_type": "stream",
     "text": [
      "\r",
      "  0%|          | 0/200 [00:00<?, ?it/s]"
     ]
    },
    {
     "name": "stdout",
     "output_type": "stream",
     "text": [
      "Running burn-in\n"
     ]
    },
    {
     "name": "stderr",
     "output_type": "stream",
     "text": [
      "100%|██████████| 200/200 [00:37<00:00,  5.93it/s]\n",
      "  0%|          | 0/2000 [00:00<?, ?it/s]"
     ]
    },
    {
     "name": "stdout",
     "output_type": "stream",
     "text": [
      "\n",
      "------ Run MCMC -------\n"
     ]
    },
    {
     "name": "stderr",
     "output_type": "stream",
     "text": [
      "100%|██████████| 2000/2000 [05:37<00:00,  5.99it/s]\n"
     ]
    },
    {
     "name": "stdout",
     "output_type": "stream",
     "text": [
      "Mean acceptance fraction: 0.36784\n",
      "Acceptance fraction: 36.78 %\n",
      "\tStellar Radius [Rsun]:\tMCMC = 0.56236.\t1st Fit = 0.52439.\tKepler = 1.73100\n",
      "\tError Stellar Radius [Rsun]:\tMCMC (up) = 0.06674, (down) = 0.03467.\tOld = 0.08655\n",
      "\n",
      "\t*TRANSIT 7\n",
      "\t\tSignal = 0.00267. Noise (rms) = 0.00107. SNR = 2.48778\n",
      "\t\tOut-of-transit error of the transit LC = 0.00107\n",
      "\n",
      "\t*TRANSIT 8\n",
      "\t\tSignal = nan. Noise (rms) = 0.00065. SNR = nan\n",
      "\t\tOut-of-transit error of the transit LC = 0.00065\n",
      "\n",
      "\t*TRANSIT 9\n",
      "\t\tSignal = 0.00172. Noise (rms) = 0.00165. SNR = 1.04064\n",
      "\t\tOut-of-transit error of the transit LC = 0.00165\n",
      "\n",
      "\t*TRANSIT 10\n",
      "\t\tSignal = 0.00290. Noise (rms) = 0.00120. SNR = 2.41125\n",
      "\t\tOut-of-transit error of the transit LC = 0.00120\n",
      "\n",
      "\t*TRANSIT 11\n",
      "\t\tSignal = 0.00363. Noise (rms) = 0.00093. SNR = 3.87960\n",
      "\t\tOut-of-transit error of the transit LC = 0.00093\n",
      "\n",
      "Max b (rp in Solar Radius): 1.0617025996533795\n"
     ]
    },
    {
     "name": "stderr",
     "output_type": "stream",
     "text": [
      "/Users/mbadenas/anaconda3/lib/python3.6/site-packages/numpy/core/fromnumeric.py:2957: RuntimeWarning: Mean of empty slice.\n",
      "  out=out, **kwargs)\n",
      "/Users/mbadenas/anaconda3/lib/python3.6/site-packages/numpy/core/_methods.py:80: RuntimeWarning: invalid value encountered in double_scalars\n",
      "  ret = ret.dtype.type(ret / rcount)\n",
      "/Users/mbadenas/anaconda3/lib/python3.6/site-packages/transit/transit.py:518: RuntimeWarning: divide by zero encountered in log\n",
      "  np.log(self.central.dilution)-np.log(1.0-self.central.dilution)\n"
     ]
    },
    {
     "name": "stdout",
     "output_type": "stream",
     "text": [
      "Optimization terminated successfully.\n",
      "         Current function value: -6038.317430\n",
      "         Iterations: 432\n",
      "         Function evaluations: 677\n"
     ]
    },
    {
     "name": "stderr",
     "output_type": "stream",
     "text": [
      "\r",
      "  0%|          | 0/200 [00:00<?, ?it/s]"
     ]
    },
    {
     "name": "stdout",
     "output_type": "stream",
     "text": [
      "Running burn-in\n"
     ]
    },
    {
     "name": "stderr",
     "output_type": "stream",
     "text": [
      "100%|██████████| 200/200 [00:36<00:00,  5.54it/s]\n",
      "  0%|          | 0/2000 [00:00<?, ?it/s]"
     ]
    },
    {
     "name": "stdout",
     "output_type": "stream",
     "text": [
      "\n",
      "------ Run MCMC -------\n"
     ]
    },
    {
     "name": "stderr",
     "output_type": "stream",
     "text": [
      "100%|██████████| 2000/2000 [06:02<00:00,  4.68it/s]\n"
     ]
    },
    {
     "name": "stdout",
     "output_type": "stream",
     "text": [
      "Mean acceptance fraction: 0.40639000000000003\n",
      "Acceptance fraction: 40.64 %\n",
      "\tStellar Radius [Rsun]:\tMCMC = 0.64758.\t1st Fit = 0.67995.\tKepler = 1.73100\n",
      "\tError Stellar Radius [Rsun]:\tMCMC (up) = 0.05462, (down) = 0.05499.\tOld = 0.08655\n",
      "\n",
      "\t*TRANSIT 12\n",
      "\t\tSignal = 0.00389. Noise (rms) = 0.00068. SNR = 5.70778\n",
      "\t\tOut-of-transit error of the transit LC = 0.00068\n",
      "\n",
      "Max b (rp in Solar Radius): 1.0617025996533795\n"
     ]
    },
    {
     "name": "stderr",
     "output_type": "stream",
     "text": [
      "/Users/mbadenas/anaconda3/lib/python3.6/site-packages/transit/transit.py:518: RuntimeWarning: divide by zero encountered in log\n",
      "  np.log(self.central.dilution)-np.log(1.0-self.central.dilution)\n"
     ]
    },
    {
     "name": "stdout",
     "output_type": "stream",
     "text": [
      "Optimization terminated successfully.\n",
      "         Current function value: -6116.756353\n",
      "         Iterations: 442\n",
      "         Function evaluations: 705\n"
     ]
    },
    {
     "name": "stderr",
     "output_type": "stream",
     "text": [
      "\r",
      "  0%|          | 0/200 [00:00<?, ?it/s]"
     ]
    },
    {
     "name": "stdout",
     "output_type": "stream",
     "text": [
      "Running burn-in\n"
     ]
    },
    {
     "name": "stderr",
     "output_type": "stream",
     "text": [
      "100%|██████████| 200/200 [00:35<00:00,  6.16it/s]\n",
      "  0%|          | 0/2000 [00:00<?, ?it/s]"
     ]
    },
    {
     "name": "stdout",
     "output_type": "stream",
     "text": [
      "\n",
      "------ Run MCMC -------\n"
     ]
    },
    {
     "name": "stderr",
     "output_type": "stream",
     "text": [
      "100%|██████████| 2000/2000 [05:39<00:00,  5.50it/s]\n"
     ]
    },
    {
     "name": "stdout",
     "output_type": "stream",
     "text": [
      "Mean acceptance fraction: 0.38258\n",
      "Acceptance fraction: 38.26 %\n",
      "\tStellar Radius [Rsun]:\tMCMC = 0.54999.\t1st Fit = 0.52503.\tKepler = 1.73100\n",
      "\tError Stellar Radius [Rsun]:\tMCMC (up) = 0.05795, (down) = 0.02271.\tOld = 0.08655\n",
      "\n",
      "\t*TRANSIT 13\n",
      "\t\tSignal = 0.00380. Noise (rms) = 0.00067. SNR = 5.67433\n",
      "\t\tOut-of-transit error of the transit LC = 0.00067\n",
      "\n",
      "Max b (rp in Solar Radius): 1.0617025996533795\n"
     ]
    },
    {
     "name": "stderr",
     "output_type": "stream",
     "text": [
      "/Users/mbadenas/anaconda3/lib/python3.6/site-packages/transit/transit.py:518: RuntimeWarning: divide by zero encountered in log\n",
      "  np.log(self.central.dilution)-np.log(1.0-self.central.dilution)\n"
     ]
    },
    {
     "name": "stdout",
     "output_type": "stream",
     "text": [
      "Optimization terminated successfully.\n",
      "         Current function value: -6070.894072\n",
      "         Iterations: 285\n",
      "         Function evaluations: 453\n"
     ]
    },
    {
     "name": "stderr",
     "output_type": "stream",
     "text": [
      "\r",
      "  0%|          | 0/200 [00:00<?, ?it/s]"
     ]
    },
    {
     "name": "stdout",
     "output_type": "stream",
     "text": [
      "Running burn-in\n"
     ]
    },
    {
     "name": "stderr",
     "output_type": "stream",
     "text": [
      "100%|██████████| 200/200 [00:36<00:00,  6.24it/s]\n",
      "  0%|          | 0/2000 [00:00<?, ?it/s]"
     ]
    },
    {
     "name": "stdout",
     "output_type": "stream",
     "text": [
      "\n",
      "------ Run MCMC -------\n"
     ]
    },
    {
     "name": "stderr",
     "output_type": "stream",
     "text": [
      "100%|██████████| 2000/2000 [05:42<00:00,  5.68it/s]\n"
     ]
    },
    {
     "name": "stdout",
     "output_type": "stream",
     "text": [
      "Mean acceptance fraction: 0.400165\n",
      "Acceptance fraction: 40.02 %\n",
      "\tStellar Radius [Rsun]:\tMCMC = 0.54066.\t1st Fit = 0.52296.\tKepler = 1.73100\n",
      "\tError Stellar Radius [Rsun]:\tMCMC (up) = 0.03733, (down) = 0.01566.\tOld = 0.08655\n",
      "\n",
      "\t*TRANSIT 14\n",
      "\t\tSignal = 0.00370. Noise (rms) = 0.00073. SNR = 5.06485\n",
      "\t\tOut-of-transit error of the transit LC = 0.00073\n",
      "\n",
      "Max b (rp in Solar Radius): 1.0617025996533795\n"
     ]
    },
    {
     "name": "stderr",
     "output_type": "stream",
     "text": [
      "/Users/mbadenas/anaconda3/lib/python3.6/site-packages/transit/transit.py:518: RuntimeWarning: divide by zero encountered in log\n",
      "  np.log(self.central.dilution)-np.log(1.0-self.central.dilution)\n"
     ]
    },
    {
     "name": "stdout",
     "output_type": "stream",
     "text": [
      "Optimization terminated successfully.\n",
      "         Current function value: -6136.179613\n",
      "         Iterations: 410\n",
      "         Function evaluations: 640\n"
     ]
    },
    {
     "name": "stderr",
     "output_type": "stream",
     "text": [
      "\r",
      "  0%|          | 0/200 [00:00<?, ?it/s]"
     ]
    },
    {
     "name": "stdout",
     "output_type": "stream",
     "text": [
      "Running burn-in\n"
     ]
    },
    {
     "name": "stderr",
     "output_type": "stream",
     "text": [
      "100%|██████████| 200/200 [00:38<00:00,  5.40it/s]\n",
      "  0%|          | 0/2000 [00:00<?, ?it/s]"
     ]
    },
    {
     "name": "stdout",
     "output_type": "stream",
     "text": [
      "\n",
      "------ Run MCMC -------\n"
     ]
    },
    {
     "name": "stderr",
     "output_type": "stream",
     "text": [
      "100%|██████████| 2000/2000 [05:54<00:00,  5.94it/s]\n"
     ]
    },
    {
     "name": "stdout",
     "output_type": "stream",
     "text": [
      "Mean acceptance fraction: 0.3670250000000001\n",
      "Acceptance fraction: 36.70 %\n",
      "\tStellar Radius [Rsun]:\tMCMC = 0.54561.\t1st Fit = 0.52701.\tKepler = 1.73100\n",
      "\tError Stellar Radius [Rsun]:\tMCMC (up) = 0.05283, (down) = 0.02375.\tOld = 0.08655\n",
      "\n",
      "\t*TRANSIT 15\n",
      "\t\tSignal = 0.00295. Noise (rms) = 0.00111. SNR = 2.65736\n",
      "\t\tOut-of-transit error of the transit LC = 0.00111\n",
      "\n",
      "******************************** KID11449844 ********************************\n",
      "\n",
      "\t*TRANSIT 1\n",
      "\t\tSignal = 0.01874. Noise (rms) = 0.00078. SNR = 24.06266\n",
      "\t\tOut-of-transit error of the transit LC = 0.00078\n",
      "\n",
      "Max b (rp in Solar Radius): 1.138302252559727\n"
     ]
    },
    {
     "name": "stderr",
     "output_type": "stream",
     "text": [
      "/Users/mbadenas/anaconda3/lib/python3.6/site-packages/transit/transit.py:518: RuntimeWarning: divide by zero encountered in log\n",
      "  np.log(self.central.dilution)-np.log(1.0-self.central.dilution)\n"
     ]
    },
    {
     "name": "stdout",
     "output_type": "stream",
     "text": [
      "Optimization terminated successfully.\n",
      "         Current function value: -6875.016291\n",
      "         Iterations: 205\n",
      "         Function evaluations: 336\n",
      "Running burn-in\n"
     ]
    },
    {
     "name": "stderr",
     "output_type": "stream",
     "text": [
      "100%|██████████| 200/200 [01:03<00:00,  3.48it/s]\n"
     ]
    },
    {
     "name": "stdout",
     "output_type": "stream",
     "text": [
      "\n",
      "------ Run MCMC -------\n"
     ]
    },
    {
     "name": "stderr",
     "output_type": "stream",
     "text": [
      "100%|██████████| 2000/2000 [10:15<00:00,  3.37it/s]\n"
     ]
    },
    {
     "name": "stdout",
     "output_type": "stream",
     "text": [
      "Mean acceptance fraction: 0.4568950000000001\n",
      "Acceptance fraction: 45.69 %\n",
      "\tStellar Radius [Rsun]:\tMCMC = 0.71785.\t1st Fit = 0.71536.\tKepler = 0.87900\n",
      "\tError Stellar Radius [Rsun]:\tMCMC (up) = 0.00609, (down) = 0.00242.\tOld = 0.04395\n",
      "\n",
      "\t*TRANSIT 2\n",
      "\t\tSignal = 0.01814. Noise (rms) = 0.00083. SNR = 21.95748\n",
      "\t\tOut-of-transit error of the transit LC = 0.00083\n",
      "\n",
      "Max b (rp in Solar Radius): 1.138302252559727\n",
      "Optimization terminated successfully.\n",
      "         Current function value: -7737.782278\n",
      "         Iterations: 231\n",
      "         Function evaluations: 368\n",
      "Running burn-in\n"
     ]
    },
    {
     "name": "stderr",
     "output_type": "stream",
     "text": [
      "100%|██████████| 200/200 [01:03<00:00,  3.39it/s]\n"
     ]
    },
    {
     "name": "stdout",
     "output_type": "stream",
     "text": [
      "\n",
      "------ Run MCMC -------\n"
     ]
    },
    {
     "name": "stderr",
     "output_type": "stream",
     "text": [
      "100%|██████████| 2000/2000 [10:45<00:00,  3.28it/s]\n"
     ]
    },
    {
     "name": "stdout",
     "output_type": "stream",
     "text": [
      "Mean acceptance fraction: 0.47889999999999994\n",
      "Acceptance fraction: 47.89 %\n",
      "\tStellar Radius [Rsun]:\tMCMC = 0.72217.\t1st Fit = 0.72093.\tKepler = 0.87900\n",
      "\tError Stellar Radius [Rsun]:\tMCMC (up) = 0.00313, (down) = 0.00174.\tOld = 0.04395\n",
      "\n",
      "\t*TRANSIT 3\n",
      "\t\tSignal = 0.01871. Noise (rms) = 0.00080. SNR = 23.24806\n",
      "\t\tOut-of-transit error of the transit LC = 0.00080\n",
      "\n",
      "Max b (rp in Solar Radius): 1.138302252559727\n",
      "Optimization terminated successfully.\n",
      "         Current function value: -8025.320327\n",
      "         Iterations: 136\n",
      "         Function evaluations: 234\n",
      "Running burn-in\n"
     ]
    },
    {
     "name": "stderr",
     "output_type": "stream",
     "text": [
      "100%|██████████| 200/200 [01:10<00:00,  3.08it/s]\n"
     ]
    },
    {
     "name": "stdout",
     "output_type": "stream",
     "text": [
      "\n",
      "------ Run MCMC -------\n"
     ]
    },
    {
     "name": "stderr",
     "output_type": "stream",
     "text": [
      "100%|██████████| 2000/2000 [10:28<00:00,  3.41it/s]\n"
     ]
    },
    {
     "name": "stdout",
     "output_type": "stream",
     "text": [
      "Mean acceptance fraction: 0.48034999999999994\n",
      "Acceptance fraction: 48.03 %\n",
      "\tStellar Radius [Rsun]:\tMCMC = 0.72015.\t1st Fit = 0.71894.\tKepler = 0.87900\n",
      "\tError Stellar Radius [Rsun]:\tMCMC (up) = 0.00288, (down) = 0.00162.\tOld = 0.04395\n",
      "\n",
      "\t*TRANSIT 4\n",
      "\t\tSignal = 0.01821. Noise (rms) = 0.00085. SNR = 21.47923\n",
      "\t\tOut-of-transit error of the transit LC = 0.00085\n",
      "\n",
      "Max b (rp in Solar Radius): 1.138302252559727\n",
      "Optimization terminated successfully.\n",
      "         Current function value: -6667.643789\n",
      "         Iterations: 220\n",
      "         Function evaluations: 355\n",
      "Running burn-in\n"
     ]
    },
    {
     "name": "stderr",
     "output_type": "stream",
     "text": [
      "100%|██████████| 200/200 [01:00<00:00,  3.67it/s]\n"
     ]
    },
    {
     "name": "stdout",
     "output_type": "stream",
     "text": [
      "\n",
      "------ Run MCMC -------\n"
     ]
    },
    {
     "name": "stderr",
     "output_type": "stream",
     "text": [
      "100%|██████████| 2000/2000 [09:32<00:00,  3.45it/s]\n"
     ]
    },
    {
     "name": "stdout",
     "output_type": "stream",
     "text": [
      "Mean acceptance fraction: 0.46824000000000005\n",
      "Acceptance fraction: 46.82 %\n",
      "\tStellar Radius [Rsun]:\tMCMC = 0.72125.\t1st Fit = 0.71939.\tKepler = 0.87900\n",
      "\tError Stellar Radius [Rsun]:\tMCMC (up) = 0.00454, (down) = 0.00208.\tOld = 0.04395\n",
      "\n",
      "\t*TRANSIT 5\n",
      "\t\tSignal = 0.01861. Noise (rms) = 0.00084. SNR = 22.27257\n",
      "\t\tOut-of-transit error of the transit LC = 0.00084\n",
      "\n",
      "Max b (rp in Solar Radius): 1.138302252559727\n",
      "Optimization terminated successfully.\n",
      "         Current function value: -7799.580204\n",
      "         Iterations: 240\n",
      "         Function evaluations: 385\n",
      "Running burn-in\n"
     ]
    },
    {
     "name": "stderr",
     "output_type": "stream",
     "text": [
      "100%|██████████| 200/200 [01:04<00:00,  3.26it/s]\n"
     ]
    },
    {
     "name": "stdout",
     "output_type": "stream",
     "text": [
      "\n",
      "------ Run MCMC -------\n"
     ]
    },
    {
     "name": "stderr",
     "output_type": "stream",
     "text": [
      "100%|██████████| 2000/2000 [09:46<00:00,  3.43it/s]\n"
     ]
    },
    {
     "name": "stdout",
     "output_type": "stream",
     "text": [
      "Mean acceptance fraction: 0.47245499999999985\n",
      "Acceptance fraction: 47.25 %\n",
      "\tStellar Radius [Rsun]:\tMCMC = 0.71989.\t1st Fit = 0.71829.\tKepler = 0.87900\n",
      "\tError Stellar Radius [Rsun]:\tMCMC (up) = 0.00401, (down) = 0.00192.\tOld = 0.04395\n",
      "\n",
      "\t*TRANSIT 8\n",
      "\t\tSignal = 0.01769. Noise (rms) = 0.00096. SNR = 18.45550\n",
      "\t\tOut-of-transit error of the transit LC = 0.00096\n",
      "\n",
      "Max b (rp in Solar Radius): 1.138302252559727\n",
      "Optimization terminated successfully.\n",
      "         Current function value: -7652.762761\n",
      "         Iterations: 231\n",
      "         Function evaluations: 372\n",
      "Running burn-in\n"
     ]
    },
    {
     "name": "stderr",
     "output_type": "stream",
     "text": [
      "100%|██████████| 200/200 [01:02<00:00,  3.53it/s]\n"
     ]
    },
    {
     "name": "stdout",
     "output_type": "stream",
     "text": [
      "\n",
      "------ Run MCMC -------\n"
     ]
    },
    {
     "name": "stderr",
     "output_type": "stream",
     "text": [
      "100%|██████████| 2000/2000 [09:45<00:00,  3.40it/s]\n"
     ]
    },
    {
     "name": "stdout",
     "output_type": "stream",
     "text": [
      "Mean acceptance fraction: 0.4727749999999999\n",
      "Acceptance fraction: 47.28 %\n",
      "\tStellar Radius [Rsun]:\tMCMC = 0.71684.\t1st Fit = 0.71503.\tKepler = 0.87900\n",
      "\tError Stellar Radius [Rsun]:\tMCMC (up) = 0.00467, (down) = 0.00218.\tOld = 0.04395\n",
      "\n",
      "\t*TRANSIT 9\n",
      "\t\tSignal = 0.01815. Noise (rms) = 0.00082. SNR = 22.02017\n",
      "\t\tOut-of-transit error of the transit LC = 0.00082\n",
      "\n",
      "Max b (rp in Solar Radius): 1.138302252559727\n",
      "Optimization terminated successfully.\n",
      "         Current function value: -7849.797952\n",
      "         Iterations: 193\n",
      "         Function evaluations: 315\n",
      "Running burn-in\n"
     ]
    },
    {
     "name": "stderr",
     "output_type": "stream",
     "text": [
      "100%|██████████| 200/200 [01:06<00:00,  3.28it/s]\n"
     ]
    },
    {
     "name": "stdout",
     "output_type": "stream",
     "text": [
      "\n",
      "------ Run MCMC -------\n"
     ]
    },
    {
     "name": "stderr",
     "output_type": "stream",
     "text": [
      "100%|██████████| 2000/2000 [10:08<00:00,  3.42it/s]\n"
     ]
    },
    {
     "name": "stdout",
     "output_type": "stream",
     "text": [
      "Mean acceptance fraction: 0.48683499999999996\n",
      "Acceptance fraction: 48.68 %\n",
      "\tStellar Radius [Rsun]:\tMCMC = 0.71829.\t1st Fit = 0.71732.\tKepler = 0.87900\n",
      "\tError Stellar Radius [Rsun]:\tMCMC (up) = 0.00229, (down) = 0.00152.\tOld = 0.04395\n",
      "\n",
      "\t*TRANSIT 10\n",
      "\t\tSignal = 0.01867. Noise (rms) = 0.00081. SNR = 23.15602\n",
      "\t\tOut-of-transit error of the transit LC = 0.00081\n",
      "\n",
      "Max b (rp in Solar Radius): 1.138302252559727\n",
      "Optimization terminated successfully.\n",
      "         Current function value: -8009.110090\n",
      "         Iterations: 191\n",
      "         Function evaluations: 319\n",
      "Running burn-in\n"
     ]
    },
    {
     "name": "stderr",
     "output_type": "stream",
     "text": [
      "100%|██████████| 200/200 [01:05<00:00,  3.28it/s]\n"
     ]
    },
    {
     "name": "stdout",
     "output_type": "stream",
     "text": [
      "\n",
      "------ Run MCMC -------\n"
     ]
    },
    {
     "name": "stderr",
     "output_type": "stream",
     "text": [
      "100%|██████████| 2000/2000 [10:10<00:00,  3.45it/s]\n"
     ]
    },
    {
     "name": "stdout",
     "output_type": "stream",
     "text": [
      "Mean acceptance fraction: 0.47151499999999996\n",
      "Acceptance fraction: 47.15 %\n",
      "\tStellar Radius [Rsun]:\tMCMC = 0.71829.\t1st Fit = 0.71660.\tKepler = 0.87900\n",
      "\tError Stellar Radius [Rsun]:\tMCMC (up) = 0.00410, (down) = 0.00187.\tOld = 0.04395\n",
      "\n",
      "\t*TRANSIT 25\n",
      "\t\tSignal = 0.01853. Noise (rms) = 0.00099. SNR = 18.74872\n",
      "\t\tOut-of-transit error of the transit LC = 0.00099\n",
      "\n",
      "Max b (rp in Solar Radius): 1.138302252559727\n",
      "Optimization terminated successfully.\n",
      "         Current function value: -7444.587406\n",
      "         Iterations: 190\n",
      "         Function evaluations: 307\n",
      "Running burn-in\n"
     ]
    },
    {
     "name": "stderr",
     "output_type": "stream",
     "text": [
      "100%|██████████| 200/200 [00:59<00:00,  3.67it/s]\n"
     ]
    },
    {
     "name": "stdout",
     "output_type": "stream",
     "text": [
      "\n",
      "------ Run MCMC -------\n"
     ]
    },
    {
     "name": "stderr",
     "output_type": "stream",
     "text": [
      " 88%|████████▊ | 1750/2000 [08:24<01:12,  3.46it/s]"
     ]
    }
   ],
   "source": [
    "for target in targets:\n",
    "    print(\"\\n******************************** KID\"+str(target.kepid)+\" ********************************\")\n",
    "    plt.close(\"all\")\n",
    "    key = target.kepid\n",
    "    missed_trans = set(target.ind_missed_transits)\n",
    "\n",
    "    rs_trans_fit = []\n",
    "    rs_trans_afrac = []\n",
    "        \n",
    "    for i in range(0, len(target.transit_times)): \n",
    "        if i in missed_trans:\n",
    "            ugly_stars[key].append(i)\n",
    "        else: \n",
    "            print(\"\\n\\t*TRANSIT \"+str(i+1))\n",
    "            dt_i = target.ttrans[target.trans_id==i]-target.transit_times[i]\n",
    "            f_trans_i = target.ftrans[target.trans_id==i]\n",
    "\n",
    "            oot = np.abs(dt_i)>=(target.duration/2)\n",
    "            iit = np.abs(dt_i)<(target.duration/2)\n",
    "            d = 1-np.mean(f_trans_i[iit])\n",
    "            error_trans_oot = np.std(f_trans_i[oot])\n",
    "            snr = d/error_trans_oot\n",
    "            \n",
    "            print(\"\\t\\tSignal = {0:0.5f}. Noise (rms) = {1:0.5f}. SNR = {2:0.5f}\".format(d, error_trans_oot, snr))\n",
    "            print(\"\\t\\tOut-of-transit error of the transit LC = {0:0.5f}\".format(error_trans_oot))\n",
    "\n",
    "            if snr < snr_limit or np.isnan(snr): \n",
    "                ugly_stars[key].append(i)\n",
    "            else:\n",
    "                rsFit, rsMCMC, rs_afraction = fit_rho(target, dt_i,  f_trans_i, 0.1*error_trans_oot, i, False, False)\n",
    "                \n",
    "                print(\"\\tStellar Radius [Rsun]:\\tMCMC = {0:0.5f}.\\t1st Fit = {1:0.5f}.\\tKepler = {2:0.5f}\".format(rsMCMC[0], rsFit, target.rs))\n",
    "                print(\"\\tError Stellar Radius [Rsun]:\\tMCMC (up) = {0:0.5f}, (down) = {1:0.5f}.\\tOld = {2:0.5f}\".format(rsMCMC[1], rsMCMC[2],  target.rs_err))\n",
    "                \n",
    "                rs_trans_fit.append(rsMCMC)\n",
    "                rs_trans_afrac.append(rs_afraction)\n",
    "    \n",
    "    if len(rs_trans_fit) != 0:\n",
    "        locs_rsNew = '/Users/mbadenas/Documents/Master UAB/Tesis UAB/TFM2018/results/new_rs/'\n",
    "        fname_rsNew = str(target.kepid)+\"_st\"+str(steps_rho)+\"_RsMCMC.txt\"\n",
    "        np.savetxt(locs_rsNew+fname_rsNew, np.column_stack((rs_trans_fit, rs_trans_afrac)), \n",
    "                       fmt = \"%0.3f\", header = header_rs)"
   ]
  },
  {
   "cell_type": "markdown",
   "metadata": {},
   "source": [
    "## Fit the folded LC"
   ]
  },
  {
   "cell_type": "markdown",
   "metadata": {},
   "source": [
    "For the star 5812701, the oot region of 3 individual transits were not fitted properly when applying the 3rd order polynomial. To avoid them destroying the beauty of the folded light curve plotted in the pie chart, I've added these 3 bad transits to the `missed_transits` list. Originally I was doing this *just* done for visual purposes under Section 8, but I moved this here so that I could obtain a proper fit of the folded LC."
   ]
  },
  {
   "cell_type": "code",
   "execution_count": null,
   "metadata": {},
   "outputs": [],
   "source": [
    "for target in targets:\n",
    "    if target.kepid == 5812701:\n",
    "        bad_tr = [23,49,65]\n",
    "        target.ind_missed_transits.extend(bad_tr)\n",
    "        missed_trans = set(target.ind_missed_transits)\n",
    "        print(target.ind_missed_transits)\n",
    "        for i in range(len(target.transit_times)): \n",
    "            if i not in missed_trans:\n",
    "                plt.plot(target.ttrans[target.trans_id==i]-target.transit_times[i], target.ftrans[target.trans_id==i],'.', \n",
    "                       color = 'royalblue', ms = 0.3)"
   ]
  },
  {
   "cell_type": "code",
   "execution_count": null,
   "metadata": {},
   "outputs": [],
   "source": [
    "full_lc_targets = {2987027, 4742414, 5383248, 5812701, 11391018, 11449844, 12365184, 12403119}\n",
    "\n",
    "for target in targets:\n",
    "    if target.kepid in full_lc_targets:\n",
    "        print(\"\\n******************************** KID\"+str(target.kepid)+\" ********************************\")\n",
    "        \n",
    "        oot = np.abs(target.dt_trans)>=(target.duration/2)\n",
    "        error_full_lc = np.std(target.ftrans[oot])\n",
    "        \n",
    "        rs_full_fit, rs_full_MCMC, rs_full_afrac = fit_rho(target, target.dt_trans,  \n",
    "                                                               target.ftrans, 0.1*error_full_lc, i, False, False)\n",
    "        \n",
    "        print(\"rs_full_fit:\", rs_full_fit)\n",
    "        print(\"rs_full_afrac:\", rs_full_afrac)"
   ]
  },
  {
   "cell_type": "markdown",
   "metadata": {},
   "source": [
    "# Update Rs"
   ]
  },
  {
   "cell_type": "markdown",
   "metadata": {},
   "source": [
    "Update stellar radius."
   ]
  },
  {
   "cell_type": "code",
   "execution_count": null,
   "metadata": {},
   "outputs": [],
   "source": [
    "path_newRs = '/Users/mbadenas/Documents/Master UAB/Tesis UAB/TFM2018/results/new_rs'\n",
    "os.chdir(path_newRs)\n",
    "\n",
    "modified_rs = 0\n",
    "for target in targets:\n",
    "    for file in glob.glob(str(target.kepid)+\"*[!\\BAD].txt\"):\n",
    "        print(\"------------------------KID{0:d}------------------------\".format(target.kepid))\n",
    "        \n",
    "        data = pd.read_csv(file, delimiter=\" \", names = ['Rs', '+err', '-err', 'afrac'],\n",
    "                           header = 1, na_values = '#N/A')\n",
    "        \n",
    "        data_mean = data.mean()\n",
    "        rs_new = data_mean['Rs']\n",
    "        rs_err_new = np.sqrt(data_mean['+err']**2+data_mean['-err']**2)\n",
    "        \n",
    "        print(\"\\tOld R*: {0:0.3f} ({1:0.3f}) [Rsun]\\\n",
    "        \\n\\tNew R*: {2:0.3f} ({3:0.3f}) [Rsun]\\n\".format(target.rs, target.rs_err, \n",
    "                                                       rs_new, rs_err_new))\n",
    "        modified_rs += 1 \n",
    "\n",
    "        \n",
    "        target.rs = rs_new\n",
    "        target.rs_err = rs_err_new  \n",
    "        \n",
    "        \n",
    "print(\"The stellar radius has been modified for {0:d} systems.\".format(modified_rs))"
   ]
  },
  {
   "cell_type": "markdown",
   "metadata": {},
   "source": [
    "# Global Fit"
   ]
  },
  {
   "cell_type": "markdown",
   "metadata": {},
   "source": [
    "## Transit Routine (DFM)\n",
    "\n",
    "A Python library for generating light curves of transiting planets. See https://github.com/dfm/transit/blob/master/transit/transit.py for original code"
   ]
  },
  {
   "cell_type": "code",
   "execution_count": null,
   "metadata": {},
   "outputs": [],
   "source": [
    "def ln_probtrans(P, rstar, mstar):\n",
    "    alog = (1/3)*np.log(mstar)+(2/3)*np.log(P)\n",
    "    prob = np.log(rstar)-alog\n",
    "    return(prob)"
   ]
  },
  {
   "cell_type": "code",
   "execution_count": null,
   "metadata": {},
   "outputs": [],
   "source": [
    "def lnlike(theta, timeLC, fluxLC, errorLC, allfixed):\n",
    "    \"\"\"\n",
    "    Calculates the log of the likelihood of the transit model being the right model given the following parameters:\n",
    "    theta[0] = pdepth = (Rp/Rs)^2 #b=0 centre of stellar disk & b=1 at the cusp of the disc\n",
    "    theta[1] = pb = the mean impact parameter, measured in stellar radii (not Solar radii). See documentation.\n",
    "    theta[2] = sigma = an additional white noise term\n",
    "    theta[3] = pmass = the mass of the star (controlled via gaussian prior)\n",
    "    theta[4] = pradius = the radius of the star (controlled via gaussian prior)\n",
    "    theta[5] = f0 = the out of eclipse flux\n",
    "    theta[6] = pperiod = Orbital period \n",
    "    theta[7] = ptc = Transit time (time of conjunction) \n",
    "    \n",
    "    Note: pmass and prad (stellar mass and radius) controlled via gaussian prior. \n",
    "    By letting M* and R* be free parameters in the model, we allow the stellar density to fluctuate. \n",
    "    \"\"\"\n",
    "    ecc, mass, masserr, radius, radiuserr, tKep, u1, u2, maxb = allfixed\n",
    "    pdepth, pb, sigma, pmass, pradius, f0, pperiod, ptc = theta \n",
    "    \n",
    "    s = transit.System(transit.Central(mu1=u1, mu2=u2, mass = pmass, radius = pradius))\n",
    "    body = transit.Body(radius=np.sqrt(pdepth)*pradius, period=pperiod, t0=ptc, b=np.abs(pb), e=ecc)\n",
    "    s.add_body(body)\n",
    "    inv_sigma2 = 1.0/(errorLC**2 + sigma**2)\n",
    "    \n",
    "    try: \n",
    "        ftheo = s.light_curve(timeLC, texp=tKep, tol=1e-08, maxdepth=4)\n",
    "    except ValueError:\n",
    "        return -np.inf\n",
    "    \n",
    "    ftheo = ftheo-1+f0\n",
    "    \n",
    "    return -0.5*(np.sum((fluxLC-ftheo)**2*inv_sigma2 - np.log(inv_sigma2)) + ((pmass-mass)/masserr)**2\n",
    "            + ((pradius-radius)/radiuserr)**2)"
   ]
  },
  {
   "cell_type": "code",
   "execution_count": null,
   "metadata": {},
   "outputs": [],
   "source": [
    "def lnprior(theta, maxb):\n",
    "    ##https://github.com/stan-dev/stan/wiki/Prior-Choice-Recommendations\n",
    "    pdepth, pb, sigma, pmass, pradius, f0, pperiod, ptc = theta\n",
    "    if ((0 <= pb < maxb) and (0 <= sigma) and (pradius > 0) \n",
    "        and (pdepth > 0) and (pmass > 0.0) and (13.5 < pperiod)  and (ptc**2<0.01)):\n",
    "        return ln_probtrans(pperiod, pradius, pmass)\n",
    "    return -np.inf  \n",
    "\n",
    "def lnprior_MCMC(theta, maxb): ##https://github.com/stan-dev/stan/wiki/Prior-Choice-Recommendations\n",
    "    pdepth, pb, sigma, pmass, pradius, f0, pperiod, ptc = theta\n",
    "    if ((0 <= pb < maxb) and (0 <= sigma) and (pradius > 0) \n",
    "        and (pdepth > 0) and (pmass > 0.0) and (13.5 < pperiod)  and (ptc**2<0.01)):\n",
    "        return ln_probtrans(pperiod, pradius, pmass) \n",
    "    return -np.inf    "
   ]
  },
  {
   "cell_type": "code",
   "execution_count": null,
   "metadata": {},
   "outputs": [],
   "source": [
    "def lnprob(theta, timeLC, fluxLC, errorLC, allfixed):\n",
    "    ecc, mass, masserr, radius, radiuserr, tKep, u1, u2, maxb = allfixed\n",
    "    lp = lnprior(theta, maxb)\n",
    "    if not np.isfinite(lp):\n",
    "        return -np.inf\n",
    "    return lp + lnlike(theta, timeLC, fluxLC, errorLC, allfixed)\n",
    "\n",
    "def lnprob_MCMC(theta, timeLC, fluxLC, errorLC, allfixed_MCMC):\n",
    "    ecc, mass, masserr, radius, radiuserr, tKep, u1, u2, maxb = allfixed_MCMC\n",
    "    lp_MCMC = lnprior_MCMC(theta, maxb)\n",
    "    if not np.isfinite(lp_MCMC):\n",
    "        return -np.inf\n",
    "    return lp_MCMC + lnlike(theta, timeLC, fluxLC, errorLC, allfixed_MCMC)"
   ]
  },
  {
   "cell_type": "code",
   "execution_count": null,
   "metadata": {},
   "outputs": [],
   "source": [
    "period_guess, steps"
   ]
  },
  {
   "cell_type": "code",
   "execution_count": null,
   "metadata": {},
   "outputs": [],
   "source": [
    "def run_transit_routine(star, t, f, ferr, transit_num, showLC):\n",
    "    depth_guess = 1-min(f)\n",
    "    rp_guess = np.sqrt(depth_guess)*star.rs\n",
    "    max_b = 1+rp_guess/star.rs\n",
    "    \n",
    "    print(\"\\nMax. allowed b (1+rp_guess/rs) = {0:0.5f}\".format(max_b))\n",
    "    print(\"Depth guess = {0:0.5f}. True depth = {1:0.5f}\".format(depth_guess, star.depth))\n",
    "    \n",
    "    allfixed = np.array([star.eccen, star.smass, star.smass_err, star.rs, star.rs_err, tKep, star.u1, star.u2, max_b])\n",
    "    \n",
    "    #initial_simplex = np.tile(first_guess, (len(first_guess)+1,1))\n",
    "    \n",
    "    nll = lambda *args: -lnprob(*args)\n",
    "    \n",
    "    res0 = op.minimize(nll, [depth_guess/1.1, 0.4, 0.0, star.smass, star.rs, 1.0, period_guess, 0.0], \n",
    "                       args=(t, f, 0.0, allfixed), \n",
    "                       options={'maxiter':1e5, 'disp': True},\n",
    "                       method='Nelder-Mead') #options={'maxiter': 1e3, 'disp': True}\n",
    "    \n",
    "    res1 = op.minimize(nll, res0[\"x\"], \n",
    "                       args=(t, f, ferr, allfixed), \n",
    "                       options={'maxiter':1e5, 'disp': True},\n",
    "                       method='Nelder-Mead')\n",
    "    \n",
    "    depth_ml, b_ml, sigma_ml, mass_ml, radius_ml, f0_ml, period_ml, tc_ml = res1[\"x\"]\n",
    "        \n",
    "    # Compute the theoretical light curve integrated over a Kepler short-cadence exposure time.\n",
    "    s = transit.System(transit.Central(mu1=star.u1, mu2=star.u2, mass=mass_ml, radius=radius_ml))\n",
    "    body = transit.Body(radius=np.sqrt(depth_ml)*radius_ml,period=period_ml, t0=tc_ml,b=np.abs(b_ml),e=star.eccen)\n",
    "    s.add_body(body)\n",
    "    t_fit = np.arange(-1, 1, tKep*0.01)\n",
    "    f_fit = s.light_curve(t_fit, texp=tKep, tol=1e-08, maxdepth=4)\n",
    "    f_fit = f_fit - 1.0 + f0_ml\n",
    "    \n",
    "    if showLC == True:\n",
    "        fig = plt.figure(figsize=(16,5))\n",
    "        plt.title(\"KID\"+str(star.kepid)+\". Preliminary Fit for Transit \"+str(transit_num+1), fontsize = 15)\n",
    "        plt.plot(t, f, '.', label = 'Kepler data')\n",
    "        plt.plot(t_fit, f_fit, color='r', lw = 3, label = 'Fit')\n",
    "        plt.xlabel('Time from midtransit [days]')\n",
    "        plt.ylabel('Normalized flux')\n",
    "        plt.xlim([min(t),max(t)]) \n",
    "        plt.show(block=False)    \n",
    "        time.sleep(0.5)\n",
    "        plt.close()\n",
    "\n",
    "    #star.duration = body.duration #from eq'n 14 in Winn (2010)\n",
    "    print(\"------ Pre-MCMC Results ------\")\n",
    "    print(\"\\tTransit duration [d]:\\t Fit={0:0.3f}\\tTrue={1:0.3f}\".format(body.duration, star.duration))\n",
    "    print(\"\\tPeriod [days]:\\t Fit={0:0.8f}\\tTrue={1:0.8f}\".format(period_ml,star.P))\n",
    "    print(\"\\tImpact Parameter:\\t Fit={0:0.6f}\\tTrue={1:0.6f}\".format(b_ml,star.b))\n",
    "    print(\"\\tDepth:\\t Fit={0:0.6f}\\tTrue={1:0.6f}\".format(depth_ml,star.depth))\n",
    "    print(\"\\tStellar mass:\\t Fit={0:0.3f}\\tTrue={1:0.3f}\".format(mass_ml,star.smass))\n",
    "    print(\"\\tStellar radius:\\t Fit={0:0.3f}\\tTrue={1:0.3f}\".format(radius_ml,star.rs))\n",
    "    print(\"\\tSigma (white noise):\\t Fit={0:0.3f}\".format(sigma_ml))\n",
    "    print(\"\\tOut-of-transit flux:\\t Fit={0:0.3f}\".format(f0_ml))\n",
    "    \n",
    "    return(res1[\"x\"])"
   ]
  },
  {
   "cell_type": "markdown",
   "metadata": {},
   "source": [
    "## MCMC "
   ]
  },
  {
   "cell_type": "code",
   "execution_count": null,
   "metadata": {},
   "outputs": [],
   "source": [
    "def run_mcmc(star, t, f, ferr, num_trans, fit_results, show_mcmc_res):\n",
    "    \n",
    "    depth_ml, b_ml, sigma_ml, mass_ml, radius_ml, f0_ml, period_ml, tc_ml = fit_results\n",
    "    \n",
    "    \n",
    "    #adjust depth a little\n",
    "    fit_results[0] = fit_results[0]/1.2\n",
    "    \n",
    "    rp_guess = np.sqrt(depth_ml)*radius_ml\n",
    "    max_depth = 1+rp_guess/radius_ml\n",
    "        \n",
    "    print(\"\\n------------------ Prepare MCMC ------------------\")\n",
    "    print(\"Guess impact parameter: {0:0.5f}\".format(fit_results[1]))\n",
    "    print(\"Guess of Rp [in Rsun]: {0:0.5f}\".format(rp_guess))\n",
    "    print(\"Max. allowed b (1+rp_guess/rs): {0:0.5f}\".format(max_depth))\n",
    "\n",
    "    allfixed_MCMC = [star.eccen, star.smass, star.smass_err, star.rs, \n",
    "                     star.rs_err, tKep, star.u1, star.u2, max_depth]\n",
    "    \n",
    "    ndim = len(fit_results)\n",
    "    \n",
    "    p0 = [fit_results*(1+1e-8*np.random.randn(ndim)) for i in range(nwalkers)]\n",
    "    \n",
    "    sampler = emcee.EnsembleSampler(nwalkers, ndim, lnprob_MCMC, args=(t, f, ferr, allfixed_MCMC))\n",
    "    \n",
    "    print(\"\\nRunning burn-in\")\n",
    "    pos, prob, state = sampler.run_mcmc(p0, 200, progress=True);\n",
    "    sampler.reset() # Reset the chain to remove the burn-in samples.\n",
    "    print(\"\\n------ Run MCMC -------\")\n",
    "    sampler.run_mcmc(p0, steps, rstate0 = state, progress=True);\n",
    "    samples = sampler.chain[:, 300:, :].reshape((-1, ndim)) \n",
    "    \n",
    "    \"\"\"\n",
    "    ************ BE CAREFUL WITH THE INDEXES OF THE FOLLOWING FOUR LINES!!!!! ************\n",
    "    This is bc the indexes depend on the list of parameters being fitted.\n",
    "    \"\"\"\n",
    "    period_distribution = samples[:,6]\n",
    "    samples[:, 2] = np.exp(samples[:, 2])\n",
    "    planetradsamp = 109.045*np.sqrt(samples[:,0])*samples[:, 4] #in EARTH RAD rad( rp = sqrt(depth)*rs)\n",
    "    P1 = period_ml*24.0*3600.0 #in sec\n",
    "    r_asamp = ((3.0*np.pi/(G*P1**2))*((samples[:,4]**3/samples[:, 3])/1408.0))**0.3333\n",
    "\n",
    "    #Get the 50% percentile and the +- 1 sigma error of the parameters and 2 derived quantities \n",
    "    depth_mcmc, b_mcmc, sigma_mcmc, smass_mcmc, rs_mcmc, \\\n",
    "    f0_mcmc, period_mcmc, tc_mcmc = map(lambda v: (v[1], v[2]-v[1], v[1]-v[0]), \n",
    "                               zip(*np.percentile(samples, [15.86, 50, 84.14], axis=0)))\n",
    "    \n",
    "    v = np.percentile(planetradsamp, [15.86, 50, 84.14], axis=0)\n",
    "    planetrad_mcmc =(v[1], v[2]-v[1], v[1]-v[0])\n",
    "    v = np.percentile(r_asamp, [15.86, 50, 84.14], axis=0)\n",
    "    r_a_mcmc =(v[1], v[2]-v[1], v[1]-v[0])\n",
    "    \n",
    "    results_mcmc = [depth_mcmc, b_mcmc, sigma_mcmc, smass_mcmc, rs_mcmc, f0_mcmc, \n",
    "                    period_mcmc, tc_mcmc, planetrad_mcmc, r_a_mcmc]\n",
    "    \n",
    "    if show_mcmc_res == True:\n",
    "        print(\"\\n------------------ Post-MCMC Results ------------------\")\n",
    "        print(\"\\nDepth:\\n\\tTrue = {:0.3f}\".format(star.depth))\n",
    "        print(\"\\tMCMC Fit = {0:0.3f} (+{1:0.3f},-{2:0.3f})\".format(depth_mcmc[0],depth_mcmc[1],depth_mcmc[2]))\n",
    "        print(\"\\nImpact parameter:\\n\\tTrue = {:0.3f}\".format(star.b))\n",
    "        print(\"\\tMCMC Fit = {0:0.3f} (+{1:0.3f},-{2:0.3f})\".format(b_mcmc[0],b_mcmc[1],b_mcmc[2]))\n",
    "        print(\"\\nPlanet radius [REarth]:\\n\\tTrue = {:0.3f}\".format(star.rp)) #In earth radii due to the conversion done above \n",
    "        print(\"\\tMCMC Fit = {0:0.3f} (+{1:0.3f},-{2:0.3f})\".format(planetrad_mcmc[0],planetrad_mcmc[1],planetrad_mcmc[2]))\n",
    "        print(\"\\nPeriod [d]:\\n\\tTrue = {:0.3f}\".format(star.P))\n",
    "        print(\"\\tMCMC Fit = {0:0.3f} (+{1:0.3f},-{2:0.3f})\".format(period_mcmc[0],period_mcmc[1],period_mcmc[2]))\n",
    "        print(\"\\nInverse of scaled semi-major axis:\\n\\tTrue = {:0.4f}\".format(1/star.dor))\n",
    "        print(\"\\tMCMC Fit = {0:0.4f} (+{1:0.4f},-{2:0.4f})\".format(r_a_mcmc[0],r_a_mcmc[1],r_a_mcmc[2]))\n",
    "        print(\"\\nStellar radius [Rsun]:\\n\\tTrue = {:0.3f}\".format(star.rs))\n",
    "        print(\"\\tMCMC Fit = {0:0.3f} (+{1:0.3f},-{2:0.3f})\".format(rs_mcmc[0],rs_mcmc[1],rs_mcmc[2]))\n",
    "        print(\"\\nStellar Mass [Msun]:\\n\\tTrue = {:0.3f}\".format(star.smass))\n",
    "        print(\"\\tMCMC Fit = {0:0.3f} (+{1:0.3f},-{2:0.3f})\".format(smass_mcmc[0],smass_mcmc[1],smass_mcmc[2]))\n",
    "\n",
    "    #---------- Plot the LC with the MCMC fit ----------\n",
    "    s = transit.System(transit.Central(mu1=star.u1, mu2=star.u2, mass=smass_mcmc[0], radius=rs_mcmc[0]))\n",
    "    body = transit.Body(radius=np.sqrt(depth_mcmc[0])*rs_mcmc[0], period=period_mcmc[0],\n",
    "                        t0=tc_mcmc[0], b=np.abs(b_mcmc[0]), e=star.eccen)\n",
    "    s.add_body(body)\n",
    "    t_fit = np.arange(-1.5, 1.5, tKep*0.01)\n",
    "    f_fit = s.light_curve(t_fit, texp=tKep, tol=1e-08, maxdepth=4)\n",
    "    f_fit = f_fit - 1.0 + f0_mcmc[0]\n",
    "    fig_lc = plt.figure(figsize=(15,4))\n",
    "    plt.title('MCMC Fit for KID'+str(star.kepid))\n",
    "    plt.plot(t, f, '.', label = 'kepler')\n",
    "    plt.plot(t_fit, f_fit, 'r', lw = 3, label = 'fit')\n",
    "    plt.xlabel('Time [d]'); plt.ylabel('Normalized Flux')\n",
    "    plt.xlim([min(t),max(t)]); \n",
    "    \n",
    "    file_path_fit = '/Users/mbadenas/Documents/Master UAB/Tesis UAB/TFM2018/results/MCMC_fits/'\n",
    "    store_mcmc_fit = \"fit\"+str(star.kepid)+\"_st\"+str(steps)+\"_trans\"+str(num_trans+1)+\"_\"+str(period_guess)+\"d.png\"\n",
    "    fig_lc.savefig(file_path_fit+store_mcmc_fit)\n",
    "    plt.close(fig_lc)\n",
    "        \n",
    "    #Create a corner plot\n",
    "    true_params = [star.depth, star.b, None, star.smass, star.rs, 1.0, star.P, 0.0]\n",
    "    res_labels = ['Depth', 'b', r'$\\sigma$', r'$M_{*} [M_{\\odot}]$', r'$R_{*} [R_{\\odot}]$', \n",
    "              r'$f_{0}$', 'P [d]', r'$t_c$']\n",
    "    \n",
    "    fig_corner = corner.corner(samples, weights = None, labels = res_labels, quantiles=[0.16, 0.5, 0.84],\n",
    "                               truths = true_params, show_titles = True, title_args={\"fontsize\": 12}, \n",
    "                               plot_contours=True, truth_color='r', plot_datapoints=True) \n",
    "    \n",
    "    plt.suptitle('Corner Plot for KID'+str(star.kepid), fontsize = 20)\n",
    "    file_path = '/Users/mbadenas/Documents/Master UAB/Tesis UAB/TFM2018/results/corner/'\n",
    "    \n",
    "    store_corner = \"corner\"+str(star.kepid)+\"_st\"+str(steps)+\"_trans\"+str(num_trans+1)+\"_\"+str(period_guess)+\"d.png\"\n",
    "    fig_corner.savefig(file_path+store_corner)\n",
    "    plt.close(fig_corner)\n",
    "   \n",
    "    #Acceptance fraction: as a rule of thumb, the acceptance fraction (af) should be between 0.2 and 0.5. \n",
    "    #If af < 0.2 decrease the a parameter. If af > 0.5 increase the a parameter (see emcee.EnsembleSampler input options) \n",
    "    af = sampler.acceptance_fraction  \n",
    "    print(\"\\nMean acceptance fraction:\", np.mean(af))\n",
    "    print(\"Acceptance fraction: {0:.2f} %\".format(100*np.mean(sampler.acceptance_fraction)))\n",
    "    \n",
    "    #Create a steps plot\n",
    "    fig_b, axes = plt.subplots(8, 1, sharex=True, figsize=(8, 9))\n",
    "    axes[0].plot(sampler.chain[:, :, 0].T, ls='dotted', color = \"xkcd:sky blue\") \n",
    "    axes[0].set_ylabel(r'Depth'); axes[0].axhline(true_params[0], color='red')\n",
    "    axes[1].plot(sampler.chain[:, :, 1].T,'.', ls='dotted', color=\"xkcd:sky blue\")\n",
    "    axes[1].set_ylabel(r'$b$'); axes[1].axhline(true_params[1], color='red')\n",
    "    axes[2].plot((sampler.chain[:, :, 2]).T, ls='dotted', color=\"xkcd:sky blue\")\n",
    "    axes[2].set_ylabel(r'$\\sigma$');\n",
    "    axes[3].plot((sampler.chain[:, :, 3]).T, ls='dotted', color=\"xkcd:sky blue\")\n",
    "    axes[3].set_ylabel(r'$M_{*} [M_{\\odot}]$'); axes[3].axhline(true_params[3], color='red')\n",
    "    axes[4].plot((sampler.chain[:, :, 4]).T, ls='dotted', color=\"xkcd:sky blue\")\n",
    "    axes[4].set_ylabel(r'$R_{*} [R_{\\odot}]$'); axes[4].axhline(true_params[4], color='red')\n",
    "    axes[5].plot((sampler.chain[:, :, 5]).T, ls='dotted', color=\"xkcd:sky blue\")\n",
    "    axes[5].set_ylabel('$f_{0}$'); axes[5].axhline(true_params[5], color='red')\n",
    "    axes[6].plot((sampler.chain[:, :, 6]).T, ls='dotted',color=\"xkcd:sky blue\")\n",
    "    axes[6].set_ylabel(\"$P [d]$\"); axes[6].axhline(true_params[6], color='red')\n",
    "    axes[7].plot((sampler.chain[:, :, 7]).T, ls='dotted',color=\"xkcd:sky blue\")\n",
    "    axes[7].set_ylabel(\"$t_{c}$\");\n",
    "    axes[7].set_xlabel(\"Step number\")\n",
    "    fig_b.tight_layout(h_pad=0.0)\n",
    "    filepath = '/Users/mbadenas/Documents/Master UAB/Tesis UAB/TFM2018/results/burnin/'\n",
    "    store_steps= \"steps\"+str(star.kepid)+\"_st\"+str(steps)+\"_trans\"+str(num_trans+1)+\".png\"\n",
    "    fig_b.savefig(filepath+store_steps)\n",
    "    plt.close(fig_b)\n",
    "    \n",
    "    return (period_distribution, results_mcmc)"
   ]
  },
  {
   "cell_type": "markdown",
   "metadata": {},
   "source": [
    "## Transit Analysis"
   ]
  },
  {
   "cell_type": "code",
   "execution_count": null,
   "metadata": {},
   "outputs": [],
   "source": [
    "amplify"
   ]
  },
  {
   "cell_type": "markdown",
   "metadata": {},
   "source": [
    "Fit each transit with the new stellar density"
   ]
  },
  {
   "cell_type": "code",
   "execution_count": null,
   "metadata": {},
   "outputs": [],
   "source": [
    "for target in targets:\n",
    "    print(\"\\n******************************** KID\"+str(target.kepid)+\" ********************************\")\n",
    "    key = target.kepid\n",
    "    missed_trans = set(target.ind_missed_transits)\n",
    "    \n",
    "    fit_results = []\n",
    "    period_distributions = []\n",
    "    MCMC_transits = []\n",
    "\n",
    "    for i in range(len(target.transit_times)): \n",
    "        if i in missed_trans:\n",
    "            fit_results.append(0)  \n",
    "            period_distributions.append(0)\n",
    "            MCMC_transits.append(0)\n",
    "        else: \n",
    "            print(\"\\n*TRANSIT \"+str(i+1))\n",
    "\n",
    "            dt_i = target.ttrans[target.trans_id==i]-target.transit_times[i]\n",
    "            f_trans_i = target.ftrans[target.trans_id==i]\n",
    "\n",
    "            oot = np.abs(dt_i)>=(target.duration/2)\n",
    "            iit = np.abs(dt_i)<(target.duration/2)\n",
    "            d = 1-np.mean(f_trans_i[iit])\n",
    "            error_trans_oot = np.std(f_trans_i[oot])\n",
    "            snr = d/error_trans_oot\n",
    "\n",
    "            print(\"\\tSignal = {0:0.5f}. Noise (rms) = {1:0.5f}. SNR = {2:0.5f}\".format(d, error_trans_oot, snr))\n",
    "            print(\"\\tOut-of-transit error of the transit LC = {0:0.5f}\".format(error_trans_oot))\n",
    "\n",
    "            if  snr > snr_limit:  \n",
    "                lc_fit = run_transit_routine(target, dt_i, f_trans_i, 0.1*error_trans_oot, i, True)\n",
    "                fit_results.append(lc_fit)\n",
    "            \n",
    "                period_res, mcmc_res = run_mcmc(target, dt_i, f_trans_i, 0.1*error_trans_oot, i, lc_fit, True)\n",
    "                period_distributions.append(period_res)\n",
    "        \n",
    "                MCMC_transits.append(mcmc_res)\n",
    "\n",
    "                locs_P_trans = '/Users/mbadenas/Documents/Master UAB/Tesis UAB/TFM2018/results/period_distributions/'\n",
    "                locs_MCMC = '/Users/mbadenas/Documents/Master UAB/Tesis UAB/TFM2018/results/MCMC_results/'\n",
    "                \n",
    "                fname_P_trans = str(target.kepid)+\"_st\"+str(steps)+\"_Pdist_trans\"+str(i+1)+\"_\"+str(period_guess)+\"d.txt\"\n",
    "                fname_MCMC = str(target.kepid)+\"_st\"+str(steps)+\"_MCMCres_trans\"+str(i+1)+\"_\"+str(period_guess)+\"d.txt\"\n",
    "                \n",
    "                np.savetxt(locs_P_trans+fname_P_trans, np.transpose(period_res), fmt = \"%0.15f\")\n",
    "                np.savetxt(locs_MCMC+fname_MCMC, np.column_stack((id_mcmc, mcmc_res)), \n",
    "                               header = header_mcmc, delimiter=\" \", fmt=\"%s\")\n",
    "\n",
    "    target.res_transfit = fit_results\n",
    "    target.P_distribution = period_distributions\n",
    "    target.MCMC_transits = MCMC_transits"
   ]
  },
  {
   "cell_type": "markdown",
   "metadata": {},
   "source": [
    "# Period Analysis"
   ]
  },
  {
   "cell_type": "code",
   "execution_count": null,
   "metadata": {},
   "outputs": [],
   "source": [
    "#colors: https://matplotlib.org/examples/color/named_colors.html\n",
    "\n",
    "def plot_periods(star):\n",
    "    bin_num = 15\n",
    "    fig = plt.figure(figsize=(16,14))\n",
    "    ax=fig.add_subplot(211)\n",
    "    for i in range(len(star.full_P_trans)):\n",
    "        ax.hist(star.full_P_trans[i]['Period'], density = True, bins=30, histtype='step', label='Transit '+str(i+1));\n",
    "    ax.set_title('KID'+str(star.kepid)+' - Transit Period distribution', fontsize = 20)\n",
    "    plt.axvline(x = star.P, color = 'r', linewidth = 4, label = 'True Period' )\n",
    "    ax.set_xlabel(r'$P$ [d]')\n",
    "    ax.set_ylabel('Frequency')\n",
    "    if (len(star.transit_times) < 10): ax.legend(loc='best', fontsize = 12)\n",
    "\n",
    "    ax2 = fig.add_subplot(212)\n",
    "    ax2.set_title('KID'+str(star.kepid)+' - Full Period Distribution', fontsize = 20)\n",
    "    ax2.hist(star.full_P['Period'], bins=bin_num*3, density = True, color='wheat', alpha = 0.5) \n",
    "    ax2.set_xlabel(r'$P$ [d]')\n",
    "    ax2.set_ylabel('Frequency')\n",
    "    plt.axvline(x = star.P, color = 'r', linewidth = 4, label = 'True Period')\n",
    "    plt.axvline(x = star.full_stats['mode'][0], color = 'b', ls = 'dashed', lw = 3, label = 'Mode')\n",
    "    plt.axvline(x = star.full_stats['mean'][0], color = 'k', ls = 'dashed', lw = 3, label = 'Mean')\n",
    "    plt.axvline(x = star.full_stats['median'][0], color = 'r',  ls = 'dashed', lw = 3, label = 'Median')\n",
    "    plt.axvline(x = star.full_stats['16%'][0], color = 'k', ls = ':', lw = 3, label = '16%')\n",
    "    plt.axvline(x = star.full_stats['50%'][0], color = 'm', ls = ':', lw = 3, label = '50%')\n",
    "    plt.axvline(x = star.full_stats['84%'][0], color = 'g', ls = ':', lw = 3, label = '84%')\n",
    "    ax2.legend(loc = 'best', fontsize = 12)\n",
    "    plt.show()\n",
    "    plt.tight_layout()\n",
    "    \n",
    "    path_hist = '/Users/mbadenas/Documents/Master UAB/Tesis UAB/TFM2018/results/period_charts/'\n",
    "    fig.savefig(path_hist+\"hist\"+str(star.kepid)+\".png\")\n",
    "    plt.close(fig)"
   ]
  },
  {
   "cell_type": "code",
   "execution_count": null,
   "metadata": {},
   "outputs": [],
   "source": [
    "def get_statistics(data):\n",
    "    full_statistics = pd.DataFrame({'mean': data.mean(), 'median': data.median(),'mode': data.mode(),\n",
    "                        'std': data.std(), 'min': data.min(), 'max': data.max(), \n",
    "                   '16%': data.quantile(0.16), '50%': data.quantile(0.5), '84%': data.quantile(0.84)})\n",
    "    return full_statistics\n",
    "\n",
    "def find_nearest(array, value):\n",
    "    array = np.asarray(array)\n",
    "    idx = (np.abs(array - value)).argmin()\n",
    "    return array[idx]\n",
    "\n",
    "def closest_statistic(df, P):\n",
    "    cols = ['Mean', 'Median', 'Mode']\n",
    "    stats = [df['mean'], df['median'], df['mode']]\n",
    "    res = find_nearest(stats, P)\n",
    "    idx_res = np.where(stats == res)[0][0]\n",
    "    return cols[idx_res]\n",
    "\n",
    "def show_best_stats(star):\n",
    "    df = pd.DataFrame({'Statistics': star.best_stats})\n",
    "    freq = df['Statistics'].value_counts().to_dict()\n",
    "    colors = ['lightcoral', 'lightskyblue', 'lightgreen']\n",
    "    #['lightpink', 'lightgreen','lightskyblue']\n",
    "    \n",
    "    fig = plt.figure(figsize=(12,4))\n",
    "    ax = fig.add_subplot(111)\n",
    "    #ax.pie(freq.values(), labels = freq.keys(), colors = colors, autopct='%1.2f%%', shadow = False, startangle = 90)\n",
    "    ax.pie(freq.values(), colors = colors, autopct='%1.2f%%', shadow = False, startangle = 90)\n",
    "    plt.legend(loc ='best', labels = ['%s: %d%%' % (l, s) for l, s in zip(freq.keys(), freq.values())],shadow=True)\n",
    "    ax.axis('equal')  \n",
    "    ax.set_title(\"KID\"+str(star.kepid), fontsize = 15)\n",
    "    left, bottom, width, height = [0.15, 0.5, 0.2, 0.2] # These are in unitless percentages of the figure size. (0,0 is bottom left)\n",
    "    axins = fig.add_axes([left, bottom, width, height])\n",
    "    missed_trans = set(star.ind_missed_transits)\n",
    "    \n",
    "    for i in range(len(target.transit_times)): \n",
    "        if i not in missed_trans:\n",
    "            axins.plot(star.ttrans[star.trans_id==i]-star.transit_times[i],star.ftrans[star.trans_id==i],'.', \n",
    "                       color = 'royalblue', ms = 0.3)\n",
    "    axins.set_xlabel('Time [d]',fontsize = 8)\n",
    "    axins.set_ylabel('Flux', fontsize = 8)\n",
    "    axins.set_title('LC', fontsize = 10)\n",
    "    plt.tight_layout()\n",
    "    plt.show()\n",
    "    \n",
    "    path_pie = '/Users/mbadenas/Documents/Master UAB/Tesis UAB/TFM2018/results/period_charts/'\n",
    "    fig.savefig(path_pie+\"pie\"+str(star.kepid)+\".png\")\n",
    "    plt.close(fig)"
   ]
  },
  {
   "cell_type": "code",
   "execution_count": null,
   "metadata": {},
   "outputs": [],
   "source": [
    "path_newRs = '/Users/mbadenas/Documents/Master UAB/Tesis UAB/TFM2018/results/period_distributions/'\n",
    "os.chdir(path_newRs)\n",
    "\n",
    "count = 0\n",
    "save_best_stats = []\n",
    "\n",
    "for target in targets:\n",
    "    period_distribution = []\n",
    "    P_trans_stats = []\n",
    "    best_statistics = []\n",
    "    search_files = glob.glob(path_newRs+str(target.kepid)+\"*[!_BAD].txt\")\n",
    "    \n",
    "    if len(search_files) != 0:\n",
    "        for i in range(len(search_files)):\n",
    "            filename = search_files[i]\n",
    "            Ptrans = pd.read_csv(filename, sep = \" \", names=['Period'], index_col = None)\n",
    "            period_distribution.append(Ptrans)\n",
    "            trans_stats = get_statistics(Ptrans['Period']).iloc[0]\n",
    "            P_trans_stats.append(trans_stats)\n",
    "            best_statistics.append(closest_statistic(trans_stats, target.P))\n",
    "        target.full_P_trans = period_distribution\n",
    "        target.full_P = pd.concat(period_distribution)\n",
    "        target.best_stats = best_statistics\n",
    "        save_best_stats.append(best_statistics)\n",
    "        \n",
    "        #Calculate statistical properties \n",
    "        target.full_P_trans_stats = P_trans_stats\n",
    "        target.full_stats = get_statistics(target.full_P['Period'])\n",
    "        plot_periods(target)\n",
    "        show_best_stats(target)\n",
    "        count += 1"
   ]
  },
  {
   "cell_type": "code",
   "execution_count": null,
   "metadata": {},
   "outputs": [],
   "source": [
    "print(count)\n",
    "save_best_stats = list(itertools.chain.from_iterable(save_best_stats))\n",
    "print(save_best_stats)"
   ]
  },
  {
   "cell_type": "code",
   "execution_count": null,
   "metadata": {
    "scrolled": false
   },
   "outputs": [],
   "source": [
    "import seaborn as sns\n",
    "path_resMCMC = '/Users/mbadenas/Documents/Master UAB/Tesis UAB/TFM2018/results/MCMC_results/'\n",
    "path_pie = '/Users/mbadenas/Documents/Master UAB/Tesis UAB/TFM2018/results/period_charts/'\n",
    "\n",
    "for target in targets:\n",
    "    getmc = glob.glob(path_resMCMC+str(target.kepid)+\"*[!_BAD].txt\")\n",
    "    num_trans = 0\n",
    "    \n",
    "    if len(getmc) != 0:\n",
    "        print(\"\\n--------------------------------KID\"+str(target.kepid)+\"--------------------------------\")\n",
    "        print(\"True Period:\", target.P)\n",
    "        \n",
    "        xtrans = []\n",
    "        oc = []\n",
    "        \n",
    "        for i in range(len(getmc)): \n",
    "            filename = getmc[i]\n",
    "            num_trans += 1\n",
    "            data = {}\n",
    "            for line in open(filename):\n",
    "                if line.startswith(\"#\"):\n",
    "                    continue\n",
    "                field_name, values = line.split(\":\")\n",
    "                data[field_name] = values.split(\" \")\n",
    "            \n",
    "            df = pd.DataFrame(data)\n",
    "            \n",
    "            est_p = float(df['Orbital Period (P, [days])'][1]) #this is the median result for each transit\n",
    "            xtrans.append(i)\n",
    "            oc.append(est_p-target.P)\n",
    "        \n",
    "        #print(oc)\n",
    "        print(\"Standard deviation OC [d]:\", np.std(oc))\n",
    "        print(\"Mean OC [d]:\", np.mean(oc))\n",
    "        print(\"Mean Estimated Period [d]:\", np.mean(est_p))\n",
    "        \n",
    "        textstr = 'Mean O-C = {0:.2f} d\\nstd O-C = {1:.2f} d\\nEstimated Period = {2:.2f} d'.format(np.mean(oc),\n",
    "                                                                                                np.std(oc), \n",
    "                                                                                                np.mean(est_p))\n",
    "\n",
    "        fig = plt.figure(figsize=(10,5))\n",
    "        ax = fig.add_subplot(111)\n",
    "        ax.axhline(y = 0, c = 'r', ls= 'dotted', lw=3, label = 'True Period ({0:.2f} d)'.format(target.P))\n",
    "        ax.scatter(xtrans, oc, s = 12)\n",
    "        ax.set_xlabel('Transit number')\n",
    "        ax.set_ylabel('O-C')\n",
    "        ax.set_title('Residuals Distribution')\n",
    "        ax.annotate(textstr, xy=(0.25, 0.8), xycoords='axes fraction',\n",
    "                    horizontalalignment='right', verticalalignment='bottom', backgroundcolor='wheat',alpha=.85)\n",
    "        plt.legend()\n",
    "        plt.savefig(path_pie+'OC'+str(target.kepid)+\".png\")\n",
    "        plt.show()\n",
    " "
   ]
  },
  {
   "cell_type": "markdown",
   "metadata": {},
   "source": [
    "PLanet radius vs. orbital period (fig 7 scatter plot http://iopscience.iop.org/article/10.3847/0004-637X/822/2/86/pdf)"
   ]
  },
  {
   "cell_type": "code",
   "execution_count": null,
   "metadata": {},
   "outputs": [],
   "source": []
  },
  {
   "cell_type": "markdown",
   "metadata": {},
   "source": [
    "keylist = set(list(ugly_stars.keys()))\n",
    "bad_transits = list(ugly_stars.values())\n",
    "print(keylist)\n",
    "#print(bad_transits)\n",
    "print(ugly_stars)"
   ]
  }
 ],
 "metadata": {
  "kernelspec": {
   "display_name": "Python 3",
   "language": "python",
   "name": "python3"
  },
  "language_info": {
   "codemirror_mode": {
    "name": "ipython",
    "version": 3
   },
   "file_extension": ".py",
   "mimetype": "text/x-python",
   "name": "python",
   "nbconvert_exporter": "python",
   "pygments_lexer": "ipython3",
   "version": "3.6.4"
  },
  "toc": {
   "base_numbering": 1,
   "nav_menu": {},
   "number_sections": true,
   "sideBar": true,
   "skip_h1_title": false,
   "title_cell": "Table of Contents",
   "title_sidebar": "Contents",
   "toc_cell": false,
   "toc_position": {
    "height": "calc(100% - 180px)",
    "left": "10px",
    "top": "150px",
    "width": "165px"
   },
   "toc_section_display": true,
   "toc_window_display": true
  }
 },
 "nbformat": 4,
 "nbformat_minor": 1
}
