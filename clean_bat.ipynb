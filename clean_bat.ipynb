{
 "cells": [
  {
   "cell_type": "markdown",
   "metadata": {},
   "source": [
    "## I - ``clean_bat``\n"
   ]
  },
  {
   "cell_type": "markdown",
   "metadata": {},
   "source": [
    "For a ``filename.bat`` containg the names of the light curves (yet to be downloaded) of systems with periods larger than the chosen range, this code fetches the LCs from the Kepler database *provided* the SNR of the first reported transit is greater than 7.1. The file ``filename.bat`` comes straight from the Exoplanet Archive Database and contains the light curve IDs (both long cadence and short cadence). See `readme.txt` for more information."
   ]
  },
  {
   "cell_type": "code",
   "execution_count": 12,
   "metadata": {},
   "outputs": [],
   "source": [
    "import numpy as np\n",
    "import re\n",
    "import pandas as pd"
   ]
  },
  {
   "cell_type": "code",
   "execution_count": 13,
   "metadata": {},
   "outputs": [],
   "source": [
    "path_file = '/Users/mbadenas/Documents/Master UAB/Tesis UAB/TFM2018/clean_bat_files/LC_p13point5up/'\n",
    "filename = 'all_targets_P13point5up.bat' \n",
    "\n",
    "\"\"\"\n",
    "path_file = '/Users/mbadenas/Documents/Master UAB/Tesis UAB/TFM2018/clean_bat_files/LC_p15to15point5/'\n",
    "filename = 'targets_15to15point.bat'\n",
    "\"\"\"\n",
    "pattern_slc = re.compile(r'^wget -O \\'kplr(?P<k_id>[0-9]{9})-([0-9]{13})_slc.fits.+',\n",
    "                         re.MULTILINE) #we only want short cadence (slc)"
   ]
  },
  {
   "cell_type": "markdown",
   "metadata": {},
   "source": [
    "After identifying the name pattern of Kepler short-cadence light curves, we will look for targets for which the first transit in the LC has a SN > 7.1 (TESS constraint)."
   ]
  },
  {
   "cell_type": "code",
   "execution_count": 14,
   "metadata": {},
   "outputs": [],
   "source": [
    "props = path_file+'/all_targets_P13point5up.csv'\n",
    "#props = path_file+'/all_targets_P15to15point5.csv'\n",
    "dataset = pd.read_csv(props, sep=',', comment='#', na_values = '\\\\N')\n",
    "\n",
    "original_IDs = []\n",
    "\n",
    "for row in dataset.itertuples(index = True, name='Pandas'):\n",
    "    koi = getattr(row, \"kepid\")\n",
    "    snr = getattr(row, \"koi_model_snr\")\n",
    "    N = getattr(row, \"koi_num_transits\")\n",
    "    num_planets = getattr(row, \"koi_count\")\n",
    "    snr_first_transit = snr/np.sqrt(N)\n",
    "    \n",
    "    if (snr_first_transit>=7.1) and (num_planets==1):\n",
    "        original_IDs.append(koi)\n",
    "\n",
    "goodSN_IDs = np.array(original_IDs,dtype=int)"
   ]
  },
  {
   "cell_type": "code",
   "execution_count": 15,
   "metadata": {},
   "outputs": [
    {
     "name": "stdout",
     "output_type": "stream",
     "text": [
      "The number of targets with P>13.5 days is **984** but only **131** have a SN>7.1 AND only 1 planet\n"
     ]
    }
   ],
   "source": [
    "\"\"\"\n",
    "print('The number of targets with P>[15,15.5] days is **{}** but \\\n",
    "only **{}** have a SN>7.1 AND only 1 planet'.format(len(dataset.index), len(goodSN_IDs)))\n",
    "\"\"\"\n",
    "print('The number of targets with P>13.5 days is **{}** but \\\n",
    "only **{}** have a SN>7.1 AND only 1 planet'.format(len(dataset.index), len(goodSN_IDs)))"
   ]
  },
  {
   "cell_type": "markdown",
   "metadata": {},
   "source": [
    "We will now proceed to download the SHORT-CADENCE photometric data for targets with 1 planet for which their first transit has a SN > 7.1. Note that some systems only have long-cadence light curves, so the final number of targets may be different from the one shown in the above cell. \n",
    "\n",
    "There are two ways to download the short-cadence light curves: we can either download 1 light curve for each target (in which case, the code will just fetch the first available LC online), or download them all (in which case, the code will be much slower, especially since one target can have many many LCs accumulated over all the cadences of the Kepler Mission). Our choice is regulated by the boolean `not_all_LC`: the first case (only 1 LC) is achieved with `not_all_LC=True`, while the second (all LCs) can be obtained with `not_all_LC=False`. \n",
    "\n",
    "The outputs of the code below are: a `*.bat`file with the LC(s) IDs of the appropiate systems, and a `kepler_id.txt` file with the IDs of such systems.  "
   ]
  },
  {
   "cell_type": "code",
   "execution_count": 16,
   "metadata": {},
   "outputs": [
    {
     "name": "stdout",
     "output_type": "stream",
     "text": [
      "55\n",
      "There are a total of 55 systems with *SHORT-CADENCE* LCs and with a SN (for the first transit) greater than 7.1 and only 1 planet\n"
     ]
    }
   ],
   "source": [
    "#Create the .bat file where we'll store the LC id's \n",
    "filename_out = path_file+'/good_list_ids.bat'\n",
    "f_out = open(filename_out,'w')\n",
    "f_out.write('#!/bin/sh\\n\\n')\n",
    "ids_from_bat = set([])\n",
    "\n",
    "#How many LC do you want? False to download *all* the LCs for a given system or True to only get 1. \n",
    "not_all_LC = False\n",
    "\n",
    "with open(path_file+filename,'r') as f_kepler:\n",
    "    for line in f_kepler:\n",
    "        is_slc = pattern_slc.match(line)\n",
    "        if is_slc:\n",
    "            if int(is_slc.group('k_id')) in goodSN_IDs:\n",
    "                if (not_all_LC and (is_slc.group('k_id') not in ids_from_bat)): \n",
    "                    f_out.write(line)\n",
    "                elif not not_all_LC:\n",
    "                    f_out.write(line)\n",
    "                ids_from_bat.add(is_slc.group('k_id'))          \n",
    "f_out.close()\n",
    "\n",
    "ids_final = np.array(list(ids_from_bat),dtype=int)\n",
    "print(len(ids_final))\n",
    "\n",
    "np.savetxt(path_file+'kepler_id.txt',ids_final,fmt='%d', newline='\\n')\n",
    "\n",
    "\n",
    "print(\"There are a total of {} systems with *SHORT-CADENCE* LCs and with a SN (for the first transit) \\\n",
    "greater than 7.1 and only 1 planet\".format(len(ids_final)))"
   ]
  },
  {
   "cell_type": "code",
   "execution_count": null,
   "metadata": {},
   "outputs": [],
   "source": []
  }
 ],
 "metadata": {
  "kernelspec": {
   "display_name": "Python 3",
   "language": "python",
   "name": "python3"
  },
  "language_info": {
   "codemirror_mode": {
    "name": "ipython",
    "version": 3
   },
   "file_extension": ".py",
   "mimetype": "text/x-python",
   "name": "python",
   "nbconvert_exporter": "python",
   "pygments_lexer": "ipython3",
   "version": "3.6.4"
  },
  "toc": {
   "base_numbering": 1,
   "nav_menu": {},
   "number_sections": true,
   "sideBar": true,
   "skip_h1_title": false,
   "title_cell": "Table of Contents",
   "title_sidebar": "Contents",
   "toc_cell": false,
   "toc_position": {},
   "toc_section_display": true,
   "toc_window_display": false
  }
 },
 "nbformat": 4,
 "nbformat_minor": 1
}
